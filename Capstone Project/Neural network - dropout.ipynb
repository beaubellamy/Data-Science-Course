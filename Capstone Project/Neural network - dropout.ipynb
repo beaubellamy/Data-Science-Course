{
 "cells": [
  {
   "cell_type": "markdown",
   "metadata": {},
   "source": [
    "# Neural Network\n",
    "We will try two ways of modelling a Neural Network with 3 layers. We will use dropout in between each layer for one architecture and leave out the dropout layers in the other architecture."
   ]
  },
  {
   "cell_type": "code",
   "execution_count": 1,
   "metadata": {},
   "outputs": [],
   "source": [
    "import numpy as np\n",
    "import pandas as pd\n",
    "from scipy import stats\n",
    "from datetime import datetime\n",
    "import matplotlib.pyplot as plt\n",
    "import seaborn as sns\n",
    "\n",
    "\n",
    "from sklearn.model_selection import train_test_split"
   ]
  },
  {
   "cell_type": "code",
   "execution_count": 2,
   "metadata": {},
   "outputs": [
    {
     "data": {
      "text/html": [
       "<div>\n",
       "<style scoped>\n",
       "    .dataframe tbody tr th:only-of-type {\n",
       "        vertical-align: middle;\n",
       "    }\n",
       "\n",
       "    .dataframe tbody tr th {\n",
       "        vertical-align: top;\n",
       "    }\n",
       "\n",
       "    .dataframe thead th {\n",
       "        text-align: right;\n",
       "    }\n",
       "</style>\n",
       "<table border=\"1\" class=\"dataframe\">\n",
       "  <thead>\n",
       "    <tr style=\"text-align: right;\">\n",
       "      <th></th>\n",
       "      <th>Bore</th>\n",
       "      <th>Compression_Ratio</th>\n",
       "      <th>Cylinders</th>\n",
       "      <th>Engine_Stroke</th>\n",
       "      <th>Engine_Voltage</th>\n",
       "      <th>Front_Brake_Diameter</th>\n",
       "      <th>Front_Suspension_Travel</th>\n",
       "      <th>Fuel_Tank_Capacity</th>\n",
       "      <th>Gear_Number</th>\n",
       "      <th>Ground_Clearance</th>\n",
       "      <th>...</th>\n",
       "      <th>Starter</th>\n",
       "      <th>State</th>\n",
       "      <th>Suburb</th>\n",
       "      <th>Swingarm_Type</th>\n",
       "      <th>Traction_Control</th>\n",
       "      <th>URL</th>\n",
       "      <th>Wheel_Type</th>\n",
       "      <th>Seller</th>\n",
       "      <th>Brand</th>\n",
       "      <th>Sold</th>\n",
       "    </tr>\n",
       "  </thead>\n",
       "  <tbody>\n",
       "    <tr>\n",
       "      <th>0</th>\n",
       "      <td>97.000</td>\n",
       "      <td>11.0</td>\n",
       "      <td>2.0</td>\n",
       "      <td>4.0</td>\n",
       "      <td>12.0</td>\n",
       "      <td>320.00000</td>\n",
       "      <td>120.0</td>\n",
       "      <td>20.0</td>\n",
       "      <td>6.0</td>\n",
       "      <td>137.338051</td>\n",
       "      <td>...</td>\n",
       "      <td>Electric</td>\n",
       "      <td>QLD</td>\n",
       "      <td>Mudgeeraba</td>\n",
       "      <td>Dual_Sided</td>\n",
       "      <td>No</td>\n",
       "      <td>https://www.bikesales.com.au/bikes/details/200...</td>\n",
       "      <td>Spoke</td>\n",
       "      <td>Private</td>\n",
       "      <td>Aprilia</td>\n",
       "      <td>For Sale</td>\n",
       "    </tr>\n",
       "    <tr>\n",
       "      <th>1</th>\n",
       "      <td>79.685</td>\n",
       "      <td>12.0</td>\n",
       "      <td>2.0</td>\n",
       "      <td>4.0</td>\n",
       "      <td>12.0</td>\n",
       "      <td>309.35404</td>\n",
       "      <td>120.0</td>\n",
       "      <td>17.7</td>\n",
       "      <td>6.0</td>\n",
       "      <td>137.338051</td>\n",
       "      <td>...</td>\n",
       "      <td>Electric</td>\n",
       "      <td>VIC</td>\n",
       "      <td>Kinglake</td>\n",
       "      <td>Dual_Sided</td>\n",
       "      <td>No</td>\n",
       "      <td>https://www.bikesales.com.au/bikes/details/200...</td>\n",
       "      <td>Spoke</td>\n",
       "      <td>Private</td>\n",
       "      <td>Aprilia</td>\n",
       "      <td>For Sale</td>\n",
       "    </tr>\n",
       "    <tr>\n",
       "      <th>2</th>\n",
       "      <td>79.685</td>\n",
       "      <td>12.0</td>\n",
       "      <td>2.0</td>\n",
       "      <td>4.0</td>\n",
       "      <td>12.0</td>\n",
       "      <td>309.35404</td>\n",
       "      <td>120.0</td>\n",
       "      <td>17.7</td>\n",
       "      <td>6.0</td>\n",
       "      <td>137.338051</td>\n",
       "      <td>...</td>\n",
       "      <td>Electric</td>\n",
       "      <td>NSW</td>\n",
       "      <td>Lavender_bay</td>\n",
       "      <td>Dual_Sided</td>\n",
       "      <td>No</td>\n",
       "      <td>https://www.bikesales.com.au/bikes/details/200...</td>\n",
       "      <td>Spoke</td>\n",
       "      <td>Private</td>\n",
       "      <td>Aprilia</td>\n",
       "      <td>For Sale</td>\n",
       "    </tr>\n",
       "    <tr>\n",
       "      <th>3</th>\n",
       "      <td>97.000</td>\n",
       "      <td>12.0</td>\n",
       "      <td>2.0</td>\n",
       "      <td>4.0</td>\n",
       "      <td>12.0</td>\n",
       "      <td>309.35404</td>\n",
       "      <td>120.0</td>\n",
       "      <td>17.7</td>\n",
       "      <td>6.0</td>\n",
       "      <td>137.338051</td>\n",
       "      <td>...</td>\n",
       "      <td>Electric</td>\n",
       "      <td>WA</td>\n",
       "      <td>Hamersley</td>\n",
       "      <td>Dual_Sided</td>\n",
       "      <td>No</td>\n",
       "      <td>https://www.bikesales.com.au/bikes/details/200...</td>\n",
       "      <td>Spoke</td>\n",
       "      <td>Private</td>\n",
       "      <td>Aprilia</td>\n",
       "      <td>For Sale</td>\n",
       "    </tr>\n",
       "    <tr>\n",
       "      <th>4</th>\n",
       "      <td>97.000</td>\n",
       "      <td>12.0</td>\n",
       "      <td>2.0</td>\n",
       "      <td>4.0</td>\n",
       "      <td>12.0</td>\n",
       "      <td>309.35404</td>\n",
       "      <td>120.0</td>\n",
       "      <td>17.7</td>\n",
       "      <td>6.0</td>\n",
       "      <td>137.338051</td>\n",
       "      <td>...</td>\n",
       "      <td>Electric</td>\n",
       "      <td>NSW</td>\n",
       "      <td>Illawong</td>\n",
       "      <td>Dual_Sided</td>\n",
       "      <td>No</td>\n",
       "      <td>https://www.bikesales.com.au/bikes/details/200...</td>\n",
       "      <td>Spoke</td>\n",
       "      <td>Private</td>\n",
       "      <td>Aprilia</td>\n",
       "      <td>For Sale</td>\n",
       "    </tr>\n",
       "  </tbody>\n",
       "</table>\n",
       "<p>5 rows × 76 columns</p>\n",
       "</div>"
      ],
      "text/plain": [
       "     Bore  Compression_Ratio  Cylinders  Engine_Stroke  Engine_Voltage  \\\n",
       "0  97.000               11.0        2.0            4.0            12.0   \n",
       "1  79.685               12.0        2.0            4.0            12.0   \n",
       "2  79.685               12.0        2.0            4.0            12.0   \n",
       "3  97.000               12.0        2.0            4.0            12.0   \n",
       "4  97.000               12.0        2.0            4.0            12.0   \n",
       "\n",
       "   Front_Brake_Diameter  Front_Suspension_Travel  Fuel_Tank_Capacity  \\\n",
       "0             320.00000                    120.0                20.0   \n",
       "1             309.35404                    120.0                17.7   \n",
       "2             309.35404                    120.0                17.7   \n",
       "3             309.35404                    120.0                17.7   \n",
       "4             309.35404                    120.0                17.7   \n",
       "\n",
       "   Gear_Number  Ground_Clearance  ...   Starter  State        Suburb  \\\n",
       "0          6.0        137.338051  ...  Electric    QLD    Mudgeeraba   \n",
       "1          6.0        137.338051  ...  Electric    VIC      Kinglake   \n",
       "2          6.0        137.338051  ...  Electric    NSW  Lavender_bay   \n",
       "3          6.0        137.338051  ...  Electric     WA     Hamersley   \n",
       "4          6.0        137.338051  ...  Electric    NSW      Illawong   \n",
       "\n",
       "   Swingarm_Type  Traction_Control  \\\n",
       "0     Dual_Sided                No   \n",
       "1     Dual_Sided                No   \n",
       "2     Dual_Sided                No   \n",
       "3     Dual_Sided                No   \n",
       "4     Dual_Sided                No   \n",
       "\n",
       "                                                 URL  Wheel_Type   Seller  \\\n",
       "0  https://www.bikesales.com.au/bikes/details/200...       Spoke  Private   \n",
       "1  https://www.bikesales.com.au/bikes/details/200...       Spoke  Private   \n",
       "2  https://www.bikesales.com.au/bikes/details/200...       Spoke  Private   \n",
       "3  https://www.bikesales.com.au/bikes/details/200...       Spoke  Private   \n",
       "4  https://www.bikesales.com.au/bikes/details/200...       Spoke  Private   \n",
       "\n",
       "     Brand      Sold  \n",
       "0  Aprilia  For Sale  \n",
       "1  Aprilia  For Sale  \n",
       "2  Aprilia  For Sale  \n",
       "3  Aprilia  For Sale  \n",
       "4  Aprilia  For Sale  \n",
       "\n",
       "[5 rows x 76 columns]"
      ]
     },
     "execution_count": 2,
     "metadata": {},
     "output_type": "execute_result"
    }
   ],
   "source": [
    "\n",
    "df = pd.read_csv('clean_sport.csv', \n",
    "                  parse_dates=['First_Seen','Last_Seen','Last_Modified'], \n",
    "                  dtype={'Postcode': 'category'},\n",
    "                  dayfirst=True)\n",
    "#sport = df[df['Body'] == 'Super Sport'].reset_index(drop=True)\n",
    "#sport.drop(['Description'],axis=1,inplace=True)\n",
    "df.head()"
   ]
  },
  {
   "cell_type": "code",
   "execution_count": 3,
   "metadata": {},
   "outputs": [],
   "source": [
    "def r_squared(y, y_pred):\n",
    "    res = y - y_pred\n",
    "    tot = y - y.mean()\n",
    "\n",
    "    r2 = 1 - res.dot(res) / tot.dot(tot)\n",
    "    return r2"
   ]
  },
  {
   "cell_type": "code",
   "execution_count": 4,
   "metadata": {},
   "outputs": [],
   "source": [
    "def dealer_split_data(df,features):\n",
    "        \n",
    "    train = df[df['Seller_Dealer'] == 1]\n",
    "    test = df[df['Seller_Dealer'] == 0]\n",
    "\n",
    "    X_train, y_train = train[features], train['Price']\n",
    "    X_test, y_test = test[features], test['Price']\n",
    "\n",
    "    return X_train, y_train, X_test, y_test"
   ]
  },
  {
   "cell_type": "code",
   "execution_count": 5,
   "metadata": {},
   "outputs": [],
   "source": [
    "def add_dummy_variables(df, categorical_features=None):\n",
    "        \n",
    "    if (categorical_features == None):\n",
    "        categorical_features = df.select_dtypes(exclude='number').columns\n",
    "\n",
    "    # ignore the URL feature when training\n",
    "    categorical_features = list(set(categorical_features) - set('URL'))\n",
    "\n",
    "    additional = pd.get_dummies(df[categorical_features])\n",
    "    df[additional.columns] = additional\n",
    "\n",
    "    df.drop(categorical_features, axis=1, inplace=True)\n",
    "\n",
    "    return df"
   ]
  },
  {
   "cell_type": "code",
   "execution_count": 6,
   "metadata": {},
   "outputs": [],
   "source": [
    "# Create a feature describing the type of deal based on the ratio \n",
    "# of predicted price to sale price.\n",
    "def deal_type(df):\n",
    "\n",
    "    df['Price_ratio'] = df['Price'] / df['Predicted_Price']\n",
    "\n",
    "    df['Deal_type'] = 'Dont Bother'\n",
    "    df['Deal_type'][df['Price_ratio'] < 0.9] = 'Negotiate'\n",
    "    df['Deal_type'][df['Price_ratio'] < 0.8] = 'Good Deal'\n",
    "    df['Deal_type'][df['Price_ratio'] < 0.75] = 'Great Deal'        \n",
    "    df['Deal_type'][df['Price_ratio'] < 0.5] = 'Its a steal'\n",
    "\n",
    "    return df\n",
    "\n",
    "# diplay the predicted price and sale price using the deal type feature \n",
    "# to distinguish a good deal.\n",
    "def plot_deals(df, x, y, title='', figsize=(12,10)):\n",
    "\n",
    "    negotiate = df[df['Deal_type'] == 'Negotiate']\n",
    "    good = df[df['Deal_type'] == 'Good Deal']\n",
    "    great = df[df['Deal_type'] == 'Great Deal']\n",
    "    steal = df[df['Deal_type'] == 'Its a steal']\n",
    "\n",
    "    ax = plt.figure(figsize=figsize)\n",
    "\n",
    "    sns.scatterplot(x=x,y=y,data=df,color='black',alpha=0.3);\n",
    "    sns.scatterplot(x=x,y=y,data=negotiate,label='Negotiate');\n",
    "    sns.scatterplot(x=x,y=y,data=good,label='Good Deal');\n",
    "    sns.scatterplot(x=x,y=y,data=great,label='Great Deal');\n",
    "    sns.scatterplot(x=x,y=y,data=steal,label='Its a steal');\n",
    "    ax = sns.lineplot(x=[df[x].min(),df[x].max()], y=[df[x].min(),df[x].max()],\n",
    "                      linewidth=1, alpha=0.5, color='red')\n",
    "    ax.lines[0].set_linestyle(\"--\")\n",
    "    \n",
    "    \n",
    "    plt.title(title,fontsize=24)\n",
    "    plt.xlabel(x, fontsize=18)\n",
    "    plt.ylabel(y, fontsize=18)\n",
    "    plt.legend(bbox_to_anchor=(1.05, 1), loc=2, borderaxespad=0.)\n",
    "\n",
    "    return None\n"
   ]
  },
  {
   "cell_type": "markdown",
   "metadata": {},
   "source": [
    "## Convert categorical variables to numerical."
   ]
  },
  {
   "cell_type": "code",
   "execution_count": 7,
   "metadata": {},
   "outputs": [],
   "source": [
    "df = add_dummy_variables(df)\n"
   ]
  },
  {
   "cell_type": "code",
   "execution_count": 8,
   "metadata": {},
   "outputs": [],
   "source": [
    "\n",
    "features = list(set(df.columns) - set(['Price']))\n",
    "\n",
    "# Ignore the URL features\n",
    "update_features = []\n",
    "for feature in features:\n",
    "    if 'URL' not in feature:\n",
    "        update_features.append(feature)\n",
    "features = update_features\n"
   ]
  },
  {
   "cell_type": "markdown",
   "metadata": {},
   "source": [
    "## Split the data using the Dealer data."
   ]
  },
  {
   "cell_type": "code",
   "execution_count": 9,
   "metadata": {},
   "outputs": [],
   "source": [
    "dealer_X, dealer_y, private_X, private_y = dealer_split_data(df, features)\n",
    "        "
   ]
  },
  {
   "cell_type": "code",
   "execution_count": 10,
   "metadata": {},
   "outputs": [],
   "source": [
    "X_train, X_test, y_train, y_test = train_test_split(dealer_X, dealer_y, random_state=1, test_size=0.3)"
   ]
  },
  {
   "cell_type": "markdown",
   "metadata": {},
   "source": [
    "# Set up the Neural Networks\n",
    "\n",
    "## Neural Network with Dropout"
   ]
  },
  {
   "cell_type": "code",
   "execution_count": 11,
   "metadata": {},
   "outputs": [
    {
     "name": "stderr",
     "output_type": "stream",
     "text": [
      "Using TensorFlow backend.\n"
     ]
    }
   ],
   "source": [
    "from keras.models import Sequential\n",
    "from keras.layers import Dense\n",
    "from keras.layers import Dropout\n",
    "from keras.utils import to_categorical"
   ]
  },
  {
   "cell_type": "code",
   "execution_count": 12,
   "metadata": {},
   "outputs": [],
   "source": [
    "def neural_network_dropout(X_train, y_train, train=True):\n",
    "    \n",
    "    node = 100\n",
    "    n_cols = X_train.shape[1]\n",
    "\n",
    "    if train:\n",
    "        X_train, X_test, y_train, y_test = train_test_split(X_train, y_train, random_state=1, test_size=0.3)\n",
    "        n_cols = X_train.shape[1]\n",
    "    \n",
    "    \n",
    "    model = Sequential()\n",
    "\n",
    "    model.add(Dense(n_cols, activation = 'relu', input_shape = (n_cols, )))\n",
    "    \n",
    "    model.add(Dense(node, activation = 'relu'))\n",
    "    model.add(Dropout(0.2))\n",
    "    model.add(Dense(node, activation = 'relu'))\n",
    "    model.add(Dropout(0.2))\n",
    "    model.add(Dense(node, activation = 'relu'))\n",
    "\n",
    "    # Add the output layer\n",
    "    model.add(Dense(1, activation = 'linear'))\n",
    "    \n",
    "    model.compile(optimizer = 'adam', loss = 'mse', metrics = ['mse'])\n",
    "    \n",
    "    model.fit(X_train, y_train, validation_split = 0.25, batch_size = 20, epochs = 1000, verbose = 0)\n",
    "\n",
    "    if train:\n",
    "        score = model.evaluate(X_test, y_test)\n",
    "        print (f'Testing score: {score}')\n",
    "    \n",
    "    return model"
   ]
  },
  {
   "cell_type": "code",
   "execution_count": 13,
   "metadata": {},
   "outputs": [
    {
     "name": "stdout",
     "output_type": "stream",
     "text": [
      "WARNING:tensorflow:From C:\\Users\\Beau\\Anaconda3\\lib\\site-packages\\tensorflow\\python\\framework\\op_def_library.py:263: colocate_with (from tensorflow.python.framework.ops) is deprecated and will be removed in a future version.\n",
      "Instructions for updating:\n",
      "Colocations handled automatically by placer.\n",
      "WARNING:tensorflow:From C:\\Users\\Beau\\Anaconda3\\lib\\site-packages\\keras\\backend\\tensorflow_backend.py:3445: calling dropout (from tensorflow.python.ops.nn_ops) with keep_prob is deprecated and will be removed in a future version.\n",
      "Instructions for updating:\n",
      "Please use `rate` instead of `keep_prob`. Rate should be set to `rate = 1 - keep_prob`.\n",
      "WARNING:tensorflow:From C:\\Users\\Beau\\Anaconda3\\lib\\site-packages\\tensorflow\\python\\ops\\math_ops.py:3066: to_int32 (from tensorflow.python.ops.math_ops) is deprecated and will be removed in a future version.\n",
      "Instructions for updating:\n",
      "Use tf.cast instead.\n",
      "194/194 [==============================] - 0s 443us/step\n",
      "Testing score: [26311547.958762888, 26311547.958762888]\n"
     ]
    }
   ],
   "source": [
    "# Train the neural network\n",
    "model = neural_network_dropout(X_train, y_train, train=True)\n"
   ]
  },
  {
   "cell_type": "code",
   "execution_count": 14,
   "metadata": {},
   "outputs": [],
   "source": [
    "# Fit the full Neural Network\n",
    "model = neural_network_dropout(dealer_X, dealer_y, train=False)\n"
   ]
  },
  {
   "cell_type": "code",
   "execution_count": 15,
   "metadata": {},
   "outputs": [],
   "source": [
    "# Make predictions\n",
    "df['Predicted_Price'] = model.predict(df[features])\n"
   ]
  },
  {
   "cell_type": "code",
   "execution_count": 16,
   "metadata": {},
   "outputs": [
    {
     "data": {
      "text/plain": [
       "0.5739767544471152"
      ]
     },
     "execution_count": 16,
     "metadata": {},
     "output_type": "execute_result"
    }
   ],
   "source": [
    "# Calculate the R squared score from the full model\n",
    "dealer_df = df[df['Seller_Dealer'] == 1]\n",
    "\n",
    "nueral_network_dropout_r2 = r_squared(dealer_df['Price'], dealer_df['Predicted_Price'])\n",
    "nueral_network_dropout_r2"
   ]
  },
  {
   "cell_type": "markdown",
   "metadata": {},
   "source": [
    "### Visualise the predictions"
   ]
  },
  {
   "cell_type": "code",
   "execution_count": 17,
   "metadata": {},
   "outputs": [
    {
     "name": "stderr",
     "output_type": "stream",
     "text": [
      "C:\\Users\\Beau\\Anaconda3\\lib\\site-packages\\ipykernel_launcher.py:8: SettingWithCopyWarning: \n",
      "A value is trying to be set on a copy of a slice from a DataFrame\n",
      "\n",
      "See the caveats in the documentation: http://pandas.pydata.org/pandas-docs/stable/indexing.html#indexing-view-versus-copy\n",
      "  \n",
      "C:\\Users\\Beau\\Anaconda3\\lib\\site-packages\\ipykernel_launcher.py:9: SettingWithCopyWarning: \n",
      "A value is trying to be set on a copy of a slice from a DataFrame\n",
      "\n",
      "See the caveats in the documentation: http://pandas.pydata.org/pandas-docs/stable/indexing.html#indexing-view-versus-copy\n",
      "  if __name__ == '__main__':\n",
      "C:\\Users\\Beau\\Anaconda3\\lib\\site-packages\\ipykernel_launcher.py:10: SettingWithCopyWarning: \n",
      "A value is trying to be set on a copy of a slice from a DataFrame\n",
      "\n",
      "See the caveats in the documentation: http://pandas.pydata.org/pandas-docs/stable/indexing.html#indexing-view-versus-copy\n",
      "  # Remove the CWD from sys.path while we load stuff.\n",
      "C:\\Users\\Beau\\Anaconda3\\lib\\site-packages\\ipykernel_launcher.py:11: SettingWithCopyWarning: \n",
      "A value is trying to be set on a copy of a slice from a DataFrame\n",
      "\n",
      "See the caveats in the documentation: http://pandas.pydata.org/pandas-docs/stable/indexing.html#indexing-view-versus-copy\n",
      "  # This is added back by InteractiveShellApp.init_path()\n"
     ]
    }
   ],
   "source": [
    "df = deal_type(df)"
   ]
  },
  {
   "cell_type": "code",
   "execution_count": 18,
   "metadata": {},
   "outputs": [
    {
     "data": {
      "image/png": "[encoded data removed]",
      "text/plain": [
       "<Figure size 864x720 with 1 Axes>"
      ]
     },
     "metadata": {
      "needs_background": "light"
     },
     "output_type": "display_data"
    }
   ],
   "source": [
    "plot_deals(df, 'Price', 'Predicted_Price',title='Great Deals for Motorbikes (NN with dropout)')"
   ]
  },
  {
   "cell_type": "markdown",
   "metadata": {},
   "source": [
    "## Neural Network without dropout"
   ]
  },
  {
   "cell_type": "code",
   "execution_count": 19,
   "metadata": {},
   "outputs": [
    {
     "data": {
      "text/html": [
       "<div>\n",
       "<style scoped>\n",
       "    .dataframe tbody tr th:only-of-type {\n",
       "        vertical-align: middle;\n",
       "    }\n",
       "\n",
       "    .dataframe tbody tr th {\n",
       "        vertical-align: top;\n",
       "    }\n",
       "\n",
       "    .dataframe thead th {\n",
       "        text-align: right;\n",
       "    }\n",
       "</style>\n",
       "<table border=\"1\" class=\"dataframe\">\n",
       "  <thead>\n",
       "    <tr style=\"text-align: right;\">\n",
       "      <th></th>\n",
       "      <th>Bore</th>\n",
       "      <th>Compression_Ratio</th>\n",
       "      <th>Cylinders</th>\n",
       "      <th>Engine_Stroke</th>\n",
       "      <th>Engine_Voltage</th>\n",
       "      <th>Front_Brake_Diameter</th>\n",
       "      <th>Front_Suspension_Travel</th>\n",
       "      <th>Fuel_Tank_Capacity</th>\n",
       "      <th>Gear_Number</th>\n",
       "      <th>Ground_Clearance</th>\n",
       "      <th>...</th>\n",
       "      <th>Starter</th>\n",
       "      <th>State</th>\n",
       "      <th>Suburb</th>\n",
       "      <th>Swingarm_Type</th>\n",
       "      <th>Traction_Control</th>\n",
       "      <th>URL</th>\n",
       "      <th>Wheel_Type</th>\n",
       "      <th>Seller</th>\n",
       "      <th>Brand</th>\n",
       "      <th>Sold</th>\n",
       "    </tr>\n",
       "  </thead>\n",
       "  <tbody>\n",
       "    <tr>\n",
       "      <th>0</th>\n",
       "      <td>97.000</td>\n",
       "      <td>11.0</td>\n",
       "      <td>2.0</td>\n",
       "      <td>4.0</td>\n",
       "      <td>12.0</td>\n",
       "      <td>320.00000</td>\n",
       "      <td>120.0</td>\n",
       "      <td>20.0</td>\n",
       "      <td>6.0</td>\n",
       "      <td>137.338051</td>\n",
       "      <td>...</td>\n",
       "      <td>Electric</td>\n",
       "      <td>QLD</td>\n",
       "      <td>Mudgeeraba</td>\n",
       "      <td>Dual_Sided</td>\n",
       "      <td>No</td>\n",
       "      <td>https://www.bikesales.com.au/bikes/details/200...</td>\n",
       "      <td>Spoke</td>\n",
       "      <td>Private</td>\n",
       "      <td>Aprilia</td>\n",
       "      <td>For Sale</td>\n",
       "    </tr>\n",
       "    <tr>\n",
       "      <th>1</th>\n",
       "      <td>79.685</td>\n",
       "      <td>12.0</td>\n",
       "      <td>2.0</td>\n",
       "      <td>4.0</td>\n",
       "      <td>12.0</td>\n",
       "      <td>309.35404</td>\n",
       "      <td>120.0</td>\n",
       "      <td>17.7</td>\n",
       "      <td>6.0</td>\n",
       "      <td>137.338051</td>\n",
       "      <td>...</td>\n",
       "      <td>Electric</td>\n",
       "      <td>VIC</td>\n",
       "      <td>Kinglake</td>\n",
       "      <td>Dual_Sided</td>\n",
       "      <td>No</td>\n",
       "      <td>https://www.bikesales.com.au/bikes/details/200...</td>\n",
       "      <td>Spoke</td>\n",
       "      <td>Private</td>\n",
       "      <td>Aprilia</td>\n",
       "      <td>For Sale</td>\n",
       "    </tr>\n",
       "    <tr>\n",
       "      <th>2</th>\n",
       "      <td>79.685</td>\n",
       "      <td>12.0</td>\n",
       "      <td>2.0</td>\n",
       "      <td>4.0</td>\n",
       "      <td>12.0</td>\n",
       "      <td>309.35404</td>\n",
       "      <td>120.0</td>\n",
       "      <td>17.7</td>\n",
       "      <td>6.0</td>\n",
       "      <td>137.338051</td>\n",
       "      <td>...</td>\n",
       "      <td>Electric</td>\n",
       "      <td>NSW</td>\n",
       "      <td>Lavender_bay</td>\n",
       "      <td>Dual_Sided</td>\n",
       "      <td>No</td>\n",
       "      <td>https://www.bikesales.com.au/bikes/details/200...</td>\n",
       "      <td>Spoke</td>\n",
       "      <td>Private</td>\n",
       "      <td>Aprilia</td>\n",
       "      <td>For Sale</td>\n",
       "    </tr>\n",
       "    <tr>\n",
       "      <th>3</th>\n",
       "      <td>97.000</td>\n",
       "      <td>12.0</td>\n",
       "      <td>2.0</td>\n",
       "      <td>4.0</td>\n",
       "      <td>12.0</td>\n",
       "      <td>309.35404</td>\n",
       "      <td>120.0</td>\n",
       "      <td>17.7</td>\n",
       "      <td>6.0</td>\n",
       "      <td>137.338051</td>\n",
       "      <td>...</td>\n",
       "      <td>Electric</td>\n",
       "      <td>WA</td>\n",
       "      <td>Hamersley</td>\n",
       "      <td>Dual_Sided</td>\n",
       "      <td>No</td>\n",
       "      <td>https://www.bikesales.com.au/bikes/details/200...</td>\n",
       "      <td>Spoke</td>\n",
       "      <td>Private</td>\n",
       "      <td>Aprilia</td>\n",
       "      <td>For Sale</td>\n",
       "    </tr>\n",
       "    <tr>\n",
       "      <th>4</th>\n",
       "      <td>97.000</td>\n",
       "      <td>12.0</td>\n",
       "      <td>2.0</td>\n",
       "      <td>4.0</td>\n",
       "      <td>12.0</td>\n",
       "      <td>309.35404</td>\n",
       "      <td>120.0</td>\n",
       "      <td>17.7</td>\n",
       "      <td>6.0</td>\n",
       "      <td>137.338051</td>\n",
       "      <td>...</td>\n",
       "      <td>Electric</td>\n",
       "      <td>NSW</td>\n",
       "      <td>Illawong</td>\n",
       "      <td>Dual_Sided</td>\n",
       "      <td>No</td>\n",
       "      <td>https://www.bikesales.com.au/bikes/details/200...</td>\n",
       "      <td>Spoke</td>\n",
       "      <td>Private</td>\n",
       "      <td>Aprilia</td>\n",
       "      <td>For Sale</td>\n",
       "    </tr>\n",
       "  </tbody>\n",
       "</table>\n",
       "<p>5 rows × 76 columns</p>\n",
       "</div>"
      ],
      "text/plain": [
       "     Bore  Compression_Ratio  Cylinders  Engine_Stroke  Engine_Voltage  \\\n",
       "0  97.000               11.0        2.0            4.0            12.0   \n",
       "1  79.685               12.0        2.0            4.0            12.0   \n",
       "2  79.685               12.0        2.0            4.0            12.0   \n",
       "3  97.000               12.0        2.0            4.0            12.0   \n",
       "4  97.000               12.0        2.0            4.0            12.0   \n",
       "\n",
       "   Front_Brake_Diameter  Front_Suspension_Travel  Fuel_Tank_Capacity  \\\n",
       "0             320.00000                    120.0                20.0   \n",
       "1             309.35404                    120.0                17.7   \n",
       "2             309.35404                    120.0                17.7   \n",
       "3             309.35404                    120.0                17.7   \n",
       "4             309.35404                    120.0                17.7   \n",
       "\n",
       "   Gear_Number  Ground_Clearance  ...   Starter  State        Suburb  \\\n",
       "0          6.0        137.338051  ...  Electric    QLD    Mudgeeraba   \n",
       "1          6.0        137.338051  ...  Electric    VIC      Kinglake   \n",
       "2          6.0        137.338051  ...  Electric    NSW  Lavender_bay   \n",
       "3          6.0        137.338051  ...  Electric     WA     Hamersley   \n",
       "4          6.0        137.338051  ...  Electric    NSW      Illawong   \n",
       "\n",
       "   Swingarm_Type  Traction_Control  \\\n",
       "0     Dual_Sided                No   \n",
       "1     Dual_Sided                No   \n",
       "2     Dual_Sided                No   \n",
       "3     Dual_Sided                No   \n",
       "4     Dual_Sided                No   \n",
       "\n",
       "                                                 URL  Wheel_Type   Seller  \\\n",
       "0  https://www.bikesales.com.au/bikes/details/200...       Spoke  Private   \n",
       "1  https://www.bikesales.com.au/bikes/details/200...       Spoke  Private   \n",
       "2  https://www.bikesales.com.au/bikes/details/200...       Spoke  Private   \n",
       "3  https://www.bikesales.com.au/bikes/details/200...       Spoke  Private   \n",
       "4  https://www.bikesales.com.au/bikes/details/200...       Spoke  Private   \n",
       "\n",
       "     Brand      Sold  \n",
       "0  Aprilia  For Sale  \n",
       "1  Aprilia  For Sale  \n",
       "2  Aprilia  For Sale  \n",
       "3  Aprilia  For Sale  \n",
       "4  Aprilia  For Sale  \n",
       "\n",
       "[5 rows x 76 columns]"
      ]
     },
     "execution_count": 19,
     "metadata": {},
     "output_type": "execute_result"
    }
   ],
   "source": [
    "df = pd.read_csv('clean_sport.csv', \n",
    "                  parse_dates=['First_Seen','Last_Seen','Last_Modified'], \n",
    "                  dtype={'Postcode': 'category'},\n",
    "                  dayfirst=True)\n",
    "#sport = df[df['Body'] == 'Super Sport'].reset_index(drop=True)\n",
    "#sport.drop(['Description'],axis=1,inplace=True)\n",
    "df.head()\n"
   ]
  },
  {
   "cell_type": "code",
   "execution_count": 20,
   "metadata": {},
   "outputs": [],
   "source": [
    "df = add_dummy_variables(df)\n"
   ]
  },
  {
   "cell_type": "code",
   "execution_count": 21,
   "metadata": {},
   "outputs": [],
   "source": [
    "features = list(set(df.columns) - set(['Price']))\n",
    "\n",
    "# Ignore the URL features\n",
    "update_features = []\n",
    "for feature in features:\n",
    "    if 'URL' not in feature:\n",
    "        update_features.append(feature)\n",
    "features = update_features\n"
   ]
  },
  {
   "cell_type": "code",
   "execution_count": 22,
   "metadata": {},
   "outputs": [],
   "source": [
    "dealer_X, dealer_y, private_X, private_y = dealer_split_data(df, features)\n"
   ]
  },
  {
   "cell_type": "code",
   "execution_count": 23,
   "metadata": {},
   "outputs": [],
   "source": [
    "X_train, X_test, y_train, y_test = train_test_split(dealer_X, dealer_y, random_state=1, test_size=0.3)\n"
   ]
  },
  {
   "cell_type": "code",
   "execution_count": 24,
   "metadata": {},
   "outputs": [],
   "source": [
    "def neural_network(X_train, y_train, train=True):\n",
    "    \n",
    "    node = 100\n",
    "    n_cols = X_train.shape[1]\n",
    "\n",
    "    if train:\n",
    "        X_train, X_test, y_train, y_test = train_test_split(X_train, y_train, random_state=1, test_size=0.3)\n",
    "        n_cols = X_train.shape[1]\n",
    "    \n",
    "    model = Sequential()\n",
    "\n",
    "    model.add(Dense(n_cols, activation = 'relu', input_shape = (n_cols, )))\n",
    "    \n",
    "    model.add(Dense(node, activation = 'relu'))\n",
    "    model.add(Dense(node, activation = 'relu'))\n",
    "    model.add(Dense(node, activation = 'relu'))\n",
    "    \n",
    "    # Add the output layer\n",
    "    model.add(Dense(1, activation = 'linear'))\n",
    "    \n",
    "    model.compile(optimizer = 'adam', loss = 'mse', metrics = ['mse'])\n",
    "    \n",
    "    model.fit(X_train, y_train, validation_split = 0.25, batch_size = 20, epochs = 1000, verbose = 0)\n",
    "\n",
    "    if train:\n",
    "        score = model.evaluate(X_test, y_test)\n",
    "        print (f'Testing score: {score}')\n",
    "    \n",
    "    return model"
   ]
  },
  {
   "cell_type": "code",
   "execution_count": 25,
   "metadata": {},
   "outputs": [
    {
     "name": "stdout",
     "output_type": "stream",
     "text": [
      "194/194 [==============================] - 0s 319us/step\n",
      "Testing score: [6783159.195876288, 6783159.195876288]\n"
     ]
    }
   ],
   "source": [
    "# Train the neural network\n",
    "model = neural_network(X_train, y_train, train=True)\n"
   ]
  },
  {
   "cell_type": "code",
   "execution_count": 26,
   "metadata": {},
   "outputs": [
    {
     "name": "stdout",
     "output_type": "stream",
     "text": [
      "_________________________________________________________________\n",
      "Layer (type)                 Output Shape              Param #   \n",
      "=================================================================\n",
      "dense_11 (Dense)             (None, 1850)              3424350   \n",
      "_________________________________________________________________\n",
      "dense_12 (Dense)             (None, 100)               185100    \n",
      "_________________________________________________________________\n",
      "dense_13 (Dense)             (None, 100)               10100     \n",
      "_________________________________________________________________\n",
      "dense_14 (Dense)             (None, 100)               10100     \n",
      "_________________________________________________________________\n",
      "dense_15 (Dense)             (None, 1)                 101       \n",
      "=================================================================\n",
      "Total params: 3,629,751\n",
      "Trainable params: 3,629,751\n",
      "Non-trainable params: 0\n",
      "_________________________________________________________________\n",
      "None\n"
     ]
    }
   ],
   "source": [
    "print (model.summary())"
   ]
  },
  {
   "cell_type": "code",
   "execution_count": 27,
   "metadata": {},
   "outputs": [],
   "source": [
    "# Fit the full Neural Network\n",
    "model = neural_network(dealer_X, dealer_y, train=False)\n"
   ]
  },
  {
   "cell_type": "code",
   "execution_count": null,
   "metadata": {},
   "outputs": [],
   "source": []
  },
  {
   "cell_type": "code",
   "execution_count": 28,
   "metadata": {},
   "outputs": [],
   "source": [
    "# Make predictions\n",
    "df['Predicted_Price'] = model.predict(df[features])\n",
    "\n",
    "# dealer_predictions = model.predict(dealer_X)\n",
    "# private_predictions = model.predict(private_X)\n"
   ]
  },
  {
   "cell_type": "code",
   "execution_count": 29,
   "metadata": {},
   "outputs": [
    {
     "data": {
      "text/plain": [
       "0.9566408408868395"
      ]
     },
     "execution_count": 29,
     "metadata": {},
     "output_type": "execute_result"
    }
   ],
   "source": [
    "dealer_df = df[df['Seller_Dealer'] == 1]\n",
    "\n",
    "nueral_network_r2 = r_squared(dealer_df['Price'], dealer_df['Predicted_Price'])\n",
    "nueral_network_r2"
   ]
  },
  {
   "cell_type": "code",
   "execution_count": 30,
   "metadata": {},
   "outputs": [
    {
     "name": "stderr",
     "output_type": "stream",
     "text": [
      "C:\\Users\\Beau\\Anaconda3\\lib\\site-packages\\ipykernel_launcher.py:8: SettingWithCopyWarning: \n",
      "A value is trying to be set on a copy of a slice from a DataFrame\n",
      "\n",
      "See the caveats in the documentation: http://pandas.pydata.org/pandas-docs/stable/indexing.html#indexing-view-versus-copy\n",
      "  \n",
      "C:\\Users\\Beau\\Anaconda3\\lib\\site-packages\\ipykernel_launcher.py:9: SettingWithCopyWarning: \n",
      "A value is trying to be set on a copy of a slice from a DataFrame\n",
      "\n",
      "See the caveats in the documentation: http://pandas.pydata.org/pandas-docs/stable/indexing.html#indexing-view-versus-copy\n",
      "  if __name__ == '__main__':\n",
      "C:\\Users\\Beau\\Anaconda3\\lib\\site-packages\\ipykernel_launcher.py:10: SettingWithCopyWarning: \n",
      "A value is trying to be set on a copy of a slice from a DataFrame\n",
      "\n",
      "See the caveats in the documentation: http://pandas.pydata.org/pandas-docs/stable/indexing.html#indexing-view-versus-copy\n",
      "  # Remove the CWD from sys.path while we load stuff.\n",
      "C:\\Users\\Beau\\Anaconda3\\lib\\site-packages\\ipykernel_launcher.py:11: SettingWithCopyWarning: \n",
      "A value is trying to be set on a copy of a slice from a DataFrame\n",
      "\n",
      "See the caveats in the documentation: http://pandas.pydata.org/pandas-docs/stable/indexing.html#indexing-view-versus-copy\n",
      "  # This is added back by InteractiveShellApp.init_path()\n"
     ]
    }
   ],
   "source": [
    "df = deal_type(df)"
   ]
  },
  {
   "cell_type": "code",
   "execution_count": 31,
   "metadata": {},
   "outputs": [
    {
     "data": {
      "image/png": "[encoded data removed]",
      "text/plain": [
       "<Figure size 864x720 with 1 Axes>"
      ]
     },
     "metadata": {
      "needs_background": "light"
     },
     "output_type": "display_data"
    }
   ],
   "source": [
    "\n",
    "\n",
    "plot_deals(df, 'Price', 'Predicted_Price',title='Great Deals for Motorbikes (NN without dropout)')"
   ]
  },
  {
   "cell_type": "code",
   "execution_count": 32,
   "metadata": {},
   "outputs": [
    {
     "data": {
      "text/html": [
       "<div>\n",
       "<style scoped>\n",
       "    .dataframe tbody tr th:only-of-type {\n",
       "        vertical-align: middle;\n",
       "    }\n",
       "\n",
       "    .dataframe tbody tr th {\n",
       "        vertical-align: top;\n",
       "    }\n",
       "\n",
       "    .dataframe thead th {\n",
       "        text-align: right;\n",
       "    }\n",
       "</style>\n",
       "<table border=\"1\" class=\"dataframe\">\n",
       "  <thead>\n",
       "    <tr style=\"text-align: right;\">\n",
       "      <th></th>\n",
       "      <th>Bore</th>\n",
       "      <th>Compression_Ratio</th>\n",
       "      <th>Cylinders</th>\n",
       "      <th>Engine_Stroke</th>\n",
       "      <th>Engine_Voltage</th>\n",
       "      <th>Front_Brake_Diameter</th>\n",
       "      <th>Front_Suspension_Travel</th>\n",
       "      <th>Fuel_Tank_Capacity</th>\n",
       "      <th>Gear_Number</th>\n",
       "      <th>Ground_Clearance</th>\n",
       "      <th>...</th>\n",
       "      <th>Brand_Triumph</th>\n",
       "      <th>Brand_Yamaha</th>\n",
       "      <th>Side_Stand_No</th>\n",
       "      <th>Side_Stand_Standard</th>\n",
       "      <th>Side_Stand_Yes</th>\n",
       "      <th>Swingarm_Type_Dual_Sided</th>\n",
       "      <th>Swingarm_Type_Single_Sided</th>\n",
       "      <th>Predicted_Price</th>\n",
       "      <th>Price_ratio</th>\n",
       "      <th>Deal_type</th>\n",
       "    </tr>\n",
       "  </thead>\n",
       "  <tbody>\n",
       "    <tr>\n",
       "      <th>159</th>\n",
       "      <td>75.0</td>\n",
       "      <td>12.0</td>\n",
       "      <td>4.0</td>\n",
       "      <td>4.0</td>\n",
       "      <td>12.0</td>\n",
       "      <td>310.0</td>\n",
       "      <td>109.0</td>\n",
       "      <td>18.0</td>\n",
       "      <td>6.0</td>\n",
       "      <td>130.0</td>\n",
       "      <td>...</td>\n",
       "      <td>0</td>\n",
       "      <td>0</td>\n",
       "      <td>0</td>\n",
       "      <td>1</td>\n",
       "      <td>0</td>\n",
       "      <td>1</td>\n",
       "      <td>0</td>\n",
       "      <td>7733.337891</td>\n",
       "      <td>0.484914</td>\n",
       "      <td>Its a steal</td>\n",
       "    </tr>\n",
       "  </tbody>\n",
       "</table>\n",
       "<p>1 rows × 4007 columns</p>\n",
       "</div>"
      ],
      "text/plain": [
       "     Bore  Compression_Ratio  Cylinders  Engine_Stroke  Engine_Voltage  \\\n",
       "159  75.0               12.0        4.0            4.0            12.0   \n",
       "\n",
       "     Front_Brake_Diameter  Front_Suspension_Travel  Fuel_Tank_Capacity  \\\n",
       "159                 310.0                    109.0                18.0   \n",
       "\n",
       "     Gear_Number  Ground_Clearance  ...  Brand_Triumph  Brand_Yamaha  \\\n",
       "159          6.0             130.0  ...              0             0   \n",
       "\n",
       "     Side_Stand_No  Side_Stand_Standard  Side_Stand_Yes  \\\n",
       "159              0                    1               0   \n",
       "\n",
       "     Swingarm_Type_Dual_Sided  Swingarm_Type_Single_Sided  Predicted_Price  \\\n",
       "159                         1                           0      7733.337891   \n",
       "\n",
       "     Price_ratio    Deal_type  \n",
       "159     0.484914  Its a steal  \n",
       "\n",
       "[1 rows x 4007 columns]"
      ]
     },
     "execution_count": 32,
     "metadata": {},
     "output_type": "execute_result"
    }
   ],
   "source": [
    "# Identify the best deal\n",
    "# Price: ~ $7,000\n",
    "# Predicted Proce: ~ $15,000\n",
    "value = df[df['Deal_type'] == 'Its a steal']['Price'].max()\n",
    "test = df[(df['Deal_type'] == 'Its a steal') & (df['Price'] == value)]\n",
    "test"
   ]
  },
  {
   "cell_type": "code",
   "execution_count": 33,
   "metadata": {},
   "outputs": [],
   "source": [
    "# Find the 'its a steal' bike in the original dataframe\n",
    "original_df = pd.read_csv('clean_sport.csv', \n",
    "                          parse_dates=['First_Seen','Last_Seen','Last_Modified'], \n",
    "                          dtype={'Postcode': 'category'},\n",
    "                          dayfirst=True)"
   ]
  },
  {
   "cell_type": "code",
   "execution_count": 34,
   "metadata": {},
   "outputs": [
    {
     "data": {
      "text/plain": [
       "Index(['Bore', 'Compression_Ratio', 'Cylinders', 'Engine_Stroke',\n",
       "       'Engine_Voltage', 'Front_Brake_Diameter', 'Front_Suspension_Travel',\n",
       "       'Fuel_Tank_Capacity', 'Gear_Number', 'Ground_Clearance', 'Height',\n",
       "       'Kilometers', 'Length', 'Maximum_Power', 'Maximum_Power_RPM', 'Price',\n",
       "       'Rake_(Caster_Angle)', 'Rear_Brake_Diameter', 'Rear_Suspension_Travel',\n",
       "       'Recommended_RON', 'Seating_Capacity', 'Stroke', 'Throttle_Bore',\n",
       "       'Trail', 'Valves_Per_Cylinder', 'Wet_Operational_Weight', 'Wheelbase',\n",
       "       'Width', 'Remaining_Warranty', 'Remaining_Registration', 'Age',\n",
       "       'Live_Add', 'Engine_Size'],\n",
       "      dtype='object')"
      ]
     },
     "execution_count": 34,
     "metadata": {},
     "output_type": "execute_result"
    }
   ],
   "source": [
    "original_df.select_dtypes(include='number').columns\n"
   ]
  },
  {
   "cell_type": "code",
   "execution_count": 35,
   "metadata": {},
   "outputs": [
    {
     "data": {
      "text/plain": [
       "array(['https://www.bikesales.com.au/bikes/details/2006-honda-cbr1000rr-fireblade/SSE-AD-3964798/?Cr=0'],\n",
       "      dtype=object)"
      ]
     },
     "execution_count": 35,
     "metadata": {},
     "output_type": "execute_result"
    }
   ],
   "source": [
    "# Get the URL\n",
    "original_df[(original_df['Bore'] == test['Bore'].values[0]) & \n",
    "            (original_df['Compression_Ratio'] == test['Compression_Ratio'].values[0]) &\n",
    "            (original_df['Cylinders'] == test['Cylinders'].values[0]) & \n",
    "            (original_df['Front_Brake_Diameter'] == test['Front_Brake_Diameter'].values[0]) &\n",
    "            (original_df['Front_Suspension_Travel'] == test['Front_Suspension_Travel'].values[0]) & \n",
    "            (original_df['Fuel_Tank_Capacity'] == test['Fuel_Tank_Capacity'].values[0]) & \n",
    "            (original_df['Ground_Clearance'] == test['Ground_Clearance'].values[0]) & \n",
    "            (original_df['Height'] == test['Height'].values[0]) & \n",
    "            (original_df['Kilometers'] == test['Kilometers'].values[0]) & \n",
    "            (original_df['Length'] == test['Length'].values[0]) & \n",
    "            (original_df['Maximum_Power_RPM'] == test['Maximum_Power_RPM'].values[0]) & \n",
    "            (original_df['Price'] == test['Price'].values[0])]['URL'].values\n",
    "            \n"
   ]
  },
  {
   "cell_type": "code",
   "execution_count": 36,
   "metadata": {},
   "outputs": [
    {
     "data": {
      "text/plain": [
       "159    7733.337891\n",
       "Name: Predicted_Price, dtype: float32"
      ]
     },
     "execution_count": 36,
     "metadata": {},
     "output_type": "execute_result"
    }
   ],
   "source": [
    "test['Predicted_Price']"
   ]
  },
  {
   "cell_type": "code",
   "execution_count": 37,
   "metadata": {},
   "outputs": [
    {
     "name": "stdout",
     "output_type": "stream",
     "text": [
      "_________________________________________________________________\n",
      "Layer (type)                 Output Shape              Param #   \n",
      "=================================================================\n",
      "dense_16 (Dense)             (None, 1850)              3424350   \n",
      "_________________________________________________________________\n",
      "dense_17 (Dense)             (None, 100)               185100    \n",
      "_________________________________________________________________\n",
      "dense_18 (Dense)             (None, 100)               10100     \n",
      "_________________________________________________________________\n",
      "dense_19 (Dense)             (None, 100)               10100     \n",
      "_________________________________________________________________\n",
      "dense_20 (Dense)             (None, 1)                 101       \n",
      "=================================================================\n",
      "Total params: 3,629,751\n",
      "Trainable params: 3,629,751\n",
      "Non-trainable params: 0\n",
      "_________________________________________________________________\n",
      "None\n"
     ]
    }
   ],
   "source": [
    "print (model.summary())"
   ]
  },
  {
   "cell_type": "code",
   "execution_count": null,
   "metadata": {},
   "outputs": [],
   "source": []
  }
 ],
 "metadata": {
  "kernelspec": {
   "display_name": "Python 3",
   "language": "python",
   "name": "python3"
  },
  "language_info": {
   "codemirror_mode": {
    "name": "ipython",
    "version": 3
   },
   "file_extension": ".py",
   "mimetype": "text/x-python",
   "name": "python",
   "nbconvert_exporter": "python",
   "pygments_lexer": "ipython3",
   "version": "3.7.3"
  }
 },
 "nbformat": 4,
 "nbformat_minor": 2
}
