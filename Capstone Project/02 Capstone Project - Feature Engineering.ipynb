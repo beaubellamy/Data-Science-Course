{
 "cells": [
  {
   "cell_type": "markdown",
   "metadata": {},
   "source": [
    "# Feature engineering\n",
    "\n",
    "Create new features using existing knowledge and features."
   ]
  },
  {
   "cell_type": "code",
   "execution_count": 1,
   "metadata": {},
   "outputs": [],
   "source": [
    "import numpy as np\n",
    "import pandas as pd\n",
    "from datetime import datetime\n",
    "import matplotlib.pyplot as plt\n",
    "import seaborn as sns\n",
    "%matplotlib inline\n",
    "\n",
    "sns.set()\n",
    "import warnings\n",
    "warnings.filterwarnings('ignore')\n",
    "\n"
   ]
  },
  {
   "cell_type": "code",
   "execution_count": 2,
   "metadata": {},
   "outputs": [],
   "source": [
    "#Load the data and infer the date format for the date features\n",
    "\n",
    "df = pd.read_csv('BikeSales-Dusty2.csv', # load the cleaned data.\n",
    "                  parse_dates=['First_Seen','Last_Seen','Last_Modified','Registration_Expiry'], \n",
    "                  dayfirst=True)\n"
   ]
  },
  {
   "cell_type": "code",
   "execution_count": 3,
   "metadata": {},
   "outputs": [
    {
     "data": {
      "text/html": [
       "<div>\n",
       "<style scoped>\n",
       "    .dataframe tbody tr th:only-of-type {\n",
       "        vertical-align: middle;\n",
       "    }\n",
       "\n",
       "    .dataframe tbody tr th {\n",
       "        vertical-align: top;\n",
       "    }\n",
       "\n",
       "    .dataframe thead th {\n",
       "        text-align: right;\n",
       "    }\n",
       "</style>\n",
       "<table border=\"1\" class=\"dataframe\">\n",
       "  <thead>\n",
       "    <tr style=\"text-align: right;\">\n",
       "      <th></th>\n",
       "      <th>ABS</th>\n",
       "      <th>Adjustable_Seat</th>\n",
       "      <th>Bore</th>\n",
       "      <th>Cam_Type</th>\n",
       "      <th>Carburettor</th>\n",
       "      <th>Charging_Method</th>\n",
       "      <th>Clutch_Type</th>\n",
       "      <th>Colour</th>\n",
       "      <th>Compression_Ratio</th>\n",
       "      <th>Cooling</th>\n",
       "      <th>...</th>\n",
       "      <th>Trail</th>\n",
       "      <th>URL</th>\n",
       "      <th>Valves_Per_Cylinder</th>\n",
       "      <th>Warranty_in_Months_from_First_Registration</th>\n",
       "      <th>Wet_Operational_Weight</th>\n",
       "      <th>Wheel_Type</th>\n",
       "      <th>Wheelbase</th>\n",
       "      <th>Width</th>\n",
       "      <th>Release_Year</th>\n",
       "      <th>Seller</th>\n",
       "    </tr>\n",
       "  </thead>\n",
       "  <tbody>\n",
       "    <tr>\n",
       "      <th>0</th>\n",
       "      <td>Standard</td>\n",
       "      <td>No</td>\n",
       "      <td>78.0</td>\n",
       "      <td>DOHC_(Double_Over_Head_Cam)</td>\n",
       "      <td>Electronic_fuel_injection</td>\n",
       "      <td>Engine</td>\n",
       "      <td>Multi_plate</td>\n",
       "      <td>black</td>\n",
       "      <td>13.0</td>\n",
       "      <td>Liquid</td>\n",
       "      <td>...</td>\n",
       "      <td>105.0</td>\n",
       "      <td>https://www.bikesales.com.au/bikes/details/201...</td>\n",
       "      <td>4.0</td>\n",
       "      <td>24</td>\n",
       "      <td>202.0</td>\n",
       "      <td>Spoke</td>\n",
       "      <td>1420.0</td>\n",
       "      <td>735.000</td>\n",
       "      <td>2011</td>\n",
       "      <td>Private</td>\n",
       "    </tr>\n",
       "    <tr>\n",
       "      <th>1</th>\n",
       "      <td>Standard</td>\n",
       "      <td>No</td>\n",
       "      <td>78.0</td>\n",
       "      <td>DOHC_(Double_Over_Head_Cam)</td>\n",
       "      <td>Electronic_fuel_injection</td>\n",
       "      <td>Engine</td>\n",
       "      <td>Multi_plate</td>\n",
       "      <td>yellow</td>\n",
       "      <td>13.0</td>\n",
       "      <td>Liquid</td>\n",
       "      <td>...</td>\n",
       "      <td>105.0</td>\n",
       "      <td>https://www.bikesales.com.au/bikes/details/201...</td>\n",
       "      <td>4.0</td>\n",
       "      <td>24</td>\n",
       "      <td>202.0</td>\n",
       "      <td>Spoke</td>\n",
       "      <td>1420.0</td>\n",
       "      <td>735.000</td>\n",
       "      <td>2012</td>\n",
       "      <td>Private</td>\n",
       "    </tr>\n",
       "    <tr>\n",
       "      <th>2</th>\n",
       "      <td>Standard</td>\n",
       "      <td>No</td>\n",
       "      <td>78.0</td>\n",
       "      <td>DOHC_(Double_Over_Head_Cam)</td>\n",
       "      <td>Electronic_fuel_injection</td>\n",
       "      <td>Engine</td>\n",
       "      <td>Other</td>\n",
       "      <td>black</td>\n",
       "      <td>13.0</td>\n",
       "      <td>Liquid</td>\n",
       "      <td>...</td>\n",
       "      <td>105.0</td>\n",
       "      <td>https://www.bikesales.com.au/bikes/details/201...</td>\n",
       "      <td>4.0</td>\n",
       "      <td>24</td>\n",
       "      <td>202.0</td>\n",
       "      <td>Spoke</td>\n",
       "      <td>1443.0</td>\n",
       "      <td>720.385</td>\n",
       "      <td>2014</td>\n",
       "      <td>Private</td>\n",
       "    </tr>\n",
       "    <tr>\n",
       "      <th>3</th>\n",
       "      <td>Standard</td>\n",
       "      <td>No</td>\n",
       "      <td>78.0</td>\n",
       "      <td>DOHC_(Double_Over_Head_Cam)</td>\n",
       "      <td>Electronic_fuel_injection</td>\n",
       "      <td>Engine</td>\n",
       "      <td>Other</td>\n",
       "      <td>black</td>\n",
       "      <td>13.0</td>\n",
       "      <td>Liquid</td>\n",
       "      <td>...</td>\n",
       "      <td>105.0</td>\n",
       "      <td>https://www.bikesales.com.au/bikes/details/201...</td>\n",
       "      <td>4.0</td>\n",
       "      <td>24</td>\n",
       "      <td>202.0</td>\n",
       "      <td>Spoke</td>\n",
       "      <td>1443.0</td>\n",
       "      <td>720.385</td>\n",
       "      <td>2014</td>\n",
       "      <td>Private</td>\n",
       "    </tr>\n",
       "    <tr>\n",
       "      <th>4</th>\n",
       "      <td>Standard</td>\n",
       "      <td>No</td>\n",
       "      <td>78.0</td>\n",
       "      <td>DOHC_(Double_Over_Head_Cam)</td>\n",
       "      <td>Electronic_fuel_injection</td>\n",
       "      <td>Engine</td>\n",
       "      <td>Other</td>\n",
       "      <td>black</td>\n",
       "      <td>13.0</td>\n",
       "      <td>Liquid</td>\n",
       "      <td>...</td>\n",
       "      <td>105.0</td>\n",
       "      <td>https://www.bikesales.com.au/bikes/details/201...</td>\n",
       "      <td>4.0</td>\n",
       "      <td>24</td>\n",
       "      <td>202.0</td>\n",
       "      <td>Spoke</td>\n",
       "      <td>1443.0</td>\n",
       "      <td>720.385</td>\n",
       "      <td>2014</td>\n",
       "      <td>Private</td>\n",
       "    </tr>\n",
       "  </tbody>\n",
       "</table>\n",
       "<p>5 rows × 78 columns</p>\n",
       "</div>"
      ],
      "text/plain": [
       "        ABS Adjustable_Seat  Bore                     Cam_Type  \\\n",
       "0  Standard              No  78.0  DOHC_(Double_Over_Head_Cam)   \n",
       "1  Standard              No  78.0  DOHC_(Double_Over_Head_Cam)   \n",
       "2  Standard              No  78.0  DOHC_(Double_Over_Head_Cam)   \n",
       "3  Standard              No  78.0  DOHC_(Double_Over_Head_Cam)   \n",
       "4  Standard              No  78.0  DOHC_(Double_Over_Head_Cam)   \n",
       "\n",
       "                 Carburettor Charging_Method  Clutch_Type  Colour  \\\n",
       "0  Electronic_fuel_injection          Engine  Multi_plate   black   \n",
       "1  Electronic_fuel_injection          Engine  Multi_plate  yellow   \n",
       "2  Electronic_fuel_injection          Engine        Other   black   \n",
       "3  Electronic_fuel_injection          Engine        Other   black   \n",
       "4  Electronic_fuel_injection          Engine        Other   black   \n",
       "\n",
       "   Compression_Ratio Cooling  ...  Trail  \\\n",
       "0               13.0  Liquid  ...  105.0   \n",
       "1               13.0  Liquid  ...  105.0   \n",
       "2               13.0  Liquid  ...  105.0   \n",
       "3               13.0  Liquid  ...  105.0   \n",
       "4               13.0  Liquid  ...  105.0   \n",
       "\n",
       "                                                 URL Valves_Per_Cylinder  \\\n",
       "0  https://www.bikesales.com.au/bikes/details/201...                 4.0   \n",
       "1  https://www.bikesales.com.au/bikes/details/201...                 4.0   \n",
       "2  https://www.bikesales.com.au/bikes/details/201...                 4.0   \n",
       "3  https://www.bikesales.com.au/bikes/details/201...                 4.0   \n",
       "4  https://www.bikesales.com.au/bikes/details/201...                 4.0   \n",
       "\n",
       "   Warranty_in_Months_from_First_Registration Wet_Operational_Weight  \\\n",
       "0                                          24                  202.0   \n",
       "1                                          24                  202.0   \n",
       "2                                          24                  202.0   \n",
       "3                                          24                  202.0   \n",
       "4                                          24                  202.0   \n",
       "\n",
       "   Wheel_Type Wheelbase    Width Release_Year   Seller  \n",
       "0       Spoke    1420.0  735.000         2011  Private  \n",
       "1       Spoke    1420.0  735.000         2012  Private  \n",
       "2       Spoke    1443.0  720.385         2014  Private  \n",
       "3       Spoke    1443.0  720.385         2014  Private  \n",
       "4       Spoke    1443.0  720.385         2014  Private  \n",
       "\n",
       "[5 rows x 78 columns]"
      ]
     },
     "execution_count": 3,
     "metadata": {},
     "output_type": "execute_result"
    }
   ],
   "source": [
    "df.head()"
   ]
  },
  {
   "cell_type": "code",
   "execution_count": 4,
   "metadata": {},
   "outputs": [
    {
     "data": {
      "text/plain": [
       "0"
      ]
     },
     "execution_count": 4,
     "metadata": {},
     "output_type": "execute_result"
    }
   ],
   "source": [
    "df.isnull().sum().sum()"
   ]
  },
  {
   "cell_type": "code",
   "execution_count": 5,
   "metadata": {},
   "outputs": [],
   "source": [
    "# network id is essentially a unique identifier for each bike.\n",
    "df.drop(['Network_ID'],axis=1, inplace=True)"
   ]
  },
  {
   "cell_type": "code",
   "execution_count": 6,
   "metadata": {},
   "outputs": [],
   "source": [
    "# Make the feature labels clearer on what they describe.\n",
    "df['Brand'] = df['Make']\n",
    "\n",
    "df.drop(['Make'],axis=1, inplace=True)"
   ]
  },
  {
   "cell_type": "markdown",
   "metadata": {},
   "source": [
    "## Remaining Warranty\n",
    "\n",
    "This is the warranty left to on the Bike since it was first registered. Here we assume the bike is registered at the end of the release year."
   ]
  },
  {
   "cell_type": "code",
   "execution_count": 7,
   "metadata": {},
   "outputs": [],
   "source": [
    "def diff_month(d1, d2):\n",
    "    return (d1.year - d2.year) * 12 + d1.month - d2.month\n",
    "\n",
    "\n",
    "df['Remaining_Warranty'] = (datetime.now().year - df['Release_Year']) * 12 + datetime.now().month - 12\n",
    "df['Remaining_Warranty'][df['Remaining_Warranty'] < 0] = df['Warranty_in_Months_from_First_Registration']\n",
    "df['Remaining_Warranty'][df['Warranty_in_Months_from_First_Registration'] == 0] = 0\n",
    "\n",
    "df.drop(['Warranty_in_Months_from_First_Registration'],axis=1,inplace=True)\n"
   ]
  },
  {
   "cell_type": "markdown",
   "metadata": {},
   "source": [
    "## Remaining Registration\n",
    "\n",
    "This is the registration that remains on the bike as of the last date the data was processed. The bike is assumed to have a current registration if there is an expiry, otherwise, the bike is assumed not to have a current registration."
   ]
  },
  {
   "cell_type": "code",
   "execution_count": 8,
   "metadata": {},
   "outputs": [],
   "source": [
    "\n",
    "df['Remaining_Registration'] = (df['Registration_Expiry'].dt.year - datetime.now().year) * 12 + \\\n",
    "                                    df['Registration_Expiry'].dt.month - datetime.now().month\n",
    "df['Remaining_Registration'][df['Remaining_Registration'] < 0] = 0\n",
    "\n",
    "df.drop(['Registration_Expiry'],axis=1, inplace=True)\n"
   ]
  },
  {
   "cell_type": "markdown",
   "metadata": {},
   "source": [
    "## Age\n",
    "\n",
    "Any asset decreases in value with age. We can deterime the age using todays date and the release year.\n",
    "\n"
   ]
  },
  {
   "cell_type": "code",
   "execution_count": 9,
   "metadata": {},
   "outputs": [],
   "source": [
    "df['Age'] = datetime.now().year - df['Release_Year']\n",
    "df.drop(['Release_Year'], axis=1, inplace=True)"
   ]
  },
  {
   "cell_type": "markdown",
   "metadata": {},
   "source": [
    "## Live Advertisment\n",
    "\n",
    "This will be the time the advertisement is live on the website. I would expect this to provide some insight in how long it takes to sell a bike on the site, once there is a sufficient number of bikes sold in the data set.\n"
   ]
  },
  {
   "cell_type": "code",
   "execution_count": 10,
   "metadata": {},
   "outputs": [],
   "source": [
    "days = (df['Last_Seen'] - df['First_Seen'])\n",
    "df['Live_Add'] = days.astype('timedelta64[D]')"
   ]
  },
  {
   "cell_type": "markdown",
   "metadata": {},
   "source": [
    "## Sold\n",
    "\n",
    "We can assume the bike is sold if the last time the advertisement was seen, isn't the most recent time. ie, the advertisement has been taken down. We will assume this means the bike has been sold, even though the seller could have decided to not sell the bike.\n"
   ]
  },
  {
   "cell_type": "code",
   "execution_count": 11,
   "metadata": {},
   "outputs": [],
   "source": [
    "df['Sold'] = 'For Sale'\n",
    "df['Sold'][(df['Last_Seen'] != df['Last_Seen'].max()) == True] = 'Sold'\n"
   ]
  },
  {
   "cell_type": "markdown",
   "metadata": {},
   "source": [
    "## Engine Size\n",
    "\n",
    "This is the same as the Engine description, just converted to the more common value.\n"
   ]
  },
  {
   "cell_type": "code",
   "execution_count": 12,
   "metadata": {},
   "outputs": [],
   "source": [
    "\n",
    "allbins =[0,65,80,90,110,130,180,225,270,320,370,420,470,520,570,625,675,730,820,870,920,970,\n",
    "          1050,1150,1250,1350,1450,1550,1650,1750,1850,1950,2050,2250,2400]\n",
    "labels = [50,70,90,100,125,150,200,250,300,350,400,450,500,550,600,650,700,750,800,850,900,950,\n",
    "          1100,1200,1300,1400,1500,1600,1700,1800,1900,2000,2100,2300]\n",
    "\n",
    "df['Engine_Size'] = pd.to_numeric(pd.cut(df['Engine_Description'],\n",
    "                                    bins=allbins,\n",
    "                                    labels=labels))\n",
    "\n",
    "df.drop(['Engine_Description'], axis=1, inplace=True)\n"
   ]
  },
  {
   "cell_type": "markdown",
   "metadata": {},
   "source": [
    "Write the updated data to file."
   ]
  },
  {
   "cell_type": "code",
   "execution_count": 13,
   "metadata": {},
   "outputs": [],
   "source": [
    "\n",
    "df.to_csv('Bikesales_Features.csv',index=False)"
   ]
  },
  {
   "cell_type": "code",
   "execution_count": null,
   "metadata": {},
   "outputs": [],
   "source": []
  },
  {
   "cell_type": "code",
   "execution_count": null,
   "metadata": {},
   "outputs": [],
   "source": []
  }
 ],
 "metadata": {
  "kernelspec": {
   "display_name": "Python 3",
   "language": "python",
   "name": "python3"
  },
  "language_info": {
   "codemirror_mode": {
    "name": "ipython",
    "version": 3
   },
   "file_extension": ".py",
   "mimetype": "text/x-python",
   "name": "python",
   "nbconvert_exporter": "python",
   "pygments_lexer": "ipython3",
   "version": "3.7.3"
  }
 },
 "nbformat": 4,
 "nbformat_minor": 2
}
