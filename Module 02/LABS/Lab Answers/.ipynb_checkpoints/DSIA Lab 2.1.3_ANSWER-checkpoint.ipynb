{
 "cells": [
  {
   "cell_type": "markdown",
   "metadata": {
    "colab_type": "text",
    "id": "view-in-github"
   },
   "source": [
    "<a href=\"https://colab.research.google.com/github/ikfaisal/dsia/blob/master/DSIA_Lab_2_1_3_.ipynb\" target=\"_parent\"><img src=\"https://colab.research.google.com/assets/colab-badge.svg\" alt=\"Open In Colab\"/></a>"
   ]
  },
  {
   "cell_type": "markdown",
   "metadata": {
    "colab_type": "text",
    "id": "O4slJmP6lJPO"
   },
   "source": [
    "![alt text](https://bit.ly/2Ooh01X)\n"
   ]
  },
  {
   "cell_type": "markdown",
   "metadata": {
    "colab_type": "text",
    "id": "YgGme6aRlJPT"
   },
   "source": [
    "# Lab 2.1.3: \n",
    "# *Database Programming with Python and SQLite*"
   ]
  },
  {
   "cell_type": "markdown",
   "metadata": {
    "colab_type": "text",
    "id": "e66YCCbxo80J"
   },
   "source": []
  },
  {
   "cell_type": "markdown",
   "metadata": {
    "colab_type": "text",
    "id": "qv6NIGfOlJPW"
   },
   "source": [
    "<a name=\"demo\"></a>\n",
    "## Using SQLite\n",
    "\n",
    "### Advantages of SQLite\n",
    "\n",
    "- does not run on a separate server\n",
    "- creates portable SQL databases saved in a single file\n",
    "- databases are stored in a very efficient manner and allow fast querying\n",
    "- ideal for small databases or databases that need to be copied across machines.\n",
    "- prototyping applications (e.g. as an embedded database server in a Python program).\n",
    "\n"
   ]
  },
  {
   "cell_type": "markdown",
   "metadata": {
    "colab_type": "text",
    "id": "IHIaKfRelJPc"
   },
   "source": [
    "### The `sqlite3` Command Line Utility\n",
    "\n",
    "- useful for basic SQL tasks and databse maintenance\n",
    "- for creating and dropping databases, it may be safer to use the command line than to roll the code into a Python program"
   ]
  },
  {
   "cell_type": "markdown",
   "metadata": {
    "colab_type": "text",
    "id": "adOx7ovjlJPf"
   },
   "source": [
    "1. Add the sqlite3 installation folder to your PATH environment variable.\n",
    "2. Open a command window.\n",
    "3. Navigate to your preferred working directory.\n",
    "4. Start the sqlite3 command line utility and create a database called \"ex1\":\n",
    "\n",
    "`$ sqlite3 ex1`\n",
    "\n",
    "Output:  \n",
    "\n",
    "`SQLite version 3.8.5 2014-05-29 12:36:14\n",
    "Enter \".help\" for usage hints.\n",
    "sqlite>`\n",
    "\n",
    "*Nb. If you leave out the database name (after `sqlite3`, above) a new, temporary database will be created; it will be destroyed upon exiting sqlite3.*  \n"
   ]
  },
  {
   "cell_type": "markdown",
   "metadata": {
    "colab_type": "text",
    "id": "nuPeNybYlJPj"
   },
   "source": [
    "Enter the following commands at the sqlite prompt (not shown):\n",
    "\n",
    "`create table tbl1(one varchar(10), two smallint);\n",
    "insert into tbl1 values('hello!',10);\n",
    "insert into tbl1 values('goodbye', 20);\n",
    "select * from tbl1;`\n",
    "\n",
    "Output:  \n",
    "\n",
    "`hello!|10\n",
    "goodbye|20`"
   ]
  },
  {
   "cell_type": "markdown",
   "metadata": {
    "colab_type": "text",
    "id": "G7c-GNh_lJPl"
   },
   "source": [
    "Enter `.help` at the sqlite3 command prompt. This lists the available \"dot commands\". \n",
    "\n",
    "Some of the more useful dot commands include:\n",
    "\n",
    "`  \n",
    ".backup ?DB? FILE      Backup DB (default \"main\") to FILE.\n",
    ".cd DIRECTORY          Change the working directory to DIRECTORY\n",
    ".clone NEWDB           Clone data into NEWDB from the existing database\n",
    ".databases             List names and files of attached databases\n",
    ".dump ?TABLE? ...      Dump the database in an SQL text format.\n",
    ".excel                 Display the output of next command in a spreadsheet\n",
    ".exit                  Exit this program\n",
    ".headers on|off        Turn display of headers on or off\n",
    ".help                  Show this message\n",
    ".import FILE TABLE     Import data from FILE into TABLE\n",
    ".indexes ?TABLE?       Show names of all indexes.\n",
    ".quit                  Exit this program\n",
    ".read FILENAME         Execute SQL in FILENAME\n",
    ".restore ?DB? FILE     Restore content of DB (default \"main\") from FILE\n",
    ".save FILE             Write in-memory database into FILE\n",
    ".tables ?TABLE?        List names of tables.`\n"
   ]
  },
  {
   "cell_type": "markdown",
   "metadata": {
    "colab_type": "text",
    "id": "UGuSmoHMlJPn"
   },
   "source": [
    "### The `sqlite3` package\n",
    "\n",
    "The easiest way to incorporate an SQL database into a Python application is by using the `sqlite3` package for [`Python 2.7`](https://docs.python.org/2.7/library/sqlite3.html) or [`Python 3.x`](https://docs.python.org/3/library/sqlite3.html).\n",
    "\n",
    "Open a connection to an SQLite database file.  As before, if the file does not already exist it will automatically be created."
   ]
  },
  {
   "cell_type": "code",
   "execution_count": 1,
   "metadata": {
    "ExecuteTime": {
     "end_time": "2019-03-27T06:53:00.052382Z",
     "start_time": "2019-03-27T06:53:00.045402Z"
    },
    "colab": {},
    "colab_type": "code",
    "id": "kDA5eAPilJPo"
   },
   "outputs": [],
   "source": [
    "import sqlite3\n",
    "sqlite_db = 'test_db.sqlite'\n",
    "conn = sqlite3.connect(sqlite_db) \n",
    "c = conn.cursor()"
   ]
  },
  {
   "cell_type": "markdown",
   "metadata": {
    "colab_type": "text",
    "id": "SbbON3DXlJPt"
   },
   "source": [
    "Commands can be executed by passing them as string arguments to the `execute` method of the cursor we just created for this database."
   ]
  },
  {
   "cell_type": "markdown",
   "metadata": {
    "colab_type": "text",
    "id": "9YezTIZxlJPu"
   },
   "source": [
    "*Nb. If this script has never been run before, the following will raise an (inconsequential) error message:*"
   ]
  },
  {
   "cell_type": "code",
   "execution_count": 4,
   "metadata": {
    "ExecuteTime": {
     "end_time": "2019-03-27T06:53:21.834157Z",
     "start_time": "2019-03-27T06:53:21.821220Z"
    },
    "colab": {},
    "colab_type": "code",
    "id": "vf0t6T2mlJPw"
   },
   "outputs": [
    {
     "ename": "OperationalError",
     "evalue": "no such table: houses",
     "output_type": "error",
     "traceback": [
      "\u001b[1;31m---------------------------------------------------------------------------\u001b[0m",
      "\u001b[1;31mOperationalError\u001b[0m                          Traceback (most recent call last)",
      "\u001b[1;32m<ipython-input-4-c6b47cdd6a9b>\u001b[0m in \u001b[0;36m<module>\u001b[1;34m()\u001b[0m\n\u001b[1;32m----> 1\u001b[1;33m \u001b[0mc\u001b[0m\u001b[1;33m.\u001b[0m\u001b[0mexecute\u001b[0m\u001b[1;33m(\u001b[0m\u001b[1;34m'DROP TABLE houses;'\u001b[0m\u001b[1;33m)\u001b[0m\u001b[1;33m\u001b[0m\u001b[0m\n\u001b[0m\u001b[0;32m      2\u001b[0m \u001b[1;33m\u001b[0m\u001b[0m\n\u001b[0;32m      3\u001b[0m \u001b[1;31m# Save (commit) the changes:\u001b[0m\u001b[1;33m\u001b[0m\u001b[1;33m\u001b[0m\u001b[0m\n\u001b[0;32m      4\u001b[0m \u001b[0mconn\u001b[0m\u001b[1;33m.\u001b[0m\u001b[0mcommit\u001b[0m\u001b[1;33m(\u001b[0m\u001b[1;33m)\u001b[0m\u001b[1;33m\u001b[0m\u001b[0m\n",
      "\u001b[1;31mOperationalError\u001b[0m: no such table: houses"
     ]
    }
   ],
   "source": [
    "c.execute('DROP TABLE houses;')\n",
    "\n",
    "# Save (commit) the changes:\n",
    "conn.commit()"
   ]
  },
  {
   "cell_type": "code",
   "execution_count": 7,
   "metadata": {
    "ExecuteTime": {
     "end_time": "2019-03-27T06:53:39.619395Z",
     "start_time": "2019-03-27T06:53:39.591468Z"
    },
    "colab": {},
    "colab_type": "code",
    "id": "jSfkJrVWlJPz"
   },
   "outputs": [],
   "source": [
    "c.execute('CREATE TABLE houses (field1 INTEGER PRIMARY KEY, sqft INTEGER, bdrms INTEGER, age INTEGER, price INTEGER);')\n",
    "conn.commit()"
   ]
  },
  {
   "cell_type": "markdown",
   "metadata": {
    "colab_type": "text",
    "id": "_BWciGvRlJP3"
   },
   "source": [
    "With the database saved the table should now be viewable using SQLite Manager.\n",
    "\n",
    "#### Adding data\n",
    "\n",
    "Since we're back in python, we can now use regular programming techniques in conjunction with the sqlite connection.  In particular, the cursor's `execute()` method supports value substitutionusing the `?` character, which makes adding multiple records a bit easier.  See the [docs](https://docs.python.org/2.7/library/sqlite3.html) for more details."
   ]
  },
  {
   "cell_type": "code",
   "execution_count": 8,
   "metadata": {
    "ExecuteTime": {
     "end_time": "2019-03-27T06:53:39.642303Z",
     "start_time": "2019-03-27T06:53:39.622352Z"
    },
    "colab": {},
    "colab_type": "code",
    "id": "EFU0wSP1lJP4"
   },
   "outputs": [],
   "source": [
    "last_sale = (None, 4000, 5, 22, 619000)\n",
    "c.execute('INSERT INTO houses VALUES (?,?,?,?,?)',last_sale)\n",
    "\n",
    "# Remember to commit the changes\n",
    "conn.commit()"
   ]
  },
  {
   "cell_type": "markdown",
   "metadata": {
    "colab_type": "text",
    "id": "t7h9HnjDlJP7"
   },
   "source": [
    "Notice that in this syntax we use the python `None` value, rather than `NULL`, to trigger SQLite to auto-increment the Primary Key. \n",
    "\n",
    "There is a related cursor method `executemany()` which takes an array of tuples and loops through them, substituting one tuple at a time."
   ]
  },
  {
   "cell_type": "code",
   "execution_count": 9,
   "metadata": {
    "ExecuteTime": {
     "end_time": "2019-03-27T06:53:39.663277Z",
     "start_time": "2019-03-27T06:53:39.645292Z"
    },
    "colab": {},
    "colab_type": "code",
    "id": "MA2Xia7IlJP8"
   },
   "outputs": [],
   "source": [
    "recent_sales = [\n",
    "  (None, 2390, 4, 34, 319000),\n",
    "  (None, 1870, 3, 14, 289000),\n",
    "  (None, 1505, 3, 90, 269000),\n",
    "]\n",
    "\n",
    "# Nb. The \"?\" parameters are placeholders for data that will map to the table columns during insertion;\n",
    "#     this is a security measure against SQL injection attacks:\n",
    "c.executemany('INSERT INTO houses VALUES (?, ?, ?, ?, ?)', recent_sales)\n",
    "\n",
    "conn.commit()"
   ]
  },
  {
   "cell_type": "code",
   "execution_count": 10,
   "metadata": {
    "ExecuteTime": {
     "end_time": "2019-03-27T06:53:39.683192Z",
     "start_time": "2019-03-27T06:53:39.666238Z"
    },
    "colab": {},
    "colab_type": "code",
    "id": "aQPGUlLZlJP-",
    "outputId": "ff56606d-0008-4c89-ea9e-ff31a2cf321d"
   },
   "outputs": [
    {
     "data": {
      "text/plain": [
       "[(1, 4000, 5, 22, 619000),\n",
       " (2, 2390, 4, 34, 319000),\n",
       " (3, 1870, 3, 14, 289000),\n",
       " (4, 1505, 3, 90, 269000)]"
      ]
     },
     "execution_count": 10,
     "metadata": {},
     "output_type": "execute_result"
    }
   ],
   "source": [
    "c.execute('select * from houses').fetchall()"
   ]
  },
  {
   "cell_type": "markdown",
   "metadata": {
    "colab_type": "text",
    "id": "Rua_QrCClJQF"
   },
   "source": [
    "\n",
    "\n",
    "\n",
    "#### Adding data from a csv file\n",
    "One way to populate the database from a file is to use `numpy.genfromtxt` to read the file into an array (converted to a list for easier handling), and then `INSERT` those records into the database.  The `genfromtxt` function has options including the output data type, handling of missing values, skipping of header and footer rows, columns to read, and more. "
   ]
  },
  {
   "cell_type": "code",
   "execution_count": 13,
   "metadata": {
    "ExecuteTime": {
     "end_time": "2019-03-27T06:54:25.029339Z",
     "start_time": "2019-03-27T06:54:25.012385Z"
    },
    "colab": {},
    "colab_type": "code",
    "id": "DbzyW9LclJQG"
   },
   "outputs": [
    {
     "ename": "OSError",
     "evalue": "../data/housing-data.csv not found.",
     "output_type": "error",
     "traceback": [
      "\u001b[1;31m---------------------------------------------------------------------------\u001b[0m",
      "\u001b[1;31mOSError\u001b[0m                                   Traceback (most recent call last)",
      "\u001b[1;32m<ipython-input-13-ea75281f2db7>\u001b[0m in \u001b[0;36m<module>\u001b[1;34m()\u001b[0m\n\u001b[0;32m      3\u001b[0m \u001b[1;31m# import into nparray of ints, then convert to list of lists:\u001b[0m\u001b[1;33m\u001b[0m\u001b[1;33m\u001b[0m\u001b[0m\n\u001b[0;32m      4\u001b[0m data = genfromtxt('../data/housing-data.csv', dtype = 'i8', \n\u001b[1;32m----> 5\u001b[1;33m                     delimiter = ',', skip_header = 1).tolist()\n\u001b[0m",
      "\u001b[1;32m~\\AppData\\Roaming\\Python\\Python36\\site-packages\\numpy\\lib\\npyio.py\u001b[0m in \u001b[0;36mgenfromtxt\u001b[1;34m(fname, dtype, comments, delimiter, skip_header, skip_footer, converters, missing_values, filling_values, usecols, names, excludelist, deletechars, replace_space, autostrip, case_sensitive, defaultfmt, unpack, usemask, loose, invalid_raise, max_rows, encoding)\u001b[0m\n\u001b[0;32m   1687\u001b[0m             \u001b[0mfname\u001b[0m \u001b[1;33m=\u001b[0m \u001b[0mstr\u001b[0m\u001b[1;33m(\u001b[0m\u001b[0mfname\u001b[0m\u001b[1;33m)\u001b[0m\u001b[1;33m\u001b[0m\u001b[0m\n\u001b[0;32m   1688\u001b[0m         \u001b[1;32mif\u001b[0m \u001b[0misinstance\u001b[0m\u001b[1;33m(\u001b[0m\u001b[0mfname\u001b[0m\u001b[1;33m,\u001b[0m \u001b[0mbasestring\u001b[0m\u001b[1;33m)\u001b[0m\u001b[1;33m:\u001b[0m\u001b[1;33m\u001b[0m\u001b[0m\n\u001b[1;32m-> 1689\u001b[1;33m             \u001b[0mfhd\u001b[0m \u001b[1;33m=\u001b[0m \u001b[0miter\u001b[0m\u001b[1;33m(\u001b[0m\u001b[0mnp\u001b[0m\u001b[1;33m.\u001b[0m\u001b[0mlib\u001b[0m\u001b[1;33m.\u001b[0m\u001b[0m_datasource\u001b[0m\u001b[1;33m.\u001b[0m\u001b[0mopen\u001b[0m\u001b[1;33m(\u001b[0m\u001b[0mfname\u001b[0m\u001b[1;33m,\u001b[0m \u001b[1;34m'rt'\u001b[0m\u001b[1;33m,\u001b[0m \u001b[0mencoding\u001b[0m\u001b[1;33m=\u001b[0m\u001b[0mencoding\u001b[0m\u001b[1;33m)\u001b[0m\u001b[1;33m)\u001b[0m\u001b[1;33m\u001b[0m\u001b[0m\n\u001b[0m\u001b[0;32m   1690\u001b[0m             \u001b[0mown_fhd\u001b[0m \u001b[1;33m=\u001b[0m \u001b[1;32mTrue\u001b[0m\u001b[1;33m\u001b[0m\u001b[0m\n\u001b[0;32m   1691\u001b[0m         \u001b[1;32melse\u001b[0m\u001b[1;33m:\u001b[0m\u001b[1;33m\u001b[0m\u001b[0m\n",
      "\u001b[1;32m~\\AppData\\Roaming\\Python\\Python36\\site-packages\\numpy\\lib\\_datasource.py\u001b[0m in \u001b[0;36mopen\u001b[1;34m(path, mode, destpath, encoding, newline)\u001b[0m\n\u001b[0;32m    258\u001b[0m \u001b[1;33m\u001b[0m\u001b[0m\n\u001b[0;32m    259\u001b[0m     \u001b[0mds\u001b[0m \u001b[1;33m=\u001b[0m \u001b[0mDataSource\u001b[0m\u001b[1;33m(\u001b[0m\u001b[0mdestpath\u001b[0m\u001b[1;33m)\u001b[0m\u001b[1;33m\u001b[0m\u001b[0m\n\u001b[1;32m--> 260\u001b[1;33m     \u001b[1;32mreturn\u001b[0m \u001b[0mds\u001b[0m\u001b[1;33m.\u001b[0m\u001b[0mopen\u001b[0m\u001b[1;33m(\u001b[0m\u001b[0mpath\u001b[0m\u001b[1;33m,\u001b[0m \u001b[0mmode\u001b[0m\u001b[1;33m,\u001b[0m \u001b[0mencoding\u001b[0m\u001b[1;33m=\u001b[0m\u001b[0mencoding\u001b[0m\u001b[1;33m,\u001b[0m \u001b[0mnewline\u001b[0m\u001b[1;33m=\u001b[0m\u001b[0mnewline\u001b[0m\u001b[1;33m)\u001b[0m\u001b[1;33m\u001b[0m\u001b[0m\n\u001b[0m\u001b[0;32m    261\u001b[0m \u001b[1;33m\u001b[0m\u001b[0m\n\u001b[0;32m    262\u001b[0m \u001b[1;33m\u001b[0m\u001b[0m\n",
      "\u001b[1;32m~\\AppData\\Roaming\\Python\\Python36\\site-packages\\numpy\\lib\\_datasource.py\u001b[0m in \u001b[0;36mopen\u001b[1;34m(self, path, mode, encoding, newline)\u001b[0m\n\u001b[0;32m    614\u001b[0m                                       encoding=encoding, newline=newline)\n\u001b[0;32m    615\u001b[0m         \u001b[1;32melse\u001b[0m\u001b[1;33m:\u001b[0m\u001b[1;33m\u001b[0m\u001b[0m\n\u001b[1;32m--> 616\u001b[1;33m             \u001b[1;32mraise\u001b[0m \u001b[0mIOError\u001b[0m\u001b[1;33m(\u001b[0m\u001b[1;34m\"%s not found.\"\u001b[0m \u001b[1;33m%\u001b[0m \u001b[0mpath\u001b[0m\u001b[1;33m)\u001b[0m\u001b[1;33m\u001b[0m\u001b[0m\n\u001b[0m\u001b[0;32m    617\u001b[0m \u001b[1;33m\u001b[0m\u001b[0m\n\u001b[0;32m    618\u001b[0m \u001b[1;33m\u001b[0m\u001b[0m\n",
      "\u001b[1;31mOSError\u001b[0m: ../data/housing-data.csv not found."
     ]
    }
   ],
   "source": [
    "from numpy import genfromtxt\n",
    "\n",
    "# import into nparray of ints, then convert to list of lists:\n",
    "data = genfromtxt('../../DATA/houses.csv', dtype = 'i8', \n",
    "                    delimiter = ',', skip_header = 1).tolist()"
   ]
  },
  {
   "cell_type": "markdown",
   "metadata": {
    "colab_type": "text",
    "id": "rsYzLBGglJQI"
   },
   "source": [
    "Suppose we need to put a placeholder in the first column for data that will be available later. Best practice is to insert the value `None`:"
   ]
  },
  {
   "cell_type": "code",
   "execution_count": null,
   "metadata": {
    "ExecuteTime": {
     "end_time": "2019-03-27T06:53:39.716102Z",
     "start_time": "2019-03-27T06:53:39.608Z"
    },
    "colab": {},
    "colab_type": "code",
    "id": "IpIp0WZhlJQI"
   },
   "outputs": [],
   "source": [
    "# prepend a None value to beginning of each sub-list:\n",
    "for d in data:\n",
    "    d.insert(0, None)"
   ]
  },
  {
   "cell_type": "markdown",
   "metadata": {
    "colab_type": "text",
    "id": "FwHtbxRTlJQL"
   },
   "source": [
    "*Nb. This is why we converted the input array to a list. An array can only hold one type of data (integers in this case) so we could not have inserted `None` before we did this conversion.*"
   ]
  },
  {
   "cell_type": "code",
   "execution_count": null,
   "metadata": {
    "ExecuteTime": {
     "end_time": "2019-03-27T06:53:39.718098Z",
     "start_time": "2019-03-27T06:53:39.611Z"
    },
    "colab": {},
    "colab_type": "code",
    "id": "dpjV2gEIlJQL",
    "outputId": "553d1507-35e9-4682-fd2f-141d26513a2c"
   },
   "outputs": [],
   "source": [
    "# check:\n",
    "print(type(data))\n",
    "print(data[0:3])"
   ]
  },
  {
   "cell_type": "markdown",
   "metadata": {
    "colab_type": "text",
    "id": "2YuxctislJQP"
   },
   "source": [
    "Now we can insert each list item as a row of fields in the database."
   ]
  },
  {
   "cell_type": "code",
   "execution_count": null,
   "metadata": {
    "ExecuteTime": {
     "end_time": "2019-03-27T06:53:39.720093Z",
     "start_time": "2019-03-27T06:53:39.614Z"
    },
    "colab": {},
    "colab_type": "code",
    "id": "1X78UleXlJQP"
   },
   "outputs": [],
   "source": [
    "# loop through data, running an INSERT on each record (i.e. sublist):\n",
    "for d in data:\n",
    "    c.execute('INSERT INTO houses VALUES (?, ?, ?, ?, ?)', d)\n",
    "\n",
    "conn.commit()"
   ]
  },
  {
   "cell_type": "markdown",
   "metadata": {
    "colab_type": "text",
    "id": "fOU5sJDmlJQS"
   },
   "source": [
    "In this case, because we were inserting the same value for all records, so we could have simply used a 'None' in the numpy `insert` method at column 0."
   ]
  },
  {
   "cell_type": "code",
   "execution_count": null,
   "metadata": {
    "ExecuteTime": {
     "end_time": "2019-03-27T06:53:39.721089Z",
     "start_time": "2019-03-27T06:53:39.618Z"
    },
    "colab": {},
    "colab_type": "code",
    "id": "sDig16BalJQS"
   },
   "outputs": [],
   "source": [
    "import numpy as np\n",
    "d1 = np.asarray([1200, 3, 15, 250000])\n",
    "d1 = d1.tolist()\n",
    "d1.insert(0, None)\n",
    "d1\n",
    "c.execute('INSERT INTO houses VALUES (?, ?, ?, ?, ?)', d1)\n",
    "conn.commit()"
   ]
  },
  {
   "cell_type": "markdown",
   "metadata": {
    "colab_type": "text",
    "id": "FVZ3jVc3lJQT"
   },
   "source": [
    "#### Deleting Rows"
   ]
  },
  {
   "cell_type": "markdown",
   "metadata": {
    "colab_type": "text",
    "id": "fwGFqJKplJQU"
   },
   "source": [
    "The `DELETE FROM` statement can be used with a `WHERE` clause to specify rows to delete based on some criteria."
   ]
  },
  {
   "cell_type": "code",
   "execution_count": null,
   "metadata": {
    "ExecuteTime": {
     "end_time": "2019-03-27T06:53:39.723084Z",
     "start_time": "2019-03-27T06:53:39.625Z"
    },
    "colab": {},
    "colab_type": "code",
    "id": "G-t-_J1alJQU"
   },
   "outputs": [],
   "source": [
    "c.execute('DELETE FROM houses WHERE field1 IN (52, 53)')\n",
    "conn.commit()"
   ]
  },
  {
   "cell_type": "markdown",
   "metadata": {
    "colab_type": "text",
    "id": "dBd4Rh8DlJQW"
   },
   "source": [
    "QUIZ: What would `DELETE FROM houses` do?"
   ]
  },
  {
   "cell_type": "markdown",
   "metadata": {
    "colab_type": "text",
    "id": "omubeB6qlJQW"
   },
   "source": [
    "#### Filtering Rows"
   ]
  },
  {
   "cell_type": "code",
   "execution_count": null,
   "metadata": {
    "ExecuteTime": {
     "end_time": "2019-03-27T06:53:39.725078Z",
     "start_time": "2019-03-27T06:53:39.630Z"
    },
    "colab": {},
    "colab_type": "code",
    "id": "tET_cYfWlJQX",
    "outputId": "45be6cf4-c3f5-4e72-ffc1-e7a22bf10ecb"
   },
   "outputs": [],
   "source": [
    "# similar syntax as before\n",
    "results = c.execute(\"SELECT * FROM houses WHERE bdrms = 4\")\n",
    "\n",
    "# here results is a cursor object - use fetchall() to extract a list\n",
    "results.fetchall()"
   ]
  },
  {
   "cell_type": "markdown",
   "metadata": {
    "colab_type": "text",
    "id": "qh348UF_lJQb"
   },
   "source": [
    "Run a query to show the effect of the DELETE command that was executed above (HINT: You can use the WHERE clause to reduce the size of the rowset to the region of interest):"
   ]
  },
  {
   "cell_type": "code",
   "execution_count": null,
   "metadata": {
    "ExecuteTime": {
     "end_time": "2019-03-27T06:53:39.727073Z",
     "start_time": "2019-03-27T06:53:39.634Z"
    },
    "colab": {},
    "colab_type": "code",
    "id": "kHXR6EJklJQc",
    "outputId": "5a4d893a-8b11-48f5-e4e4-6ad3e2420e04"
   },
   "outputs": [],
   "source": [
    "# ANSWER\n",
    "results = c.execute(\"SELECT * FROM houses WHERE field1 >= 50 AND field1 < 59\")\n",
    "results.fetchall()"
   ]
  },
  {
   "cell_type": "markdown",
   "metadata": {
    "colab_type": "text",
    "id": "sTNiWQB2lJQg"
   },
   "source": [
    "Run a query to calculate the average floor area and price of each size of house (i.e. by number of bedrooms):"
   ]
  },
  {
   "cell_type": "code",
   "execution_count": null,
   "metadata": {
    "ExecuteTime": {
     "end_time": "2019-03-27T06:53:39.728071Z",
     "start_time": "2019-03-27T06:53:39.637Z"
    },
    "colab": {},
    "colab_type": "code",
    "id": "nkFpYIbVlJQg",
    "outputId": "a56eebd4-9f0b-483d-9e30-4305de3e25b6"
   },
   "outputs": [],
   "source": [
    "#ANSWER\n",
    "results = c.execute(\"SELECT bdrms, AVG(sqft) AS avg_sqft, AVG(price) AS avg_price FROM houses GROUP BY bdrms\")\n",
    "results.fetchall()"
   ]
  },
  {
   "cell_type": "markdown",
   "metadata": {
    "colab_type": "text",
    "id": "7K9VDroqlJQi"
   },
   "source": [
    "### Pandas connector\n",
    "\n",
    "While databases provide many analytical capabilities, at some point we may need to pull data into Python for more flexible processing. Large, fixed operations would be more efficient in a database, but Pandas allows for interactive processing.\n",
    "\n",
    "For example, if you want to aggregate nightly log-ins or sales for a report or dashboard, this would be a fixed operation on a large dataset. These computations would run more efficiently in the database system itself.\n",
    "\n",
    "However, if we wanted to model the patterns of login behaviour or factors driving sales, then we would import the data to Python where we could use its simple interfaces to powerful analytic libraries."
   ]
  },
  {
   "cell_type": "code",
   "execution_count": null,
   "metadata": {
    "ExecuteTime": {
     "end_time": "2019-03-27T06:53:39.730065Z",
     "start_time": "2019-03-27T06:53:39.641Z"
    },
    "colab": {},
    "colab_type": "code",
    "id": "tvI0P-r8lJQj"
   },
   "outputs": [],
   "source": [
    "import pandas as pd\n",
    "from pandas.io import sql"
   ]
  },
  {
   "cell_type": "markdown",
   "metadata": {
    "colab_type": "text",
    "id": "gBz6pxPFlJQk"
   },
   "source": [
    "Pandas can connect to most relational databases. In this demonstration, we will create and connect to a SQLite database."
   ]
  },
  {
   "cell_type": "markdown",
   "metadata": {
    "colab_type": "text",
    "id": "3dZYouA_lJQk"
   },
   "source": [
    "### Writing data into a database\n",
    "\n",
    "Data in Pandas can be loaded into a relational database. \n",
    "\n",
    "If the data table is not too large, we can load all of it into a Pandas DataFrame:"
   ]
  },
  {
   "cell_type": "code",
   "execution_count": null,
   "metadata": {
    "ExecuteTime": {
     "end_time": "2019-03-27T06:53:39.732061Z",
     "start_time": "2019-03-27T06:53:39.646Z"
    },
    "colab": {},
    "colab_type": "code",
    "id": "GfjtD2iylJQl",
    "outputId": "efe6eddd-8fae-4ad3-d8b9-c34c3444a015"
   },
   "outputs": [],
   "source": [
    "# Nb. Use low_memory=False to ensure that type inference does not fail due to buffered processing of input:\n",
    "data = pd.read_csv('./data/housing-data.csv', low_memory = False)\n",
    "data.head()"
   ]
  },
  {
   "cell_type": "markdown",
   "metadata": {
    "colab_type": "text",
    "id": "3fD3CvPRlJQo"
   },
   "source": [
    "We can move data in the opposite direction -- from a DataFrame to a database -- using the `to_sql` command, similar to the `to_csv` command.\n",
    "\n",
    "`to_sql` takes as arguments:\n",
    "    - `name`, the table name to create\n",
    "    - `con`, a connection to a database\n",
    "    - `index`, whether to input the index column\n",
    "    - `schema`, if we want to write a custom schema for the new table\n",
    "    - `if_exists`, what to do if the table already exists. We can overwrite it, add to it, or fail"
   ]
  },
  {
   "cell_type": "markdown",
   "metadata": {
    "colab_type": "text",
    "id": "Q2W5ZbrHlJQo"
   },
   "source": [
    "This copies our `data` DataFrame to a sqlite3 table called `houses_pandas`:"
   ]
  },
  {
   "cell_type": "code",
   "execution_count": null,
   "metadata": {
    "ExecuteTime": {
     "end_time": "2019-03-27T06:53:39.733057Z",
     "start_time": "2019-03-27T06:53:39.650Z"
    },
    "colab": {},
    "colab_type": "code",
    "id": "BoyMHydFlJQp"
   },
   "outputs": [],
   "source": [
    "data.to_sql('houses_pandas', con = conn, if_exists = 'replace', index = False)"
   ]
  },
  {
   "cell_type": "markdown",
   "metadata": {
    "colab_type": "text",
    "id": "WqPJA5l_lJQr"
   },
   "source": [
    "Run a query to get the average price of each house size from this table:"
   ]
  },
  {
   "cell_type": "code",
   "execution_count": null,
   "metadata": {
    "ExecuteTime": {
     "end_time": "2019-03-27T06:53:39.735052Z",
     "start_time": "2019-03-27T06:53:39.655Z"
    },
    "colab": {},
    "colab_type": "code",
    "id": "w5Uf5INrlJQr",
    "outputId": "e9adb2a3-07d6-4603-dfe5-4406020f11d4"
   },
   "outputs": [],
   "source": [
    "#ANSWER\n",
    "c.execute('SELECT bdrms, AVG(price) FROM houses_pandas GROUP BY bdrms').fetchall()"
   ]
  },
  {
   "cell_type": "markdown",
   "metadata": {
    "colab_type": "text",
    "id": "CJtvJ5EylJQu"
   },
   "source": [
    "## Discussion\n",
    "\n",
    "**Scenarios for using Pandas with SQLite**\n",
    "\n",
    "1. When would you want to use Pandas on a dataset before storing it in a database?\n",
    "\n",
    "2. When would you want to use Pandas on a dataset retrieved from a database?"
   ]
  },
  {
   "cell_type": "markdown",
   "metadata": {
    "colab_type": "text",
    "id": "YZ7J3ZyUlJQu"
   },
   "source": [
    "<a name=\"guided-practice\"></a>\n",
    "\n",
    "\n",
    "# Reference: SQL Syntax \n",
    "\n",
    "\n",
    "#### SELECT Statement\n",
    "Every query should start with `SELECT`.  `SELECT` is followed by the names of the columns in the output.\n",
    "\n",
    "`SELECT` is always paired with `FROM`, and `FROM` identifies the table to retrieve data from.\n",
    "\n",
    "```sql\n",
    "SELECT\n",
    "<columns>\n",
    "FROM\n",
    "<table>\n",
    "```\n",
    "\n",
    "`SELECT *` denotes returns *all* of the columns.\n",
    "\n",
    "Housing Data example:\n",
    "```sql\n",
    "SELECT\n",
    "sqft, bdrms\n",
    "FROM houses_pandas;\n",
    "```\n",
    "\n",
    "**Check:** Write a query that returns the `sqft`, `bdrms` and `price`.\n",
    "\n",
    "```sql\n",
    "SELECT\n",
    "sqft, bdrms, price\n",
    "FROM houses_pandas;\n",
    "```\n",
    "\n",
    "#### WHERE Clause\n",
    "`WHERE` is used to filter table to a specific criteria and follows the `FROM` clause.\n",
    "\n",
    "```sql\n",
    "SELECT\n",
    "<columns>\n",
    "FROM\n",
    "<table>\n",
    "WHERE\n",
    "<condition>\n",
    "```\n",
    "Example:\n",
    "```sql\n",
    "SELECT\n",
    "sqft, bdrms, age, price\n",
    "FROM houses_pandas\n",
    "WHERE bdrms = 2 and price < 250000;\n",
    "```\n",
    "\n",
    "The condition is effectively a row filter; rows that match the condition will be included in the rowset that is returned by the query.\n",
    "\n",
    "**Check:** Write a query that returns the `sqft`, `bdrms`, `age` for houses older than 60 years.\n",
    ">```sql\n",
    "SELECT\n",
    "sqft, bdrms, age\n",
    "FROM houses_pandas\n",
    "WHERE age > 60;\n",
    "```"
   ]
  },
  {
   "cell_type": "markdown",
   "metadata": {
    "colab_type": "text",
    "id": "u5hFKdhQlJQu"
   },
   "source": [
    "### AGGREGATIONS\n",
    "\n",
    "Aggregations (or aggregate functions) are functions where the values of multiple rows are grouped together as input on certain criteria to form a single value of more significant meaning or measurement such as a set, a bag or a list.\n",
    "\n",
    "Examples of aggregate funtions:\n",
    "\n",
    "- Average (i.e., arithmetic mean)\n",
    "- Count\n",
    "- Maximum\n",
    "- Minimum\n",
    "- Median\n",
    "- Mode\n",
    "- Sum\n",
    "\n",
    "In SQL they are performed in a `SELECT` statement as follows.\n",
    "\n",
    "```sql\n",
    "SELECT COUNT(price)\n",
    "FROM houses_pandas;\n",
    "```\n",
    "\n",
    "```sql\n",
    "SELECT AVG(sqft), MIN(price), MAX(price)\n",
    "FROM houses_pandas\n",
    "WHERE bdrms = 2;\n",
    "```"
   ]
  },
  {
   "cell_type": "markdown",
   "metadata": {},
   "source": [
    "### Read Order Data\n",
    "- P12-ListOfOrders\n",
    "- P12-OrderBreakdown"
   ]
  },
  {
   "cell_type": "markdown",
   "metadata": {},
   "source": [
    "#### 1. Read CSV into DataFrame"
   ]
  },
  {
   "cell_type": "code",
   "execution_count": null,
   "metadata": {
    "ExecuteTime": {
     "end_time": "2019-03-27T06:53:39.737047Z",
     "start_time": "2019-03-27T06:53:39.662Z"
    }
   },
   "outputs": [],
   "source": [
    "import pandas as pd\n",
    "import sqlite3\n",
    "from pandas.io import sql"
   ]
  },
  {
   "cell_type": "code",
   "execution_count": null,
   "metadata": {
    "ExecuteTime": {
     "end_time": "2019-03-27T06:53:39.739054Z",
     "start_time": "2019-03-27T06:53:39.665Z"
    }
   },
   "outputs": [],
   "source": [
    "# Reading CSV to Dataframe\n",
    "orders = pd.read_csv('./data/P12-ListOfOrders.csv', encoding = 'utf-8')\n",
    "orders_break_down =  pd.read_csv('./data/P12-OrderBreakdown.csv', encoding = 'utf-8')"
   ]
  },
  {
   "cell_type": "code",
   "execution_count": null,
   "metadata": {
    "ExecuteTime": {
     "end_time": "2019-03-27T06:53:39.741036Z",
     "start_time": "2019-03-27T06:53:39.673Z"
    }
   },
   "outputs": [],
   "source": [
    "orders.head()"
   ]
  },
  {
   "cell_type": "code",
   "execution_count": null,
   "metadata": {
    "ExecuteTime": {
     "end_time": "2019-03-27T06:53:39.743031Z",
     "start_time": "2019-03-27T06:53:39.677Z"
    }
   },
   "outputs": [],
   "source": [
    "orders_break_down.head()"
   ]
  },
  {
   "cell_type": "markdown",
   "metadata": {},
   "source": [
    "#### 2. Replace Space with Underscore in Column Names"
   ]
  },
  {
   "cell_type": "code",
   "execution_count": null,
   "metadata": {
    "ExecuteTime": {
     "end_time": "2019-03-27T06:53:39.744028Z",
     "start_time": "2019-03-27T06:53:39.687Z"
    }
   },
   "outputs": [],
   "source": [
    "orders.columns = [o.replace(' ', '_') for o in orders.columns.str.lower()]"
   ]
  },
  {
   "cell_type": "code",
   "execution_count": null,
   "metadata": {
    "ExecuteTime": {
     "end_time": "2019-03-27T06:53:39.746022Z",
     "start_time": "2019-03-27T06:53:39.694Z"
    }
   },
   "outputs": [],
   "source": [
    "orders_break_down.columns = [o.replace(' ', '_') for o in orders_break_down.columns.str.lower()]"
   ]
  },
  {
   "cell_type": "markdown",
   "metadata": {},
   "source": [
    "#### 3. Check DataTypes "
   ]
  },
  {
   "cell_type": "code",
   "execution_count": null,
   "metadata": {
    "ExecuteTime": {
     "end_time": "2019-03-27T06:53:39.747020Z",
     "start_time": "2019-03-27T06:53:39.698Z"
    }
   },
   "outputs": [],
   "source": [
    "orders.dtypes"
   ]
  },
  {
   "cell_type": "code",
   "execution_count": null,
   "metadata": {
    "ExecuteTime": {
     "end_time": "2019-03-27T06:53:39.749015Z",
     "start_time": "2019-03-27T06:53:39.701Z"
    }
   },
   "outputs": [],
   "source": [
    "orders_break_down.dtypes"
   ]
  },
  {
   "cell_type": "markdown",
   "metadata": {},
   "source": [
    "#### 4. Save these two dataframes as a table in sqlite"
   ]
  },
  {
   "cell_type": "code",
   "execution_count": null,
   "metadata": {
    "ExecuteTime": {
     "end_time": "2019-03-27T06:53:39.750011Z",
     "start_time": "2019-03-27T06:53:39.704Z"
    }
   },
   "outputs": [],
   "source": [
    "# Establishing Local DB connection\n",
    "db_connection = sqlite3.connect('./data/eshop.db.sqlite')\n",
    "\n",
    "## Reading out DataFrames as SQL Table\n",
    "orders.to_sql(name = 'orders', con = db_connection, if_exists = 'replace', index = False)\n",
    "orders_break_down.to_sql(name = 'orders_break_down', con = db_connection, if_exists = 'replace', index = False)"
   ]
  },
  {
   "cell_type": "markdown",
   "metadata": {},
   "source": [
    "#### 5. Select Number of Orders for Each Customer"
   ]
  },
  {
   "cell_type": "code",
   "execution_count": null,
   "metadata": {
    "ExecuteTime": {
     "end_time": "2019-03-27T06:53:39.753004Z",
     "start_time": "2019-03-27T06:53:39.708Z"
    }
   },
   "outputs": [],
   "source": [
    "# Select Number of Orders for Each Customer\n",
    "\n",
    "sql_string = '''\n",
    "    SELECT \n",
    "        customer_name, \n",
    "        COUNT(DISTINCT orders.order_id) AS Count \n",
    "    FROM orders \n",
    "    JOIN orders_break_down ON orders_break_down.order_id = orders.order_id\n",
    "    GROUP BY customer_name ORDER BY Count DESC\n",
    "'''\n",
    "\n",
    "customers = sql.read_sql(sql_string, con = db_connection)\n",
    "\n",
    "customers.head()"
   ]
  },
  {
   "cell_type": "markdown",
   "metadata": {},
   "source": [
    "#### 6. Select Number of Customers for Each Country"
   ]
  },
  {
   "cell_type": "code",
   "execution_count": 12,
   "metadata": {
    "ExecuteTime": {
     "end_time": "2019-03-27T06:53:39.865702Z",
     "start_time": "2019-03-27T06:53:39.854731Z"
    }
   },
   "outputs": [
    {
     "ename": "NameError",
     "evalue": "name 'sql' is not defined",
     "output_type": "error",
     "traceback": [
      "\u001b[1;31m---------------------------------------------------------------------------\u001b[0m",
      "\u001b[1;31mNameError\u001b[0m                                 Traceback (most recent call last)",
      "\u001b[1;32m<ipython-input-12-b1e32031698b>\u001b[0m in \u001b[0;36m<module>\u001b[1;34m()\u001b[0m\n\u001b[0;32m     10\u001b[0m '''\n\u001b[0;32m     11\u001b[0m \u001b[1;33m\u001b[0m\u001b[0m\n\u001b[1;32m---> 12\u001b[1;33m \u001b[0mcustomers\u001b[0m \u001b[1;33m=\u001b[0m \u001b[0msql\u001b[0m\u001b[1;33m.\u001b[0m\u001b[0mread_sql\u001b[0m\u001b[1;33m(\u001b[0m\u001b[0msql_string\u001b[0m\u001b[1;33m,\u001b[0m \u001b[0mcon\u001b[0m \u001b[1;33m=\u001b[0m \u001b[0mdb_connection\u001b[0m\u001b[1;33m)\u001b[0m\u001b[1;33m\u001b[0m\u001b[0m\n\u001b[0m\u001b[0;32m     13\u001b[0m \u001b[0mcustomers\u001b[0m\u001b[1;33m.\u001b[0m\u001b[0mhead\u001b[0m\u001b[1;33m(\u001b[0m\u001b[1;33m)\u001b[0m\u001b[1;33m\u001b[0m\u001b[0m\n",
      "\u001b[1;31mNameError\u001b[0m: name 'sql' is not defined"
     ]
    }
   ],
   "source": [
    "# Select Number of Customers for Each Country\n",
    "\n",
    "sql_string = '''\n",
    "    SELECT \n",
    "        country, \n",
    "        COUNT(DISTINCT customer_name) AS Count \n",
    "    FROM orders \n",
    "    GROUP BY country \n",
    "    ORDER BY Count DESC\n",
    "'''\n",
    "\n",
    "customers = sql.read_sql(sql_string, con = db_connection)\n",
    "customers.head()"
   ]
  },
  {
   "cell_type": "markdown",
   "metadata": {},
   "source": [
    "#### 7.A Select discount, sales, quantity for Each Order from orders_break_down Table"
   ]
  },
  {
   "cell_type": "code",
   "execution_count": null,
   "metadata": {
    "ExecuteTime": {
     "end_time": "2019-03-27T06:53:39.868694Z",
     "start_time": "2019-03-27T06:53:39.718Z"
    }
   },
   "outputs": [],
   "source": [
    "# Select discount, sales, quantity for Each Order from orders_break_down Table\n",
    "\n",
    "sql_string = '''\n",
    "    SELECT \n",
    "        discount\n",
    "        , sales\n",
    "        , quantity \n",
    "    FROM orders_break_down\n",
    "'''\n",
    "\n",
    "customers = sql.read_sql(sql_string, con = db_connection)\n",
    "customers.head()"
   ]
  },
  {
   "cell_type": "markdown",
   "metadata": {},
   "source": [
    "#### 7.B Select discount, sales, quantity, total price for Each Order from orders_break_down Table\n",
    "\n",
    "> Total Price = sales * quantity - discount"
   ]
  },
  {
   "cell_type": "code",
   "execution_count": null,
   "metadata": {
    "ExecuteTime": {
     "end_time": "2019-03-27T06:53:39.870689Z",
     "start_time": "2019-03-27T06:53:39.723Z"
    }
   },
   "outputs": [],
   "source": [
    "# Select discount, sales, quantity, total price for Each Order from orders_break_down Table\n",
    "\n",
    "sql_string = '''\n",
    "    SELECT \n",
    "        discount\n",
    "        , sales\n",
    "        , quantity\n",
    "        , (sales * quantity - discount) AS total_price \n",
    "    FROM orders_break_down\n",
    "    ORDER BY total_price DESC\n",
    "'''\n",
    "\n",
    "customers = sql.read_sql(sql_string, con = db_connection)\n",
    "customers.head()"
   ]
  },
  {
   "cell_type": "markdown",
   "metadata": {
    "ExecuteTime": {
     "end_time": "2019-03-21T03:42:08.012935Z",
     "start_time": "2019-03-21T03:42:08.008947Z"
    }
   },
   "source": [
    "#### 7.C Select All Orders from orders_break_down Table Where Total Price Greater Than 100"
   ]
  },
  {
   "cell_type": "code",
   "execution_count": null,
   "metadata": {
    "ExecuteTime": {
     "end_time": "2019-03-27T06:53:39.872685Z",
     "start_time": "2019-03-27T06:53:39.728Z"
    }
   },
   "outputs": [],
   "source": [
    "# Select All Orders from orders_break_down Table Where Total Price Greater Than 100\n",
    "\n",
    "sql_string = '''\n",
    "    SELECT \n",
    "        *\n",
    "        , (sales * quantity - discount) AS total_price\n",
    "    FROM orders_break_down \n",
    "    WHERE sales * quantity - discount > 100\n",
    "    ORDER BY total_price ASC\n",
    "\n",
    "'''\n",
    "\n",
    "customers = sql.read_sql(sql_string, con = db_connection)\n",
    "customers.head()"
   ]
  },
  {
   "cell_type": "markdown",
   "metadata": {},
   "source": [
    "#### 8. Select All Customer And The Product They Have Bought"
   ]
  },
  {
   "cell_type": "code",
   "execution_count": null,
   "metadata": {
    "ExecuteTime": {
     "end_time": "2019-03-27T06:53:39.874678Z",
     "start_time": "2019-03-27T06:53:39.732Z"
    }
   },
   "outputs": [],
   "source": [
    "# Select All Customer And The Product They Have Bought\n",
    "\n",
    "sql_string = '''\n",
    "    SELECT \n",
    "        orders.order_id\n",
    "        , orders.customer_name\n",
    "        , orders_break_down.product_name\n",
    "    FROM orders\n",
    "    JOIN orders_break_down ON orders.order_id = orders_break_down.order_id\n",
    "''' \n",
    "customers = sql.read_sql(sql_string, con = db_connection)\n",
    "customers.head()"
   ]
  },
  {
   "cell_type": "markdown",
   "metadata": {
    "ExecuteTime": {
     "end_time": "2019-03-21T03:50:32.122897Z",
     "start_time": "2019-03-21T03:50:32.116914Z"
    }
   },
   "source": [
    "#### 9.A Select Number of 'Furniture' Orders For Each Country "
   ]
  },
  {
   "cell_type": "code",
   "execution_count": null,
   "metadata": {
    "ExecuteTime": {
     "end_time": "2019-03-27T06:53:39.875676Z",
     "start_time": "2019-03-27T06:53:39.738Z"
    }
   },
   "outputs": [],
   "source": [
    "# Select Number of 'Furniture' Orders For Each Country\n",
    "\n",
    "sql_string = '''\n",
    "    SELECT \n",
    "        orders.country\n",
    "        , COUNT(orders_break_down.category) AS Count           \n",
    "    FROM orders\n",
    "    JOIN orders_break_down\n",
    "    ON orders.order_id = orders_break_down.order_id\n",
    "    WHERE orders_break_down.category = 'Furniture'\n",
    "    GROUP BY orders.country\n",
    "'''\n",
    "\n",
    "order_list = sql.read_sql(sql_string, con = db_connection)\n",
    "\n",
    "order_list.head()"
   ]
  },
  {
   "cell_type": "markdown",
   "metadata": {},
   "source": [
    "#### 9.B Select Number of 'Furniture' Orders For The Country Denmark"
   ]
  },
  {
   "cell_type": "code",
   "execution_count": null,
   "metadata": {
    "ExecuteTime": {
     "end_time": "2019-03-27T06:53:39.877670Z",
     "start_time": "2019-03-27T06:53:39.743Z"
    }
   },
   "outputs": [],
   "source": [
    "# Select Number of 'Furniture' Orders For The Country Denmark\n",
    "\n",
    "sql_string = '''\n",
    "    SELECT \n",
    "        *       \n",
    "    FROM orders\n",
    "    JOIN orders_break_down\n",
    "    ON orders.order_id = orders_break_down.order_id\n",
    "    WHERE orders_break_down.category = 'Furniture'\n",
    "        AND orders.country = 'Denmark'\n",
    "'''\n",
    "\n",
    "order_list = sql.read_sql(sql_string, con = db_connection)\n",
    "\n",
    "order_list.head()"
   ]
  },
  {
   "cell_type": "markdown",
   "metadata": {},
   "source": [
    "#### 10. Select Total Sales With Discount and Without Discount for Each Country"
   ]
  },
  {
   "cell_type": "code",
   "execution_count": null,
   "metadata": {
    "ExecuteTime": {
     "end_time": "2019-03-27T06:53:39.878667Z",
     "start_time": "2019-03-27T06:53:39.747Z"
    }
   },
   "outputs": [],
   "source": [
    "# Select Total Sales With Discount and Without Discount for Each Country\n",
    "\n",
    "sql_string = '''\n",
    "    SELECT\n",
    "        orders.country\n",
    "        , SUM(CASE WHEN discount == 0 THEN sales ELSE 0 END) AS discount_sales\n",
    "        , SUM(CASE WHEN discount > 0 THEN sales ELSE 0 END) AS non_discount_sales       \n",
    "    FROM orders\n",
    "    JOIN orders_break_down ON orders.order_id = orders_break_down.order_id\n",
    "    GROUP BY orders.country\n",
    "'''\n",
    "\n",
    "order_list = sql.read_sql(sql_string, con = db_connection)\n",
    "\n",
    "order_list.head()"
   ]
  },
  {
   "cell_type": "markdown",
   "metadata": {},
   "source": [
    "#### 11.A Select Total Quantity, Total Sales for Each Country"
   ]
  },
  {
   "cell_type": "code",
   "execution_count": null,
   "metadata": {
    "ExecuteTime": {
     "end_time": "2019-03-27T06:53:39.880662Z",
     "start_time": "2019-03-27T06:53:39.754Z"
    }
   },
   "outputs": [],
   "source": [
    "# Select Total Quantity, Total Sales for Each Country\n",
    "\n",
    "sql_string = '''\n",
    "    SELECT\n",
    "        orders.country\n",
    "        , SUM(sales) AS total_sales\n",
    "        , SUM(quantity) AS total_quantity       \n",
    "    FROM orders\n",
    "    JOIN orders_break_down ON orders.order_id = orders_break_down.order_id\n",
    "    GROUP BY orders.country\n",
    "'''\n",
    "\n",
    "order_list = sql.read_sql(sql_string, con = db_connection)\n",
    "\n",
    "order_list.head()"
   ]
  },
  {
   "cell_type": "markdown",
   "metadata": {
    "ExecuteTime": {
     "end_time": "2019-03-21T04:09:40.290543Z",
     "start_time": "2019-03-21T04:09:40.284556Z"
    }
   },
   "source": [
    "#### 11.B Select Top 3 Country Based on Sales"
   ]
  },
  {
   "cell_type": "code",
   "execution_count": null,
   "metadata": {
    "ExecuteTime": {
     "end_time": "2019-03-27T06:53:39.881660Z",
     "start_time": "2019-03-27T06:53:39.762Z"
    }
   },
   "outputs": [],
   "source": [
    "# Select Top 3 Country Based on Sales\n",
    "\n",
    "sql_string = '''\n",
    "    SELECT\n",
    "        orders.country\n",
    "        , SUM(sales) AS total_sales\n",
    "        , SUM(quantity) AS total_quantity       \n",
    "    FROM orders\n",
    "    JOIN orders_break_down ON orders.order_id = orders_break_down.order_id\n",
    "    GROUP BY orders.country\n",
    "    ORDER BY total_sales DESC LIMIT 3\n",
    "'''\n",
    "\n",
    "order_list = sql.read_sql(sql_string, con = db_connection)\n",
    "\n",
    "order_list.head()"
   ]
  },
  {
   "cell_type": "code",
   "execution_count": null,
   "metadata": {
    "ExecuteTime": {
     "end_time": "2019-03-27T06:53:39.882657Z",
     "start_time": "2019-03-27T06:53:39.765Z"
    }
   },
   "outputs": [],
   "source": [
    "order_list.sort_values(by='total_sales', ascending=False).head(3)"
   ]
  },
  {
   "cell_type": "markdown",
   "metadata": {},
   "source": [
    "#### 11.C Select Bottom 3 Country Based On Quantities"
   ]
  },
  {
   "cell_type": "code",
   "execution_count": null,
   "metadata": {
    "ExecuteTime": {
     "end_time": "2019-03-27T06:53:39.883654Z",
     "start_time": "2019-03-27T06:53:39.773Z"
    }
   },
   "outputs": [],
   "source": [
    "# Select Bottom 3 Country Based On Quantities\n",
    "\n",
    "sql_string = '''\n",
    "    SELECT\n",
    "        orders.country\n",
    "        , SUM(sales) AS total_sales\n",
    "        , SUM(quantity) AS total_quantity       \n",
    "    FROM orders\n",
    "    JOIN orders_break_down ON orders.order_id = orders_break_down.order_id\n",
    "    GROUP BY orders.country\n",
    "    ORDER BY total_quantity ASC LIMIT 3\n",
    "'''\n",
    "\n",
    "order_list = sql.read_sql(sql_string, con = db_connection)\n",
    "\n",
    "order_list.head()"
   ]
  },
  {
   "cell_type": "code",
   "execution_count": null,
   "metadata": {
    "ExecuteTime": {
     "end_time": "2019-03-27T06:53:39.885659Z",
     "start_time": "2019-03-27T06:53:39.778Z"
    }
   },
   "outputs": [],
   "source": [
    "order_list.sort_values(by='total_quantity', ascending=True).head(3)"
   ]
  },
  {
   "cell_type": "markdown",
   "metadata": {
    "ExecuteTime": {
     "end_time": "2019-03-21T04:15:46.751912Z",
     "start_time": "2019-03-21T04:15:46.745926Z"
    }
   },
   "source": [
    "#### 12. Select Average Sales By Categroy For The Country 'France'"
   ]
  },
  {
   "cell_type": "code",
   "execution_count": null,
   "metadata": {
    "ExecuteTime": {
     "end_time": "2019-03-27T06:53:39.886646Z",
     "start_time": "2019-03-27T06:53:39.782Z"
    }
   },
   "outputs": [],
   "source": [
    "# Select Average Sales By Categroy For The Country 'France'\n",
    "\n",
    "sql_string = '''\n",
    "    SELECT\n",
    "        orders.country\n",
    "        , orders_break_down.category\n",
    "        , AVG(sales) AS avg_sales       \n",
    "    FROM orders\n",
    "    JOIN orders_break_down ON orders.order_id = orders_break_down.order_id\n",
    "    WHERE orders.country = 'France'\n",
    "    GROUP BY orders.country, orders_break_down.category\n",
    "    ORDER BY avg_sales DESC\n",
    "'''\n",
    "\n",
    "order_list = sql.read_sql(sql_string, con = db_connection)\n",
    "\n",
    "order_list.head(100)"
   ]
  },
  {
   "cell_type": "markdown",
   "metadata": {},
   "source": [
    "#### 13. Select Country, Category and Total Sales Where Average Total Sales is The Highest"
   ]
  },
  {
   "cell_type": "code",
   "execution_count": null,
   "metadata": {
    "ExecuteTime": {
     "end_time": "2019-03-27T06:53:39.888640Z",
     "start_time": "2019-03-27T06:53:39.786Z"
    }
   },
   "outputs": [],
   "source": [
    "# Select Country, Category and Total Sales Where Average Total Sales is The Highest\n",
    "\n",
    "sql_string = '''\n",
    "    SELECT\n",
    "        orders.country\n",
    "        , orders_break_down.category\n",
    "        , AVG(sales) AS total_sales       \n",
    "    FROM orders\n",
    "    JOIN orders_break_down ON orders.order_id = orders_break_down.order_id\n",
    "    GROUP BY orders.country, orders_break_down.category\n",
    "    ORDER BY total_sales DESC LIMIT 1\n",
    "'''\n",
    "\n",
    "order_list = sql.read_sql(sql_string, con = db_connection)\n",
    "\n",
    "order_list.head()"
   ]
  },
  {
   "cell_type": "markdown",
   "metadata": {
    "colab_type": "text",
    "heading_collapsed": true,
    "id": "yNowUy0BlJQu"
   },
   "source": [
    "### JOINS\n",
    "\n",
    "Below is a link to a handy reference for SQL joins. In this chart joins are represented in terms of sets and venn diagrams. \n",
    "https://www.codeproject.com/Articles/33052/Visual-Representation-of-SQL-Joins\n",
    "\n",
    "Alternatively, remember the merge functionality of pandas.\n",
    "https://github.com/pandas-dev/pandas/blob/master/doc/cheatsheet/Pandas_Cheat_Sheet.pdf"
   ]
  },
  {
   "cell_type": "markdown",
   "metadata": {
    "colab_type": "text",
    "id": "Jp0fdXBelJQv"
   },
   "source": [
    "### ADDITIONAL RESOURCES\n",
    "\n",
    "- [sqlite3 home](http://www.sqlite.org)  \n",
    "- [sqlite3 Python documentation](https://docs.python.org/3/library/sqlite3.html)\n",
    "- [SQLite Python tutorial](http://sebastianraschka.com/Articles/2014_sqlite_in_python_tutorial.html)  \n",
    "- [SQL zoo](http://www.sqlzoo.net)  Great for learning syntax"
   ]
  },
  {
   "cell_type": "markdown",
   "metadata": {
    "colab_type": "text",
    "id": "UjQQ05Y2xBY0"
   },
   "source": [
    "\n",
    "\n",
    "\n",
    "\n",
    "> \n",
    "> \n",
    ">\n",
    ">\n",
    ">\n",
    ">\n",
    ">\n",
    "\n",
    "> \n",
    "\n",
    "\n",
    "> \n",
    "\n",
    "\n",
    "\n",
    "> \n",
    "\n",
    "\n",
    "\n",
    "\n",
    "\n",
    "\n",
    "\n",
    "\n",
    "\n",
    "\n"
   ]
  },
  {
   "cell_type": "markdown",
   "metadata": {
    "colab_type": "text",
    "id": "HE0GzefDyArt"
   },
   "source": [
    ">"
   ]
  },
  {
   "cell_type": "markdown",
   "metadata": {
    "colab_type": "text",
    "id": "9hdMa3Vnx6Aj"
   },
   "source": [
    ">\n",
    ">\n",
    ">\n"
   ]
  },
  {
   "cell_type": "markdown",
   "metadata": {
    "colab_type": "text",
    "id": "H6EyH-b4wGV5"
   },
   "source": [
    "\n",
    "> >>>>>\n",
    "\n",
    "\n",
    "---\n",
    "\n",
    "\n",
    "\n",
    "---\n",
    "\n",
    "\n",
    ">>>>>> > > © 2019 Data Science Institute of Australia\n",
    "\n",
    "\n",
    "---\n",
    "\n",
    "\n",
    "\n",
    "---\n",
    "\n",
    "\n",
    "\n",
    "\n",
    "\n",
    "\n",
    "\n"
   ]
  },
  {
   "cell_type": "code",
   "execution_count": null,
   "metadata": {},
   "outputs": [],
   "source": []
  }
 ],
 "metadata": {
  "colab": {
   "collapsed_sections": [],
   "include_colab_link": true,
   "name": "DSIA Lab 2.1.3 .ipynb",
   "provenance": [],
   "version": "0.3.2"
  },
  "kernelspec": {
   "display_name": "Python 3",
   "language": "python",
   "name": "python3"
  },
  "language_info": {
   "codemirror_mode": {
    "name": "ipython",
    "version": 3
   },
   "file_extension": ".py",
   "mimetype": "text/x-python",
   "name": "python",
   "nbconvert_exporter": "python",
   "pygments_lexer": "ipython3",
   "version": "3.6.4"
  },
  "varInspector": {
   "cols": {
    "lenName": 16,
    "lenType": 16,
    "lenVar": 40
   },
   "kernels_config": {
    "python": {
     "delete_cmd_postfix": "",
     "delete_cmd_prefix": "del ",
     "library": "var_list.py",
     "varRefreshCmd": "print(var_dic_list())"
    },
    "r": {
     "delete_cmd_postfix": ") ",
     "delete_cmd_prefix": "rm(",
     "library": "var_list.r",
     "varRefreshCmd": "cat(var_dic_list()) "
    }
   },
   "types_to_exclude": [
    "module",
    "function",
    "builtin_function_or_method",
    "instance",
    "_Feature"
   ],
   "window_display": false
  }
 },
 "nbformat": 4,
 "nbformat_minor": 1
}
