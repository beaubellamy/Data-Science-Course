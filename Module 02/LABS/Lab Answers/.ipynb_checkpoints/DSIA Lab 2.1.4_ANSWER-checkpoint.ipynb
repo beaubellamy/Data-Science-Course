{
 "cells": [
  {
   "cell_type": "markdown",
   "metadata": {
    "colab_type": "text",
    "id": "view-in-github"
   },
   "source": [
    "<a href=\"https://colab.research.google.com/github/ikfaisal/dsia/blob/master/DSIA_Lab_2_1_4_ANSWER.ipynb\" target=\"_parent\"><img src=\"https://colab.research.google.com/assets/colab-badge.svg\" alt=\"Open In Colab\"/></a>"
   ]
  },
  {
   "cell_type": "markdown",
   "metadata": {
    "colab_type": "text",
    "id": "9O1EmeWAOlqO"
   },
   "source": [
    "![alt text](https://i.imgur.com/1WaY7aA.png)\n",
    "---\n",
    "\n",
    "\n",
    "\n",
    "---\n",
    "\n"
   ]
  },
  {
   "cell_type": "markdown",
   "metadata": {
    "colab_type": "text",
    "id": "o1H-RqvcOlqS"
   },
   "source": [
    "# Lab 2.1.4 \n",
    "# *Python with MongoDB*"
   ]
  },
  {
   "cell_type": "markdown",
   "metadata": {
    "colab_type": "text",
    "id": "8l7xykqsOlqV"
   },
   "source": [
    "## Introduction to PyMongo"
   ]
  },
  {
   "cell_type": "code",
   "execution_count": 2,
   "metadata": {
    "ExecuteTime": {
     "end_time": "2019-03-24T22:14:26.304591Z",
     "start_time": "2019-03-24T22:14:12.872111Z"
    }
   },
   "outputs": [
    {
     "name": "stdout",
     "output_type": "stream",
     "text": [
      "Collecting pymongo\n",
      "  Downloading https://files.pythonhosted.org/packages/d8/25/44b0fc81668a883739b108d9bd0c95b24f0b0204cb2dc93e0f259e173670/pymongo-3.7.2-cp36-cp36m-win_amd64.whl (315kB)\n",
      "Installing collected packages: pymongo\n",
      "Successfully installed pymongo-3.7.2\n"
     ]
    },
    {
     "name": "stderr",
     "output_type": "stream",
     "text": [
      "You are using pip version 19.0.1, however version 19.0.3 is available.\n",
      "You should consider upgrading via the 'python -m pip install --upgrade pip' command.\n"
     ]
    }
   ],
   "source": [
    "!pip install pymongo"
   ]
  },
  {
   "cell_type": "code",
   "execution_count": 1,
   "metadata": {
    "ExecuteTime": {
     "end_time": "2019-07-16T05:52:55.471433Z",
     "start_time": "2019-07-16T05:52:55.276953Z"
    },
    "colab": {
     "base_uri": "https://localhost:8080/",
     "height": 34
    },
    "colab_type": "code",
    "id": "I_If5AavOlqX",
    "outputId": "86737ed4-7a8e-40e0-d2a3-dec89be019cc"
   },
   "outputs": [
    {
     "name": "stdout",
     "output_type": "stream",
     "text": [
      "Mongo version 3.7.2\n"
     ]
    }
   ],
   "source": [
    "from IPython.core.display import display, HTML\n",
    "import pymongo\n",
    "from pymongo import MongoClient\n",
    "print ('Mongo version ' + pymongo.__version__)"
   ]
  },
  {
   "cell_type": "markdown",
   "metadata": {
    "colab_type": "text",
    "id": "ciUSqjd2Olqf"
   },
   "source": [
    "Start the mongod server (if it isn't lready running) by executing  \n",
    "`mongod`  \n",
    "at the command prompt. "
   ]
  },
  {
   "cell_type": "code",
   "execution_count": 2,
   "metadata": {
    "ExecuteTime": {
     "end_time": "2019-07-16T05:52:57.649605Z",
     "start_time": "2019-07-16T05:52:57.601735Z"
    },
    "colab": {},
    "colab_type": "code",
    "id": "D_dhkUeMOlqh"
   },
   "outputs": [],
   "source": [
    "client = MongoClient('localhost', 27017)"
   ]
  },
  {
   "cell_type": "markdown",
   "metadata": {
    "colab_type": "text",
    "id": "reUPprSdOlql"
   },
   "source": [
    "What would this do?"
   ]
  },
  {
   "cell_type": "code",
   "execution_count": 3,
   "metadata": {
    "ExecuteTime": {
     "end_time": "2019-07-16T05:53:00.325448Z",
     "start_time": "2019-07-16T05:53:00.309492Z"
    },
    "colab": {},
    "colab_type": "code",
    "id": "FGkSsnLAOlqn"
   },
   "outputs": [],
   "source": [
    "db = client.test\n",
    "collection = db.people\n",
    "collection.drop()"
   ]
  },
  {
   "cell_type": "markdown",
   "metadata": {
    "colab_type": "text",
    "id": "17KXJL_tOlqs"
   },
   "source": [
    "ANSWER: Drops collection \"people\" from database \"test\"."
   ]
  },
  {
   "cell_type": "markdown",
   "metadata": {
    "colab_type": "text",
    "id": "oV3jffX3Olqt"
   },
   "source": [
    "What would this do?"
   ]
  },
  {
   "cell_type": "code",
   "execution_count": 4,
   "metadata": {
    "ExecuteTime": {
     "end_time": "2019-07-16T05:53:03.415184Z",
     "start_time": "2019-07-16T05:53:03.396236Z"
    },
    "colab": {},
    "colab_type": "code",
    "id": "IUYRB8ZiOlqu"
   },
   "outputs": [
    {
     "data": {
      "text/plain": [
       "Collection(Database(MongoClient(host=['localhost:27017'], document_class=dict, tz_aware=False, connect=True), 'test'), 'drop')"
      ]
     },
     "execution_count": 4,
     "metadata": {},
     "output_type": "execute_result"
    }
   ],
   "source": [
    "client.test.drop"
   ]
  },
  {
   "cell_type": "markdown",
   "metadata": {
    "colab_type": "text",
    "id": "JIlj_kfZOlqy"
   },
   "source": [
    "ANSWER: Drops database \"test\"."
   ]
  },
  {
   "cell_type": "code",
   "execution_count": 5,
   "metadata": {
    "ExecuteTime": {
     "end_time": "2019-07-16T05:53:06.873933Z",
     "start_time": "2019-07-16T05:53:06.866951Z"
    },
    "colab": {},
    "colab_type": "code",
    "id": "WhR4qszuOlqz"
   },
   "outputs": [
    {
     "data": {
      "text/plain": [
       "Collection(Database(MongoClient(host=['localhost:27017'], document_class=dict, tz_aware=False, connect=True), 'mydatabase'), 'drop')"
      ]
     },
     "execution_count": 5,
     "metadata": {},
     "output_type": "execute_result"
    }
   ],
   "source": [
    "# Drop database \"mydatabase\" before creating it below: \n",
    "client.mydatabase.drop"
   ]
  },
  {
   "cell_type": "markdown",
   "metadata": {
    "colab_type": "text",
    "id": "sYBQLBZQOlq2"
   },
   "source": [
    "Create a new database:"
   ]
  },
  {
   "cell_type": "code",
   "execution_count": 6,
   "metadata": {
    "ExecuteTime": {
     "end_time": "2019-07-16T05:53:09.529829Z",
     "start_time": "2019-07-16T05:53:09.525838Z"
    },
    "colab": {},
    "colab_type": "code",
    "id": "VVHelaZ6Olq3"
   },
   "outputs": [],
   "source": [
    "mydb = client[\"mydatabase\"]"
   ]
  },
  {
   "cell_type": "markdown",
   "metadata": {
    "colab_type": "text",
    "id": "YIu0V2nDOlq6"
   },
   "source": [
    "Confirm that the database exists ... \n",
    "\n",
    "- list all databases in your system:"
   ]
  },
  {
   "cell_type": "code",
   "execution_count": 7,
   "metadata": {
    "ExecuteTime": {
     "end_time": "2019-07-16T05:53:12.083997Z",
     "start_time": "2019-07-16T05:53:12.078013Z"
    },
    "colab": {},
    "colab_type": "code",
    "id": "LnP7erJ0Olq7"
   },
   "outputs": [
    {
     "name": "stdout",
     "output_type": "stream",
     "text": [
      "['admin', 'config', 'local', 'mydatabase']\n"
     ]
    }
   ],
   "source": [
    "#ANSWER:\n",
    "print(client.list_database_names())"
   ]
  },
  {
   "cell_type": "markdown",
   "metadata": {
    "colab_type": "text",
    "id": "c1KdFy5BOlq9"
   },
   "source": [
    "- check for the database by name:"
   ]
  },
  {
   "cell_type": "code",
   "execution_count": 8,
   "metadata": {
    "ExecuteTime": {
     "end_time": "2019-07-16T05:53:15.146072Z",
     "start_time": "2019-07-16T05:53:15.139091Z"
    },
    "colab": {},
    "colab_type": "code",
    "id": "060gEhoYOlq9"
   },
   "outputs": [
    {
     "name": "stdout",
     "output_type": "stream",
     "text": [
      "The database exists.\n"
     ]
    }
   ],
   "source": [
    "#ANSWER:\n",
    "dblist = client.list_database_names()\n",
    "if \"mydatabase\" in dblist:\n",
    "  print(\"The database exists.\")"
   ]
  },
  {
   "cell_type": "markdown",
   "metadata": {
    "colab_type": "text",
    "id": "CLEmzhIDOlq_"
   },
   "source": [
    "If the new database was never created before, it will not be found because mongodb is lazy: the db won't get created until data has been written to it!"
   ]
  },
  {
   "cell_type": "markdown",
   "metadata": {
    "colab_type": "text",
    "id": "MrzBwpbsOlq_"
   },
   "source": [
    "Create a collection called \"customers\" (with object name `mycol`):"
   ]
  },
  {
   "cell_type": "code",
   "execution_count": 9,
   "metadata": {
    "ExecuteTime": {
     "end_time": "2019-07-16T05:53:18.294849Z",
     "start_time": "2019-07-16T05:53:18.289863Z"
    },
    "colab": {},
    "colab_type": "code",
    "id": "toIXLCsqOlrA"
   },
   "outputs": [],
   "source": [
    "#ANSWER:\n",
    "mycol = mydb[\"customers\"]"
   ]
  },
  {
   "cell_type": "markdown",
   "metadata": {
    "colab_type": "text",
    "id": "Q6QgICmtOlrB"
   },
   "source": [
    "Create a document (i.e. a dictionary) with two name:value items \n",
    "(\"name\" = \"John\", and \"address\" = \"Highway 37\") and insert \n",
    "it into the \"customers\" collection: "
   ]
  },
  {
   "cell_type": "code",
   "execution_count": 10,
   "metadata": {
    "ExecuteTime": {
     "end_time": "2019-07-16T05:53:20.847059Z",
     "start_time": "2019-07-16T05:53:20.829108Z"
    },
    "colab": {},
    "colab_type": "code",
    "id": "uGNSTI8tOlrC"
   },
   "outputs": [],
   "source": [
    "#ANSWER:\n",
    "mydict = { \"name\": \"John\", \"address\": \"Highway 37\" }\n",
    "x = mycol.insert_one(mydict)"
   ]
  },
  {
   "cell_type": "markdown",
   "metadata": {
    "colab_type": "text",
    "id": "HeB7910DOlrD"
   },
   "source": [
    "Now test for the existence of the database:"
   ]
  },
  {
   "cell_type": "code",
   "execution_count": 11,
   "metadata": {
    "ExecuteTime": {
     "end_time": "2019-07-16T05:53:24.304417Z",
     "start_time": "2019-07-16T05:53:24.298430Z"
    },
    "colab": {},
    "colab_type": "code",
    "id": "JuEccLJPOlrE"
   },
   "outputs": [
    {
     "name": "stdout",
     "output_type": "stream",
     "text": [
      "['admin', 'config', 'local', 'mydatabase']\n"
     ]
    }
   ],
   "source": [
    "print(client.list_database_names())"
   ]
  },
  {
   "cell_type": "markdown",
   "metadata": {
    "colab_type": "text",
    "id": "RWVxjEnfOlrF"
   },
   "source": [
    "List all collections in the database:"
   ]
  },
  {
   "cell_type": "code",
   "execution_count": 12,
   "metadata": {
    "ExecuteTime": {
     "end_time": "2019-07-16T05:53:26.894489Z",
     "start_time": "2019-07-16T05:53:26.887508Z"
    },
    "colab": {},
    "colab_type": "code",
    "id": "PpHoea4LOlrG"
   },
   "outputs": [
    {
     "name": "stdout",
     "output_type": "stream",
     "text": [
      "['customers']\n"
     ]
    }
   ],
   "source": [
    "#ANSWER:\n",
    "print(mydb.list_collection_names())"
   ]
  },
  {
   "cell_type": "markdown",
   "metadata": {
    "colab_type": "text",
    "id": "anXA8cdkOlrH"
   },
   "source": [
    "Insert another record in the \"customers\" collection \n",
    "(\"name\" = \"Peter\", \"address\" = \"Lowstreet 27\") \n",
    "and return the value of the _id field:"
   ]
  },
  {
   "cell_type": "code",
   "execution_count": 13,
   "metadata": {
    "ExecuteTime": {
     "end_time": "2019-07-16T05:53:29.135411Z",
     "start_time": "2019-07-16T05:53:29.126434Z"
    },
    "colab": {},
    "colab_type": "code",
    "id": "CCAKygpROlrI"
   },
   "outputs": [
    {
     "name": "stdout",
     "output_type": "stream",
     "text": [
      "5d2d66593ae893199c88e14c\n"
     ]
    }
   ],
   "source": [
    "#ANSWER:\n",
    "mydict = { \"name\": \"Peter\", \"address\": \"Lowstreet 27\" }\n",
    "x = mycol.insert_one(mydict)\n",
    "print(x.inserted_id)"
   ]
  },
  {
   "cell_type": "markdown",
   "metadata": {
    "colab_type": "text",
    "id": "DxuKvaRsOlrK"
   },
   "source": [
    "Given the list of dicts below, insert multiple documents into \n",
    "the collection using the insert_many() method:"
   ]
  },
  {
   "cell_type": "code",
   "execution_count": 14,
   "metadata": {
    "ExecuteTime": {
     "end_time": "2019-07-16T05:53:32.537900Z",
     "start_time": "2019-07-16T05:53:32.523934Z"
    },
    "colab": {},
    "colab_type": "code",
    "id": "VfO2SSz-OlrL"
   },
   "outputs": [],
   "source": [
    "mylist = [\n",
    "  { \"name\": \"Amy\", \"address\": \"Apple st 652\"},\n",
    "  { \"name\": \"Hannah\", \"address\": \"Mountain 21\"},\n",
    "  { \"name\": \"Michael\", \"address\": \"Valley 345\"},\n",
    "  { \"name\": \"Sandy\", \"address\": \"Ocean blvd 2\"},\n",
    "  { \"name\": \"Betty\", \"address\": \"Green Grass 1\"},\n",
    "  { \"name\": \"Richard\", \"address\": \"Sky st 331\"},\n",
    "  { \"name\": \"Susan\", \"address\": \"One way 98\"},\n",
    "  { \"name\": \"Vicky\", \"address\": \"Yellow Garden 2\"},\n",
    "  { \"name\": \"Ben\", \"address\": \"Park Lane 38\"},\n",
    "  { \"name\": \"William\", \"address\": \"Central st 954\"},\n",
    "  { \"name\": \"Chuck\", \"address\": \"Main Road 989\"},\n",
    "  { \"name\": \"Viola\", \"address\": \"Sideway 1633\"}\n",
    "]"
   ]
  },
  {
   "cell_type": "code",
   "execution_count": 15,
   "metadata": {
    "ExecuteTime": {
     "end_time": "2019-07-16T05:53:34.810627Z",
     "start_time": "2019-07-16T05:53:34.797655Z"
    },
    "colab": {},
    "colab_type": "code",
    "id": "-sZip5ccOlrN"
   },
   "outputs": [],
   "source": [
    "#ANSWER:\n",
    "x = mycol.insert_many(mylist)"
   ]
  },
  {
   "cell_type": "markdown",
   "metadata": {
    "colab_type": "text",
    "id": "aFrMRpT5OlrQ"
   },
   "source": [
    "Print a list of the _id values of the inserted documents:"
   ]
  },
  {
   "cell_type": "code",
   "execution_count": 16,
   "metadata": {
    "ExecuteTime": {
     "end_time": "2019-07-16T05:53:37.389306Z",
     "start_time": "2019-07-16T05:53:37.384320Z"
    },
    "colab": {},
    "colab_type": "code",
    "id": "DNEuVh8hOlrS"
   },
   "outputs": [
    {
     "name": "stdout",
     "output_type": "stream",
     "text": [
      "[ObjectId('5d2d665e3ae893199c88e14d'), ObjectId('5d2d665e3ae893199c88e14e'), ObjectId('5d2d665e3ae893199c88e14f'), ObjectId('5d2d665e3ae893199c88e150'), ObjectId('5d2d665e3ae893199c88e151'), ObjectId('5d2d665e3ae893199c88e152'), ObjectId('5d2d665e3ae893199c88e153'), ObjectId('5d2d665e3ae893199c88e154'), ObjectId('5d2d665e3ae893199c88e155'), ObjectId('5d2d665e3ae893199c88e156'), ObjectId('5d2d665e3ae893199c88e157'), ObjectId('5d2d665e3ae893199c88e158')]\n"
     ]
    }
   ],
   "source": [
    "#ANSWER:\n",
    "print(x.inserted_ids)"
   ]
  },
  {
   "cell_type": "markdown",
   "metadata": {
    "colab_type": "text",
    "id": "QYSb-6d2OlrU"
   },
   "source": [
    "Execute the next cell to insert a list of dicts with specified `_id`s:"
   ]
  },
  {
   "cell_type": "code",
   "execution_count": 17,
   "metadata": {
    "ExecuteTime": {
     "end_time": "2019-07-16T05:53:40.562378Z",
     "start_time": "2019-07-16T05:53:40.528469Z"
    },
    "colab": {},
    "colab_type": "code",
    "id": "-eoQJLq_OlrV"
   },
   "outputs": [
    {
     "name": "stdout",
     "output_type": "stream",
     "text": [
      "[1, 2, 3, 4, 5, 6, 7, 8, 9, 10, 11, 12, 13, 14]\n"
     ]
    }
   ],
   "source": [
    "mylist = [\n",
    "  { \"_id\": 1, \"name\": \"John\", \"address\": \"Highway 37\"},\n",
    "  { \"_id\": 2, \"name\": \"Peter\", \"address\": \"Lowstreet 27\"},\n",
    "  { \"_id\": 3, \"name\": \"Amy\", \"address\": \"Apple st 652\"},\n",
    "  { \"_id\": 4, \"name\": \"Hannah\", \"address\": \"Mountain 21\"},\n",
    "  { \"_id\": 5, \"name\": \"Michael\", \"address\": \"Valley 345\"},\n",
    "  { \"_id\": 6, \"name\": \"Sandy\", \"address\": \"Ocean blvd 2\"},\n",
    "  { \"_id\": 7, \"name\": \"Betty\", \"address\": \"Green Grass 1\"},\n",
    "  { \"_id\": 8, \"name\": \"Richard\", \"address\": \"Sky st 331\"},\n",
    "  { \"_id\": 9, \"name\": \"Susan\", \"address\": \"One way 98\"},\n",
    "  { \"_id\": 10, \"name\": \"Vicky\", \"address\": \"Yellow Garden 2\"},\n",
    "  { \"_id\": 11, \"name\": \"Ben\", \"address\": \"Park Lane 38\"},\n",
    "  { \"_id\": 12, \"name\": \"William\", \"address\": \"Central st 954\"},\n",
    "  { \"_id\": 13, \"name\": \"Chuck\", \"address\": \"Main Road 989\"},\n",
    "  { \"_id\": 14, \"name\": \"Viola\", \"address\": \"Sideway 1633\"}\n",
    "]\n",
    "x = mycol.insert_many(mylist)\n",
    "print(x.inserted_ids)"
   ]
  },
  {
   "cell_type": "markdown",
   "metadata": {
    "colab_type": "text",
    "id": "TVbH8chqOlrX"
   },
   "source": [
    "Now try inserting a new dict with an existing `_id`:"
   ]
  },
  {
   "cell_type": "code",
   "execution_count": 18,
   "metadata": {
    "ExecuteTime": {
     "end_time": "2019-07-16T05:53:42.564457Z",
     "start_time": "2019-07-16T05:53:42.331083Z"
    },
    "colab": {},
    "colab_type": "code",
    "id": "OdThvW9FOlrY"
   },
   "outputs": [
    {
     "ename": "DuplicateKeyError",
     "evalue": "E11000 duplicate key error collection: mydatabase.customers index: _id_ dup key: { : 14 }",
     "output_type": "error",
     "traceback": [
      "\u001b[1;31m---------------------------------------------------------------------------\u001b[0m",
      "\u001b[1;31mDuplicateKeyError\u001b[0m                         Traceback (most recent call last)",
      "\u001b[1;32m<ipython-input-18-d82f481ee344>\u001b[0m in \u001b[0;36m<module>\u001b[1;34m()\u001b[0m\n\u001b[1;32m----> 1\u001b[1;33m \u001b[0mx\u001b[0m \u001b[1;33m=\u001b[0m \u001b[0mmycol\u001b[0m\u001b[1;33m.\u001b[0m\u001b[0minsert_one\u001b[0m\u001b[1;33m(\u001b[0m\u001b[1;33m{\u001b[0m \u001b[1;34m\"_id\"\u001b[0m\u001b[1;33m:\u001b[0m \u001b[1;36m14\u001b[0m\u001b[1;33m,\u001b[0m \u001b[1;34m\"name\"\u001b[0m\u001b[1;33m:\u001b[0m \u001b[1;34m\"Manuel\"\u001b[0m\u001b[1;33m,\u001b[0m \u001b[1;34m\"address\"\u001b[0m\u001b[1;33m:\u001b[0m \u001b[1;34m\"Barcelona\"\u001b[0m\u001b[1;33m}\u001b[0m\u001b[1;33m)\u001b[0m\u001b[1;33m\u001b[0m\u001b[0m\n\u001b[0m",
      "\u001b[1;32mC:\\ProgramData\\Anaconda3\\lib\\site-packages\\pymongo\\collection.py\u001b[0m in \u001b[0;36minsert_one\u001b[1;34m(self, document, bypass_document_validation, session)\u001b[0m\n\u001b[0;32m    691\u001b[0m                          \u001b[0mwrite_concern\u001b[0m\u001b[1;33m=\u001b[0m\u001b[0mwrite_concern\u001b[0m\u001b[1;33m,\u001b[0m\u001b[1;33m\u001b[0m\u001b[0m\n\u001b[0;32m    692\u001b[0m                          \u001b[0mbypass_doc_val\u001b[0m\u001b[1;33m=\u001b[0m\u001b[0mbypass_document_validation\u001b[0m\u001b[1;33m,\u001b[0m\u001b[1;33m\u001b[0m\u001b[0m\n\u001b[1;32m--> 693\u001b[1;33m                          session=session),\n\u001b[0m\u001b[0;32m    694\u001b[0m             write_concern.acknowledged)\n\u001b[0;32m    695\u001b[0m \u001b[1;33m\u001b[0m\u001b[0m\n",
      "\u001b[1;32mC:\\ProgramData\\Anaconda3\\lib\\site-packages\\pymongo\\collection.py\u001b[0m in \u001b[0;36m_insert\u001b[1;34m(self, docs, ordered, check_keys, manipulate, write_concern, op_id, bypass_doc_val, session)\u001b[0m\n\u001b[0;32m    605\u001b[0m             return self._insert_one(\n\u001b[0;32m    606\u001b[0m                 \u001b[0mdocs\u001b[0m\u001b[1;33m,\u001b[0m \u001b[0mordered\u001b[0m\u001b[1;33m,\u001b[0m \u001b[0mcheck_keys\u001b[0m\u001b[1;33m,\u001b[0m \u001b[0mmanipulate\u001b[0m\u001b[1;33m,\u001b[0m \u001b[0mwrite_concern\u001b[0m\u001b[1;33m,\u001b[0m \u001b[0mop_id\u001b[0m\u001b[1;33m,\u001b[0m\u001b[1;33m\u001b[0m\u001b[0m\n\u001b[1;32m--> 607\u001b[1;33m                 bypass_doc_val, session)\n\u001b[0m\u001b[0;32m    608\u001b[0m \u001b[1;33m\u001b[0m\u001b[0m\n\u001b[0;32m    609\u001b[0m         \u001b[0mids\u001b[0m \u001b[1;33m=\u001b[0m \u001b[1;33m[\u001b[0m\u001b[1;33m]\u001b[0m\u001b[1;33m\u001b[0m\u001b[0m\n",
      "\u001b[1;32mC:\\ProgramData\\Anaconda3\\lib\\site-packages\\pymongo\\collection.py\u001b[0m in \u001b[0;36m_insert_one\u001b[1;34m(self, doc, ordered, check_keys, manipulate, write_concern, op_id, bypass_doc_val, session)\u001b[0m\n\u001b[0;32m    593\u001b[0m \u001b[1;33m\u001b[0m\u001b[0m\n\u001b[0;32m    594\u001b[0m         self.__database.client._retryable_write(\n\u001b[1;32m--> 595\u001b[1;33m             acknowledged, _insert_command, session)\n\u001b[0m\u001b[0;32m    596\u001b[0m \u001b[1;33m\u001b[0m\u001b[0m\n\u001b[0;32m    597\u001b[0m         \u001b[1;32mif\u001b[0m \u001b[1;32mnot\u001b[0m \u001b[0misinstance\u001b[0m\u001b[1;33m(\u001b[0m\u001b[0mdoc\u001b[0m\u001b[1;33m,\u001b[0m \u001b[0mRawBSONDocument\u001b[0m\u001b[1;33m)\u001b[0m\u001b[1;33m:\u001b[0m\u001b[1;33m\u001b[0m\u001b[0m\n",
      "\u001b[1;32mC:\\ProgramData\\Anaconda3\\lib\\site-packages\\pymongo\\mongo_client.py\u001b[0m in \u001b[0;36m_retryable_write\u001b[1;34m(self, retryable, func, session)\u001b[0m\n\u001b[0;32m   1246\u001b[0m         \u001b[1;34m\"\"\"Internal retryable write helper.\"\"\"\u001b[0m\u001b[1;33m\u001b[0m\u001b[0m\n\u001b[0;32m   1247\u001b[0m         \u001b[1;32mwith\u001b[0m \u001b[0mself\u001b[0m\u001b[1;33m.\u001b[0m\u001b[0m_tmp_session\u001b[0m\u001b[1;33m(\u001b[0m\u001b[0msession\u001b[0m\u001b[1;33m)\u001b[0m \u001b[1;32mas\u001b[0m \u001b[0ms\u001b[0m\u001b[1;33m:\u001b[0m\u001b[1;33m\u001b[0m\u001b[0m\n\u001b[1;32m-> 1248\u001b[1;33m             \u001b[1;32mreturn\u001b[0m \u001b[0mself\u001b[0m\u001b[1;33m.\u001b[0m\u001b[0m_retry_with_session\u001b[0m\u001b[1;33m(\u001b[0m\u001b[0mretryable\u001b[0m\u001b[1;33m,\u001b[0m \u001b[0mfunc\u001b[0m\u001b[1;33m,\u001b[0m \u001b[0ms\u001b[0m\u001b[1;33m,\u001b[0m \u001b[1;32mNone\u001b[0m\u001b[1;33m)\u001b[0m\u001b[1;33m\u001b[0m\u001b[0m\n\u001b[0m\u001b[0;32m   1249\u001b[0m \u001b[1;33m\u001b[0m\u001b[0m\n\u001b[0;32m   1250\u001b[0m     \u001b[1;32mdef\u001b[0m \u001b[0m__reset_server\u001b[0m\u001b[1;33m(\u001b[0m\u001b[0mself\u001b[0m\u001b[1;33m,\u001b[0m \u001b[0maddress\u001b[0m\u001b[1;33m)\u001b[0m\u001b[1;33m:\u001b[0m\u001b[1;33m\u001b[0m\u001b[0m\n",
      "\u001b[1;32mC:\\ProgramData\\Anaconda3\\lib\\site-packages\\pymongo\\mongo_client.py\u001b[0m in \u001b[0;36m_retry_with_session\u001b[1;34m(self, retryable, func, session, bulk)\u001b[0m\n\u001b[0;32m   1199\u001b[0m                             \u001b[1;32mraise\u001b[0m \u001b[0mlast_error\u001b[0m\u001b[1;33m\u001b[0m\u001b[0m\n\u001b[0;32m   1200\u001b[0m                         \u001b[0mretryable\u001b[0m \u001b[1;33m=\u001b[0m \u001b[1;32mFalse\u001b[0m\u001b[1;33m\u001b[0m\u001b[0m\n\u001b[1;32m-> 1201\u001b[1;33m                     \u001b[1;32mreturn\u001b[0m \u001b[0mfunc\u001b[0m\u001b[1;33m(\u001b[0m\u001b[0msession\u001b[0m\u001b[1;33m,\u001b[0m \u001b[0msock_info\u001b[0m\u001b[1;33m,\u001b[0m \u001b[0mretryable\u001b[0m\u001b[1;33m)\u001b[0m\u001b[1;33m\u001b[0m\u001b[0m\n\u001b[0m\u001b[0;32m   1202\u001b[0m             \u001b[1;32mexcept\u001b[0m \u001b[0mServerSelectionTimeoutError\u001b[0m\u001b[1;33m:\u001b[0m\u001b[1;33m\u001b[0m\u001b[0m\n\u001b[0;32m   1203\u001b[0m                 \u001b[1;32mif\u001b[0m \u001b[0mis_retrying\u001b[0m\u001b[1;33m(\u001b[0m\u001b[1;33m)\u001b[0m\u001b[1;33m:\u001b[0m\u001b[1;33m\u001b[0m\u001b[0m\n",
      "\u001b[1;32mC:\\ProgramData\\Anaconda3\\lib\\site-packages\\pymongo\\collection.py\u001b[0m in \u001b[0;36m_insert_command\u001b[1;34m(session, sock_info, retryable_write)\u001b[0m\n\u001b[0;32m    590\u001b[0m                 retryable_write=retryable_write)\n\u001b[0;32m    591\u001b[0m \u001b[1;33m\u001b[0m\u001b[0m\n\u001b[1;32m--> 592\u001b[1;33m             \u001b[0m_check_write_command_response\u001b[0m\u001b[1;33m(\u001b[0m\u001b[0mresult\u001b[0m\u001b[1;33m)\u001b[0m\u001b[1;33m\u001b[0m\u001b[0m\n\u001b[0m\u001b[0;32m    593\u001b[0m \u001b[1;33m\u001b[0m\u001b[0m\n\u001b[0;32m    594\u001b[0m         self.__database.client._retryable_write(\n",
      "\u001b[1;32mC:\\ProgramData\\Anaconda3\\lib\\site-packages\\pymongo\\helpers.py\u001b[0m in \u001b[0;36m_check_write_command_response\u001b[1;34m(result)\u001b[0m\n\u001b[0;32m    215\u001b[0m     \u001b[0mwrite_errors\u001b[0m \u001b[1;33m=\u001b[0m \u001b[0mresult\u001b[0m\u001b[1;33m.\u001b[0m\u001b[0mget\u001b[0m\u001b[1;33m(\u001b[0m\u001b[1;34m\"writeErrors\"\u001b[0m\u001b[1;33m)\u001b[0m\u001b[1;33m\u001b[0m\u001b[0m\n\u001b[0;32m    216\u001b[0m     \u001b[1;32mif\u001b[0m \u001b[0mwrite_errors\u001b[0m\u001b[1;33m:\u001b[0m\u001b[1;33m\u001b[0m\u001b[0m\n\u001b[1;32m--> 217\u001b[1;33m         \u001b[0m_raise_last_write_error\u001b[0m\u001b[1;33m(\u001b[0m\u001b[0mwrite_errors\u001b[0m\u001b[1;33m)\u001b[0m\u001b[1;33m\u001b[0m\u001b[0m\n\u001b[0m\u001b[0;32m    218\u001b[0m \u001b[1;33m\u001b[0m\u001b[0m\n\u001b[0;32m    219\u001b[0m     \u001b[0merror\u001b[0m \u001b[1;33m=\u001b[0m \u001b[0mresult\u001b[0m\u001b[1;33m.\u001b[0m\u001b[0mget\u001b[0m\u001b[1;33m(\u001b[0m\u001b[1;34m\"writeConcernError\"\u001b[0m\u001b[1;33m)\u001b[0m\u001b[1;33m\u001b[0m\u001b[0m\n",
      "\u001b[1;32mC:\\ProgramData\\Anaconda3\\lib\\site-packages\\pymongo\\helpers.py\u001b[0m in \u001b[0;36m_raise_last_write_error\u001b[1;34m(write_errors)\u001b[0m\n\u001b[0;32m    196\u001b[0m     \u001b[0merror\u001b[0m \u001b[1;33m=\u001b[0m \u001b[0mwrite_errors\u001b[0m\u001b[1;33m[\u001b[0m\u001b[1;33m-\u001b[0m\u001b[1;36m1\u001b[0m\u001b[1;33m]\u001b[0m\u001b[1;33m\u001b[0m\u001b[0m\n\u001b[0;32m    197\u001b[0m     \u001b[1;32mif\u001b[0m \u001b[0merror\u001b[0m\u001b[1;33m.\u001b[0m\u001b[0mget\u001b[0m\u001b[1;33m(\u001b[0m\u001b[1;34m\"code\"\u001b[0m\u001b[1;33m)\u001b[0m \u001b[1;33m==\u001b[0m \u001b[1;36m11000\u001b[0m\u001b[1;33m:\u001b[0m\u001b[1;33m\u001b[0m\u001b[0m\n\u001b[1;32m--> 198\u001b[1;33m         \u001b[1;32mraise\u001b[0m \u001b[0mDuplicateKeyError\u001b[0m\u001b[1;33m(\u001b[0m\u001b[0merror\u001b[0m\u001b[1;33m.\u001b[0m\u001b[0mget\u001b[0m\u001b[1;33m(\u001b[0m\u001b[1;34m\"errmsg\"\u001b[0m\u001b[1;33m)\u001b[0m\u001b[1;33m,\u001b[0m \u001b[1;36m11000\u001b[0m\u001b[1;33m,\u001b[0m \u001b[0merror\u001b[0m\u001b[1;33m)\u001b[0m\u001b[1;33m\u001b[0m\u001b[0m\n\u001b[0m\u001b[0;32m    199\u001b[0m     \u001b[1;32mraise\u001b[0m \u001b[0mWriteError\u001b[0m\u001b[1;33m(\u001b[0m\u001b[0merror\u001b[0m\u001b[1;33m.\u001b[0m\u001b[0mget\u001b[0m\u001b[1;33m(\u001b[0m\u001b[1;34m\"errmsg\"\u001b[0m\u001b[1;33m)\u001b[0m\u001b[1;33m,\u001b[0m \u001b[0merror\u001b[0m\u001b[1;33m.\u001b[0m\u001b[0mget\u001b[0m\u001b[1;33m(\u001b[0m\u001b[1;34m\"code\"\u001b[0m\u001b[1;33m)\u001b[0m\u001b[1;33m,\u001b[0m \u001b[0merror\u001b[0m\u001b[1;33m)\u001b[0m\u001b[1;33m\u001b[0m\u001b[0m\n\u001b[0;32m    200\u001b[0m \u001b[1;33m\u001b[0m\u001b[0m\n",
      "\u001b[1;31mDuplicateKeyError\u001b[0m: E11000 duplicate key error collection: mydatabase.customers index: _id_ dup key: { : 14 }"
     ]
    }
   ],
   "source": [
    "x = mycol.insert_one({ \"_id\": 14, \"name\": \"Manuel\", \"address\": \"Barcelona\"})"
   ]
  },
  {
   "cell_type": "markdown",
   "metadata": {
    "colab_type": "text",
    "id": "oK1xu8ZiOlra"
   },
   "source": [
    "So, if we want to manage `_id`s in code, we need to be careful!"
   ]
  },
  {
   "cell_type": "markdown",
   "metadata": {
    "colab_type": "text",
    "id": "z-YuOZ43Olrb"
   },
   "source": [
    "This returns the first document in the collection:"
   ]
  },
  {
   "cell_type": "code",
   "execution_count": 19,
   "metadata": {
    "ExecuteTime": {
     "end_time": "2019-07-16T05:53:49.385048Z",
     "start_time": "2019-07-16T05:53:49.378054Z"
    },
    "colab": {},
    "colab_type": "code",
    "id": "YP_136L9Olrc"
   },
   "outputs": [
    {
     "name": "stdout",
     "output_type": "stream",
     "text": [
      "{'_id': ObjectId('5c98018b3ae8933c509b07bf'), 'name': 'John', 'address': 'Highway 37'}\n"
     ]
    }
   ],
   "source": [
    "x = mycol.find_one()\n",
    "print(x)"
   ]
  },
  {
   "cell_type": "markdown",
   "metadata": {
    "colab_type": "text",
    "id": "ePjkqPtXOlre"
   },
   "source": [
    "Do the same for the document containing \"name\" = \"Hannah\":"
   ]
  },
  {
   "cell_type": "code",
   "execution_count": 20,
   "metadata": {
    "ExecuteTime": {
     "end_time": "2019-07-16T05:53:52.667748Z",
     "start_time": "2019-07-16T05:53:52.661764Z"
    },
    "colab": {},
    "colab_type": "code",
    "id": "oF36ylyyOlrf"
   },
   "outputs": [
    {
     "name": "stdout",
     "output_type": "stream",
     "text": [
      "{'_id': ObjectId('5d2d665e3ae893199c88e14e'), 'name': 'Hannah', 'address': 'Mountain 21'}\n"
     ]
    }
   ],
   "source": [
    "#ANSWER:\n",
    "x = mycol.find_one({\"name\": \"Hannah\"})\n",
    "print(x)"
   ]
  },
  {
   "cell_type": "markdown",
   "metadata": {
    "colab_type": "text",
    "id": "ZstGYKDaOlrh"
   },
   "source": [
    "This returns (and prints) all documents in the collection:"
   ]
  },
  {
   "cell_type": "code",
   "execution_count": 21,
   "metadata": {
    "ExecuteTime": {
     "end_time": "2019-07-16T05:53:55.258910Z",
     "start_time": "2019-07-16T05:53:55.249934Z"
    },
    "colab": {},
    "colab_type": "code",
    "id": "B9mJc9wmOlrh"
   },
   "outputs": [
    {
     "name": "stdout",
     "output_type": "stream",
     "text": [
      "{'_id': ObjectId('5c98018b3ae8933c509b07bf'), 'name': 'John', 'address': 'Highway 37'}\n",
      "{'_id': ObjectId('5c9801953ae8933c509b07c0'), 'name': 'Peter', 'address': 'Lowstreet 27'}\n",
      "{'_id': ObjectId('5c98019e3ae8933c509b07c1'), 'name': 'Amy', 'address': 'Apple st 652'}\n",
      "{'_id': ObjectId('5c98019e3ae8933c509b07c3'), 'name': 'Michael', 'address': 'Canyon 123'}\n",
      "{'_id': ObjectId('5c98019e3ae8933c509b07c4'), 'name': 'Sandy', 'address': 'Ocean blvd 2'}\n",
      "{'_id': ObjectId('5c98019e3ae8933c509b07c5'), 'name': 'Betty', 'address': 'Green Grass 1'}\n",
      "{'_id': ObjectId('5c98019e3ae8933c509b07c6'), 'name': 'Richard', 'address': 'Sky st 331'}\n",
      "{'_id': ObjectId('5c98019e3ae8933c509b07c7'), 'name': 'Susan', 'address': 'One way 98'}\n",
      "{'_id': ObjectId('5c98019e3ae8933c509b07c8'), 'name': 'Vicky', 'address': 'Yellow Garden 2'}\n",
      "{'_id': ObjectId('5c98019e3ae8933c509b07c9'), 'name': 'Ben', 'address': 'Park Lane 38'}\n",
      "{'_id': ObjectId('5c98019e3ae8933c509b07ca'), 'name': 'William', 'address': 'Central st 954'}\n",
      "{'_id': ObjectId('5c98019e3ae8933c509b07cb'), 'name': 'Chuck', 'address': 'Main Road 989'}\n",
      "{'_id': ObjectId('5c98019e3ae8933c509b07cc'), 'name': 'Viola', 'address': 'Sideway 1633'}\n",
      "{'_id': ObjectId('5d2d66503ae893199c88e14b'), 'name': 'John', 'address': 'Highway 37'}\n",
      "{'_id': ObjectId('5d2d66593ae893199c88e14c'), 'name': 'Peter', 'address': 'Lowstreet 27'}\n",
      "{'_id': ObjectId('5d2d665e3ae893199c88e14d'), 'name': 'Amy', 'address': 'Apple st 652'}\n",
      "{'_id': ObjectId('5d2d665e3ae893199c88e14e'), 'name': 'Hannah', 'address': 'Mountain 21'}\n",
      "{'_id': ObjectId('5d2d665e3ae893199c88e14f'), 'name': 'Michael', 'address': 'Valley 345'}\n",
      "{'_id': ObjectId('5d2d665e3ae893199c88e150'), 'name': 'Sandy', 'address': 'Ocean blvd 2'}\n",
      "{'_id': ObjectId('5d2d665e3ae893199c88e151'), 'name': 'Betty', 'address': 'Green Grass 1'}\n",
      "{'_id': ObjectId('5d2d665e3ae893199c88e152'), 'name': 'Richard', 'address': 'Sky st 331'}\n",
      "{'_id': ObjectId('5d2d665e3ae893199c88e153'), 'name': 'Susan', 'address': 'One way 98'}\n",
      "{'_id': ObjectId('5d2d665e3ae893199c88e154'), 'name': 'Vicky', 'address': 'Yellow Garden 2'}\n",
      "{'_id': ObjectId('5d2d665e3ae893199c88e155'), 'name': 'Ben', 'address': 'Park Lane 38'}\n",
      "{'_id': ObjectId('5d2d665e3ae893199c88e156'), 'name': 'William', 'address': 'Central st 954'}\n",
      "{'_id': ObjectId('5d2d665e3ae893199c88e157'), 'name': 'Chuck', 'address': 'Main Road 989'}\n",
      "{'_id': ObjectId('5d2d665e3ae893199c88e158'), 'name': 'Viola', 'address': 'Sideway 1633'}\n",
      "{'_id': 1, 'name': 'John', 'address': 'Highway 37'}\n",
      "{'_id': 2, 'name': 'Peter', 'address': 'Lowstreet 27'}\n",
      "{'_id': 3, 'name': 'Amy', 'address': 'Apple st 652'}\n",
      "{'_id': 4, 'name': 'Hannah', 'address': 'Mountain 21'}\n",
      "{'_id': 5, 'name': 'Michael', 'address': 'Valley 345'}\n",
      "{'_id': 6, 'name': 'Sandy', 'address': 'Ocean blvd 2'}\n",
      "{'_id': 7, 'name': 'Betty', 'address': 'Green Grass 1'}\n",
      "{'_id': 8, 'name': 'Richard', 'address': 'Sky st 331'}\n",
      "{'_id': 9, 'name': 'Susan', 'address': 'One way 98'}\n",
      "{'_id': 10, 'name': 'Vicky', 'address': 'Yellow Garden 2'}\n",
      "{'_id': 11, 'name': 'Ben', 'address': 'Park Lane 38'}\n",
      "{'_id': 12, 'name': 'William', 'address': 'Central st 954'}\n",
      "{'_id': 13, 'name': 'Chuck', 'address': 'Main Road 989'}\n",
      "{'_id': 14, 'name': 'Viola', 'address': 'Sideway 1633'}\n"
     ]
    }
   ],
   "source": [
    "for x in mycol.find():\n",
    "  print(x)"
   ]
  },
  {
   "cell_type": "markdown",
   "metadata": {
    "colab_type": "text",
    "id": "AdaLXN8hOlrj"
   },
   "source": [
    "This returns only the name and address fields:"
   ]
  },
  {
   "cell_type": "code",
   "execution_count": 22,
   "metadata": {
    "ExecuteTime": {
     "end_time": "2019-07-16T05:53:59.675016Z",
     "start_time": "2019-07-16T05:53:59.663047Z"
    },
    "colab": {},
    "colab_type": "code",
    "id": "oqETgC36Olrj"
   },
   "outputs": [
    {
     "name": "stdout",
     "output_type": "stream",
     "text": [
      "{'name': 'John', 'address': 'Highway 37'}\n",
      "{'name': 'Peter', 'address': 'Lowstreet 27'}\n",
      "{'name': 'Amy', 'address': 'Apple st 652'}\n",
      "{'name': 'Michael', 'address': 'Canyon 123'}\n",
      "{'name': 'Sandy', 'address': 'Ocean blvd 2'}\n",
      "{'name': 'Betty', 'address': 'Green Grass 1'}\n",
      "{'name': 'Richard', 'address': 'Sky st 331'}\n",
      "{'name': 'Susan', 'address': 'One way 98'}\n",
      "{'name': 'Vicky', 'address': 'Yellow Garden 2'}\n",
      "{'name': 'Ben', 'address': 'Park Lane 38'}\n",
      "{'name': 'William', 'address': 'Central st 954'}\n",
      "{'name': 'Chuck', 'address': 'Main Road 989'}\n",
      "{'name': 'Viola', 'address': 'Sideway 1633'}\n",
      "{'name': 'John', 'address': 'Highway 37'}\n",
      "{'name': 'Peter', 'address': 'Lowstreet 27'}\n",
      "{'name': 'Amy', 'address': 'Apple st 652'}\n",
      "{'name': 'Hannah', 'address': 'Mountain 21'}\n",
      "{'name': 'Michael', 'address': 'Valley 345'}\n",
      "{'name': 'Sandy', 'address': 'Ocean blvd 2'}\n",
      "{'name': 'Betty', 'address': 'Green Grass 1'}\n",
      "{'name': 'Richard', 'address': 'Sky st 331'}\n",
      "{'name': 'Susan', 'address': 'One way 98'}\n",
      "{'name': 'Vicky', 'address': 'Yellow Garden 2'}\n",
      "{'name': 'Ben', 'address': 'Park Lane 38'}\n",
      "{'name': 'William', 'address': 'Central st 954'}\n",
      "{'name': 'Chuck', 'address': 'Main Road 989'}\n",
      "{'name': 'Viola', 'address': 'Sideway 1633'}\n",
      "{'name': 'John', 'address': 'Highway 37'}\n",
      "{'name': 'Peter', 'address': 'Lowstreet 27'}\n",
      "{'name': 'Amy', 'address': 'Apple st 652'}\n",
      "{'name': 'Hannah', 'address': 'Mountain 21'}\n",
      "{'name': 'Michael', 'address': 'Valley 345'}\n",
      "{'name': 'Sandy', 'address': 'Ocean blvd 2'}\n",
      "{'name': 'Betty', 'address': 'Green Grass 1'}\n",
      "{'name': 'Richard', 'address': 'Sky st 331'}\n",
      "{'name': 'Susan', 'address': 'One way 98'}\n",
      "{'name': 'Vicky', 'address': 'Yellow Garden 2'}\n",
      "{'name': 'Ben', 'address': 'Park Lane 38'}\n",
      "{'name': 'William', 'address': 'Central st 954'}\n",
      "{'name': 'Chuck', 'address': 'Main Road 989'}\n",
      "{'name': 'Viola', 'address': 'Sideway 1633'}\n"
     ]
    }
   ],
   "source": [
    "for x in mycol.find({},{ \"_id\": 0, \"name\": 1, \"address\": 1 }):\n",
    "  print(x)"
   ]
  },
  {
   "cell_type": "markdown",
   "metadata": {
    "colab_type": "text",
    "id": "L-wQKCf8Olrk"
   },
   "source": [
    "Print only the `_id` and name fields:"
   ]
  },
  {
   "cell_type": "code",
   "execution_count": 23,
   "metadata": {
    "ExecuteTime": {
     "end_time": "2019-07-16T05:54:02.799370Z",
     "start_time": "2019-07-16T05:54:02.788400Z"
    },
    "colab": {},
    "colab_type": "code",
    "id": "2WgHLB07Olrk"
   },
   "outputs": [
    {
     "name": "stdout",
     "output_type": "stream",
     "text": [
      "{'_id': ObjectId('5c98018b3ae8933c509b07bf'), 'name': 'John'}\n",
      "{'_id': ObjectId('5c9801953ae8933c509b07c0'), 'name': 'Peter'}\n",
      "{'_id': ObjectId('5c98019e3ae8933c509b07c1'), 'name': 'Amy'}\n",
      "{'_id': ObjectId('5c98019e3ae8933c509b07c3'), 'name': 'Michael'}\n",
      "{'_id': ObjectId('5c98019e3ae8933c509b07c4'), 'name': 'Sandy'}\n",
      "{'_id': ObjectId('5c98019e3ae8933c509b07c5'), 'name': 'Betty'}\n",
      "{'_id': ObjectId('5c98019e3ae8933c509b07c6'), 'name': 'Richard'}\n",
      "{'_id': ObjectId('5c98019e3ae8933c509b07c7'), 'name': 'Susan'}\n",
      "{'_id': ObjectId('5c98019e3ae8933c509b07c8'), 'name': 'Vicky'}\n",
      "{'_id': ObjectId('5c98019e3ae8933c509b07c9'), 'name': 'Ben'}\n",
      "{'_id': ObjectId('5c98019e3ae8933c509b07ca'), 'name': 'William'}\n",
      "{'_id': ObjectId('5c98019e3ae8933c509b07cb'), 'name': 'Chuck'}\n",
      "{'_id': ObjectId('5c98019e3ae8933c509b07cc'), 'name': 'Viola'}\n",
      "{'_id': ObjectId('5d2d66503ae893199c88e14b'), 'name': 'John'}\n",
      "{'_id': ObjectId('5d2d66593ae893199c88e14c'), 'name': 'Peter'}\n",
      "{'_id': ObjectId('5d2d665e3ae893199c88e14d'), 'name': 'Amy'}\n",
      "{'_id': ObjectId('5d2d665e3ae893199c88e14e'), 'name': 'Hannah'}\n",
      "{'_id': ObjectId('5d2d665e3ae893199c88e14f'), 'name': 'Michael'}\n",
      "{'_id': ObjectId('5d2d665e3ae893199c88e150'), 'name': 'Sandy'}\n",
      "{'_id': ObjectId('5d2d665e3ae893199c88e151'), 'name': 'Betty'}\n",
      "{'_id': ObjectId('5d2d665e3ae893199c88e152'), 'name': 'Richard'}\n",
      "{'_id': ObjectId('5d2d665e3ae893199c88e153'), 'name': 'Susan'}\n",
      "{'_id': ObjectId('5d2d665e3ae893199c88e154'), 'name': 'Vicky'}\n",
      "{'_id': ObjectId('5d2d665e3ae893199c88e155'), 'name': 'Ben'}\n",
      "{'_id': ObjectId('5d2d665e3ae893199c88e156'), 'name': 'William'}\n",
      "{'_id': ObjectId('5d2d665e3ae893199c88e157'), 'name': 'Chuck'}\n",
      "{'_id': ObjectId('5d2d665e3ae893199c88e158'), 'name': 'Viola'}\n",
      "{'_id': 1, 'name': 'John'}\n",
      "{'_id': 2, 'name': 'Peter'}\n",
      "{'_id': 3, 'name': 'Amy'}\n",
      "{'_id': 4, 'name': 'Hannah'}\n",
      "{'_id': 5, 'name': 'Michael'}\n",
      "{'_id': 6, 'name': 'Sandy'}\n",
      "{'_id': 7, 'name': 'Betty'}\n",
      "{'_id': 8, 'name': 'Richard'}\n",
      "{'_id': 9, 'name': 'Susan'}\n",
      "{'_id': 10, 'name': 'Vicky'}\n",
      "{'_id': 11, 'name': 'Ben'}\n",
      "{'_id': 12, 'name': 'William'}\n",
      "{'_id': 13, 'name': 'Chuck'}\n",
      "{'_id': 14, 'name': 'Viola'}\n"
     ]
    }
   ],
   "source": [
    "#ANSWER:\n",
    "for x in mycol.find({},{ \"_id\": 1, \"name\": 1 }):\n",
    "  print(x)"
   ]
  },
  {
   "cell_type": "markdown",
   "metadata": {
    "colab_type": "text",
    "id": "jfB1DEzdOlrl"
   },
   "source": [
    "So, we must explicitly use `\"_id\": 0` to exclude it, but for other fields we simply omit them from the dict argument."
   ]
  },
  {
   "cell_type": "markdown",
   "metadata": {
    "colab_type": "text",
    "id": "IQAADk7NOlrm"
   },
   "source": [
    "To include field conditionals in a query, we use `$` operators. This finds addresses starting with \"S\" or greater:"
   ]
  },
  {
   "cell_type": "code",
   "execution_count": 24,
   "metadata": {
    "ExecuteTime": {
     "end_time": "2019-07-16T05:54:06.424046Z",
     "start_time": "2019-07-16T05:54:06.414072Z"
    },
    "colab": {},
    "colab_type": "code",
    "id": "AftaYPeUOlrm"
   },
   "outputs": [
    {
     "name": "stdout",
     "output_type": "stream",
     "text": [
      "{'_id': ObjectId('5c98019e3ae8933c509b07c6'), 'name': 'Richard', 'address': 'Sky st 331'}\n",
      "{'_id': ObjectId('5c98019e3ae8933c509b07c8'), 'name': 'Vicky', 'address': 'Yellow Garden 2'}\n",
      "{'_id': ObjectId('5c98019e3ae8933c509b07cc'), 'name': 'Viola', 'address': 'Sideway 1633'}\n",
      "{'_id': ObjectId('5d2d665e3ae893199c88e14f'), 'name': 'Michael', 'address': 'Valley 345'}\n",
      "{'_id': ObjectId('5d2d665e3ae893199c88e152'), 'name': 'Richard', 'address': 'Sky st 331'}\n",
      "{'_id': ObjectId('5d2d665e3ae893199c88e154'), 'name': 'Vicky', 'address': 'Yellow Garden 2'}\n",
      "{'_id': ObjectId('5d2d665e3ae893199c88e158'), 'name': 'Viola', 'address': 'Sideway 1633'}\n",
      "{'_id': 5, 'name': 'Michael', 'address': 'Valley 345'}\n",
      "{'_id': 8, 'name': 'Richard', 'address': 'Sky st 331'}\n",
      "{'_id': 10, 'name': 'Vicky', 'address': 'Yellow Garden 2'}\n",
      "{'_id': 14, 'name': 'Viola', 'address': 'Sideway 1633'}\n"
     ]
    }
   ],
   "source": [
    "myquery = { \"address\": { \"$gt\": \"S\" } }\n",
    "mydoc = mycol.find(myquery)\n",
    "for x in mydoc:\n",
    "  print(x)"
   ]
  },
  {
   "cell_type": "markdown",
   "metadata": {
    "colab_type": "text",
    "id": "z_56GtuDOlrn"
   },
   "source": [
    "Here are some more comparison operators:\n",
    "\n",
    "            $gt, $gte, $eq, $in, $nin, $exists, $and, $or, $not\n",
    "            \n",
    "Experiment with these until you understand how to use them."
   ]
  },
  {
   "cell_type": "code",
   "execution_count": 0,
   "metadata": {
    "colab": {},
    "colab_type": "code",
    "id": "XlQ3hiPfOlrn"
   },
   "outputs": [],
   "source": []
  },
  {
   "cell_type": "markdown",
   "metadata": {
    "colab_type": "text",
    "id": "OpRNLXd4Olro"
   },
   "source": [
    "Now find all docs with an address that begins with \"S\":  \n",
    "(HINT: The value for \"address\" in the argument should be the regex-based dict { \"$regex\": \"^S\" }.)"
   ]
  },
  {
   "cell_type": "code",
   "execution_count": 25,
   "metadata": {
    "ExecuteTime": {
     "end_time": "2019-07-16T05:54:12.050101Z",
     "start_time": "2019-07-16T05:54:12.041123Z"
    },
    "colab": {},
    "colab_type": "code",
    "id": "tN4Kn-vyOlrp"
   },
   "outputs": [
    {
     "name": "stdout",
     "output_type": "stream",
     "text": [
      "{'_id': ObjectId('5c98019e3ae8933c509b07c6'), 'name': 'Richard', 'address': 'Sky st 331'}\n",
      "{'_id': ObjectId('5c98019e3ae8933c509b07cc'), 'name': 'Viola', 'address': 'Sideway 1633'}\n",
      "{'_id': ObjectId('5d2d665e3ae893199c88e152'), 'name': 'Richard', 'address': 'Sky st 331'}\n",
      "{'_id': ObjectId('5d2d665e3ae893199c88e158'), 'name': 'Viola', 'address': 'Sideway 1633'}\n",
      "{'_id': 8, 'name': 'Richard', 'address': 'Sky st 331'}\n",
      "{'_id': 14, 'name': 'Viola', 'address': 'Sideway 1633'}\n"
     ]
    }
   ],
   "source": [
    "#ANSWER:\n",
    "myquery = { \"address\": { \"$regex\": \"^S\" } }\n",
    "mydoc = mycol.find(myquery)\n",
    "for x in mydoc:\n",
    "  print(x)"
   ]
  },
  {
   "cell_type": "markdown",
   "metadata": {
    "colab_type": "text",
    "id": "1UoZuCTDOlrq"
   },
   "source": [
    "Sorting can be applied by invoking the Sort() method after the Find() method. Sort the collection by the name field:"
   ]
  },
  {
   "cell_type": "code",
   "execution_count": 26,
   "metadata": {
    "ExecuteTime": {
     "end_time": "2019-07-16T05:54:16.162629Z",
     "start_time": "2019-07-16T05:54:16.145674Z"
    },
    "colab": {},
    "colab_type": "code",
    "id": "emrzpzZkOlrr"
   },
   "outputs": [
    {
     "name": "stdout",
     "output_type": "stream",
     "text": [
      "{'_id': ObjectId('5c98019e3ae8933c509b07c1'), 'name': 'Amy', 'address': 'Apple st 652'}\n",
      "{'_id': ObjectId('5d2d665e3ae893199c88e14d'), 'name': 'Amy', 'address': 'Apple st 652'}\n",
      "{'_id': 3, 'name': 'Amy', 'address': 'Apple st 652'}\n",
      "{'_id': ObjectId('5c98019e3ae8933c509b07c9'), 'name': 'Ben', 'address': 'Park Lane 38'}\n",
      "{'_id': ObjectId('5d2d665e3ae893199c88e155'), 'name': 'Ben', 'address': 'Park Lane 38'}\n",
      "{'_id': 11, 'name': 'Ben', 'address': 'Park Lane 38'}\n",
      "{'_id': ObjectId('5c98019e3ae8933c509b07c5'), 'name': 'Betty', 'address': 'Green Grass 1'}\n",
      "{'_id': ObjectId('5d2d665e3ae893199c88e151'), 'name': 'Betty', 'address': 'Green Grass 1'}\n",
      "{'_id': 7, 'name': 'Betty', 'address': 'Green Grass 1'}\n",
      "{'_id': ObjectId('5c98019e3ae8933c509b07cb'), 'name': 'Chuck', 'address': 'Main Road 989'}\n",
      "{'_id': ObjectId('5d2d665e3ae893199c88e157'), 'name': 'Chuck', 'address': 'Main Road 989'}\n",
      "{'_id': 13, 'name': 'Chuck', 'address': 'Main Road 989'}\n",
      "{'_id': ObjectId('5d2d665e3ae893199c88e14e'), 'name': 'Hannah', 'address': 'Mountain 21'}\n",
      "{'_id': 4, 'name': 'Hannah', 'address': 'Mountain 21'}\n",
      "{'_id': ObjectId('5c98018b3ae8933c509b07bf'), 'name': 'John', 'address': 'Highway 37'}\n",
      "{'_id': ObjectId('5d2d66503ae893199c88e14b'), 'name': 'John', 'address': 'Highway 37'}\n",
      "{'_id': 1, 'name': 'John', 'address': 'Highway 37'}\n",
      "{'_id': ObjectId('5c98019e3ae8933c509b07c3'), 'name': 'Michael', 'address': 'Canyon 123'}\n",
      "{'_id': ObjectId('5d2d665e3ae893199c88e14f'), 'name': 'Michael', 'address': 'Valley 345'}\n",
      "{'_id': 5, 'name': 'Michael', 'address': 'Valley 345'}\n",
      "{'_id': ObjectId('5c9801953ae8933c509b07c0'), 'name': 'Peter', 'address': 'Lowstreet 27'}\n",
      "{'_id': ObjectId('5d2d66593ae893199c88e14c'), 'name': 'Peter', 'address': 'Lowstreet 27'}\n",
      "{'_id': 2, 'name': 'Peter', 'address': 'Lowstreet 27'}\n",
      "{'_id': ObjectId('5c98019e3ae8933c509b07c6'), 'name': 'Richard', 'address': 'Sky st 331'}\n",
      "{'_id': ObjectId('5d2d665e3ae893199c88e152'), 'name': 'Richard', 'address': 'Sky st 331'}\n",
      "{'_id': 8, 'name': 'Richard', 'address': 'Sky st 331'}\n",
      "{'_id': ObjectId('5c98019e3ae8933c509b07c4'), 'name': 'Sandy', 'address': 'Ocean blvd 2'}\n",
      "{'_id': ObjectId('5d2d665e3ae893199c88e150'), 'name': 'Sandy', 'address': 'Ocean blvd 2'}\n",
      "{'_id': 6, 'name': 'Sandy', 'address': 'Ocean blvd 2'}\n",
      "{'_id': ObjectId('5c98019e3ae8933c509b07c7'), 'name': 'Susan', 'address': 'One way 98'}\n",
      "{'_id': ObjectId('5d2d665e3ae893199c88e153'), 'name': 'Susan', 'address': 'One way 98'}\n",
      "{'_id': 9, 'name': 'Susan', 'address': 'One way 98'}\n",
      "{'_id': ObjectId('5c98019e3ae8933c509b07c8'), 'name': 'Vicky', 'address': 'Yellow Garden 2'}\n",
      "{'_id': ObjectId('5d2d665e3ae893199c88e154'), 'name': 'Vicky', 'address': 'Yellow Garden 2'}\n",
      "{'_id': 10, 'name': 'Vicky', 'address': 'Yellow Garden 2'}\n",
      "{'_id': ObjectId('5c98019e3ae8933c509b07cc'), 'name': 'Viola', 'address': 'Sideway 1633'}\n",
      "{'_id': ObjectId('5d2d665e3ae893199c88e158'), 'name': 'Viola', 'address': 'Sideway 1633'}\n",
      "{'_id': 14, 'name': 'Viola', 'address': 'Sideway 1633'}\n",
      "{'_id': ObjectId('5c98019e3ae8933c509b07ca'), 'name': 'William', 'address': 'Central st 954'}\n",
      "{'_id': ObjectId('5d2d665e3ae893199c88e156'), 'name': 'William', 'address': 'Central st 954'}\n",
      "{'_id': 12, 'name': 'William', 'address': 'Central st 954'}\n"
     ]
    }
   ],
   "source": [
    "#ANSWER:\n",
    "mydoc = mycol.find().sort(\"name\")\n",
    "for x in mydoc:\n",
    "  print(x)"
   ]
  },
  {
   "cell_type": "markdown",
   "metadata": {
    "colab_type": "text",
    "id": "V_77CWpgOlrs"
   },
   "source": [
    "Now sort in reverse order (HINT: The Sort() method takes an optional second parameter.)"
   ]
  },
  {
   "cell_type": "code",
   "execution_count": 27,
   "metadata": {
    "ExecuteTime": {
     "end_time": "2019-07-16T05:54:19.779329Z",
     "start_time": "2019-07-16T05:54:19.773346Z"
    }
   },
   "outputs": [
    {
     "name": "stdout",
     "output_type": "stream",
     "text": [
      "Help on method sort in module pymongo.cursor:\n",
      "\n",
      "sort(key_or_list, direction=None) method of pymongo.cursor.Cursor instance\n",
      "    Sorts this cursor's results.\n",
      "    \n",
      "    Pass a field name and a direction, either\n",
      "    :data:`~pymongo.ASCENDING` or :data:`~pymongo.DESCENDING`::\n",
      "    \n",
      "        for doc in collection.find().sort('field', pymongo.ASCENDING):\n",
      "            print(doc)\n",
      "    \n",
      "    To sort by multiple fields, pass a list of (key, direction) pairs::\n",
      "    \n",
      "        for doc in collection.find().sort([\n",
      "                ('field1', pymongo.ASCENDING),\n",
      "                ('field2', pymongo.DESCENDING)]):\n",
      "            print(doc)\n",
      "    \n",
      "    Beginning with MongoDB version 2.6, text search results can be\n",
      "    sorted by relevance::\n",
      "    \n",
      "        cursor = db.test.find(\n",
      "            {'$text': {'$search': 'some words'}},\n",
      "            {'score': {'$meta': 'textScore'}})\n",
      "    \n",
      "        # Sort by 'score' field.\n",
      "        cursor.sort([('score', {'$meta': 'textScore'})])\n",
      "    \n",
      "        for doc in cursor:\n",
      "            print(doc)\n",
      "    \n",
      "    Raises :class:`~pymongo.errors.InvalidOperation` if this cursor has\n",
      "    already been used. Only the last :meth:`sort` applied to this\n",
      "    cursor has any effect.\n",
      "    \n",
      "    :Parameters:\n",
      "      - `key_or_list`: a single key or a list of (key, direction)\n",
      "        pairs specifying the keys to sort on\n",
      "      - `direction` (optional): only used if `key_or_list` is a single\n",
      "        key, if not given :data:`~pymongo.ASCENDING` is assumed\n",
      "\n"
     ]
    }
   ],
   "source": [
    "help(mycol.find().sort)"
   ]
  },
  {
   "cell_type": "code",
   "execution_count": 28,
   "metadata": {
    "ExecuteTime": {
     "end_time": "2019-07-16T05:54:22.530614Z",
     "start_time": "2019-07-16T05:54:22.483741Z"
    }
   },
   "outputs": [
    {
     "name": "stdout",
     "output_type": "stream",
     "text": [
      "{'_id': ObjectId('5c98019e3ae8933c509b07ca'), 'name': 'William', 'address': 'Central st 954'}\n",
      "{'_id': ObjectId('5d2d665e3ae893199c88e156'), 'name': 'William', 'address': 'Central st 954'}\n",
      "{'_id': 12, 'name': 'William', 'address': 'Central st 954'}\n",
      "{'_id': ObjectId('5c98019e3ae8933c509b07cc'), 'name': 'Viola', 'address': 'Sideway 1633'}\n",
      "{'_id': ObjectId('5d2d665e3ae893199c88e158'), 'name': 'Viola', 'address': 'Sideway 1633'}\n",
      "{'_id': 14, 'name': 'Viola', 'address': 'Sideway 1633'}\n",
      "{'_id': ObjectId('5c98019e3ae8933c509b07c8'), 'name': 'Vicky', 'address': 'Yellow Garden 2'}\n",
      "{'_id': ObjectId('5d2d665e3ae893199c88e154'), 'name': 'Vicky', 'address': 'Yellow Garden 2'}\n",
      "{'_id': 10, 'name': 'Vicky', 'address': 'Yellow Garden 2'}\n",
      "{'_id': ObjectId('5c98019e3ae8933c509b07c7'), 'name': 'Susan', 'address': 'One way 98'}\n",
      "{'_id': ObjectId('5d2d665e3ae893199c88e153'), 'name': 'Susan', 'address': 'One way 98'}\n",
      "{'_id': 9, 'name': 'Susan', 'address': 'One way 98'}\n",
      "{'_id': ObjectId('5c98019e3ae8933c509b07c4'), 'name': 'Sandy', 'address': 'Ocean blvd 2'}\n",
      "{'_id': ObjectId('5d2d665e3ae893199c88e150'), 'name': 'Sandy', 'address': 'Ocean blvd 2'}\n",
      "{'_id': 6, 'name': 'Sandy', 'address': 'Ocean blvd 2'}\n",
      "{'_id': ObjectId('5c98019e3ae8933c509b07c6'), 'name': 'Richard', 'address': 'Sky st 331'}\n",
      "{'_id': ObjectId('5d2d665e3ae893199c88e152'), 'name': 'Richard', 'address': 'Sky st 331'}\n",
      "{'_id': 8, 'name': 'Richard', 'address': 'Sky st 331'}\n",
      "{'_id': ObjectId('5c9801953ae8933c509b07c0'), 'name': 'Peter', 'address': 'Lowstreet 27'}\n",
      "{'_id': ObjectId('5d2d66593ae893199c88e14c'), 'name': 'Peter', 'address': 'Lowstreet 27'}\n",
      "{'_id': 2, 'name': 'Peter', 'address': 'Lowstreet 27'}\n",
      "{'_id': ObjectId('5c98019e3ae8933c509b07c3'), 'name': 'Michael', 'address': 'Canyon 123'}\n",
      "{'_id': ObjectId('5d2d665e3ae893199c88e14f'), 'name': 'Michael', 'address': 'Valley 345'}\n",
      "{'_id': 5, 'name': 'Michael', 'address': 'Valley 345'}\n",
      "{'_id': ObjectId('5c98018b3ae8933c509b07bf'), 'name': 'John', 'address': 'Highway 37'}\n",
      "{'_id': ObjectId('5d2d66503ae893199c88e14b'), 'name': 'John', 'address': 'Highway 37'}\n",
      "{'_id': 1, 'name': 'John', 'address': 'Highway 37'}\n",
      "{'_id': ObjectId('5d2d665e3ae893199c88e14e'), 'name': 'Hannah', 'address': 'Mountain 21'}\n",
      "{'_id': 4, 'name': 'Hannah', 'address': 'Mountain 21'}\n",
      "{'_id': ObjectId('5c98019e3ae8933c509b07cb'), 'name': 'Chuck', 'address': 'Main Road 989'}\n",
      "{'_id': ObjectId('5d2d665e3ae893199c88e157'), 'name': 'Chuck', 'address': 'Main Road 989'}\n",
      "{'_id': 13, 'name': 'Chuck', 'address': 'Main Road 989'}\n",
      "{'_id': ObjectId('5c98019e3ae8933c509b07c5'), 'name': 'Betty', 'address': 'Green Grass 1'}\n",
      "{'_id': ObjectId('5d2d665e3ae893199c88e151'), 'name': 'Betty', 'address': 'Green Grass 1'}\n",
      "{'_id': 7, 'name': 'Betty', 'address': 'Green Grass 1'}\n",
      "{'_id': ObjectId('5c98019e3ae8933c509b07c9'), 'name': 'Ben', 'address': 'Park Lane 38'}\n",
      "{'_id': ObjectId('5d2d665e3ae893199c88e155'), 'name': 'Ben', 'address': 'Park Lane 38'}\n",
      "{'_id': 11, 'name': 'Ben', 'address': 'Park Lane 38'}\n",
      "{'_id': ObjectId('5c98019e3ae8933c509b07c1'), 'name': 'Amy', 'address': 'Apple st 652'}\n",
      "{'_id': ObjectId('5d2d665e3ae893199c88e14d'), 'name': 'Amy', 'address': 'Apple st 652'}\n",
      "{'_id': 3, 'name': 'Amy', 'address': 'Apple st 652'}\n"
     ]
    }
   ],
   "source": [
    "#ANSWER:\n",
    "mydoc = mycol.find().sort(\"name\", direction=pymongo.DESCENDING)\n",
    "for x in mydoc:\n",
    "  print(x)"
   ]
  },
  {
   "cell_type": "markdown",
   "metadata": {
    "colab_type": "text",
    "id": "_FDaYzDHOlrs"
   },
   "source": [
    "A single record can be deleted by specifying some criterion:"
   ]
  },
  {
   "cell_type": "code",
   "execution_count": 29,
   "metadata": {
    "ExecuteTime": {
     "end_time": "2019-07-16T05:54:25.607121Z",
     "start_time": "2019-07-16T05:54:25.600113Z"
    },
    "colab": {},
    "colab_type": "code",
    "id": "ZMUyCeoWOlrt"
   },
   "outputs": [
    {
     "data": {
      "text/plain": [
       "<pymongo.results.DeleteResult at 0x290e13d3f08>"
      ]
     },
     "execution_count": 29,
     "metadata": {},
     "output_type": "execute_result"
    }
   ],
   "source": [
    "mycol.delete_one({ \"address\": \"Mountain 21\" })"
   ]
  },
  {
   "cell_type": "markdown",
   "metadata": {
    "colab_type": "text",
    "id": "NMFsvYYQOlru"
   },
   "source": [
    "Now delete all docs with the 2-digit `Id` values:"
   ]
  },
  {
   "cell_type": "code",
   "execution_count": 30,
   "metadata": {
    "ExecuteTime": {
     "end_time": "2019-07-16T05:54:27.639159Z",
     "start_time": "2019-07-16T05:54:27.619212Z"
    },
    "colab": {},
    "colab_type": "code",
    "id": "prCnKlvfOlru"
   },
   "outputs": [
    {
     "name": "stdout",
     "output_type": "stream",
     "text": [
      "{'_id': ObjectId('5c98018b3ae8933c509b07bf'), 'name': 'John', 'address': 'Highway 37'}\n",
      "{'_id': ObjectId('5c9801953ae8933c509b07c0'), 'name': 'Peter', 'address': 'Lowstreet 27'}\n",
      "{'_id': ObjectId('5c98019e3ae8933c509b07c1'), 'name': 'Amy', 'address': 'Apple st 652'}\n",
      "{'_id': ObjectId('5c98019e3ae8933c509b07c3'), 'name': 'Michael', 'address': 'Canyon 123'}\n",
      "{'_id': ObjectId('5c98019e3ae8933c509b07c4'), 'name': 'Sandy', 'address': 'Ocean blvd 2'}\n",
      "{'_id': ObjectId('5c98019e3ae8933c509b07c5'), 'name': 'Betty', 'address': 'Green Grass 1'}\n",
      "{'_id': ObjectId('5c98019e3ae8933c509b07c6'), 'name': 'Richard', 'address': 'Sky st 331'}\n",
      "{'_id': ObjectId('5c98019e3ae8933c509b07c7'), 'name': 'Susan', 'address': 'One way 98'}\n",
      "{'_id': ObjectId('5c98019e3ae8933c509b07c8'), 'name': 'Vicky', 'address': 'Yellow Garden 2'}\n",
      "{'_id': ObjectId('5c98019e3ae8933c509b07c9'), 'name': 'Ben', 'address': 'Park Lane 38'}\n",
      "{'_id': ObjectId('5c98019e3ae8933c509b07ca'), 'name': 'William', 'address': 'Central st 954'}\n",
      "{'_id': ObjectId('5c98019e3ae8933c509b07cb'), 'name': 'Chuck', 'address': 'Main Road 989'}\n",
      "{'_id': ObjectId('5c98019e3ae8933c509b07cc'), 'name': 'Viola', 'address': 'Sideway 1633'}\n",
      "{'_id': ObjectId('5d2d66503ae893199c88e14b'), 'name': 'John', 'address': 'Highway 37'}\n",
      "{'_id': ObjectId('5d2d66593ae893199c88e14c'), 'name': 'Peter', 'address': 'Lowstreet 27'}\n",
      "{'_id': ObjectId('5d2d665e3ae893199c88e14d'), 'name': 'Amy', 'address': 'Apple st 652'}\n",
      "{'_id': ObjectId('5d2d665e3ae893199c88e14f'), 'name': 'Michael', 'address': 'Valley 345'}\n",
      "{'_id': ObjectId('5d2d665e3ae893199c88e150'), 'name': 'Sandy', 'address': 'Ocean blvd 2'}\n",
      "{'_id': ObjectId('5d2d665e3ae893199c88e151'), 'name': 'Betty', 'address': 'Green Grass 1'}\n",
      "{'_id': ObjectId('5d2d665e3ae893199c88e152'), 'name': 'Richard', 'address': 'Sky st 331'}\n",
      "{'_id': ObjectId('5d2d665e3ae893199c88e153'), 'name': 'Susan', 'address': 'One way 98'}\n",
      "{'_id': ObjectId('5d2d665e3ae893199c88e154'), 'name': 'Vicky', 'address': 'Yellow Garden 2'}\n",
      "{'_id': ObjectId('5d2d665e3ae893199c88e155'), 'name': 'Ben', 'address': 'Park Lane 38'}\n",
      "{'_id': ObjectId('5d2d665e3ae893199c88e156'), 'name': 'William', 'address': 'Central st 954'}\n",
      "{'_id': ObjectId('5d2d665e3ae893199c88e157'), 'name': 'Chuck', 'address': 'Main Road 989'}\n",
      "{'_id': ObjectId('5d2d665e3ae893199c88e158'), 'name': 'Viola', 'address': 'Sideway 1633'}\n"
     ]
    }
   ],
   "source": [
    "#ANSWER:\n",
    "mycol.delete_many({ \"_id\": {\"$lt\": 15} })\n",
    "for x in mycol.find():\n",
    "  print(x)"
   ]
  },
  {
   "cell_type": "markdown",
   "metadata": {
    "colab_type": "text",
    "id": "t3E6UV1cOlrw"
   },
   "source": [
    "This would delete all docs:\n",
    "`x = mycol.delete_many({})`\n",
    "\n",
    "This would remove the collection:\n",
    "`mycol.drop()`"
   ]
  },
  {
   "cell_type": "markdown",
   "metadata": {
    "colab_type": "text",
    "id": "qz0uatIROlrw"
   },
   "source": [
    "Change the first instance of \"address\" == \"Valley 345\" to \"Canyon 123\" using update_one().  \n",
    "(HINT: The 1st paramater of update_one() is the criterion (query); the 2nd is dict specifying the field to change and its new value.) "
   ]
  },
  {
   "cell_type": "code",
   "execution_count": 31,
   "metadata": {
    "ExecuteTime": {
     "end_time": "2019-07-16T05:54:32.165832Z",
     "start_time": "2019-07-16T05:54:32.151869Z"
    },
    "colab": {},
    "colab_type": "code",
    "id": "f2MBnpIjOlrw"
   },
   "outputs": [
    {
     "name": "stdout",
     "output_type": "stream",
     "text": [
      "{'_id': ObjectId('5c98018b3ae8933c509b07bf'), 'name': 'John', 'address': 'Highway 37'}\n",
      "{'_id': ObjectId('5c9801953ae8933c509b07c0'), 'name': 'Peter', 'address': 'Lowstreet 27'}\n",
      "{'_id': ObjectId('5c98019e3ae8933c509b07c1'), 'name': 'Amy', 'address': 'Apple st 652'}\n",
      "{'_id': ObjectId('5c98019e3ae8933c509b07c3'), 'name': 'Michael', 'address': 'Canyon 123'}\n",
      "{'_id': ObjectId('5c98019e3ae8933c509b07c4'), 'name': 'Sandy', 'address': 'Ocean blvd 2'}\n",
      "{'_id': ObjectId('5c98019e3ae8933c509b07c5'), 'name': 'Betty', 'address': 'Green Grass 1'}\n",
      "{'_id': ObjectId('5c98019e3ae8933c509b07c6'), 'name': 'Richard', 'address': 'Sky st 331'}\n",
      "{'_id': ObjectId('5c98019e3ae8933c509b07c7'), 'name': 'Susan', 'address': 'One way 98'}\n",
      "{'_id': ObjectId('5c98019e3ae8933c509b07c8'), 'name': 'Vicky', 'address': 'Yellow Garden 2'}\n",
      "{'_id': ObjectId('5c98019e3ae8933c509b07c9'), 'name': 'Ben', 'address': 'Park Lane 38'}\n",
      "{'_id': ObjectId('5c98019e3ae8933c509b07ca'), 'name': 'William', 'address': 'Central st 954'}\n",
      "{'_id': ObjectId('5c98019e3ae8933c509b07cb'), 'name': 'Chuck', 'address': 'Main Road 989'}\n",
      "{'_id': ObjectId('5c98019e3ae8933c509b07cc'), 'name': 'Viola', 'address': 'Sideway 1633'}\n",
      "{'_id': ObjectId('5d2d66503ae893199c88e14b'), 'name': 'John', 'address': 'Highway 37'}\n",
      "{'_id': ObjectId('5d2d66593ae893199c88e14c'), 'name': 'Peter', 'address': 'Lowstreet 27'}\n",
      "{'_id': ObjectId('5d2d665e3ae893199c88e14d'), 'name': 'Amy', 'address': 'Apple st 652'}\n",
      "{'_id': ObjectId('5d2d665e3ae893199c88e14f'), 'name': 'Michael', 'address': 'Canyon 123'}\n",
      "{'_id': ObjectId('5d2d665e3ae893199c88e150'), 'name': 'Sandy', 'address': 'Ocean blvd 2'}\n",
      "{'_id': ObjectId('5d2d665e3ae893199c88e151'), 'name': 'Betty', 'address': 'Green Grass 1'}\n",
      "{'_id': ObjectId('5d2d665e3ae893199c88e152'), 'name': 'Richard', 'address': 'Sky st 331'}\n",
      "{'_id': ObjectId('5d2d665e3ae893199c88e153'), 'name': 'Susan', 'address': 'One way 98'}\n",
      "{'_id': ObjectId('5d2d665e3ae893199c88e154'), 'name': 'Vicky', 'address': 'Yellow Garden 2'}\n",
      "{'_id': ObjectId('5d2d665e3ae893199c88e155'), 'name': 'Ben', 'address': 'Park Lane 38'}\n",
      "{'_id': ObjectId('5d2d665e3ae893199c88e156'), 'name': 'William', 'address': 'Central st 954'}\n",
      "{'_id': ObjectId('5d2d665e3ae893199c88e157'), 'name': 'Chuck', 'address': 'Main Road 989'}\n",
      "{'_id': ObjectId('5d2d665e3ae893199c88e158'), 'name': 'Viola', 'address': 'Sideway 1633'}\n"
     ]
    }
   ],
   "source": [
    "#ANSWER:\n",
    "myquery = { \"address\": \"Valley 345\" }\n",
    "newvalues = { \"$set\": { \"address\": \"Canyon 123\" } }\n",
    "mycol.update_one(myquery, newvalues)\n",
    "for x in mycol.find():\n",
    "  print(x)"
   ]
  },
  {
   "cell_type": "markdown",
   "metadata": {
    "colab_type": "text",
    "id": "Lzn6Z_B4Olrx"
   },
   "source": [
    "The limit() method can be applied after the find() method to limit the number of docs returned. Show the first 5 docs:"
   ]
  },
  {
   "cell_type": "code",
   "execution_count": 32,
   "metadata": {
    "ExecuteTime": {
     "end_time": "2019-07-16T05:54:35.153723Z",
     "start_time": "2019-07-16T05:54:35.144747Z"
    },
    "colab": {},
    "colab_type": "code",
    "id": "3zP9VIMtOlrx"
   },
   "outputs": [
    {
     "name": "stdout",
     "output_type": "stream",
     "text": [
      "{'_id': ObjectId('5c98018b3ae8933c509b07bf'), 'name': 'John', 'address': 'Highway 37'}\n",
      "{'_id': ObjectId('5c9801953ae8933c509b07c0'), 'name': 'Peter', 'address': 'Lowstreet 27'}\n",
      "{'_id': ObjectId('5c98019e3ae8933c509b07c1'), 'name': 'Amy', 'address': 'Apple st 652'}\n",
      "{'_id': ObjectId('5c98019e3ae8933c509b07c3'), 'name': 'Michael', 'address': 'Canyon 123'}\n",
      "{'_id': ObjectId('5c98019e3ae8933c509b07c4'), 'name': 'Sandy', 'address': 'Ocean blvd 2'}\n"
     ]
    }
   ],
   "source": [
    "#ANSWER:\n",
    "myresult = mycol.find().limit(5)\n",
    "for x in myresult:\n",
    "  print(x)"
   ]
  },
  {
   "cell_type": "markdown",
   "metadata": {
    "colab_type": "text",
    "id": "MdLYImnpOlrz"
   },
   "source": [
    "## PyMongo for Data Science"
   ]
  },
  {
   "cell_type": "markdown",
   "metadata": {
    "colab_type": "text",
    "id": "rRV2bc2hOlrz"
   },
   "source": [
    "MongoDB has many more features of interest to developers, but the main focus of a data scientist will be wrangling and munging the data. It may or may not be desirable to do all the data munging in Pandas; for a large, distributed database, it may be imperative to perform aggregation in MongoDB. "
   ]
  },
  {
   "cell_type": "code",
   "execution_count": 33,
   "metadata": {
    "ExecuteTime": {
     "end_time": "2019-07-16T05:54:38.358906Z",
     "start_time": "2019-07-16T05:54:37.684272Z"
    },
    "colab": {},
    "colab_type": "code",
    "id": "il5hpMF2Olr0"
   },
   "outputs": [],
   "source": [
    "# Ref:  https://rsandstroem.github.io/MongoDBDemo.html\n",
    "\n",
    "import os\n",
    "import pandas as pd\n",
    "import numpy as np"
   ]
  },
  {
   "cell_type": "markdown",
   "metadata": {
    "colab_type": "text",
    "id": "sPhZp-6bOlr1"
   },
   "source": [
    "This code creates a database named \"test\" and populates it from a JSON file using the mongoimport program (executed in the operating systems itself, rather than in Python):"
   ]
  },
  {
   "cell_type": "code",
   "execution_count": 41,
   "metadata": {
    "ExecuteTime": {
     "end_time": "2019-03-24T22:21:26.215055Z",
     "start_time": "2019-03-24T22:21:26.210067Z"
    },
    "colab": {},
    "colab_type": "code",
    "id": "_pBvhyCDOlr1"
   },
   "outputs": [],
   "source": [
    "db = client.test\n",
    "Drop the collection in case it was previously created:\n",
    "collection = db.people\n",
    "collection.drop()"
   ]
  },
  {
   "cell_type": "code",
   "execution_count": 42,
   "metadata": {
    "ExecuteTime": {
     "end_time": "2019-03-24T22:21:26.294841Z",
     "start_time": "2019-03-24T22:21:26.256943Z"
    },
    "colab": {},
    "colab_type": "code",
    "id": "ryMolohiOlr3"
   },
   "outputs": [
    {
     "ename": "FileNotFoundError",
     "evalue": "[WinError 2] The system cannot find the file specified: 'dat'",
     "output_type": "error",
     "traceback": [
      "\u001b[1;31m---------------------------------------------------------------------------\u001b[0m",
      "\u001b[1;31mFileNotFoundError\u001b[0m                         Traceback (most recent call last)",
      "\u001b[1;32m<ipython-input-42-02cf9bd177c6>\u001b[0m in \u001b[0;36m<module>\u001b[1;34m()\u001b[0m\n\u001b[1;32m----> 1\u001b[1;33m \u001b[0mos\u001b[0m\u001b[1;33m.\u001b[0m\u001b[0mchdir\u001b[0m\u001b[1;33m(\u001b[0m\u001b[1;34m\"dat\"\u001b[0m\u001b[1;33m)\u001b[0m\u001b[1;33m\u001b[0m\u001b[0m\n\u001b[0m",
      "\u001b[1;31mFileNotFoundError\u001b[0m: [WinError 2] The system cannot find the file specified: 'dat'"
     ]
    }
   ],
   "source": [
    "os.chdir(\"dat\")"
   ]
  },
  {
   "cell_type": "code",
   "execution_count": 43,
   "metadata": {
    "ExecuteTime": {
     "end_time": "2019-03-24T22:21:53.648998Z",
     "start_time": "2019-03-24T22:21:53.642050Z"
    },
    "colab": {},
    "colab_type": "code",
    "id": "5-2PdpjkOlr5"
   },
   "outputs": [
    {
     "data": {
      "text/plain": [
       "'C:\\\\Users\\\\Faisal\\\\DSIA\\\\dsia'"
      ]
     },
     "execution_count": 43,
     "metadata": {},
     "output_type": "execute_result"
    }
   ],
   "source": [
    "pwd()"
   ]
  },
  {
   "cell_type": "code",
   "execution_count": 52,
   "metadata": {
    "ExecuteTime": {
     "end_time": "2019-03-24T22:50:40.870318Z",
     "start_time": "2019-03-24T22:50:38.430678Z"
    }
   },
   "outputs": [
    {
     "data": {
      "text/plain": [
       "0"
      ]
     },
     "execution_count": 52,
     "metadata": {},
     "output_type": "execute_result"
    }
   ],
   "source": [
    "# if this does not return 0, execute mongoimport from a commmand window instead:\n",
    "os.system('mongoimport --db test --collection people --drop --file C:/Users/Faisal/downloads/dummyData.json')"
   ]
  },
  {
   "cell_type": "code",
   "execution_count": 54,
   "metadata": {
    "ExecuteTime": {
     "end_time": "2019-03-24T22:51:14.064434Z",
     "start_time": "2019-03-24T22:51:12.683717Z"
    },
    "colab": {},
    "colab_type": "code",
    "id": "JEDjmxk2Olr7"
   },
   "outputs": [
    {
     "data": {
      "text/plain": [
       "0"
      ]
     },
     "execution_count": 54,
     "metadata": {},
     "output_type": "execute_result"
    }
   ],
   "source": [
    "# if this does not return 0, execute mongoimport from a commmand window instead:\n",
    "os.system('mongoimport -d test -c people --file C:/Users/Faisal/DSIA/dsia/data/dummyData.json')"
   ]
  },
  {
   "cell_type": "code",
   "execution_count": 0,
   "metadata": {
    "colab": {},
    "colab_type": "code",
    "id": "6Ex48iCPOlr8"
   },
   "outputs": [],
   "source": [
    "os.chdir(\"..\")"
   ]
  },
  {
   "cell_type": "code",
   "execution_count": 0,
   "metadata": {
    "colab": {},
    "colab_type": "code",
    "id": "o7TfXhQMOlr-"
   },
   "outputs": [],
   "source": [
    "pwd()"
   ]
  },
  {
   "cell_type": "code",
   "execution_count": 55,
   "metadata": {
    "ExecuteTime": {
     "end_time": "2019-03-24T22:51:27.384670Z",
     "start_time": "2019-03-24T22:51:27.368689Z"
    },
    "colab": {},
    "colab_type": "code",
    "id": "_f-RjMoFOlr_"
   },
   "outputs": [
    {
     "name": "stdout",
     "output_type": "stream",
     "text": [
      "{'_id': ObjectId('5c9809c0a3032a533cced7ce'), 'Name': 'Sawyer, Neve M.', 'Age': 18, 'Country': 'Serbia', 'Location': '-34.37446, 174.0838'}\n",
      "{'_id': ObjectId('5c9809e2a3032a533cced839'), 'Name': 'Sawyer, Neve M.', 'Age': 18, 'Country': 'Serbia', 'Location': '-34.37446, 174.0838'}\n",
      "{'_id': ObjectId('5c9809c0a3032a533cced78d'), 'Name': 'Townsend, Cadman I.', 'Age': 19, 'Country': 'Somalia', 'Location': '-87.69188, -144.16138'}\n"
     ]
    }
   ],
   "source": [
    "db = client.test\n",
    "collection = db.people\n",
    "cursor = collection.find().sort('Age', pymongo.ASCENDING).limit(3)\n",
    "for doc in cursor:\n",
    "    print (doc)"
   ]
  },
  {
   "cell_type": "markdown",
   "metadata": {
    "colab_type": "text",
    "id": "oDqJyxYWOlsA"
   },
   "source": [
    "Here is a small demonstration of the MongoDB aggregation framework. We want to create a table of the number of persons in each country and their average age. To do it we group by country. We extract the results from MongoDB aggregation into a pandas dataframe, and use the country as index."
   ]
  },
  {
   "cell_type": "code",
   "execution_count": 56,
   "metadata": {
    "ExecuteTime": {
     "end_time": "2019-03-24T22:51:32.124820Z",
     "start_time": "2019-03-24T22:51:32.042070Z"
    },
    "colab": {},
    "colab_type": "code",
    "id": "qe0uLGpjOlsB"
   },
   "outputs": [
    {
     "data": {
      "text/html": [
       "<div>\n",
       "<style scoped>\n",
       "    .dataframe tbody tr th:only-of-type {\n",
       "        vertical-align: middle;\n",
       "    }\n",
       "\n",
       "    .dataframe tbody tr th {\n",
       "        vertical-align: top;\n",
       "    }\n",
       "\n",
       "    .dataframe thead th {\n",
       "        text-align: right;\n",
       "    }\n",
       "</style>\n",
       "<table border=\"1\" class=\"dataframe\">\n",
       "  <thead>\n",
       "    <tr style=\"text-align: right;\">\n",
       "      <th></th>\n",
       "      <th>AvgAge</th>\n",
       "      <th>Count</th>\n",
       "    </tr>\n",
       "    <tr>\n",
       "      <th>_id</th>\n",
       "      <th></th>\n",
       "      <th></th>\n",
       "    </tr>\n",
       "  </thead>\n",
       "  <tbody>\n",
       "    <tr>\n",
       "      <th>China</th>\n",
       "      <td>46.250000</td>\n",
       "      <td>8</td>\n",
       "    </tr>\n",
       "    <tr>\n",
       "      <th>Antarctica</th>\n",
       "      <td>46.333333</td>\n",
       "      <td>6</td>\n",
       "    </tr>\n",
       "    <tr>\n",
       "      <th>Guernsey</th>\n",
       "      <td>48.333333</td>\n",
       "      <td>6</td>\n",
       "    </tr>\n",
       "    <tr>\n",
       "      <th>Puerto Rico</th>\n",
       "      <td>26.500000</td>\n",
       "      <td>4</td>\n",
       "    </tr>\n",
       "    <tr>\n",
       "      <th>Heard Island and Mcdonald Islands</th>\n",
       "      <td>29.000000</td>\n",
       "      <td>4</td>\n",
       "    </tr>\n",
       "  </tbody>\n",
       "</table>\n",
       "</div>"
      ],
      "text/plain": [
       "                                      AvgAge  Count\n",
       "_id                                                \n",
       "China                              46.250000      8\n",
       "Antarctica                         46.333333      6\n",
       "Guernsey                           48.333333      6\n",
       "Puerto Rico                        26.500000      4\n",
       "Heard Island and Mcdonald Islands  29.000000      4"
      ]
     },
     "execution_count": 56,
     "metadata": {},
     "output_type": "execute_result"
    }
   ],
   "source": [
    "pipeline = [\n",
    "        {\"$group\": {\"_id\":\"$Country\",\n",
    "             \"AvgAge\":{\"$avg\":\"$Age\"},\n",
    "             \"Count\":{\"$sum\":1},\n",
    "        }},\n",
    "        {\"$sort\":{\"Count\":-1,\"AvgAge\":1}}\n",
    "]\n",
    "aggResult = collection.aggregate(pipeline) # returns a cursor\n",
    "\n",
    "df1 = pd.DataFrame(list(aggResult)) # use list to turn the cursor to an array of documents\n",
    "df1 = df1.set_index(\"_id\")\n",
    "df1.head()"
   ]
  },
  {
   "cell_type": "markdown",
   "metadata": {
    "colab_type": "text",
    "id": "JNCe_oGYOlsC"
   },
   "source": [
    "For simple cases one can either use a cursor through find(\"search term\") or use the \"$match\" operator in the aggregation framework, like this:"
   ]
  },
  {
   "cell_type": "code",
   "execution_count": 57,
   "metadata": {
    "ExecuteTime": {
     "end_time": "2019-03-24T22:51:57.132158Z",
     "start_time": "2019-03-24T22:51:57.104233Z"
    },
    "colab": {},
    "colab_type": "code",
    "id": "WTTAlaHnOlsD"
   },
   "outputs": [
    {
     "data": {
      "text/html": [
       "<div>\n",
       "<style scoped>\n",
       "    .dataframe tbody tr th:only-of-type {\n",
       "        vertical-align: middle;\n",
       "    }\n",
       "\n",
       "    .dataframe tbody tr th {\n",
       "        vertical-align: top;\n",
       "    }\n",
       "\n",
       "    .dataframe thead th {\n",
       "        text-align: right;\n",
       "    }\n",
       "</style>\n",
       "<table border=\"1\" class=\"dataframe\">\n",
       "  <thead>\n",
       "    <tr style=\"text-align: right;\">\n",
       "      <th></th>\n",
       "      <th>Age</th>\n",
       "      <th>Country</th>\n",
       "      <th>Location</th>\n",
       "      <th>Name</th>\n",
       "      <th>_id</th>\n",
       "    </tr>\n",
       "  </thead>\n",
       "  <tbody>\n",
       "    <tr>\n",
       "      <th>0</th>\n",
       "      <td>32</td>\n",
       "      <td>China</td>\n",
       "      <td>39.9127, 116.3833</td>\n",
       "      <td>Holman, Hasad O.</td>\n",
       "      <td>5c9809c0a3032a533cced78a</td>\n",
       "    </tr>\n",
       "    <tr>\n",
       "      <th>1</th>\n",
       "      <td>43</td>\n",
       "      <td>China</td>\n",
       "      <td>31.2, 121.5</td>\n",
       "      <td>Byrd, Dante A.</td>\n",
       "      <td>5c9809c0a3032a533cced7c4</td>\n",
       "    </tr>\n",
       "    <tr>\n",
       "      <th>2</th>\n",
       "      <td>57</td>\n",
       "      <td>China</td>\n",
       "      <td>45.75, 126.6333</td>\n",
       "      <td>Carney, Tamekah I.</td>\n",
       "      <td>5c9809c0a3032a533cced7d0</td>\n",
       "    </tr>\n",
       "    <tr>\n",
       "      <th>3</th>\n",
       "      <td>53</td>\n",
       "      <td>China</td>\n",
       "      <td>40, 95</td>\n",
       "      <td>Mayer, Violet U.</td>\n",
       "      <td>5c9809c0a3032a533cced7da</td>\n",
       "    </tr>\n",
       "    <tr>\n",
       "      <th>4</th>\n",
       "      <td>32</td>\n",
       "      <td>China</td>\n",
       "      <td>39.9127, 116.3833</td>\n",
       "      <td>Holman, Hasad O.</td>\n",
       "      <td>5c9809e2a3032a533cced7f5</td>\n",
       "    </tr>\n",
       "  </tbody>\n",
       "</table>\n",
       "</div>"
      ],
      "text/plain": [
       "   Age Country           Location                Name  \\\n",
       "0   32   China  39.9127, 116.3833    Holman, Hasad O.   \n",
       "1   43   China        31.2, 121.5      Byrd, Dante A.   \n",
       "2   57   China    45.75, 126.6333  Carney, Tamekah I.   \n",
       "3   53   China             40, 95    Mayer, Violet U.   \n",
       "4   32   China  39.9127, 116.3833    Holman, Hasad O.   \n",
       "\n",
       "                        _id  \n",
       "0  5c9809c0a3032a533cced78a  \n",
       "1  5c9809c0a3032a533cced7c4  \n",
       "2  5c9809c0a3032a533cced7d0  \n",
       "3  5c9809c0a3032a533cced7da  \n",
       "4  5c9809e2a3032a533cced7f5  "
      ]
     },
     "execution_count": 57,
     "metadata": {},
     "output_type": "execute_result"
    }
   ],
   "source": [
    "pipeline = [\n",
    "        {\"$match\": {\"Country\":\"China\"}},\n",
    "]\n",
    "aggResult = collection.aggregate(pipeline)\n",
    "df2 = pd.DataFrame(list(aggResult))\n",
    "df2.head()"
   ]
  },
  {
   "cell_type": "markdown",
   "metadata": {
    "colab_type": "text",
    "id": "o4tyQNwPOlsE"
   },
   "source": [
    "Now we can apply all the power of Python libraries to analyse and visualise the data. Here, we will use the folium package to plot markers for the locations of the people we just found in China (click on a marker to see their data):"
   ]
  },
  {
   "cell_type": "code",
   "execution_count": 0,
   "metadata": {
    "colab": {},
    "colab_type": "code",
    "id": "WpFwKRdxOlsE"
   },
   "outputs": [],
   "source": [
    "# Un-comment and execute to install folium pkg (1st time only):\n",
    "# import sys\n",
    "# !{sys.executable} -m pip install folium"
   ]
  },
  {
   "cell_type": "code",
   "execution_count": 58,
   "metadata": {
    "ExecuteTime": {
     "end_time": "2019-03-24T22:52:02.542611Z",
     "start_time": "2019-03-24T22:52:02.011140Z"
    },
    "colab": {},
    "colab_type": "code",
    "id": "sk-6gtnzOlsF"
   },
   "outputs": [
    {
     "name": "stdout",
     "output_type": "stream",
     "text": [
      "Folium version 0.7.0\n"
     ]
    },
    {
     "data": {
      "text/html": [
       "<div style=\"width:100%;\"><div style=\"position:relative;width:100%;height:0;padding-bottom:60%;\"><iframe src=\"data:text/html;charset=utf-8;base64,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\" style=\"position:absolute;width:100%;height:100%;left:0;top:0;border:none !important;\" allowfullscreen webkitallowfullscreen mozallowfullscreen></iframe></div></div>"
      ],
      "text/plain": [
       "<folium.folium.Map at 0x28b6218bdd8>"
      ]
     },
     "execution_count": 58,
     "metadata": {},
     "output_type": "execute_result"
    }
   ],
   "source": [
    "import folium\n",
    "print ('Folium version ' + folium.__version__)\n",
    "\n",
    "world_map = folium.Map(location = [35, 100], zoom_start = 4)\n",
    "for i in range(len(df2)):\n",
    "    location = [float(loc) for loc in df2.Location[i].split(',')]\n",
    "    folium.Marker(location = location, popup = df2.Name[i] + ', age:' + str(df2.Age[i])).add_to(world_map)\n",
    "    \n",
    "world_map"
   ]
  },
  {
   "cell_type": "markdown",
   "metadata": {
    "colab_type": "text",
    "id": "UK-pDm83OlsG"
   },
   "source": [
    "## HOMEWORK:\n"
   ]
  },
  {
   "cell_type": "markdown",
   "metadata": {
    "colab_type": "text",
    "id": "Rg-jyGycOlsG"
   },
   "source": [
    "1. Read up on how to perform aggregation in mongoDB. Insert a duplicate record into the collection:\n",
    "        mydict = { \"name\": \"John\", \"address\": \"Highway 37\" }\n",
    "   Now write a command to find docs with a duplicate \"name\" field (using aggregation) and remove them.  \n",
    "   Print the collection."
   ]
  },
  {
   "cell_type": "code",
   "execution_count": 0,
   "metadata": {
    "colab": {},
    "colab_type": "code",
    "id": "PPFU3U4TOlsG"
   },
   "outputs": [],
   "source": []
  },
  {
   "cell_type": "markdown",
   "metadata": {
    "colab_type": "text",
    "id": "Nr1w7ut5OlsH"
   },
   "source": [
    "2. Read up on how to apply indexes in mongoDB. Create an index on the \"name\" and \"address\" fields in this collection.\n",
    "   Print the indexes for the collection."
   ]
  },
  {
   "cell_type": "code",
   "execution_count": 0,
   "metadata": {
    "colab": {},
    "colab_type": "code",
    "id": "JCZSnODjOlsI"
   },
   "outputs": [],
   "source": []
  },
  {
   "cell_type": "markdown",
   "metadata": {
    "colab_type": "text",
    "id": "hjlo5gkON5nB"
   },
   "source": [
    ">\n",
    ">\n",
    ">\n",
    ">\n",
    ">"
   ]
  },
  {
   "cell_type": "markdown",
   "metadata": {
    "colab_type": "text",
    "id": "G5miCSgGN8lm"
   },
   "source": [
    ">\n",
    ">\n"
   ]
  },
  {
   "cell_type": "markdown",
   "metadata": {
    "colab_type": "text",
    "id": "fWOk43cgN71c"
   },
   "source": [
    "\n",
    "\n",
    "---\n",
    "\n",
    "\n",
    "\n",
    "---\n",
    "\n",
    "> > > > > > > > > © 2019 Data Science Institute of Australia\n",
    "\n",
    "\n",
    "\n",
    "---\n",
    "\n",
    "\n",
    "\n",
    "---\n",
    "\n"
   ]
  }
 ],
 "metadata": {
  "colab": {
   "collapsed_sections": [
    "MdLYImnpOlrz"
   ],
   "include_colab_link": true,
   "name": "DSIA Lab 2.1.4 - ANSWER.ipynb",
   "provenance": [],
   "version": "0.3.2"
  },
  "kernelspec": {
   "display_name": "Python 3",
   "language": "python",
   "name": "python3"
  },
  "language_info": {
   "codemirror_mode": {
    "name": "ipython",
    "version": 3
   },
   "file_extension": ".py",
   "mimetype": "text/x-python",
   "name": "python",
   "nbconvert_exporter": "python",
   "pygments_lexer": "ipython3",
   "version": "3.6.4"
  },
  "varInspector": {
   "cols": {
    "lenName": 16,
    "lenType": 16,
    "lenVar": 40
   },
   "kernels_config": {
    "python": {
     "delete_cmd_postfix": "",
     "delete_cmd_prefix": "del ",
     "library": "var_list.py",
     "varRefreshCmd": "print(var_dic_list())"
    },
    "r": {
     "delete_cmd_postfix": ") ",
     "delete_cmd_prefix": "rm(",
     "library": "var_list.r",
     "varRefreshCmd": "cat(var_dic_list()) "
    }
   },
   "types_to_exclude": [
    "module",
    "function",
    "builtin_function_or_method",
    "instance",
    "_Feature"
   ],
   "window_display": false
  }
 },
 "nbformat": 4,
 "nbformat_minor": 1
}
