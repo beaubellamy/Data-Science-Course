{
 "cells": [
  {
   "cell_type": "code",
   "execution_count": 1,
   "metadata": {
    "ExecuteTime": {
     "end_time": "2019-03-28T00:41:18.993803Z",
     "start_time": "2019-03-28T00:41:13.918372Z"
    }
   },
   "outputs": [],
   "source": [
    "from google.cloud import bigquery\n",
    "from google.cloud.bigquery import Dataset\n",
    "from google.cloud import storage"
   ]
  },
  {
   "cell_type": "code",
   "execution_count": 2,
   "metadata": {
    "ExecuteTime": {
     "end_time": "2019-03-28T00:41:19.007767Z",
     "start_time": "2019-03-28T00:41:18.997793Z"
    }
   },
   "outputs": [],
   "source": [
    "key_path = 'C:/GCP/blackcatdataquery-72aee38227a6.json'\n",
    "project_id = 'blackcatdataquery'\n",
    "public_project = 'bigquery-public-data'\n",
    "storage_client = storage.Client.from_service_account_json(key_path)\n",
    "client = bigquery.Client.from_service_account_json(key_path, project=public_project)"
   ]
  },
  {
   "cell_type": "code",
   "execution_count": 3,
   "metadata": {
    "ExecuteTime": {
     "end_time": "2019-03-28T00:41:20.890354Z",
     "start_time": "2019-03-28T00:41:19.013750Z"
    }
   },
   "outputs": [
    {
     "name": "stdout",
     "output_type": "stream",
     "text": [
      "[<google.cloud.bigquery.dataset.DatasetListItem object at 0x0000028E9B54F5C0>, <google.cloud.bigquery.dataset.DatasetListItem object at 0x0000028E9B56CF98>, <google.cloud.bigquery.dataset.DatasetListItem object at 0x0000028E9B56C4E0>, <google.cloud.bigquery.dataset.DatasetListItem object at 0x0000028E9B56C9E8>, <google.cloud.bigquery.dataset.DatasetListItem object at 0x0000028E9B56C550>, <google.cloud.bigquery.dataset.DatasetListItem object at 0x0000028E9B56C048>, <google.cloud.bigquery.dataset.DatasetListItem object at 0x0000028E9B58C860>, <google.cloud.bigquery.dataset.DatasetListItem object at 0x0000028E9B58C7F0>, <google.cloud.bigquery.dataset.DatasetListItem object at 0x0000028E9B58C828>, <google.cloud.bigquery.dataset.DatasetListItem object at 0x0000028E9B58C6A0>, <google.cloud.bigquery.dataset.DatasetListItem object at 0x0000028E9B58C7B8>, <google.cloud.bigquery.dataset.DatasetListItem object at 0x0000028E9B58C278>, <google.cloud.bigquery.dataset.DatasetListItem object at 0x0000028E9B58CFD0>, <google.cloud.bigquery.dataset.DatasetListItem object at 0x0000028E9B58CF60>, <google.cloud.bigquery.dataset.DatasetListItem object at 0x0000028E9B58CC50>, <google.cloud.bigquery.dataset.DatasetListItem object at 0x0000028E9B58C630>, <google.cloud.bigquery.dataset.DatasetListItem object at 0x0000028E9B58CAC8>, <google.cloud.bigquery.dataset.DatasetListItem object at 0x0000028E9B58CB00>, <google.cloud.bigquery.dataset.DatasetListItem object at 0x0000028E9B58CB70>, <google.cloud.bigquery.dataset.DatasetListItem object at 0x0000028E9B58CB38>, <google.cloud.bigquery.dataset.DatasetListItem object at 0x0000028E9B58CBA8>, <google.cloud.bigquery.dataset.DatasetListItem object at 0x0000028E9B58CE80>, <google.cloud.bigquery.dataset.DatasetListItem object at 0x0000028E9B5B3B00>, <google.cloud.bigquery.dataset.DatasetListItem object at 0x0000028E9B5B3D68>, <google.cloud.bigquery.dataset.DatasetListItem object at 0x0000028E9B5B3D30>, <google.cloud.bigquery.dataset.DatasetListItem object at 0x0000028E9B5B3CC0>, <google.cloud.bigquery.dataset.DatasetListItem object at 0x0000028E9B5B3CF8>, <google.cloud.bigquery.dataset.DatasetListItem object at 0x0000028E9B5B3C88>, <google.cloud.bigquery.dataset.DatasetListItem object at 0x0000028E9B5B3E10>, <google.cloud.bigquery.dataset.DatasetListItem object at 0x0000028E9B5B3DD8>, <google.cloud.bigquery.dataset.DatasetListItem object at 0x0000028E9B5B3EF0>, <google.cloud.bigquery.dataset.DatasetListItem object at 0x0000028E9B5B3EB8>, <google.cloud.bigquery.dataset.DatasetListItem object at 0x0000028E9B5B3F28>, <google.cloud.bigquery.dataset.DatasetListItem object at 0x0000028E9B5B3F98>, <google.cloud.bigquery.dataset.DatasetListItem object at 0x0000028E9B5B3F60>, <google.cloud.bigquery.dataset.DatasetListItem object at 0x0000028E9B5B3E80>, <google.cloud.bigquery.dataset.DatasetListItem object at 0x0000028E9B5B3E48>, <google.cloud.bigquery.dataset.DatasetListItem object at 0x0000028E9B5B3FD0>, <google.cloud.bigquery.dataset.DatasetListItem object at 0x0000028E9B5C3048>, <google.cloud.bigquery.dataset.DatasetListItem object at 0x0000028E9B5C3080>, <google.cloud.bigquery.dataset.DatasetListItem object at 0x0000028E9B5C30B8>, <google.cloud.bigquery.dataset.DatasetListItem object at 0x0000028E9B5C30F0>, <google.cloud.bigquery.dataset.DatasetListItem object at 0x0000028E9B5C3128>, <google.cloud.bigquery.dataset.DatasetListItem object at 0x0000028E9B5C3160>, <google.cloud.bigquery.dataset.DatasetListItem object at 0x0000028E9B5C3198>, <google.cloud.bigquery.dataset.DatasetListItem object at 0x0000028E9B5C31D0>, <google.cloud.bigquery.dataset.DatasetListItem object at 0x0000028E9B5C3208>, <google.cloud.bigquery.dataset.DatasetListItem object at 0x0000028E9B5C3240>, <google.cloud.bigquery.dataset.DatasetListItem object at 0x0000028E9B5C3278>, <google.cloud.bigquery.dataset.DatasetListItem object at 0x0000028E9B5C32B0>, <google.cloud.bigquery.dataset.DatasetListItem object at 0x0000028E9B56C5F8>, <google.cloud.bigquery.dataset.DatasetListItem object at 0x0000028E9B56C518>, <google.cloud.bigquery.dataset.DatasetListItem object at 0x0000028E9B58CCF8>, <google.cloud.bigquery.dataset.DatasetListItem object at 0x0000028E9B58CF98>, <google.cloud.bigquery.dataset.DatasetListItem object at 0x0000028E9B58CDD8>, <google.cloud.bigquery.dataset.DatasetListItem object at 0x0000028E9B58CEB8>, <google.cloud.bigquery.dataset.DatasetListItem object at 0x0000028E9B58CEF0>, <google.cloud.bigquery.dataset.DatasetListItem object at 0x0000028E9B58CF28>, <google.cloud.bigquery.dataset.DatasetListItem object at 0x0000028E9B5C3390>, <google.cloud.bigquery.dataset.DatasetListItem object at 0x0000028E9B5C3470>, <google.cloud.bigquery.dataset.DatasetListItem object at 0x0000028E9B5C3400>, <google.cloud.bigquery.dataset.DatasetListItem object at 0x0000028E9B5C33C8>, <google.cloud.bigquery.dataset.DatasetListItem object at 0x0000028E9B5C35F8>, <google.cloud.bigquery.dataset.DatasetListItem object at 0x0000028E9B5C3550>, <google.cloud.bigquery.dataset.DatasetListItem object at 0x0000028E9B5C3710>, <google.cloud.bigquery.dataset.DatasetListItem object at 0x0000028E9B5C3780>, <google.cloud.bigquery.dataset.DatasetListItem object at 0x0000028E9B5C3940>, <google.cloud.bigquery.dataset.DatasetListItem object at 0x0000028E9B5C3908>, <google.cloud.bigquery.dataset.DatasetListItem object at 0x0000028E9B5C37F0>, <google.cloud.bigquery.dataset.DatasetListItem object at 0x0000028E9B5C38D0>, <google.cloud.bigquery.dataset.DatasetListItem object at 0x0000028E9B5C3898>, <google.cloud.bigquery.dataset.DatasetListItem object at 0x0000028E9B5C3860>, <google.cloud.bigquery.dataset.DatasetListItem object at 0x0000028E9B5C3828>, <google.cloud.bigquery.dataset.DatasetListItem object at 0x0000028E9B5C37B8>, <google.cloud.bigquery.dataset.DatasetListItem object at 0x0000028E9B5CD400>, <google.cloud.bigquery.dataset.DatasetListItem object at 0x0000028E9B5CD438>, <google.cloud.bigquery.dataset.DatasetListItem object at 0x0000028E9B5CD470>, <google.cloud.bigquery.dataset.DatasetListItem object at 0x0000028E9B5CD4A8>, <google.cloud.bigquery.dataset.DatasetListItem object at 0x0000028E9B5CD4E0>, <google.cloud.bigquery.dataset.DatasetListItem object at 0x0000028E9B5CD518>, <google.cloud.bigquery.dataset.DatasetListItem object at 0x0000028E9B5CD550>, <google.cloud.bigquery.dataset.DatasetListItem object at 0x0000028E9B5CD588>, <google.cloud.bigquery.dataset.DatasetListItem object at 0x0000028E9B5CD5C0>, <google.cloud.bigquery.dataset.DatasetListItem object at 0x0000028E9B5CD5F8>, <google.cloud.bigquery.dataset.DatasetListItem object at 0x0000028E9B5CD630>, <google.cloud.bigquery.dataset.DatasetListItem object at 0x0000028E9B5CD668>, <google.cloud.bigquery.dataset.DatasetListItem object at 0x0000028E9B5CD6A0>, <google.cloud.bigquery.dataset.DatasetListItem object at 0x0000028E9B5CD6D8>, <google.cloud.bigquery.dataset.DatasetListItem object at 0x0000028E9B5CD710>, <google.cloud.bigquery.dataset.DatasetListItem object at 0x0000028E9B5CD748>, <google.cloud.bigquery.dataset.DatasetListItem object at 0x0000028E9B5CD780>, <google.cloud.bigquery.dataset.DatasetListItem object at 0x0000028E9B5CD7B8>, <google.cloud.bigquery.dataset.DatasetListItem object at 0x0000028E9B5CD7F0>, <google.cloud.bigquery.dataset.DatasetListItem object at 0x0000028E9B5CD828>, <google.cloud.bigquery.dataset.DatasetListItem object at 0x0000028E9B5CD860>]\n"
     ]
    }
   ],
   "source": [
    "datasets = list(client.list_datasets())\n",
    "print(datasets)"
   ]
  },
  {
   "cell_type": "code",
   "execution_count": 4,
   "metadata": {
    "ExecuteTime": {
     "end_time": "2019-03-28T00:41:20.910313Z",
     "start_time": "2019-03-28T00:41:20.894344Z"
    }
   },
   "outputs": [
    {
     "data": {
      "text/plain": [
       "'austin_311'"
      ]
     },
     "execution_count": 4,
     "metadata": {},
     "output_type": "execute_result"
    }
   ],
   "source": [
    "datasets[0].dataset_id"
   ]
  },
  {
   "cell_type": "code",
   "execution_count": 5,
   "metadata": {
    "ExecuteTime": {
     "end_time": "2019-03-28T00:41:20.926257Z",
     "start_time": "2019-03-28T00:41:20.913292Z"
    }
   },
   "outputs": [],
   "source": [
    "dataset_id = 'stackoverflow'\n",
    "dataset_ref = client.dataset(dataset_id, project = public_project)"
   ]
  },
  {
   "cell_type": "code",
   "execution_count": 6,
   "metadata": {
    "ExecuteTime": {
     "end_time": "2019-03-28T00:41:20.939225Z",
     "start_time": "2019-03-28T00:41:20.929250Z"
    }
   },
   "outputs": [],
   "source": [
    "def printTableList(client, dataset_id):\n",
    "    project = client.project\n",
    "    dataset_ref = client.dataset(dataset_id, project = project)    \n",
    "    tables = list(client.list_tables(dataset_ref))\n",
    "    if tables:\n",
    "        print('Tables in dataset {}:'.format(dataset_id))\n",
    "        for table in tables: \n",
    "            print('\\t{}'.format(table.table_id))\n",
    "        found = True\n",
    "    else:\n",
    "        print('{} dataset does not contain any tables.'.format(dataset_id))\n",
    "        found = False\n",
    "    return found"
   ]
  },
  {
   "cell_type": "code",
   "execution_count": 7,
   "metadata": {
    "ExecuteTime": {
     "end_time": "2019-03-28T00:41:21.382040Z",
     "start_time": "2019-03-28T00:41:20.944211Z"
    }
   },
   "outputs": [
    {
     "name": "stdout",
     "output_type": "stream",
     "text": [
      "Tables in dataset stackoverflow:\n",
      "\tbadges\n",
      "\tcomments\n",
      "\tpost_history\n",
      "\tpost_links\n",
      "\tposts_answers\n",
      "\tposts_moderator_nomination\n",
      "\tposts_orphaned_tag_wiki\n",
      "\tposts_privilege_wiki\n",
      "\tposts_questions\n",
      "\tposts_tag_wiki\n",
      "\tposts_tag_wiki_excerpt\n",
      "\tposts_wiki_placeholder\n",
      "\tstackoverflow_posts\n",
      "\ttags\n",
      "\tusers\n",
      "\tvotes\n"
     ]
    },
    {
     "data": {
      "text/plain": [
       "True"
      ]
     },
     "execution_count": 7,
     "metadata": {},
     "output_type": "execute_result"
    }
   ],
   "source": [
    "printTableList(client, dataset_id)"
   ]
  },
  {
   "cell_type": "code",
   "execution_count": 8,
   "metadata": {
    "ExecuteTime": {
     "end_time": "2019-03-28T00:41:21.394009Z",
     "start_time": "2019-03-28T00:41:21.387027Z"
    }
   },
   "outputs": [],
   "source": [
    "client = bigquery.Client.from_service_account_json(key_path, project=project_id)"
   ]
  },
  {
   "cell_type": "code",
   "execution_count": 14,
   "metadata": {
    "ExecuteTime": {
     "end_time": "2019-03-28T00:42:21.262158Z",
     "start_time": "2019-03-28T00:42:18.982163Z"
    }
   },
   "outputs": [
    {
     "data": {
      "text/html": [
       "<div>\n",
       "<style scoped>\n",
       "    .dataframe tbody tr th:only-of-type {\n",
       "        vertical-align: middle;\n",
       "    }\n",
       "\n",
       "    .dataframe tbody tr th {\n",
       "        vertical-align: top;\n",
       "    }\n",
       "\n",
       "    .dataframe thead th {\n",
       "        text-align: right;\n",
       "    }\n",
       "</style>\n",
       "<table border=\"1\" class=\"dataframe\">\n",
       "  <thead>\n",
       "    <tr style=\"text-align: right;\">\n",
       "      <th></th>\n",
       "      <th>year</th>\n",
       "      <th>view_count</th>\n",
       "    </tr>\n",
       "  </thead>\n",
       "  <tbody>\n",
       "    <tr>\n",
       "      <th>0</th>\n",
       "      <td>2015</td>\n",
       "      <td>5594392</td>\n",
       "    </tr>\n",
       "    <tr>\n",
       "      <th>1</th>\n",
       "      <td>2013</td>\n",
       "      <td>5449815</td>\n",
       "    </tr>\n",
       "    <tr>\n",
       "      <th>2</th>\n",
       "      <td>2014</td>\n",
       "      <td>5431540</td>\n",
       "    </tr>\n",
       "    <tr>\n",
       "      <th>3</th>\n",
       "      <td>2012</td>\n",
       "      <td>4537016</td>\n",
       "    </tr>\n",
       "    <tr>\n",
       "      <th>4</th>\n",
       "      <td>2011</td>\n",
       "      <td>3522973</td>\n",
       "    </tr>\n",
       "    <tr>\n",
       "      <th>5</th>\n",
       "      <td>2016</td>\n",
       "      <td>2712802</td>\n",
       "    </tr>\n",
       "    <tr>\n",
       "      <th>6</th>\n",
       "      <td>2010</td>\n",
       "      <td>2185647</td>\n",
       "    </tr>\n",
       "    <tr>\n",
       "      <th>7</th>\n",
       "      <td>2009</td>\n",
       "      <td>1303200</td>\n",
       "    </tr>\n",
       "    <tr>\n",
       "      <th>8</th>\n",
       "      <td>2008</td>\n",
       "      <td>280504</td>\n",
       "    </tr>\n",
       "  </tbody>\n",
       "</table>\n",
       "</div>"
      ],
      "text/plain": [
       "   year  view_count\n",
       "0  2015     5594392\n",
       "1  2013     5449815\n",
       "2  2014     5431540\n",
       "3  2012     4537016\n",
       "4  2011     3522973\n",
       "5  2016     2712802\n",
       "6  2010     2185647\n",
       "7  2009     1303200\n",
       "8  2008      280504"
      ]
     },
     "execution_count": 14,
     "metadata": {},
     "output_type": "execute_result"
    }
   ],
   "source": [
    "sql = '''\n",
    "    SELECT \n",
    "        EXTRACT(YEAR FROM creation_date) AS year\n",
    "        , COUNT(creation_date) AS view_count\n",
    "    FROM `bigquery-public-data.stackoverflow.stackoverflow_posts` \n",
    "    GROUP BY year\n",
    "    ORDER BY view_count DESC\n",
    "    LIMIT 10\n",
    "'''\n",
    "\n",
    "query_job = client.query(sql)\n",
    "df = query_job.to_dataframe()"
   ]
  },
  {
   "cell_type": "code",
   "execution_count": 15,
   "metadata": {
    "ExecuteTime": {
     "end_time": "2019-03-28T00:42:31.821177Z",
     "start_time": "2019-03-28T00:42:31.809203Z"
    }
   },
   "outputs": [
    {
     "data": {
      "text/html": [
       "<div>\n",
       "<style scoped>\n",
       "    .dataframe tbody tr th:only-of-type {\n",
       "        vertical-align: middle;\n",
       "    }\n",
       "\n",
       "    .dataframe tbody tr th {\n",
       "        vertical-align: top;\n",
       "    }\n",
       "\n",
       "    .dataframe thead th {\n",
       "        text-align: right;\n",
       "    }\n",
       "</style>\n",
       "<table border=\"1\" class=\"dataframe\">\n",
       "  <thead>\n",
       "    <tr style=\"text-align: right;\">\n",
       "      <th></th>\n",
       "      <th>year</th>\n",
       "      <th>view_count</th>\n",
       "    </tr>\n",
       "  </thead>\n",
       "  <tbody>\n",
       "    <tr>\n",
       "      <th>0</th>\n",
       "      <td>2015</td>\n",
       "      <td>5594392</td>\n",
       "    </tr>\n",
       "    <tr>\n",
       "      <th>1</th>\n",
       "      <td>2013</td>\n",
       "      <td>5449815</td>\n",
       "    </tr>\n",
       "    <tr>\n",
       "      <th>2</th>\n",
       "      <td>2014</td>\n",
       "      <td>5431540</td>\n",
       "    </tr>\n",
       "    <tr>\n",
       "      <th>3</th>\n",
       "      <td>2012</td>\n",
       "      <td>4537016</td>\n",
       "    </tr>\n",
       "    <tr>\n",
       "      <th>4</th>\n",
       "      <td>2011</td>\n",
       "      <td>3522973</td>\n",
       "    </tr>\n",
       "    <tr>\n",
       "      <th>5</th>\n",
       "      <td>2016</td>\n",
       "      <td>2712802</td>\n",
       "    </tr>\n",
       "    <tr>\n",
       "      <th>6</th>\n",
       "      <td>2010</td>\n",
       "      <td>2185647</td>\n",
       "    </tr>\n",
       "    <tr>\n",
       "      <th>7</th>\n",
       "      <td>2009</td>\n",
       "      <td>1303200</td>\n",
       "    </tr>\n",
       "    <tr>\n",
       "      <th>8</th>\n",
       "      <td>2008</td>\n",
       "      <td>280504</td>\n",
       "    </tr>\n",
       "  </tbody>\n",
       "</table>\n",
       "</div>"
      ],
      "text/plain": [
       "   year  view_count\n",
       "0  2015     5594392\n",
       "1  2013     5449815\n",
       "2  2014     5431540\n",
       "3  2012     4537016\n",
       "4  2011     3522973\n",
       "5  2016     2712802\n",
       "6  2010     2185647\n",
       "7  2009     1303200\n",
       "8  2008      280504"
      ]
     },
     "execution_count": 15,
     "metadata": {},
     "output_type": "execute_result"
    }
   ],
   "source": [
    "df.head(10)"
   ]
  },
  {
   "cell_type": "code",
   "execution_count": 16,
   "metadata": {
    "ExecuteTime": {
     "end_time": "2019-03-28T00:42:37.424555Z",
     "start_time": "2019-03-28T00:42:37.418577Z"
    }
   },
   "outputs": [
    {
     "data": {
      "text/plain": [
       "(9, 2)"
      ]
     },
     "execution_count": 16,
     "metadata": {},
     "output_type": "execute_result"
    }
   ],
   "source": [
    "df.shape"
   ]
  },
  {
   "cell_type": "code",
   "execution_count": 18,
   "metadata": {
    "ExecuteTime": {
     "end_time": "2019-03-28T00:43:15.409867Z",
     "start_time": "2019-03-28T00:43:15.169510Z"
    }
   },
   "outputs": [
    {
     "data": {
      "image/png": "[encoded data removed]",
      "text/plain": [
       "<Figure size 432x288 with 1 Axes>"
      ]
     },
     "metadata": {
      "needs_background": "light"
     },
     "output_type": "display_data"
    }
   ],
   "source": [
    "df[['year', 'view_count']].plot(kind='bar');"
   ]
  },
  {
   "cell_type": "code",
   "execution_count": 60,
   "metadata": {
    "ExecuteTime": {
     "end_time": "2019-03-28T01:48:29.827541Z",
     "start_time": "2019-03-28T01:48:24.109994Z"
    }
   },
   "outputs": [],
   "source": [
    "sql = '''\n",
    "SELECT\n",
    "  EXTRACT(YEAR\n",
    "  FROM\n",
    "    creation_date) AS year,\n",
    "  IF(title LIKE '%?',\n",
    "    'ends with ?',\n",
    "    'does not ends with ?') AS ends_with_question_mark,\n",
    "  ROUND(COUNT(accepted_answer_id ) * 100 / COUNT(*), 2) AS answered\n",
    "FROM\n",
    "  `bigquery-public-data.stackoverflow.posts_questions`\n",
    "GROUP BY\n",
    "  year,\n",
    "  ends_with_question_mark\n",
    "ORDER BY\n",
    "  year,\n",
    "  ends_with_question_mark\n",
    "'''\n",
    "query_job = client.query(sql)\n",
    "df = query_job.to_dataframe()"
   ]
  },
  {
   "cell_type": "code",
   "execution_count": 83,
   "metadata": {
    "ExecuteTime": {
     "end_time": "2019-03-28T02:02:58.836743Z",
     "start_time": "2019-03-28T02:02:58.823777Z"
    }
   },
   "outputs": [],
   "source": [
    "x = df[['year','ends_with_question_mark','answered' ]]\n",
    "y = x.set_index('year')\n",
    "z = y.groupby(by=['year', 'ends_with_question_mark']).max()"
   ]
  },
  {
   "cell_type": "code",
   "execution_count": 87,
   "metadata": {
    "ExecuteTime": {
     "end_time": "2019-03-28T02:06:50.327212Z",
     "start_time": "2019-03-28T02:06:50.058919Z"
    }
   },
   "outputs": [
    {
     "data": {
      "image/png": "[encoded data removed]",
      "text/plain": [
       "<Figure size 432x288 with 1 Axes>"
      ]
     },
     "metadata": {
      "needs_background": "light"
     },
     "output_type": "display_data"
    }
   ],
   "source": [
    "ax = z.unstack().plot(kind='bar', label='x')\n",
    "ax.legend([\"does not end with ?\", \"ends with ?\"]);"
   ]
  },
  {
   "cell_type": "code",
   "execution_count": 73,
   "metadata": {
    "ExecuteTime": {
     "end_time": "2019-03-28T01:55:12.654256Z",
     "start_time": "2019-03-28T01:55:12.358049Z"
    }
   },
   "outputs": [
    {
     "data": {
      "image/png": "[encoded data removed]",
      "text/plain": [
       "<Figure size 432x288 with 1 Axes>"
      ]
     },
     "metadata": {
      "needs_background": "light"
     },
     "output_type": "display_data"
    }
   ],
   "source": [
    "y.plot(kind='bar');"
   ]
  },
  {
   "cell_type": "code",
   "execution_count": 75,
   "metadata": {
    "ExecuteTime": {
     "end_time": "2019-03-28T01:59:25.057733Z",
     "start_time": "2019-03-28T01:59:25.042773Z"
    }
   },
   "outputs": [
    {
     "data": {
      "text/html": [
       "<div>\n",
       "<style scoped>\n",
       "    .dataframe tbody tr th:only-of-type {\n",
       "        vertical-align: middle;\n",
       "    }\n",
       "\n",
       "    .dataframe tbody tr th {\n",
       "        vertical-align: top;\n",
       "    }\n",
       "\n",
       "    .dataframe thead th {\n",
       "        text-align: right;\n",
       "    }\n",
       "</style>\n",
       "<table border=\"1\" class=\"dataframe\">\n",
       "  <thead>\n",
       "    <tr style=\"text-align: right;\">\n",
       "      <th></th>\n",
       "      <th>year</th>\n",
       "      <th>ends_with_question_mark</th>\n",
       "      <th>answered</th>\n",
       "    </tr>\n",
       "  </thead>\n",
       "  <tbody>\n",
       "    <tr>\n",
       "      <th>0</th>\n",
       "      <td>2008</td>\n",
       "      <td>does not ends with ?</td>\n",
       "      <td>73.42</td>\n",
       "    </tr>\n",
       "    <tr>\n",
       "      <th>1</th>\n",
       "      <td>2008</td>\n",
       "      <td>ends with ?</td>\n",
       "      <td>78.47</td>\n",
       "    </tr>\n",
       "    <tr>\n",
       "      <th>2</th>\n",
       "      <td>2009</td>\n",
       "      <td>does not ends with ?</td>\n",
       "      <td>70.59</td>\n",
       "    </tr>\n",
       "    <tr>\n",
       "      <th>3</th>\n",
       "      <td>2009</td>\n",
       "      <td>ends with ?</td>\n",
       "      <td>77.15</td>\n",
       "    </tr>\n",
       "    <tr>\n",
       "      <th>4</th>\n",
       "      <td>2010</td>\n",
       "      <td>does not ends with ?</td>\n",
       "      <td>69.72</td>\n",
       "    </tr>\n",
       "    <tr>\n",
       "      <th>5</th>\n",
       "      <td>2010</td>\n",
       "      <td>ends with ?</td>\n",
       "      <td>75.45</td>\n",
       "    </tr>\n",
       "    <tr>\n",
       "      <th>6</th>\n",
       "      <td>2011</td>\n",
       "      <td>does not ends with ?</td>\n",
       "      <td>67.28</td>\n",
       "    </tr>\n",
       "    <tr>\n",
       "      <th>7</th>\n",
       "      <td>2011</td>\n",
       "      <td>ends with ?</td>\n",
       "      <td>72.69</td>\n",
       "    </tr>\n",
       "    <tr>\n",
       "      <th>8</th>\n",
       "      <td>2012</td>\n",
       "      <td>does not ends with ?</td>\n",
       "      <td>63.51</td>\n",
       "    </tr>\n",
       "    <tr>\n",
       "      <th>9</th>\n",
       "      <td>2012</td>\n",
       "      <td>ends with ?</td>\n",
       "      <td>68.76</td>\n",
       "    </tr>\n",
       "    <tr>\n",
       "      <th>10</th>\n",
       "      <td>2013</td>\n",
       "      <td>does not ends with ?</td>\n",
       "      <td>56.13</td>\n",
       "    </tr>\n",
       "    <tr>\n",
       "      <th>11</th>\n",
       "      <td>2013</td>\n",
       "      <td>ends with ?</td>\n",
       "      <td>60.61</td>\n",
       "    </tr>\n",
       "    <tr>\n",
       "      <th>12</th>\n",
       "      <td>2014</td>\n",
       "      <td>does not ends with ?</td>\n",
       "      <td>52.77</td>\n",
       "    </tr>\n",
       "    <tr>\n",
       "      <th>13</th>\n",
       "      <td>2014</td>\n",
       "      <td>ends with ?</td>\n",
       "      <td>56.70</td>\n",
       "    </tr>\n",
       "    <tr>\n",
       "      <th>14</th>\n",
       "      <td>2015</td>\n",
       "      <td>does not ends with ?</td>\n",
       "      <td>49.46</td>\n",
       "    </tr>\n",
       "    <tr>\n",
       "      <th>15</th>\n",
       "      <td>2015</td>\n",
       "      <td>ends with ?</td>\n",
       "      <td>53.00</td>\n",
       "    </tr>\n",
       "    <tr>\n",
       "      <th>16</th>\n",
       "      <td>2016</td>\n",
       "      <td>does not ends with ?</td>\n",
       "      <td>47.24</td>\n",
       "    </tr>\n",
       "    <tr>\n",
       "      <th>17</th>\n",
       "      <td>2016</td>\n",
       "      <td>ends with ?</td>\n",
       "      <td>50.52</td>\n",
       "    </tr>\n",
       "    <tr>\n",
       "      <th>18</th>\n",
       "      <td>2017</td>\n",
       "      <td>does not ends with ?</td>\n",
       "      <td>45.35</td>\n",
       "    </tr>\n",
       "    <tr>\n",
       "      <th>19</th>\n",
       "      <td>2017</td>\n",
       "      <td>ends with ?</td>\n",
       "      <td>48.36</td>\n",
       "    </tr>\n",
       "    <tr>\n",
       "      <th>20</th>\n",
       "      <td>2018</td>\n",
       "      <td>does not ends with ?</td>\n",
       "      <td>38.01</td>\n",
       "    </tr>\n",
       "    <tr>\n",
       "      <th>21</th>\n",
       "      <td>2018</td>\n",
       "      <td>ends with ?</td>\n",
       "      <td>40.99</td>\n",
       "    </tr>\n",
       "    <tr>\n",
       "      <th>22</th>\n",
       "      <td>2019</td>\n",
       "      <td>does not ends with ?</td>\n",
       "      <td>31.88</td>\n",
       "    </tr>\n",
       "    <tr>\n",
       "      <th>23</th>\n",
       "      <td>2019</td>\n",
       "      <td>ends with ?</td>\n",
       "      <td>34.25</td>\n",
       "    </tr>\n",
       "  </tbody>\n",
       "</table>\n",
       "</div>"
      ],
      "text/plain": [
       "    year ends_with_question_mark  answered\n",
       "0   2008    does not ends with ?     73.42\n",
       "1   2008             ends with ?     78.47\n",
       "2   2009    does not ends with ?     70.59\n",
       "3   2009             ends with ?     77.15\n",
       "4   2010    does not ends with ?     69.72\n",
       "5   2010             ends with ?     75.45\n",
       "6   2011    does not ends with ?     67.28\n",
       "7   2011             ends with ?     72.69\n",
       "8   2012    does not ends with ?     63.51\n",
       "9   2012             ends with ?     68.76\n",
       "10  2013    does not ends with ?     56.13\n",
       "11  2013             ends with ?     60.61\n",
       "12  2014    does not ends with ?     52.77\n",
       "13  2014             ends with ?     56.70\n",
       "14  2015    does not ends with ?     49.46\n",
       "15  2015             ends with ?     53.00\n",
       "16  2016    does not ends with ?     47.24\n",
       "17  2016             ends with ?     50.52\n",
       "18  2017    does not ends with ?     45.35\n",
       "19  2017             ends with ?     48.36\n",
       "20  2018    does not ends with ?     38.01\n",
       "21  2018             ends with ?     40.99\n",
       "22  2019    does not ends with ?     31.88\n",
       "23  2019             ends with ?     34.25"
      ]
     },
     "execution_count": 75,
     "metadata": {},
     "output_type": "execute_result"
    }
   ],
   "source": [
    "df"
   ]
  },
  {
   "cell_type": "code",
   "execution_count": 64,
   "metadata": {
    "ExecuteTime": {
     "end_time": "2019-03-28T01:50:20.708220Z",
     "start_time": "2019-03-28T01:50:20.335898Z"
    }
   },
   "outputs": [
    {
     "data": {
      "text/plain": [
       "<matplotlib.axes._subplots.AxesSubplot at 0x28ea17e1400>"
      ]
     },
     "execution_count": 64,
     "metadata": {},
     "output_type": "execute_result"
    },
    {
     "data": {
      "image/png": "[encoded data removed]",
      "text/plain": [
       "<Figure size 432x288 with 1 Axes>"
      ]
     },
     "metadata": {
      "needs_background": "light"
     },
     "output_type": "display_data"
    }
   ],
   "source": [
    "df.plot(kind='bar')"
   ]
  },
  {
   "cell_type": "code",
   "execution_count": null,
   "metadata": {},
   "outputs": [],
   "source": []
  }
 ],
 "metadata": {
  "kernelspec": {
   "display_name": "Python 3",
   "language": "python",
   "name": "python3"
  },
  "language_info": {
   "codemirror_mode": {
    "name": "ipython",
    "version": 3
   },
   "file_extension": ".py",
   "mimetype": "text/x-python",
   "name": "python",
   "nbconvert_exporter": "python",
   "pygments_lexer": "ipython3",
   "version": "3.7.2"
  },
  "varInspector": {
   "cols": {
    "lenName": 16,
    "lenType": 16,
    "lenVar": 40
   },
   "kernels_config": {
    "python": {
     "delete_cmd_postfix": "",
     "delete_cmd_prefix": "del ",
     "library": "var_list.py",
     "varRefreshCmd": "print(var_dic_list())"
    },
    "r": {
     "delete_cmd_postfix": ") ",
     "delete_cmd_prefix": "rm(",
     "library": "var_list.r",
     "varRefreshCmd": "cat(var_dic_list()) "
    }
   },
   "types_to_exclude": [
    "module",
    "function",
    "builtin_function_or_method",
    "instance",
    "_Feature"
   ],
   "window_display": false
  }
 },
 "nbformat": 4,
 "nbformat_minor": 2
}
