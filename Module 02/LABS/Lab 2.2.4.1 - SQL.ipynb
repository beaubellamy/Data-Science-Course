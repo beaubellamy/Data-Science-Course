{
 "cells": [
  {
   "cell_type": "markdown",
   "metadata": {},
   "source": [
    "[Date Functions in Standard SQL\n",
    "](https://cloud.google.com/bigquery/docs/reference/standard-sql/date_functions)"
   ]
  },
  {
   "cell_type": "code",
   "execution_count": 124,
   "metadata": {
    "ExecuteTime": {
     "end_time": "2019-03-28T04:28:05.410970Z",
     "start_time": "2019-03-28T04:28:05.399958Z"
    }
   },
   "outputs": [],
   "source": [
    "# Import Necessary Libraries\n",
    "\n",
    "from google.cloud import bigquery\n",
    "from google.cloud.bigquery import Dataset\n",
    "from google.cloud import storage"
   ]
  },
  {
   "cell_type": "code",
   "execution_count": 125,
   "metadata": {
    "ExecuteTime": {
     "end_time": "2019-03-28T04:29:41.642690Z",
     "start_time": "2019-03-28T04:29:41.625739Z"
    }
   },
   "outputs": [],
   "source": [
    "# \n",
    "key_path = 'JSON_FILE_LOCATION'\n",
    "\n",
    "# Project created as a owner\n",
    "private_project = 'PROJECT_ID'\n",
    "\n",
    "# Public project of big query\n",
    "public_project = 'bigquery-public-data'\n",
    "\n",
    "# Set storage client\n",
    "storage_client = storage.Client.from_service_account_json(key_path)\n",
    "\n",
    "# Set big query client\n",
    "client = bigquery.Client.from_service_account_json(key_path, project=public_project)"
   ]
  },
  {
   "cell_type": "code",
   "execution_count": 127,
   "metadata": {
    "ExecuteTime": {
     "end_time": "2019-03-28T04:30:13.044086Z",
     "start_time": "2019-03-28T04:30:13.039102Z"
    }
   },
   "outputs": [],
   "source": [
    "dataset_id = 'stackoverflow'\n",
    "\n",
    "# Get the public dataset\n",
    "dataset_ref = client.dataset(dataset_id, project=public_project)"
   ]
  },
  {
   "cell_type": "code",
   "execution_count": 128,
   "metadata": {
    "ExecuteTime": {
     "end_time": "2019-03-28T04:30:15.762414Z",
     "start_time": "2019-03-28T04:30:15.750446Z"
    }
   },
   "outputs": [],
   "source": [
    "def printTableList(client, dataset_id):\n",
    "    project = client.project\n",
    "    dataset_ref = client.dataset(dataset_id, project = project)    \n",
    "    tables = list(client.list_tables(dataset_ref))\n",
    "    if tables:\n",
    "        print('Tables in dataset {}:'.format(dataset_id))\n",
    "        for table in tables: \n",
    "            print('\\t{}'.format(table.table_id))\n",
    "        found = True\n",
    "    else:\n",
    "        print('{} dataset does not contain any tables.'.format(dataset_id))\n",
    "        found = False\n",
    "    return found"
   ]
  },
  {
   "cell_type": "code",
   "execution_count": 129,
   "metadata": {
    "ExecuteTime": {
     "end_time": "2019-03-28T04:30:18.891328Z",
     "start_time": "2019-03-28T04:30:18.022099Z"
    }
   },
   "outputs": [
    {
     "name": "stdout",
     "output_type": "stream",
     "text": [
      "Tables in dataset stackoverflow:\n",
      "\tbadges\n",
      "\tcomments\n",
      "\tpost_history\n",
      "\tpost_links\n",
      "\tposts_answers\n",
      "\tposts_moderator_nomination\n",
      "\tposts_orphaned_tag_wiki\n",
      "\tposts_privilege_wiki\n",
      "\tposts_questions\n",
      "\tposts_tag_wiki\n",
      "\tposts_tag_wiki_excerpt\n",
      "\tposts_wiki_placeholder\n",
      "\tstackoverflow_posts\n",
      "\ttags\n",
      "\tusers\n",
      "\tvotes\n"
     ]
    },
    {
     "data": {
      "text/plain": [
       "True"
      ]
     },
     "execution_count": 129,
     "metadata": {},
     "output_type": "execute_result"
    }
   ],
   "source": [
    "printTableList(client, dataset_id)"
   ]
  },
  {
   "cell_type": "code",
   "execution_count": 130,
   "metadata": {
    "ExecuteTime": {
     "end_time": "2019-03-28T04:30:57.854531Z",
     "start_time": "2019-03-28T04:30:57.848547Z"
    }
   },
   "outputs": [],
   "source": [
    "# Set the project as private to run queries\n",
    "client = bigquery.Client.from_service_account_json(key_path, project=private_project)"
   ]
  },
  {
   "cell_type": "markdown",
   "metadata": {},
   "source": [
    "### Sample Questions"
   ]
  },
  {
   "cell_type": "markdown",
   "metadata": {},
   "source": [
    "#### 1. What percentage of questions have been answered over the years?\n",
    "\n",
    "Use following table \n",
    "\n",
    "> `bigquery-public-data.stackoverflow.posts_questions`\n",
    "\n",
    "Present data visually."
   ]
  },
  {
   "cell_type": "code",
   "execution_count": null,
   "metadata": {},
   "outputs": [],
   "source": [
    "sql =  '''SELECT\n",
    "  EXTRACT(YEAR FROM creation_date) AS year\n",
    "  , COUNT(*)\n",
    "  , ROUND(COUNT(CASE WHEN answer_count > 0 THEN 1 ELSE NULL END) / COUNT(answer_count), 2) * 100 AS answered\n",
    "FROM `bigquery-public-data.stackoverflow.posts_questions`\n",
    "GROUP BY year\n",
    "ORDER BY year'''\n",
    "\n",
    "query_job = client.query(sql)\n",
    "df = query_job.to_dataframe()"
   ]
  },
  {
   "cell_type": "code",
   "execution_count": null,
   "metadata": {},
   "outputs": [],
   "source": [
    "y = df.set_index('year')\n",
    "y['answered'].plot();"
   ]
  },
  {
   "cell_type": "code",
   "execution_count": null,
   "metadata": {},
   "outputs": [],
   "source": [
    "y['answered'].plot(kind='bar');"
   ]
  },
  {
   "cell_type": "code",
   "execution_count": null,
   "metadata": {},
   "outputs": [],
   "source": []
  },
  {
   "cell_type": "markdown",
   "metadata": {},
   "source": [
    "#### 2. What are the 10 ‘easiest’ gold badges to earn?\n",
    "\n",
    "Use following tables:\n",
    "\n",
    "> - `bigquery-public-data.stackoverflow.badges`\n",
    "- `bigquery-public-data.stackoverflow.users`\n",
    "\n",
    "- How many classes are there?\n",
    "- Badges of which classes are easy to earn?"
   ]
  },
  {
   "cell_type": "code",
   "execution_count": null,
   "metadata": {},
   "outputs": [],
   "source": [
    "sql = '''\n",
    "SELECT \n",
    "  name\n",
    "  , AVG(DATE_DIFF(DATE(`bigquery-public-data.stackoverflow.badges`.date), DATE(`bigquery-public-data.stackoverflow.users`.creation_date), DAY)) as days_diff\n",
    " FROM `bigquery-public-data.stackoverflow.badges`\n",
    " JOIN `bigquery-public-data.stackoverflow.users` ON `bigquery-public-data.stackoverflow.users`.id = `bigquery-public-data.stackoverflow.badges`.user_id\n",
    " WHERE class = 1 AND tag_based = False\n",
    " GROUP BY name\n",
    " ORDER BY days_diff ASC\n",
    " LIMIT 10\n",
    "'''\n",
    "\n",
    "query_job = client.query(sql)\n",
    "df = query_job.to_dataframe()"
   ]
  },
  {
   "cell_type": "code",
   "execution_count": null,
   "metadata": {},
   "outputs": [],
   "source": [
    "y = df.set_index('name')\n",
    "y.sort_values(by='days_diff', ascending=False).plot(kind='barh');"
   ]
  },
  {
   "cell_type": "code",
   "execution_count": null,
   "metadata": {},
   "outputs": [],
   "source": []
  },
  {
   "cell_type": "markdown",
   "metadata": {},
   "source": [
    "#### 3. Which day of the week has most questions answered within an hour?\n",
    "\n",
    "Use following tables:\n",
    "\n",
    "> - `bigquery-public-data.stackoverflow.posts_answers`\n",
    "- `bigquery-public-data.stackoverflow.posts_questions`"
   ]
  },
  {
   "cell_type": "code",
   "execution_count": null,
   "metadata": {},
   "outputs": [],
   "source": [
    "sql = '''\n",
    "    SELECT\n",
    "      FORMAT_DATE('%A', DATE(`bigquery-public-data.stackoverflow.posts_answers`.creation_date)) AS day_of_week,\n",
    "      EXTRACT(DAYOFWEEK FROM DATE(`bigquery-public-data.stackoverflow.posts_answers`.creation_date)) AS day_of_week_,\n",
    "      COUNT(TIMESTAMP_DIFF(`bigquery-public-data.stackoverflow.posts_answers`.creation_date, `bigquery-public-data.stackoverflow.posts_questions`.creation_date, MINUTE)) AS time_diff\n",
    "    FROM `bigquery-public-data.stackoverflow.posts_answers` \n",
    "    JOIN `bigquery-public-data.stackoverflow.posts_questions` ON `bigquery-public-data.stackoverflow.posts_questions`.id =  `bigquery-public-data.stackoverflow.posts_answers`.parent_id\n",
    "    WHERE TIMESTAMP_DIFF(`bigquery-public-data.stackoverflow.posts_answers`.creation_date, `bigquery-public-data.stackoverflow.posts_questions`.creation_date, MINUTE) <= 60\n",
    "    GROUP BY day_of_week, day_of_week_\n",
    "    ORDER BY day_of_week_\n",
    "    LIMIT 1000\n",
    "'''\n",
    "query_job = client.query(sql)\n",
    "df = query_job.to_dataframe()"
   ]
  },
  {
   "cell_type": "code",
   "execution_count": null,
   "metadata": {},
   "outputs": [],
   "source": [
    "df.head()"
   ]
  },
  {
   "cell_type": "code",
   "execution_count": null,
   "metadata": {},
   "outputs": [],
   "source": [
    "df.drop(labels=['day_of_week_'], inplace=True, axis=1)\n",
    "y = df.set_index('day_of_week')\n",
    "y.plot();"
   ]
  },
  {
   "cell_type": "code",
   "execution_count": null,
   "metadata": {},
   "outputs": [],
   "source": []
  },
  {
   "cell_type": "markdown",
   "metadata": {},
   "source": [
    "#### 4. Does adding a “?” actually help user to get answers?\n",
    "\n",
    "Sara Robinson claimed that only 21% questions end with a question mark(?).\n",
    "\n",
    "<blockquote class=\"twitter-tweet\" data-lang=\"en\"><p lang=\"en\" dir=\"ltr\">Did you know...only 21% of <a href=\"https://twitter.com/StackOverflow?ref_src=twsrc%5Etfw\">@StackOverflow</a> questions end with a question mark? <a href=\"https://t.co/b939b3xwU0\">https://t.co/b939b3xwU0</a> <a href=\"https://t.co/LfVnjrPPJw\">pic.twitter.com/LfVnjrPPJw</a></p>&mdash; Sara Robinson (@SRobTweets) <a href=\"https://twitter.com/SRobTweets/status/810892697116545024?ref_src=twsrc%5Etfw\">December 19, 2016</a></blockquote>\n",
    "<script async src=\"https://platform.twitter.com/widgets.js\" charset=\"utf-8\"></script>\n",
    "\n",
    "- Verify her claim.\n",
    "\n",
    "- Do you think adding question mark(?) at the end of question help user to get answer?"
   ]
  },
  {
   "cell_type": "code",
   "execution_count": null,
   "metadata": {},
   "outputs": [],
   "source": [
    "sql = '''\n",
    "SELECT\n",
    "  EXTRACT(YEAR\n",
    "  FROM\n",
    "    creation_date) AS year,\n",
    "  IF(title LIKE '%?',\n",
    "    'ends with ?',\n",
    "    'does not end with ?') AS ends_with_question_mark,\n",
    "  ROUND(COUNT(accepted_answer_id ) * 100 / COUNT(*), 2) AS answered\n",
    "FROM\n",
    "  `bigquery-public-data.stackoverflow.posts_questions`\n",
    "GROUP BY\n",
    "  year,\n",
    "  ends_with_question_mark\n",
    "ORDER BY\n",
    "  year,\n",
    "  ends_with_question_mark\n",
    "'''\n",
    "query_job = client.query(sql)\n",
    "df = query_job.to_dataframe()"
   ]
  },
  {
   "cell_type": "code",
   "execution_count": null,
   "metadata": {},
   "outputs": [],
   "source": [
    "x = df[['year','ends_with_question_mark','answered' ]]\n",
    "y = x.set_index('year')\n",
    "z = y.groupby(by=['year', 'ends_with_question_mark']).max()"
   ]
  },
  {
   "cell_type": "code",
   "execution_count": null,
   "metadata": {},
   "outputs": [],
   "source": [
    "ax = z.unstack().plot(kind='bar', label='x')\n",
    "ax.legend([\"does not end with ?\", \"ends with ?\"]);"
   ]
  },
  {
   "cell_type": "code",
   "execution_count": null,
   "metadata": {},
   "outputs": [],
   "source": []
  },
  {
   "cell_type": "markdown",
   "metadata": {},
   "source": [
    "### What's Next?\n",
    "\n",
    "This is only a start. Using tables of stackoverflow create your own question and answer them using data!\n",
    "\n",
    "For inspiration try to answer [these](https://data.stackexchange.com/stackoverflow/queries) queries."
   ]
  }
 ],
 "metadata": {
  "kernelspec": {
   "display_name": "Python 3",
   "language": "python",
   "name": "python3"
  },
  "language_info": {
   "codemirror_mode": {
    "name": "ipython",
    "version": 3
   },
   "file_extension": ".py",
   "mimetype": "text/x-python",
   "name": "python",
   "nbconvert_exporter": "python",
   "pygments_lexer": "ipython3",
   "version": "3.7.3"
  },
  "varInspector": {
   "cols": {
    "lenName": 16,
    "lenType": 16,
    "lenVar": 40
   },
   "kernels_config": {
    "python": {
     "delete_cmd_postfix": "",
     "delete_cmd_prefix": "del ",
     "library": "var_list.py",
     "varRefreshCmd": "print(var_dic_list())"
    },
    "r": {
     "delete_cmd_postfix": ") ",
     "delete_cmd_prefix": "rm(",
     "library": "var_list.r",
     "varRefreshCmd": "cat(var_dic_list()) "
    }
   },
   "types_to_exclude": [
    "module",
    "function",
    "builtin_function_or_method",
    "instance",
    "_Feature"
   ],
   "window_display": false
  }
 },
 "nbformat": 4,
 "nbformat_minor": 2
}
