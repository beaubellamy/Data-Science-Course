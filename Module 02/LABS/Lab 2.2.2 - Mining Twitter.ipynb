{
 "cells": [
  {
   "cell_type": "markdown",
   "metadata": {
    "colab_type": "text",
    "id": "XfnQYVMtJhQD"
   },
   "source": [
    "![alt text](https://i.imgur.com/1WaY7aA.png)\n",
    "\n",
    "\n",
    "---\n",
    "\n",
    "\n",
    "\n",
    "---\n",
    "\n"
   ]
  },
  {
   "cell_type": "markdown",
   "metadata": {
    "colab_type": "text",
    "id": "5dCt8XbjJhQG"
   },
   "source": [
    "# Lab 2.2.2 \n",
    "# *Mining Social Media with Twitter*"
   ]
  },
  {
   "cell_type": "markdown",
   "metadata": {
    "colab_type": "text",
    "id": "b5VfS9hhJhQI"
   },
   "source": [
    "## The Twitter API and Tweepy Package"
   ]
  },
  {
   "cell_type": "markdown",
   "metadata": {
    "colab_type": "text",
    "id": "lF2z-w5uJhQK"
   },
   "source": [
    "The Twitter API provides access to tweets and comments, and allows an application to post tweets to the user's timeline. \n",
    "\n",
    "Twitter requires developers to create and authenticate an app before they can use the API. As of recent policy changes, however, new developers must be approved before they can create an app. There is no indication of the waiting period for approval."
   ]
  },
  {
   "cell_type": "markdown",
   "metadata": {
    "colab_type": "text",
    "id": "M0wxJ8HNJhQM"
   },
   "source": [
    "### 1. Apply for Developer Access\n",
    "\n",
    "Go to https://blog.twitter.com/developer/en_us/topics/tools/2018/new-developer-requirements-to-protect-our-platform.html\n",
    "and read the advice.\n",
    "![image.png](attachment:image.png)"
   ]
  },
  {
   "cell_type": "markdown",
   "metadata": {
    "colab_type": "text",
    "id": "tICSKwL1JhQN"
   },
   "source": [
    "Apply at https://developer.twitter.com/en/apply-for-access.html\n",
    "![image.png](attachment:image.png)"
   ]
  },
  {
   "cell_type": "markdown",
   "metadata": {
    "colab_type": "text",
    "id": "M4-znQaaJhQP"
   },
   "source": [
    "Then go to https://developer.twitter.com/en/review every day until you see whatever comes after this: \n",
    "![image.png](attachment:image.png)"
   ]
  },
  {
   "cell_type": "markdown",
   "metadata": {
    "colab_type": "text",
    "id": "NMeZ70IZJhQR"
   },
   "source": [
    "### 2. Create Your Twitter App\n",
    "![image.png](attachment:image.png)"
   ]
  },
  {
   "cell_type": "markdown",
   "metadata": {
    "colab_type": "text",
    "id": "HpWMHz9NJhQS"
   },
   "source": [
    "### 3. Load Python Libraries"
   ]
  },
  {
   "cell_type": "code",
   "execution_count": 2,
   "metadata": {
    "ExecuteTime": {
     "end_time": "2019-07-05T02:38:37.916562Z",
     "start_time": "2019-07-05T02:38:37.167567Z"
    },
    "colab": {},
    "colab_type": "code",
    "id": "16hb8EpNJhQU"
   },
   "outputs": [],
   "source": [
    "import tweepy\n",
    "import json\n",
    "import pprint"
   ]
  },
  {
   "cell_type": "markdown",
   "metadata": {
    "colab_type": "text",
    "id": "p7W0se6_JhQX"
   },
   "source": [
    "### 4. Authenticate from your Python script"
   ]
  },
  {
   "cell_type": "markdown",
   "metadata": {
    "colab_type": "text",
    "id": "mJfe55dVJhQY"
   },
   "source": [
    "You could assign your authentication details explicitly, as follows:"
   ]
  },
  {
   "cell_type": "code",
   "execution_count": 3,
   "metadata": {
    "ExecuteTime": {
     "end_time": "2019-07-05T02:38:40.526175Z",
     "start_time": "2019-07-05T02:38:40.520192Z"
    },
    "colab": {},
    "colab_type": "code",
    "id": "aygW7a3eJhQZ"
   },
   "outputs": [],
   "source": [
    "my_consumer_key = ''      # your consumer key (string) goes in here\n",
    "my_consumer_secret = ''   # your consumer secret key (string) goes in here\n",
    "my_access_token = ''      # your access token (string goes in here\n",
    "access_token_secret = ''  # your access token secret (string) goes in here"
   ]
  },
  {
   "cell_type": "markdown",
   "metadata": {
    "colab_type": "text",
    "id": "7LXwmSzOJhQe"
   },
   "source": [
    "A better way would be to store these details externally, so they are not displayed in the notebook:\n",
    "\n",
    "- create a file called \"auth_twitter.json\" in your \"notebooks\" directory, and save your credentials there in JSON format:\n",
    "\n",
    "`{   \"my_consumer_key\": \"your consumer key (string) goes in here\",` <br>\n",
    "&nbsp;&nbsp;&nbsp;&nbsp;&nbsp;&nbsp;&nbsp;&nbsp;` \"my_consumer_secret\": \"your consumer secret key (string) goes in here\",` <br>\n",
    "&nbsp;&nbsp;&nbsp;&nbsp;&nbsp;&nbsp;&nbsp;&nbsp;`\"your access token (string goes in here\",` <br>\n",
    "&nbsp;&nbsp;&nbsp;&nbsp;&nbsp;&nbsp;&nbsp;&nbsp;`\"my_access_token_secret\": \"your access token secret (string) goes in here\"` <br>\n",
    "`}`\n",
    "\n",
    "(Nb. Parsers are very fussy. Make sure each key:value pair has a comma after it except the last one!)  \n",
    "\n",
    "Use the following code to load the credentials:  "
   ]
  },
  {
   "cell_type": "code",
   "execution_count": 4,
   "metadata": {
    "ExecuteTime": {
     "end_time": "2019-07-05T02:38:44.463754Z",
     "start_time": "2019-07-05T02:38:44.444805Z"
    },
    "colab": {},
    "colab_type": "code",
    "id": "kh2srKpzJhQh"
   },
   "outputs": [
    {
     "data": {
      "text/plain": [
       "'C:\\\\Users\\\\Beau\\\\Documents\\\\DataScience\\\\Data-Science-Course\\\\Module 2\\\\LABS'"
      ]
     },
     "execution_count": 4,
     "metadata": {},
     "output_type": "execute_result"
    }
   ],
   "source": [
    "pwd()  # make sure your working directory is where the file is"
   ]
  },
  {
   "cell_type": "code",
   "execution_count": 10,
   "metadata": {
    "ExecuteTime": {
     "end_time": "2019-07-05T02:38:50.272433Z",
     "start_time": "2019-07-05T02:38:50.097954Z"
    },
    "colab": {},
    "colab_type": "code",
    "id": "uR8Vchz7JhQm"
   },
   "outputs": [],
   "source": [
    "path_auth = '../DATA/auth_twitter.json'\n",
    "auth = json.loads(open(path_auth).read())\n",
    "pp = pprint.PrettyPrinter(indent=4)\n",
    "# For debugging only:\n",
    "#pp.pprint(auth)\n",
    "\n",
    "my_consumer_key = auth['consumer_key']\n",
    "my_consumer_secret = auth['consumer_secret']\n",
    "my_access_token = auth['access_token']\n",
    "my_access_token_secret = auth['access_token_secret']"
   ]
  },
  {
   "cell_type": "markdown",
   "metadata": {
    "colab_type": "text",
    "id": "GPRmYZigJhQp"
   },
   "source": [
    "Security considerations: \n",
    "- this method only keeps your credentials invisible as long as nobody accesses this notebook while it's running on your computer \n",
    "- if you wanted another user to have access to the executable notebook without divulging your credentials you should set up an OAuth 2.0 workflow to let them obtain and apply their own API tokens when using your app\n",
    "- if you just want to share your analyses, you could use a separate script (which you don't share) to fetch the data and save it locally, then use a second notebook (with no API access) to load and analyse the locally stored data"
   ]
  },
  {
   "cell_type": "markdown",
   "metadata": {
    "colab_type": "text",
    "id": "Ln30k0pZJhQp"
   },
   "source": [
    "### 5. Exploring the API"
   ]
  },
  {
   "cell_type": "markdown",
   "metadata": {
    "colab_type": "text",
    "id": "6fsc0U1nJhQq"
   },
   "source": [
    "Here is how to connect to Twitter using the Tweepy library:"
   ]
  },
  {
   "cell_type": "code",
   "execution_count": 11,
   "metadata": {
    "colab": {},
    "colab_type": "code",
    "id": "-y_4GBx1JhQr"
   },
   "outputs": [],
   "source": [
    "auth = tweepy.OAuthHandler(my_consumer_key, my_consumer_secret)\n",
    "auth.set_access_token(my_access_token, my_access_token_secret)\n",
    "api = tweepy.API(auth)"
   ]
  },
  {
   "cell_type": "markdown",
   "metadata": {
    "colab_type": "text",
    "id": "wSKzR9LdJhQu"
   },
   "source": [
    "In the next cell, put the cursor after the '.' and hit the [tab] key to see the available members and methods in the response object:"
   ]
  },
  {
   "cell_type": "code",
   "execution_count": 12,
   "metadata": {
    "colab": {},
    "colab_type": "code",
    "id": "BfnAOR2bJhQv"
   },
   "outputs": [
    {
     "data": {
      "text/plain": [
       "{'id': 862774444518850560,\n",
       " 'id_str': '862774444518850560',\n",
       " 'name': 'Arman_Ahmed',\n",
       " 'screen_name': 'Arman_Ahmed_S',\n",
       " 'location': 'Sylhet, Bangladesh',\n",
       " 'description': 'Profession : Freelancer, Student\\n😍👏👍Crazy lover for Real Madrid⚽️⚽️🏆🏆Dream Unlimited🤔🤔Love for Family❤️🧡💕👩\\u200d👩\\u200d👧\\u200d👦👩\\u200d👩\\u200d👧\\u200d👦',\n",
       " 'url': None,\n",
       " 'entities': {'description': {'urls': []}},\n",
       " 'protected': False,\n",
       " 'followers_count': 442,\n",
       " 'friends_count': 1297,\n",
       " 'listed_count': 1,\n",
       " 'created_at': 'Thu May 11 21:00:31 +0000 2017',\n",
       " 'favourites_count': 17919,\n",
       " 'utc_offset': None,\n",
       " 'time_zone': None,\n",
       " 'geo_enabled': False,\n",
       " 'verified': False,\n",
       " 'statuses_count': 2261,\n",
       " 'lang': None,\n",
       " 'status': {'created_at': 'Tue Aug 06 19:25:38 +0000 2019',\n",
       "  'id': 1158821451132284929,\n",
       "  'id_str': '1158821451132284929',\n",
       "  'text': \"RT @MuhamadSyfiq: Don't lie to a girls. When she ask something, just tell the truth. Even if it hurts. Sometime she already knows the answe…\",\n",
       "  'truncated': False,\n",
       "  'entities': {'hashtags': [],\n",
       "   'symbols': [],\n",
       "   'user_mentions': [{'screen_name': 'MuhamadSyfiq',\n",
       "     'name': 'syafiq',\n",
       "     'id': 502348995,\n",
       "     'id_str': '502348995',\n",
       "     'indices': [3, 16]}],\n",
       "   'urls': []},\n",
       "  'source': '<a href=\"https://mobile.twitter.com\" rel=\"nofollow\">Twitter Web App</a>',\n",
       "  'in_reply_to_status_id': None,\n",
       "  'in_reply_to_status_id_str': None,\n",
       "  'in_reply_to_user_id': None,\n",
       "  'in_reply_to_user_id_str': None,\n",
       "  'in_reply_to_screen_name': None,\n",
       "  'geo': None,\n",
       "  'coordinates': None,\n",
       "  'place': None,\n",
       "  'contributors': None,\n",
       "  'retweeted_status': {'created_at': 'Wed Jul 24 13:46:35 +0000 2019',\n",
       "   'id': 1154025082676625410,\n",
       "   'id_str': '1154025082676625410',\n",
       "   'text': \"Don't lie to a girls. When she ask something, just tell the truth. Even if it hurts. Sometime she already knows the answer.\",\n",
       "   'truncated': False,\n",
       "   'entities': {'hashtags': [],\n",
       "    'symbols': [],\n",
       "    'user_mentions': [],\n",
       "    'urls': []},\n",
       "   'source': '<a href=\"http://twitter.com/download/iphone\" rel=\"nofollow\">Twitter for iPhone</a>',\n",
       "   'in_reply_to_status_id': None,\n",
       "   'in_reply_to_status_id_str': None,\n",
       "   'in_reply_to_user_id': None,\n",
       "   'in_reply_to_user_id_str': None,\n",
       "   'in_reply_to_screen_name': None,\n",
       "   'geo': None,\n",
       "   'coordinates': None,\n",
       "   'place': None,\n",
       "   'contributors': None,\n",
       "   'is_quote_status': False,\n",
       "   'retweet_count': 10629,\n",
       "   'favorite_count': 9536,\n",
       "   'favorited': False,\n",
       "   'retweeted': False,\n",
       "   'lang': 'en'},\n",
       "  'is_quote_status': False,\n",
       "  'retweet_count': 10629,\n",
       "  'favorite_count': 0,\n",
       "  'favorited': False,\n",
       "  'retweeted': False,\n",
       "  'lang': 'en'},\n",
       " 'contributors_enabled': False,\n",
       " 'is_translator': False,\n",
       " 'is_translation_enabled': False,\n",
       " 'profile_background_color': 'F5F8FA',\n",
       " 'profile_background_image_url': None,\n",
       " 'profile_background_image_url_https': None,\n",
       " 'profile_background_tile': False,\n",
       " 'profile_image_url': 'http://pbs.twimg.com/profile_images/1110826046201520128/JvZImUz__normal.jpg',\n",
       " 'profile_image_url_https': 'https://pbs.twimg.com/profile_images/1110826046201520128/JvZImUz__normal.jpg',\n",
       " 'profile_banner_url': 'https://pbs.twimg.com/profile_banners/862774444518850560/1536003382',\n",
       " 'profile_link_color': '1DA1F2',\n",
       " 'profile_sidebar_border_color': 'C0DEED',\n",
       " 'profile_sidebar_fill_color': 'DDEEF6',\n",
       " 'profile_text_color': '333333',\n",
       " 'profile_use_background_image': True,\n",
       " 'has_extended_profile': True,\n",
       " 'default_profile': True,\n",
       " 'default_profile_image': False,\n",
       " 'following': False,\n",
       " 'live_following': False,\n",
       " 'follow_request_sent': False,\n",
       " 'notifications': False,\n",
       " 'muting': False,\n",
       " 'blocking': False,\n",
       " 'blocked_by': False,\n",
       " 'translator_type': 'none'}"
      ]
     },
     "execution_count": 12,
     "metadata": {},
     "output_type": "execute_result"
    }
   ],
   "source": [
    "api.followers()[0]._json"
   ]
  },
  {
   "cell_type": "markdown",
   "metadata": {
    "colab_type": "text",
    "id": "DcJ-cc6zJhQz"
   },
   "source": [
    "Consult the Tweept and Twitter API documentation. Print a few of the response members below:"
   ]
  },
  {
   "cell_type": "code",
   "execution_count": null,
   "metadata": {
    "colab": {},
    "colab_type": "code",
    "id": "W_IKqMAQJhQ1"
   },
   "outputs": [],
   "source": []
  },
  {
   "cell_type": "markdown",
   "metadata": {
    "colab_type": "text",
    "id": "dLkdLKjLJhQ3"
   },
   "source": [
    "This will fetch recent tweets from accounts you follow:"
   ]
  },
  {
   "cell_type": "code",
   "execution_count": 13,
   "metadata": {
    "colab": {},
    "colab_type": "code",
    "id": "l9y8t3X7JhQ4"
   },
   "outputs": [
    {
     "name": "stdout",
     "output_type": "stream",
     "text": [
      "Officials say a 33-year-old gang member has been arrested and charged with 51 felony counts in connection to a stab… https://t.co/RNilpWSkCq\n",
      "Alarming footage shows the moment a tornado touched down in New Jersey https://t.co/LnxMYmGnGu\n",
      "Brigitte Bardot https://t.co/biBN6cdKxZ\n",
      "Cade868: AEG Brushless Hand Vac with Battery $99! Bunnings Alexandria Sydney https://t.co/T6HWfsCB5V\n",
      "RT @TheBabylonBee: Trump Rewards Himself For Great Job This Week With 'World's Best President' Mug From White House Gift Shop\n",
      "https://t.co/…\n",
      "David Crosby is an American singer-songwriter and guitarist. More pics: https://t.co/5BuyyFqDP1 https://t.co/ODpNrIThS4\n",
      "https://t.co/vQcLqIylbH\n",
      "Fatbergs: 'flushable' wet wipes are creating an environmental catastrophe – video https://t.co/m0EQConUlv\n",
      "Joseph Stalin during early career 1920's Russia. See more pictures: https://t.co/63cGRSJ7g5 https://t.co/9dBegjM2Rb\n",
      "Ducatista: [Pre-Order] Samsung Note10+ 512GB Storage $1699 over 24m Plan + AKG wireless headphones@ Telstra https://t.co/VOUNGARh8H\n",
      "Frank Sinatra with Audrey Hepburn https://t.co/26NBoOQBo4\n",
      "RT @THEAdamGabriel: HT KirkDBorne :\n",
      "\n",
      "This week’s featured articles &amp; resources for #DataScientists at https://t.co/MUwdFTaJq7 DataScienceCt…\n",
      "RT @motherofnodejs: Python code.. #programming #coding #programmer #javascript #coder #php #java #programminglife #developer #python #progr…\n",
      "RT @hsianghui: A #python framework for relational representation learning in Keras. - danielegrattarola/spektral #coding https://t.co/QFmPw…\n",
      "Rug up if you're on the @TrainLinkWest #BlueMountainsLine today! \n",
      "\n",
      "Surfaces will be icy - please take care. \n",
      "\n",
      "Check… https://t.co/5uPMY2YwdN\n",
      "Princess Victoria Louise of Prussia, 1910 https://t.co/6dAexjWbzz\n",
      "RT @yashar: What Harvey Weinstein did to Annabella and her career was horrific. She was so terrified of him that she had a baseball bat nex…\n",
      "RolandDeschain: Skip App: 25% off When You Spend More than $10 Sat 10th and Sun 11th Aug https://t.co/Bt9fjXUtvI\n",
      "RT @kimbui: After we sent people to El Paso, I couldn't turn off. The thing about journalistic trauma is that it essentially means you are…\n",
      "RT @Seeker: Clumps of honeybees can teach us a lot about teamwork. https://t.co/HsIvNlBtxg\n"
     ]
    }
   ],
   "source": [
    "# Recent tweets from accounts you follow:\n",
    "tweets = api.home_timeline()\n",
    "for tweet in tweets:\n",
    "    print(tweet.text)"
   ]
  },
  {
   "cell_type": "markdown",
   "metadata": {
    "colab_type": "text",
    "id": "k2NpPlOIJhQ6"
   },
   "source": [
    "The request to see your own recent tweets is similar, but uses the `user_timeline` endpoint. Try this below:"
   ]
  },
  {
   "cell_type": "code",
   "execution_count": 14,
   "metadata": {
    "colab": {},
    "colab_type": "code",
    "id": "QMlhdx5NJhQ6"
   },
   "outputs": [
    {
     "name": "stdout",
     "output_type": "stream",
     "text": [
      "😂 https://t.co/40s1LnP9zF\n",
      "RT @robelinda2: What about this awesome Steve Smith video? 5 fours in a row in same match as the 5 sixes he hit, in his 1st List A half cen…\n",
      "@flySYD Please register me for flight updates on flight MH122 on 2019/08/03 13:25 GMT+10:00\n",
      "Abysmal umpiring continues. #Ashes #ENGvAUS\n",
      "Eat. Act. Repeat.\n",
      "\n",
      "🍔🌭🥪🍟🍕🌯🌮🥘🍝🍲🍛\n",
      "\n",
      "https://t.co/HEMrDnE2HL\n",
      "It's a treat to watch Broad &amp; Woakes bowl.\n",
      "\n",
      "Using numbers in Test kit is not a bright idea. Please change.\n",
      "It'll be a long seven weeks for @CricketAus https://t.co/RCOKddqOKm\n",
      "@BCBtigers Board, Selectors, Team Management must take responsibility. A massive overhaul is overdue. \n",
      "\n",
      "Under this… https://t.co/x8NeUG7942\n",
      "হাত বাড়ালেই বন্ধু পাওয়া যায় না,\n",
      "বাড়ালে হাত বন্ধু সবাই হয়ও না!\n",
      "RT @EuropeanCricket: Breaking. Pavel #Florin recently broke a leg, but no way missing #ECL19. Still in recovery, heavy strapping. Big Pav w…\n",
      "17. \n",
      "\n",
      "4 Cities (Comilla, Dhaka, Sylhet, Sydney). 2 Countries (🇧🇩, 🇦🇺). https://t.co/57PkF29w4n\n",
      "😂\n",
      "\n",
      "@JimmyNeesh is a national treasure. Never change. https://t.co/CHWGBxT2Hc\n",
      "আর খাওয়াবেন কী, তা-ও তো ভেজাল। আপনি অরেঞ্জ জুস খাওয়াবেন? ফরমালিনে ভরা। বাংলাদেশে নাকি তিনটা ফলে সবচেয়ে বেশি ফরমা… https://t.co/nfcLdJRTt8\n",
      "#ThrowbackCricket\n",
      "\n",
      "\"জাতিগতভাবেই আমরা শারীরিকভাবে ওদের চেয়ে পিছিয়ে। জন্মের পর থেকে আমরা খাই সবজি খিচুড়ি...নরম করে… https://t.co/WUODTIw4yy\n",
      "@xunaed @saberhc @BCBtigers @ICC M*****F***** 🤬\n",
      "পাপন ভাই বলেছেন হুয়াট ইজ অ্যাকাউন্টিবিলিটি? কৃষক থেকে স্কুলের বাচ্চা সবাই জানে বাংলাদেশ ইজ দ্য বেস্ট টিম। \n",
      "\n",
      "আপনারা… https://t.co/lMO8vZPKNL\n",
      "@robelinda2 Please!\n",
      "@xunaed @saberhc @BCBtigers @ICC অন এ ডিফারেন্ট নোট, দেব চৌধূরী এতো চাবায়া চাবায়া কথা বলে কেন? পাঞ্চেবল চেহারা দে… https://t.co/Spj1mD8bbh\n",
      "Tired of watching MCU &amp; DCEU? Watch The Boys! #TheBoysTV https://t.co/L2z1dGUWZn\n",
      "Can't agree more. https://t.co/JmHC4rg2as\n"
     ]
    }
   ],
   "source": [
    "tweets = api.user_timeline()\n",
    "for tweet in tweets:\n",
    "    print(tweet.text)"
   ]
  },
  {
   "cell_type": "markdown",
   "metadata": {
    "colab_type": "text",
    "id": "qY7oM-lJJhQ8"
   },
   "source": [
    "Now, instead of printing the text of each tweet, print the `created_at` and `id_str` methods:"
   ]
  },
  {
   "cell_type": "code",
   "execution_count": 15,
   "metadata": {
    "colab": {},
    "colab_type": "code",
    "id": "aUOlNdG8JhQ9"
   },
   "outputs": [
    {
     "name": "stdout",
     "output_type": "stream",
     "text": [
      "2019-08-05 16:06:19\n",
      "😂 https://t.co/40s1LnP9zF\n",
      "2019-08-05 08:31:53\n",
      "RT @robelinda2: What about this awesome Steve Smith video? 5 fours in a row in same match as the 5 sixes he hit, in his 1st List A half cen…\n",
      "2019-08-02 23:14:48\n",
      "@flySYD Please register me for flight updates on flight MH122 on 2019/08/03 13:25 GMT+10:00\n",
      "2019-08-02 11:36:02\n",
      "Abysmal umpiring continues. #Ashes #ENGvAUS\n",
      "2019-08-02 11:26:43\n",
      "Eat. Act. Repeat.\n",
      "\n",
      "🍔🌭🥪🍟🍕🌯🌮🥘🍝🍲🍛\n",
      "\n",
      "https://t.co/HEMrDnE2HL\n",
      "2019-08-01 13:32:19\n",
      "It's a treat to watch Broad &amp; Woakes bowl.\n",
      "\n",
      "Using numbers in Test kit is not a bright idea. Please change.\n",
      "2019-08-01 11:48:52\n",
      "It'll be a long seven weeks for @CricketAus https://t.co/RCOKddqOKm\n",
      "2019-07-31 22:44:08\n",
      "@BCBtigers Board, Selectors, Team Management must take responsibility. A massive overhaul is overdue. \n",
      "\n",
      "Under this… https://t.co/x8NeUG7942\n",
      "2019-07-31 22:37:41\n",
      "হাত বাড়ালেই বন্ধু পাওয়া যায় না,\n",
      "বাড়ালে হাত বন্ধু সবাই হয়ও না!\n",
      "2019-07-31 04:09:14\n",
      "RT @EuropeanCricket: Breaking. Pavel #Florin recently broke a leg, but no way missing #ECL19. Still in recovery, heavy strapping. Big Pav w…\n",
      "2019-07-30 09:16:18\n",
      "17. \n",
      "\n",
      "4 Cities (Comilla, Dhaka, Sylhet, Sydney). 2 Countries (🇧🇩, 🇦🇺). https://t.co/57PkF29w4n\n",
      "2019-07-30 04:24:50\n",
      "😂\n",
      "\n",
      "@JimmyNeesh is a national treasure. Never change. https://t.co/CHWGBxT2Hc\n",
      "2019-07-28 13:40:46\n",
      "আর খাওয়াবেন কী, তা-ও তো ভেজাল। আপনি অরেঞ্জ জুস খাওয়াবেন? ফরমালিনে ভরা। বাংলাদেশে নাকি তিনটা ফলে সবচেয়ে বেশি ফরমা… https://t.co/nfcLdJRTt8\n",
      "2019-07-28 13:40:45\n",
      "#ThrowbackCricket\n",
      "\n",
      "\"জাতিগতভাবেই আমরা শারীরিকভাবে ওদের চেয়ে পিছিয়ে। জন্মের পর থেকে আমরা খাই সবজি খিচুড়ি...নরম করে… https://t.co/WUODTIw4yy\n",
      "2019-07-28 11:43:48\n",
      "@xunaed @saberhc @BCBtigers @ICC M*****F***** 🤬\n",
      "2019-07-28 10:06:22\n",
      "পাপন ভাই বলেছেন হুয়াট ইজ অ্যাকাউন্টিবিলিটি? কৃষক থেকে স্কুলের বাচ্চা সবাই জানে বাংলাদেশ ইজ দ্য বেস্ট টিম। \n",
      "\n",
      "আপনারা… https://t.co/lMO8vZPKNL\n",
      "2019-07-28 09:54:39\n",
      "@robelinda2 Please!\n",
      "2019-07-28 09:53:19\n",
      "@xunaed @saberhc @BCBtigers @ICC অন এ ডিফারেন্ট নোট, দেব চৌধূরী এতো চাবায়া চাবায়া কথা বলে কেন? পাঞ্চেবল চেহারা দে… https://t.co/Spj1mD8bbh\n",
      "2019-07-28 02:35:33\n",
      "Tired of watching MCU &amp; DCEU? Watch The Boys! #TheBoysTV https://t.co/L2z1dGUWZn\n",
      "2019-07-27 10:09:05\n",
      "Can't agree more. https://t.co/JmHC4rg2as\n"
     ]
    }
   ],
   "source": [
    "tweets = api.user_timeline()\n",
    "for tweet in tweets:\n",
    "    print(tweet.created_at)\n",
    "#     print(tweet.id_str)\n",
    "    print(tweet.text)"
   ]
  },
  {
   "cell_type": "markdown",
   "metadata": {
    "colab_type": "text",
    "id": "3PibchrmJhQ-"
   },
   "source": [
    "You can create a tweet as follows:"
   ]
  },
  {
   "cell_type": "code",
   "execution_count": 16,
   "metadata": {
    "colab": {},
    "colab_type": "code",
    "id": "IwzTjf1gJhQ_"
   },
   "outputs": [],
   "source": [
    "# create a tweet:\n",
    "tweet = api.update_status('Test: Made with Tweepy')"
   ]
  },
  {
   "cell_type": "markdown",
   "metadata": {
    "colab_type": "text",
    "id": "TtlXvbjoJhRB"
   },
   "source": [
    "(Nb. Don't abuse this feature! If you try to generate a zillion tweets in a loop, Twitter will ban youur account.)"
   ]
  },
  {
   "cell_type": "markdown",
   "metadata": {
    "colab_type": "text",
    "id": "awUIiruTJhRB"
   },
   "source": [
    "Tweets can be deleted by reference to their `id_str` attribute:"
   ]
  },
  {
   "cell_type": "code",
   "execution_count": 17,
   "metadata": {
    "colab": {},
    "colab_type": "code",
    "id": "tKPSCOEBJhRC"
   },
   "outputs": [],
   "source": [
    "# delete a tweet:\n",
    "status = api.destroy_status(tweet.id_str)"
   ]
  },
  {
   "cell_type": "markdown",
   "metadata": {
    "colab_type": "text",
    "id": "hEt9NWJBJhRE"
   },
   "source": [
    "You can follow a Tweeter:"
   ]
  },
  {
   "cell_type": "code",
   "execution_count": 18,
   "metadata": {
    "colab": {},
    "colab_type": "code",
    "id": "CDWxR8wOJhRF"
   },
   "outputs": [
    {
     "data": {
      "text/plain": [
       "User(_api=<tweepy.api.API object at 0x000001EB09143630>, _json={'id': 10228272, 'id_str': '10228272', 'name': 'YouTube', 'screen_name': 'YouTube', 'location': 'San Bruno, CA', 'description': 'Pivoting to video.', 'url': 'https://t.co/F3fLcf5sH7', 'entities': {'url': {'urls': [{'url': 'https://t.co/F3fLcf5sH7', 'expanded_url': 'http://youtube.com', 'display_url': 'youtube.com', 'indices': [0, 23]}]}, 'description': {'urls': []}}, 'protected': False, 'followers_count': 71753142, 'friends_count': 1043, 'listed_count': 81959, 'created_at': 'Tue Nov 13 21:43:46 +0000 2007', 'favourites_count': 2524, 'utc_offset': None, 'time_zone': None, 'geo_enabled': False, 'verified': True, 'statuses_count': 23609, 'lang': None, 'status': {'created_at': 'Fri Aug 09 18:46:00 +0000 2019', 'id': 1159898639709298689, 'id_str': '1159898639709298689', 'text': 'Soccer or Football. The beautiful game. Whatever you call it, whoever you support, we’re celebrating the… https://t.co/YrTLzoFC48', 'truncated': True, 'entities': {'hashtags': [], 'symbols': [], 'user_mentions': [], 'urls': [{'url': 'https://t.co/YrTLzoFC48', 'expanded_url': 'https://twitter.com/i/web/status/1159898639709298689', 'display_url': 'twitter.com/i/web/status/1…', 'indices': [106, 129]}]}, 'source': '<a href=\"https://studio.twitter.com\" rel=\"nofollow\">Twitter Media Studio</a>', 'in_reply_to_status_id': None, 'in_reply_to_status_id_str': None, 'in_reply_to_user_id': None, 'in_reply_to_user_id_str': None, 'in_reply_to_screen_name': None, 'geo': None, 'coordinates': None, 'place': None, 'contributors': None, 'is_quote_status': False, 'retweet_count': 59, 'favorite_count': 461, 'favorited': False, 'retweeted': False, 'possibly_sensitive': False, 'lang': 'en'}, 'contributors_enabled': False, 'is_translator': False, 'is_translation_enabled': True, 'profile_background_color': 'AF0000', 'profile_background_image_url': 'http://abs.twimg.com/images/themes/theme14/bg.gif', 'profile_background_image_url_https': 'https://abs.twimg.com/images/themes/theme14/bg.gif', 'profile_background_tile': True, 'profile_image_url': 'http://pbs.twimg.com/profile_images/1148327441527689217/1QpS06D6_normal.png', 'profile_image_url_https': 'https://pbs.twimg.com/profile_images/1148327441527689217/1QpS06D6_normal.png', 'profile_banner_url': 'https://pbs.twimg.com/profile_banners/10228272/1563295551', 'profile_link_color': 'C9191D', 'profile_sidebar_border_color': '000000', 'profile_sidebar_fill_color': 'EFEFEF', 'profile_text_color': '333333', 'profile_use_background_image': True, 'has_extended_profile': False, 'default_profile': False, 'default_profile_image': False, 'following': False, 'follow_request_sent': False, 'notifications': False, 'muting': False, 'translator_type': 'regular'}, id=10228272, id_str='10228272', name='YouTube', screen_name='YouTube', location='San Bruno, CA', description='Pivoting to video.', url='https://t.co/F3fLcf5sH7', entities={'url': {'urls': [{'url': 'https://t.co/F3fLcf5sH7', 'expanded_url': 'http://youtube.com', 'display_url': 'youtube.com', 'indices': [0, 23]}]}, 'description': {'urls': []}}, protected=False, followers_count=71753142, friends_count=1043, listed_count=81959, created_at=datetime.datetime(2007, 11, 13, 21, 43, 46), favourites_count=2524, utc_offset=None, time_zone=None, geo_enabled=False, verified=True, statuses_count=23609, lang=None, status=Status(_api=<tweepy.api.API object at 0x000001EB09143630>, _json={'created_at': 'Fri Aug 09 18:46:00 +0000 2019', 'id': 1159898639709298689, 'id_str': '1159898639709298689', 'text': 'Soccer or Football. The beautiful game. Whatever you call it, whoever you support, we’re celebrating the… https://t.co/YrTLzoFC48', 'truncated': True, 'entities': {'hashtags': [], 'symbols': [], 'user_mentions': [], 'urls': [{'url': 'https://t.co/YrTLzoFC48', 'expanded_url': 'https://twitter.com/i/web/status/1159898639709298689', 'display_url': 'twitter.com/i/web/status/1…', 'indices': [106, 129]}]}, 'source': '<a href=\"https://studio.twitter.com\" rel=\"nofollow\">Twitter Media Studio</a>', 'in_reply_to_status_id': None, 'in_reply_to_status_id_str': None, 'in_reply_to_user_id': None, 'in_reply_to_user_id_str': None, 'in_reply_to_screen_name': None, 'geo': None, 'coordinates': None, 'place': None, 'contributors': None, 'is_quote_status': False, 'retweet_count': 59, 'favorite_count': 461, 'favorited': False, 'retweeted': False, 'possibly_sensitive': False, 'lang': 'en'}, created_at=datetime.datetime(2019, 8, 9, 18, 46), id=1159898639709298689, id_str='1159898639709298689', text='Soccer or Football. The beautiful game. Whatever you call it, whoever you support, we’re celebrating the… https://t.co/YrTLzoFC48', truncated=True, entities={'hashtags': [], 'symbols': [], 'user_mentions': [], 'urls': [{'url': 'https://t.co/YrTLzoFC48', 'expanded_url': 'https://twitter.com/i/web/status/1159898639709298689', 'display_url': 'twitter.com/i/web/status/1…', 'indices': [106, 129]}]}, source='Twitter Media Studio', source_url='https://studio.twitter.com', in_reply_to_status_id=None, in_reply_to_status_id_str=None, in_reply_to_user_id=None, in_reply_to_user_id_str=None, in_reply_to_screen_name=None, geo=None, coordinates=None, place=None, contributors=None, is_quote_status=False, retweet_count=59, favorite_count=461, favorited=False, retweeted=False, possibly_sensitive=False, lang='en'), contributors_enabled=False, is_translator=False, is_translation_enabled=True, profile_background_color='AF0000', profile_background_image_url='http://abs.twimg.com/images/themes/theme14/bg.gif', profile_background_image_url_https='https://abs.twimg.com/images/themes/theme14/bg.gif', profile_background_tile=True, profile_image_url='http://pbs.twimg.com/profile_images/1148327441527689217/1QpS06D6_normal.png', profile_image_url_https='https://pbs.twimg.com/profile_images/1148327441527689217/1QpS06D6_normal.png', profile_banner_url='https://pbs.twimg.com/profile_banners/10228272/1563295551', profile_link_color='C9191D', profile_sidebar_border_color='000000', profile_sidebar_fill_color='EFEFEF', profile_text_color='333333', profile_use_background_image=True, has_extended_profile=False, default_profile=False, default_profile_image=False, following=False, follow_request_sent=False, notifications=False, muting=False, translator_type='regular')"
      ]
     },
     "execution_count": 18,
     "metadata": {},
     "output_type": "execute_result"
    }
   ],
   "source": [
    "# follow:\n",
    "api.create_friendship('@YouTube')"
   ]
  },
  {
   "cell_type": "markdown",
   "metadata": {
    "colab_type": "text",
    "id": "Nbp2vRONJhRH"
   },
   "source": [
    "or unfollow:"
   ]
  },
  {
   "cell_type": "code",
   "execution_count": 19,
   "metadata": {
    "colab": {},
    "colab_type": "code",
    "id": "wCsNNVT9JhRH"
   },
   "outputs": [
    {
     "data": {
      "text/plain": [
       "User(_api=<tweepy.api.API object at 0x000001EB09143630>, _json={'id': 10228272, 'id_str': '10228272', 'name': 'YouTube', 'screen_name': 'YouTube', 'location': 'San Bruno, CA', 'description': 'Pivoting to video.', 'url': 'https://t.co/F3fLcf5sH7', 'entities': {'url': {'urls': [{'url': 'https://t.co/F3fLcf5sH7', 'expanded_url': 'http://youtube.com', 'display_url': 'youtube.com', 'indices': [0, 23]}]}, 'description': {'urls': []}}, 'protected': False, 'followers_count': 71753141, 'friends_count': 1043, 'listed_count': 81959, 'created_at': 'Tue Nov 13 21:43:46 +0000 2007', 'favourites_count': 2524, 'utc_offset': None, 'time_zone': None, 'geo_enabled': False, 'verified': True, 'statuses_count': 23609, 'lang': None, 'status': {'created_at': 'Fri Aug 09 18:46:00 +0000 2019', 'id': 1159898639709298689, 'id_str': '1159898639709298689', 'text': 'Soccer or Football. The beautiful game. Whatever you call it, whoever you support, we’re celebrating the… https://t.co/YrTLzoFC48', 'truncated': True, 'entities': {'hashtags': [], 'symbols': [], 'user_mentions': [], 'urls': [{'url': 'https://t.co/YrTLzoFC48', 'expanded_url': 'https://twitter.com/i/web/status/1159898639709298689', 'display_url': 'twitter.com/i/web/status/1…', 'indices': [106, 129]}]}, 'source': '<a href=\"https://studio.twitter.com\" rel=\"nofollow\">Twitter Media Studio</a>', 'in_reply_to_status_id': None, 'in_reply_to_status_id_str': None, 'in_reply_to_user_id': None, 'in_reply_to_user_id_str': None, 'in_reply_to_screen_name': None, 'geo': None, 'coordinates': None, 'place': None, 'contributors': None, 'is_quote_status': False, 'retweet_count': 59, 'favorite_count': 461, 'favorited': False, 'retweeted': False, 'possibly_sensitive': False, 'lang': 'en'}, 'contributors_enabled': False, 'is_translator': False, 'is_translation_enabled': True, 'profile_background_color': 'AF0000', 'profile_background_image_url': 'http://abs.twimg.com/images/themes/theme14/bg.gif', 'profile_background_image_url_https': 'https://abs.twimg.com/images/themes/theme14/bg.gif', 'profile_background_tile': True, 'profile_image_url': 'http://pbs.twimg.com/profile_images/1148327441527689217/1QpS06D6_normal.png', 'profile_image_url_https': 'https://pbs.twimg.com/profile_images/1148327441527689217/1QpS06D6_normal.png', 'profile_banner_url': 'https://pbs.twimg.com/profile_banners/10228272/1563295551', 'profile_link_color': 'C9191D', 'profile_sidebar_border_color': '000000', 'profile_sidebar_fill_color': 'EFEFEF', 'profile_text_color': '333333', 'profile_use_background_image': True, 'has_extended_profile': False, 'default_profile': False, 'default_profile_image': False, 'following': True, 'follow_request_sent': False, 'notifications': False, 'muting': False, 'translator_type': 'regular'}, id=10228272, id_str='10228272', name='YouTube', screen_name='YouTube', location='San Bruno, CA', description='Pivoting to video.', url='https://t.co/F3fLcf5sH7', entities={'url': {'urls': [{'url': 'https://t.co/F3fLcf5sH7', 'expanded_url': 'http://youtube.com', 'display_url': 'youtube.com', 'indices': [0, 23]}]}, 'description': {'urls': []}}, protected=False, followers_count=71753141, friends_count=1043, listed_count=81959, created_at=datetime.datetime(2007, 11, 13, 21, 43, 46), favourites_count=2524, utc_offset=None, time_zone=None, geo_enabled=False, verified=True, statuses_count=23609, lang=None, status=Status(_api=<tweepy.api.API object at 0x000001EB09143630>, _json={'created_at': 'Fri Aug 09 18:46:00 +0000 2019', 'id': 1159898639709298689, 'id_str': '1159898639709298689', 'text': 'Soccer or Football. The beautiful game. Whatever you call it, whoever you support, we’re celebrating the… https://t.co/YrTLzoFC48', 'truncated': True, 'entities': {'hashtags': [], 'symbols': [], 'user_mentions': [], 'urls': [{'url': 'https://t.co/YrTLzoFC48', 'expanded_url': 'https://twitter.com/i/web/status/1159898639709298689', 'display_url': 'twitter.com/i/web/status/1…', 'indices': [106, 129]}]}, 'source': '<a href=\"https://studio.twitter.com\" rel=\"nofollow\">Twitter Media Studio</a>', 'in_reply_to_status_id': None, 'in_reply_to_status_id_str': None, 'in_reply_to_user_id': None, 'in_reply_to_user_id_str': None, 'in_reply_to_screen_name': None, 'geo': None, 'coordinates': None, 'place': None, 'contributors': None, 'is_quote_status': False, 'retweet_count': 59, 'favorite_count': 461, 'favorited': False, 'retweeted': False, 'possibly_sensitive': False, 'lang': 'en'}, created_at=datetime.datetime(2019, 8, 9, 18, 46), id=1159898639709298689, id_str='1159898639709298689', text='Soccer or Football. The beautiful game. Whatever you call it, whoever you support, we’re celebrating the… https://t.co/YrTLzoFC48', truncated=True, entities={'hashtags': [], 'symbols': [], 'user_mentions': [], 'urls': [{'url': 'https://t.co/YrTLzoFC48', 'expanded_url': 'https://twitter.com/i/web/status/1159898639709298689', 'display_url': 'twitter.com/i/web/status/1…', 'indices': [106, 129]}]}, source='Twitter Media Studio', source_url='https://studio.twitter.com', in_reply_to_status_id=None, in_reply_to_status_id_str=None, in_reply_to_user_id=None, in_reply_to_user_id_str=None, in_reply_to_screen_name=None, geo=None, coordinates=None, place=None, contributors=None, is_quote_status=False, retweet_count=59, favorite_count=461, favorited=False, retweeted=False, possibly_sensitive=False, lang='en'), contributors_enabled=False, is_translator=False, is_translation_enabled=True, profile_background_color='AF0000', profile_background_image_url='http://abs.twimg.com/images/themes/theme14/bg.gif', profile_background_image_url_https='https://abs.twimg.com/images/themes/theme14/bg.gif', profile_background_tile=True, profile_image_url='http://pbs.twimg.com/profile_images/1148327441527689217/1QpS06D6_normal.png', profile_image_url_https='https://pbs.twimg.com/profile_images/1148327441527689217/1QpS06D6_normal.png', profile_banner_url='https://pbs.twimg.com/profile_banners/10228272/1563295551', profile_link_color='C9191D', profile_sidebar_border_color='000000', profile_sidebar_fill_color='EFEFEF', profile_text_color='333333', profile_use_background_image=True, has_extended_profile=False, default_profile=False, default_profile_image=False, following=True, follow_request_sent=False, notifications=False, muting=False, translator_type='regular')"
      ]
     },
     "execution_count": 19,
     "metadata": {},
     "output_type": "execute_result"
    }
   ],
   "source": [
    "# unfollow:\n",
    "api.destroy_friendship('@YouTube')"
   ]
  },
  {
   "cell_type": "code",
   "execution_count": null,
   "metadata": {
    "colab": {},
    "colab_type": "code",
    "id": "ND4BmdkvJhRJ"
   },
   "outputs": [],
   "source": []
  },
  {
   "cell_type": "markdown",
   "metadata": {
    "colab_type": "text",
    "id": "YGIWBU4FJn0V"
   },
   "source": [
    ">\n",
    ">"
   ]
  },
  {
   "cell_type": "markdown",
   "metadata": {
    "colab_type": "text",
    "id": "l_IsftzjJp6w"
   },
   "source": [
    ">\n",
    ">"
   ]
  },
  {
   "cell_type": "markdown",
   "metadata": {
    "colab_type": "text",
    "id": "59l7EOATJrJO"
   },
   "source": [
    "\n",
    "\n",
    "---\n",
    "\n",
    "\n",
    "\n",
    "---\n",
    "\n",
    ">  > > > > > > > > © 2019 Data Science Institute of Australia\n",
    "\n",
    "\n",
    "\n",
    "---\n",
    "\n",
    "\n",
    "\n",
    "---\n",
    "\n"
   ]
  }
 ],
 "metadata": {
  "colab": {
   "collapsed_sections": [],
   "name": "DSIA Lab 2.2.2.ipynb",
   "provenance": [],
   "version": "0.3.2"
  },
  "kernelspec": {
   "display_name": "Python 3",
   "language": "python",
   "name": "python3"
  },
  "language_info": {
   "codemirror_mode": {
    "name": "ipython",
    "version": 3
   },
   "file_extension": ".py",
   "mimetype": "text/x-python",
   "name": "python",
   "nbconvert_exporter": "python",
   "pygments_lexer": "ipython3",
   "version": "3.7.3"
  },
  "varInspector": {
   "cols": {
    "lenName": 16,
    "lenType": 16,
    "lenVar": 40
   },
   "kernels_config": {
    "python": {
     "delete_cmd_postfix": "",
     "delete_cmd_prefix": "del ",
     "library": "var_list.py",
     "varRefreshCmd": "print(var_dic_list())"
    },
    "r": {
     "delete_cmd_postfix": ") ",
     "delete_cmd_prefix": "rm(",
     "library": "var_list.r",
     "varRefreshCmd": "cat(var_dic_list()) "
    }
   },
   "types_to_exclude": [
    "module",
    "function",
    "builtin_function_or_method",
    "instance",
    "_Feature"
   ],
   "window_display": false
  }
 },
 "nbformat": 4,
 "nbformat_minor": 2
}
