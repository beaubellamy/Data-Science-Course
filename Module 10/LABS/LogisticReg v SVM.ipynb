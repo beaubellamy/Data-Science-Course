{
 "cells": [
  {
   "cell_type": "markdown",
   "metadata": {
    "colab_type": "text",
    "id": "lWP8i6SOr22z"
   },
   "source": [
    "# Comparing Logistic Regression and SVM"
   ]
  },
  {
   "cell_type": "markdown",
   "metadata": {},
   "source": [
    "## Load Necessary Libraries"
   ]
  },
  {
   "cell_type": "code",
   "execution_count": 4,
   "metadata": {
    "ExecuteTime": {
     "end_time": "2019-07-15T08:29:34.734525Z",
     "start_time": "2019-07-15T08:28:55.823959Z"
    },
    "colab": {},
    "colab_type": "code",
    "id": "MTQOGKZQr221"
   },
   "outputs": [],
   "source": [
    "import pandas as pd\n",
    "import numpy as np\n",
    "import pandas as pd\n",
    "import matplotlib.pyplot as plt\n",
    "import seaborn as sns\n",
    "from sklearn.model_selection import train_test_split\n",
    "from sklearn.linear_model import LogisticRegression\n",
    "from sklearn import metrics\n",
    "from sklearn import svm\n",
    "%matplotlib inline"
   ]
  },
  {
   "cell_type": "markdown",
   "metadata": {},
   "source": [
    "## Class\n",
    "\n",
    "We need to build a class which will able to handle multiple machine learning algorithm. "
   ]
  },
  {
   "cell_type": "code",
   "execution_count": 15,
   "metadata": {
    "ExecuteTime": {
     "end_time": "2019-07-15T08:38:09.117988Z",
     "start_time": "2019-07-15T08:38:08.373599Z"
    },
    "colab": {},
    "colab_type": "code",
    "id": "ZB67XVU5r229"
   },
   "outputs": [],
   "source": [
    "# Define Class\n",
    "class Model():\n",
    "\n",
    "    def __init__(self, filename):\n",
    "        '''\n",
    "        filename: csv file name\n",
    "        '''\n",
    "        # Private Variables\n",
    "        # Dataframe\n",
    "        self._df = pd.DataFrame()\n",
    "        # List of Cofusion Matrix\n",
    "        self._confusion_matrix = []\n",
    "        # Load Data\n",
    "        self.load_data(filename)\n",
    "        pass\n",
    "\n",
    "    def load_data(self, filename):\n",
    "        '''\n",
    "        filename: Read CSV\n",
    "        '''\n",
    "        # Read CSV File to DataFrame\n",
    "        self._df = pd.read_csv(filename)\n",
    "        pass\n",
    "\n",
    "    def print_df_info(self):\n",
    "        # Print Head of DataFrame\n",
    "        print(self._df.head())\n",
    "        pass\n",
    "\n",
    "    def change_column_names(self, new_column_names):\n",
    "        '''\n",
    "        new_column_names: List, new names for columns\n",
    "        '''\n",
    "        # Change Columns of DataFrame\n",
    "        # Assign new_column_names to Columns of DataFrame\n",
    "        self._df.columns = new_column_names\n",
    "\n",
    "    def set_features(self, feature_cols):\n",
    "        '''\n",
    "        feature_cols: List, features columns\n",
    "        '''\n",
    "        # Define a private variable _feature_col and assign feature_cols to _feature_col\n",
    "        # Define _X, assign values of feature column to _X\n",
    "        self._feature_col = feature_cols\n",
    "        self._X = self._df[self._feature_col]\n",
    "\n",
    "    def set_target(self, target_col):\n",
    "        '''\n",
    "        target_col: String, Name of Target Column\n",
    "        '''\n",
    "        # Define a private variable _target_col and assign target_col to _target_col\n",
    "        # Define _y, assign values of feature column to _X\n",
    "        self._target_col = target_col\n",
    "        self._y = self._df[target_col]\n",
    "\n",
    "    def train_and_test_logreg(self):\n",
    "        '''\n",
    "        Logistic Regression Model\n",
    "        '''\n",
    "        # Split Data        \n",
    "        self.split_data()\n",
    "        # Logistic Regression\n",
    "        self._logreg = LogisticRegression()\n",
    "        # Fit Model\n",
    "        self._logreg.fit(self._X_train, self._y_train)\n",
    "        # Store Predict in _y_pred\n",
    "        self._y_pred=self._logreg.predict(self._X_test)\n",
    "        # Store Confusion Matrix in _confusion_matrix using `metrics`\n",
    "        self._confusion_matrix = metrics.confusion_matrix(self._y_test, self._y_pred)\n",
    "        self._y_pred_proba = self._logreg.predict_proba(self._X_test)[::,1]\n",
    "        pass\n",
    "\n",
    "    def train_and_test_svm(self):\n",
    "        '''\n",
    "        Suppert Vector Machine Model\n",
    "        '''\n",
    "        # Split Data\n",
    "        self.split_data()\n",
    "        # SVC\n",
    "        self._SVC = svm.SVC(gamma=0.001, C=100., probability=True)\n",
    "        # Fit \n",
    "        self._SVC.fit(self._X_train, self._y_train)\n",
    "        # Store Predict in _y_pred\n",
    "        self._y_pred = self._SVC.predict(self._X_test)\n",
    "        # Store Confusion Matrix in _confusion_matrix using `metrics`\n",
    "        self._confusion_matrix = metrics.confusion_matrix(self._y_test, self._y_pred)\n",
    "        # Store predict_proba Matrix in _y_pred_proba using `predict_proba`\n",
    "        self._y_pred_proba = self._SVC.predict_proba(self._X_test)[::,1]\n",
    "        pass\n",
    "\n",
    "    def print_confusion_matrix(self):\n",
    "        # Print Cofusion Matrix\n",
    "        print(f'Confusion matrix:')\n",
    "        print(f'TP: {self._confusion_matrix[1][1]}, FP: {self._confusion_matrix[0][1]}')\n",
    "        print(f'FN: {self._confusion_matrix[1][0]}, TN: {self._confusion_matrix[0][0]}')\n",
    "        pass\n",
    "\n",
    "    def print_evaluation_metrics(self):\n",
    "        # Print accuracy_score, precision_score, recall_score\n",
    "        print(\"Accuracy:\", metrics.accuracy_score(self._y_test, self._y_pred))\n",
    "        print(\"Precision:\", metrics.precision_score(self._y_test, self._y_pred))\n",
    "        print(\"Recall:\", metrics.recall_score(self._y_test, self._y_pred))\n",
    "        pass\n",
    "\n",
    "    def split_data(self):\n",
    "        # Split _X, _y _X_train, _X_test, _y_train, _y_test to using train_test_split\n",
    "        self._X_train, self._X_test, self._y_train, self._y_test = train_test_split(\n",
    "            self._X, self._y, test_size=0.25, random_state=0)\n",
    "        pass\n",
    "\n",
    "    def plot_confusion_materix(self):\n",
    "        '''\n",
    "        Print HeatMap of `self._confusion_matrix`\n",
    "        '''\n",
    "        class_names=[1,0] # name  of classes\n",
    "        fig, ax = plt.subplots()\n",
    "        tick_marks = np.arange(len(class_names))\n",
    "        plt.xticks(tick_marks, class_names)\n",
    "        plt.yticks(tick_marks, class_names)\n",
    "        # create heatmap\n",
    "        sns.heatmap(pd.DataFrame(self._confusion_matrix), annot=True, cmap=\"YlGnBu\" ,fmt='g')\n",
    "        ax.xaxis.set_label_position(\"top\")\n",
    "        plt.tight_layout()\n",
    "        plt.title('Confusion matrix', y=1.1)\n",
    "        plt.xlabel('Actual label')\n",
    "        plt.ylabel('Predicted label')\n",
    "        pass\n",
    "\n",
    "    def plot_roc_curve(self):\n",
    "        '''\n",
    "        Plot ROC Curve of _y_test, y_pred_proba using `metrics`\n",
    "        '''\n",
    "        y_pred_proba = self._y_pred_proba\n",
    "        fpr, tpr, _ = metrics.roc_curve(self._y_test,  y_pred_proba)\n",
    "        auc = metrics.roc_auc_score(self._y_test, y_pred_proba)\n",
    "        plt.plot(fpr,tpr,label=\"data 1, auc=\"+str(auc))\n",
    "        plt.legend(loc=4)\n",
    "        plt.show()\n",
    "        pass"
   ]
  },
  {
   "cell_type": "code",
   "execution_count": 25,
   "metadata": {
    "ExecuteTime": {
     "end_time": "2019-07-15T08:43:08.268456Z",
     "start_time": "2019-07-15T08:43:08.257460Z"
    }
   },
   "outputs": [],
   "source": [
    "''' \n",
    "    analysying diabetes data \n",
    "'''\n",
    "filename = '../DATA/diabetes.csv'\n",
    "model = Model(filename)\n",
    "column_names = ['pregnant', 'glucose', 'bp', 'skin',\n",
    "                'insulin', 'bmi', 'pedigree', 'age', 'label']\n",
    "model.change_column_names(column_names)"
   ]
  },
  {
   "cell_type": "code",
   "execution_count": 27,
   "metadata": {
    "ExecuteTime": {
     "end_time": "2019-07-15T08:43:15.583013Z",
     "start_time": "2019-07-15T08:43:15.566061Z"
    },
    "colab": {
     "base_uri": "https://localhost:8080/",
     "height": 458
    },
    "colab_type": "code",
    "id": "ljlNM01Pr23C",
    "outputId": "1caf8292-e551-4b1f-9a19-78e20a721429"
   },
   "outputs": [
    {
     "name": "stdout",
     "output_type": "stream",
     "text": [
      "   pregnant  glucose  bp  skin  insulin   bmi  pedigree  age  label\n",
      "0         6      148  72    35        0  33.6     0.627   50      1\n",
      "1         1       85  66    29        0  26.6     0.351   31      0\n",
      "2         8      183  64     0        0  23.3     0.672   32      1\n",
      "3         1       89  66    23       94  28.1     0.167   21      0\n",
      "4         0      137  40    35      168  43.1     2.288   33      1\n"
     ]
    }
   ],
   "source": [
    "model.print_df_info()\n",
    "\n",
    "feature_cols = ['pregnant', 'insulin', 'bmi',\n",
    "                'age', 'glucose', 'bp', 'pedigree']\n",
    "model.set_features(feature_cols)\n",
    "model.set_target('label')"
   ]
  },
  {
   "cell_type": "code",
   "execution_count": 28,
   "metadata": {
    "ExecuteTime": {
     "end_time": "2019-07-15T08:43:20.905854Z",
     "start_time": "2019-07-15T08:43:20.388160Z"
    }
   },
   "outputs": [
    {
     "name": "stdout",
     "output_type": "stream",
     "text": [
      ">>>>>>>>>>>>>>>>>>>> Applying Logistic Regression\n",
      "Confusion matrix:\n",
      "TP: 36, FP: 11\n",
      "FN: 26, TN: 119\n",
      "Accuracy: 0.8072916666666666\n",
      "Precision: 0.7659574468085106\n",
      "Recall: 0.5806451612903226\n"
     ]
    },
    {
     "data": {
      "image/png": "[encoded data removed]",
      "text/plain": [
       "<matplotlib.figure.Figure at 0x2aedeac1518>"
      ]
     },
     "metadata": {
      "needs_background": "light"
     },
     "output_type": "display_data"
    },
    {
     "data": {
      "image/png": "[encoded data removed]",
      "text/plain": [
       "<matplotlib.figure.Figure at 0x2aedeb17dd8>"
      ]
     },
     "metadata": {
      "needs_background": "light"
     },
     "output_type": "display_data"
    }
   ],
   "source": [
    "print(20 * '>', 'Applying Logistic Regression')\n",
    "model.train_and_test_logreg()\n",
    "model.print_confusion_matrix()\n",
    "model.print_evaluation_metrics()\n",
    "model.plot_roc_curve()\n",
    "model.plot_confusion_materix()"
   ]
  },
  {
   "cell_type": "code",
   "execution_count": 22,
   "metadata": {
    "ExecuteTime": {
     "end_time": "2019-07-15T08:42:41.842633Z",
     "start_time": "2019-07-15T08:42:41.097379Z"
    }
   },
   "outputs": [
    {
     "name": "stdout",
     "output_type": "stream",
     "text": [
      ">>>>>>>>>>>>>>>>>>>> Applying SVM\n",
      "Confusion matrix:\n",
      "TP: 31, FP: 25\n",
      "FN: 31, TN: 105\n",
      "Accuracy: 0.7083333333333334\n",
      "Precision: 0.5535714285714286\n",
      "Recall: 0.5\n"
     ]
    },
    {
     "data": {
      "image/png": "[encoded data removed]",
      "text/plain": [
       "<matplotlib.figure.Figure at 0x2aedfd66b38>"
      ]
     },
     "metadata": {
      "needs_background": "light"
     },
     "output_type": "display_data"
    },
    {
     "data": {
      "image/png": "[encoded data removed]",
      "text/plain": [
       "<matplotlib.figure.Figure at 0x2aedfd66a20>"
      ]
     },
     "metadata": {
      "needs_background": "light"
     },
     "output_type": "display_data"
    }
   ],
   "source": [
    "print(20 * '>', 'Applying SVM')\n",
    "model.train_and_test_svm()\n",
    "model.print_confusion_matrix()\n",
    "model.print_evaluation_metrics()\n",
    "model.plot_roc_curve()\n",
    "model.plot_confusion_materix()"
   ]
  }
 ],
 "metadata": {
  "colab": {
   "name": "LogRegSVM01.ipynb",
   "provenance": [],
   "version": "0.3.2"
  },
  "kernelspec": {
   "display_name": "Python 3",
   "language": "python",
   "name": "python3"
  },
  "language_info": {
   "codemirror_mode": {
    "name": "ipython",
    "version": 3
   },
   "file_extension": ".py",
   "mimetype": "text/x-python",
   "name": "python",
   "nbconvert_exporter": "python",
   "pygments_lexer": "ipython3",
   "version": "3.7.3"
  },
  "varInspector": {
   "cols": {
    "lenName": 16,
    "lenType": 16,
    "lenVar": 40
   },
   "kernels_config": {
    "python": {
     "delete_cmd_postfix": "",
     "delete_cmd_prefix": "del ",
     "library": "var_list.py",
     "varRefreshCmd": "print(var_dic_list())"
    },
    "r": {
     "delete_cmd_postfix": ") ",
     "delete_cmd_prefix": "rm(",
     "library": "var_list.r",
     "varRefreshCmd": "cat(var_dic_list()) "
    }
   },
   "types_to_exclude": [
    "module",
    "function",
    "builtin_function_or_method",
    "instance",
    "_Feature"
   ],
   "window_display": false
  }
 },
 "nbformat": 4,
 "nbformat_minor": 1
}
