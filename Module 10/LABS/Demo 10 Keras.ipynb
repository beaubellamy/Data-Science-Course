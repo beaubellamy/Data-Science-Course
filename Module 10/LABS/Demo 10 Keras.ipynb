{
 "cells": [
  {
   "cell_type": "markdown",
   "metadata": {
    "colab_type": "text",
    "id": "26KthBFty-QG"
   },
   "source": [
    "![image.png](https://i.imgur.com/1WaY7aA.png)\n",
    "\n",
    "---\n",
    "\n",
    "\n",
    "\n",
    "---\n",
    "\n"
   ]
  },
  {
   "cell_type": "markdown",
   "metadata": {
    "colab_type": "text",
    "id": "W5NydEUxy-QJ"
   },
   "source": [
    "#  Data Science and AI\n",
    "## Demo: NN with Keras\n",
    "INSTRUCTIONS:\n",
    "- Run the cells\n",
    "- Observe and understand the results\n",
    "- Answer the questions"
   ]
  },
  {
   "cell_type": "markdown",
   "metadata": {
    "colab_type": "text",
    "id": "9n746euhy-QN"
   },
   "source": [
    "## Written digits classification with Keras"
   ]
  },
  {
   "cell_type": "code",
   "execution_count": 1,
   "metadata": {
    "colab": {
     "base_uri": "https://localhost:8080/",
     "height": 35
    },
    "colab_type": "code",
    "executionInfo": {
     "elapsed": 3044,
     "status": "ok",
     "timestamp": 1560987173275,
     "user": {
      "displayName": "Ibrahim Faisal",
      "photoUrl": "https://lh3.googleusercontent.com/-67DMczu7rgM/AAAAAAAAAAI/AAAAAAAAAAc/6f5FCnBgxFs/s64/photo.jpg",
      "userId": "02685917636347920688"
     },
     "user_tz": -600
    },
    "id": "hJgb9UC1y-QQ",
    "outputId": "952d9136-2b32-4474-eddb-d03f8d92d24e"
   },
   "outputs": [
    {
     "name": "stderr",
     "output_type": "stream",
     "text": [
      "Using TensorFlow backend.\n"
     ]
    }
   ],
   "source": [
    "## Import libraries\n",
    "import numpy as np\n",
    "\n",
    "%matplotlib inline\n",
    "import matplotlib.pyplot as plt\n",
    "\n",
    "from sklearn.datasets import load_digits\n",
    "from sklearn.metrics import confusion_matrix\n",
    "from sklearn.model_selection import train_test_split\n",
    "\n",
    "# import keras\n",
    "from keras.models import Sequential\n",
    "from keras.layers import Dense\n",
    "from keras.utils import to_categorical"
   ]
  },
  {
   "cell_type": "code",
   "execution_count": 2,
   "metadata": {
    "colab": {},
    "colab_type": "code",
    "id": "0tQuyTyyy-QZ"
   },
   "outputs": [],
   "source": [
    "# The digits dataset\n",
    "digits = load_digits()"
   ]
  },
  {
   "cell_type": "code",
   "execution_count": 3,
   "metadata": {
    "colab": {
     "base_uri": "https://localhost:8080/",
     "height": 835
    },
    "colab_type": "code",
    "executionInfo": {
     "elapsed": 691,
     "status": "ok",
     "timestamp": 1560987180801,
     "user": {
      "displayName": "Ibrahim Faisal",
      "photoUrl": "https://lh3.googleusercontent.com/-67DMczu7rgM/AAAAAAAAAAI/AAAAAAAAAAc/6f5FCnBgxFs/s64/photo.jpg",
      "userId": "02685917636347920688"
     },
     "user_tz": -600
    },
    "id": "Zn2DiwPXy-Qd",
    "outputId": "370cdb14-46ea-4c44-ec94-8f33396ea89f"
   },
   "outputs": [
    {
     "name": "stdout",
     "output_type": "stream",
     "text": [
      ".. _digits_dataset:\n",
      "\n",
      "Optical recognition of handwritten digits dataset\n",
      "--------------------------------------------------\n",
      "\n",
      "**Data Set Characteristics:**\n",
      "\n",
      "    :Number of Instances: 5620\n",
      "    :Number of Attributes: 64\n",
      "    :Attribute Information: 8x8 image of integer pixels in the range 0..16.\n",
      "    :Missing Attribute Values: None\n",
      "    :Creator: E. Alpaydin (alpaydin '@' boun.edu.tr)\n",
      "    :Date: July; 1998\n",
      "\n",
      "This is a copy of the test set of the UCI ML hand-written digits datasets\n",
      "http://archive.ics.uci.edu/ml/datasets/Optical+Recognition+of+Handwritten+Digits\n",
      "\n",
      "The data set contains images of hand-written digits: 10 classes where\n",
      "each class refers to a digit.\n",
      "\n",
      "Preprocessing programs made available by NIST were used to extract\n",
      "normalized bitmaps of handwritten digits from a preprinted form. From a\n",
      "total of 43 people, 30 contributed to the training set and different 13\n",
      "to the test set. 32x32 bitmaps are divided into nonoverlapping blocks of\n",
      "4x4 and the number of on pixels are counted in each block. This generates\n",
      "an input matrix of 8x8 where each element is an integer in the range\n",
      "0..16. This reduces dimensionality and gives invariance to small\n",
      "distortions.\n",
      "\n",
      "For info on NIST preprocessing routines, see M. D. Garris, J. L. Blue, G.\n",
      "T. Candela, D. L. Dimmick, J. Geist, P. J. Grother, S. A. Janet, and C.\n",
      "L. Wilson, NIST Form-Based Handprint Recognition System, NISTIR 5469,\n",
      "1994.\n",
      "\n",
      ".. topic:: References\n",
      "\n",
      "  - C. Kaynak (1995) Methods of Combining Multiple Classifiers and Their\n",
      "    Applications to Handwritten Digit Recognition, MSc Thesis, Institute of\n",
      "    Graduate Studies in Science and Engineering, Bogazici University.\n",
      "  - E. Alpaydin, C. Kaynak (1998) Cascading Classifiers, Kybernetika.\n",
      "  - Ken Tang and Ponnuthurai N. Suganthan and Xi Yao and A. Kai Qin.\n",
      "    Linear dimensionalityreduction using relevance weighted LDA. School of\n",
      "    Electrical and Electronic Engineering Nanyang Technological University.\n",
      "    2005.\n",
      "  - Claudio Gentile. A New Approximate Maximal Margin Classification\n",
      "    Algorithm. NIPS. 2000.\n"
     ]
    }
   ],
   "source": [
    "print(digits.DESCR)"
   ]
  },
  {
   "cell_type": "code",
   "execution_count": 4,
   "metadata": {
    "colab": {
     "base_uri": "https://localhost:8080/",
     "height": 147
    },
    "colab_type": "code",
    "executionInfo": {
     "elapsed": 670,
     "status": "ok",
     "timestamp": 1560987197507,
     "user": {
      "displayName": "Ibrahim Faisal",
      "photoUrl": "https://lh3.googleusercontent.com/-67DMczu7rgM/AAAAAAAAAAI/AAAAAAAAAAc/6f5FCnBgxFs/s64/photo.jpg",
      "userId": "02685917636347920688"
     },
     "user_tz": -600
    },
    "id": "oi5lOrDYy-Qh",
    "outputId": "2efb7206-c6e1-4070-d8f5-57b76ffeea7c"
   },
   "outputs": [
    {
     "data": {
      "image/png": "[encoded data removed]",
      "text/plain": [
       "<Figure size 144x144 with 1 Axes>"
      ]
     },
     "metadata": {},
     "output_type": "display_data"
    }
   ],
   "source": [
    "id = np.random.randint(len(digits.target))\n",
    "plt.figure(figsize = (2, 2))\n",
    "plt.imshow(digits.images[id], cmap = 'gray')\n",
    "plt.xticks([])\n",
    "plt.yticks([])\n",
    "plt.show()"
   ]
  },
  {
   "cell_type": "code",
   "execution_count": 5,
   "metadata": {
    "colab": {},
    "colab_type": "code",
    "id": "k-Wu4bQJy-Ql"
   },
   "outputs": [],
   "source": [
    "# Prepare input data\n",
    "# input\n",
    "X = digits.data.astype(np.uint8)\n",
    "n_cols = X.shape[1]\n",
    "\n",
    "# output\n",
    "target = digits.target.astype(np.uint8)\n",
    "\n",
    "# Convert the target to categorical\n",
    "y = to_categorical(\n",
    "    target,\n",
    "    num_classes = len(set(target)),\n",
    "    dtype = 'uint8')"
   ]
  },
  {
   "cell_type": "code",
   "execution_count": 6,
   "metadata": {
    "colab": {},
    "colab_type": "code",
    "id": "nBFFtaWcy-Qo"
   },
   "outputs": [],
   "source": [
    "X_train, X_test, y_train, y_test = train_test_split(\n",
    "    X, y, \n",
    "    test_size = 0.3,\n",
    "    random_state = 65)"
   ]
  },
  {
   "cell_type": "code",
   "execution_count": 7,
   "metadata": {
    "colab": {
     "base_uri": "https://localhost:8080/",
     "height": 90
    },
    "colab_type": "code",
    "executionInfo": {
     "elapsed": 679,
     "status": "ok",
     "timestamp": 1560987210021,
     "user": {
      "displayName": "Ibrahim Faisal",
      "photoUrl": "https://lh3.googleusercontent.com/-67DMczu7rgM/AAAAAAAAAAI/AAAAAAAAAAc/6f5FCnBgxFs/s64/photo.jpg",
      "userId": "02685917636347920688"
     },
     "user_tz": -600
    },
    "id": "aKrm9Miqy-Qq",
    "outputId": "720fbca9-f091-452a-bb7e-abd26f2580be"
   },
   "outputs": [],
   "source": [
    "# Set up the model architecture\n",
    "model = Sequential()"
   ]
  },
  {
   "cell_type": "code",
   "execution_count": 8,
   "metadata": {
    "colab": {
     "base_uri": "https://localhost:8080/",
     "height": 108
    },
    "colab_type": "code",
    "executionInfo": {
     "elapsed": 699,
     "status": "ok",
     "timestamp": 1560987241021,
     "user": {
      "displayName": "Ibrahim Faisal",
      "photoUrl": "https://lh3.googleusercontent.com/-67DMczu7rgM/AAAAAAAAAAI/AAAAAAAAAAc/6f5FCnBgxFs/s64/photo.jpg",
      "userId": "02685917636347920688"
     },
     "user_tz": -600
    },
    "id": "KC9AVmkFy-Qr",
    "outputId": "4c3e6fa2-387a-4a7d-b0bd-92ec07972f79"
   },
   "outputs": [
    {
     "name": "stdout",
     "output_type": "stream",
     "text": [
      "WARNING:tensorflow:From C:\\Users\\Beau\\Anaconda3\\lib\\site-packages\\tensorflow\\python\\framework\\op_def_library.py:263: colocate_with (from tensorflow.python.framework.ops) is deprecated and will be removed in a future version.\n",
      "Instructions for updating:\n",
      "Colocations handled automatically by placer.\n"
     ]
    }
   ],
   "source": [
    "# Add the first hidden layer\n",
    "model.add(Dense(100, activation = 'relu', input_shape = (n_cols, )))\n",
    "# Add the second hidden layer\n",
    "model.add(Dense(50, activation = 'relu'))\n",
    "\n",
    "# Add the output layer\n",
    "model.add(Dense(10, activation = 'softmax'))"
   ]
  },
  {
   "cell_type": "code",
   "execution_count": 9,
   "metadata": {
    "colab": {
     "base_uri": "https://localhost:8080/",
     "height": 266
    },
    "colab_type": "code",
    "executionInfo": {
     "elapsed": 658,
     "status": "ok",
     "timestamp": 1560987244812,
     "user": {
      "displayName": "Ibrahim Faisal",
      "photoUrl": "https://lh3.googleusercontent.com/-67DMczu7rgM/AAAAAAAAAAI/AAAAAAAAAAc/6f5FCnBgxFs/s64/photo.jpg",
      "userId": "02685917636347920688"
     },
     "user_tz": -600
    },
    "id": "05KgUEX8y-Qt",
    "outputId": "0eb90200-af4b-4085-d352-e7ee471fc221"
   },
   "outputs": [
    {
     "name": "stdout",
     "output_type": "stream",
     "text": [
      "_________________________________________________________________\n",
      "Layer (type)                 Output Shape              Param #   \n",
      "=================================================================\n",
      "dense_1 (Dense)              (None, 100)               6500      \n",
      "_________________________________________________________________\n",
      "dense_2 (Dense)              (None, 50)                5050      \n",
      "_________________________________________________________________\n",
      "dense_3 (Dense)              (None, 10)                510       \n",
      "=================================================================\n",
      "Total params: 12,060\n",
      "Trainable params: 12,060\n",
      "Non-trainable params: 0\n",
      "_________________________________________________________________\n",
      "None\n"
     ]
    }
   ],
   "source": [
    "print(model.summary())"
   ]
  },
  {
   "cell_type": "code",
   "execution_count": 10,
   "metadata": {
    "colab": {
     "base_uri": "https://localhost:8080/",
     "height": 108
    },
    "colab_type": "code",
    "executionInfo": {
     "elapsed": 766,
     "status": "ok",
     "timestamp": 1560987254525,
     "user": {
      "displayName": "Ibrahim Faisal",
      "photoUrl": "https://lh3.googleusercontent.com/-67DMczu7rgM/AAAAAAAAAAI/AAAAAAAAAAc/6f5FCnBgxFs/s64/photo.jpg",
      "userId": "02685917636347920688"
     },
     "user_tz": -600
    },
    "id": "4eu9O-5Xy-Qv",
    "outputId": "21a852aa-cf60-4cb5-f98f-09a33cdfff7c"
   },
   "outputs": [],
   "source": [
    "# Compile the model\n",
    "model.compile(\n",
    "    optimizer = 'sgd',\n",
    "    loss = 'categorical_crossentropy',\n",
    "    metrics = ['accuracy'])"
   ]
  },
  {
   "cell_type": "code",
   "execution_count": 11,
   "metadata": {
    "colab": {
     "base_uri": "https://localhost:8080/",
     "height": 161
    },
    "colab_type": "code",
    "executionInfo": {
     "elapsed": 7084,
     "status": "ok",
     "timestamp": 1560987266117,
     "user": {
      "displayName": "Ibrahim Faisal",
      "photoUrl": "https://lh3.googleusercontent.com/-67DMczu7rgM/AAAAAAAAAAI/AAAAAAAAAAc/6f5FCnBgxFs/s64/photo.jpg",
      "userId": "02685917636347920688"
     },
     "user_tz": -600
    },
    "id": "DSnIhJ0My-Qw",
    "outputId": "d2e88f70-4060-4fae-cb23-2c3753b99cbc"
   },
   "outputs": [
    {
     "name": "stdout",
     "output_type": "stream",
     "text": [
      "WARNING:tensorflow:From C:\\Users\\Beau\\Anaconda3\\lib\\site-packages\\tensorflow\\python\\ops\\math_ops.py:3066: to_int32 (from tensorflow.python.ops.math_ops) is deprecated and will be removed in a future version.\n",
      "Instructions for updating:\n",
      "Use tf.cast instead.\n",
      "Wall time: 9.05 s\n"
     ]
    }
   ],
   "source": [
    "%%time\n",
    "# Fit the model\n",
    "history = model.fit(\n",
    "    X_train,\n",
    "    y_train,\n",
    "    validation_split = 0.25,\n",
    "    batch_size = 20,\n",
    "    epochs = 100,\n",
    "    verbose = 0)"
   ]
  },
  {
   "cell_type": "code",
   "execution_count": 12,
   "metadata": {
    "colab": {},
    "colab_type": "code",
    "id": "CQsFQY0fy-Qy"
   },
   "outputs": [],
   "source": [
    "predictions = model.predict_classes(X_test)"
   ]
  },
  {
   "cell_type": "code",
   "execution_count": 13,
   "metadata": {
    "colab": {
     "base_uri": "https://localhost:8080/",
     "height": 70
    },
    "colab_type": "code",
    "executionInfo": {
     "elapsed": 703,
     "status": "ok",
     "timestamp": 1560987274181,
     "user": {
      "displayName": "Ibrahim Faisal",
      "photoUrl": "https://lh3.googleusercontent.com/-67DMczu7rgM/AAAAAAAAAAI/AAAAAAAAAAc/6f5FCnBgxFs/s64/photo.jpg",
      "userId": "02685917636347920688"
     },
     "user_tz": -600
    },
    "id": "7XbWCdmmy-Q0",
    "outputId": "7f4bf47c-2c4b-4aac-c2d4-a833b168a859",
    "scrolled": true
   },
   "outputs": [
    {
     "name": "stdout",
     "output_type": "stream",
     "text": [
      "540/540 [==============================] - 0s 15us/step\n",
      "\n",
      "Test loss: 0.104173, Test accuracy: 0.974074\n"
     ]
    }
   ],
   "source": [
    "score = model.evaluate(X_test, y_test, batch_size = 315)\n",
    "print('\\nTest loss: %.6f, Test accuracy: %.6f' % tuple(score))"
   ]
  },
  {
   "cell_type": "code",
   "execution_count": 14,
   "metadata": {
    "colab": {},
    "colab_type": "code",
    "id": "YAEoxWaNy-Q2"
   },
   "outputs": [],
   "source": [
    "def print_cm(cm):\n",
    "    c = '%%%dd ' % len('%d' % cm.max())\n",
    "    s = ' | '\n",
    "    s += ''.join([c % i for i in range(len(cm[0]))])\n",
    "    print(s)\n",
    "    print('-' * len(s))\n",
    "    for i, r in enumerate(cm):\n",
    "        s = '%d| ' % i\n",
    "        s += c * len(r)\n",
    "        print(s % tuple(r))"
   ]
  },
  {
   "cell_type": "code",
   "execution_count": 15,
   "metadata": {
    "colab": {
     "base_uri": "https://localhost:8080/",
     "height": 230
    },
    "colab_type": "code",
    "executionInfo": {
     "elapsed": 677,
     "status": "ok",
     "timestamp": 1560987282219,
     "user": {
      "displayName": "Ibrahim Faisal",
      "photoUrl": "https://lh3.googleusercontent.com/-67DMczu7rgM/AAAAAAAAAAI/AAAAAAAAAAc/6f5FCnBgxFs/s64/photo.jpg",
      "userId": "02685917636347920688"
     },
     "user_tz": -600
    },
    "id": "5a00OEH5y-Q4",
    "outputId": "3344a8e1-bb45-4799-9e98-2fef7e4b907f",
    "scrolled": true
   },
   "outputs": [
    {
     "name": "stdout",
     "output_type": "stream",
     "text": [
      " |  0  1  2  3  4  5  6  7  8  9 \n",
      "---------------------------------\n",
      "0| 54  0  0  0  1  0  0  0  0  0 \n",
      "1|  0 52  0  0  0  1  0  0  2  0 \n",
      "2|  0  0 49  0  0  0  0  0  0  0 \n",
      "3|  0  0  0 52  0  0  0  0  0  0 \n",
      "4|  0  0  0  0 55  0  0  0  0  0 \n",
      "5|  0  0  0  0  0 60  0  0  0  0 \n",
      "6|  0  0  0  0  0  1 60  0  0  0 \n",
      "7|  0  0  0  0  0  0  0 51  0  1 \n",
      "8|  0  1  0  0  0  2  1  0 44  1 \n",
      "9|  0  1  0  0  0  2  0  0  0 49 \n"
     ]
    }
   ],
   "source": [
    "y_test_target = np.array([x.argmax() for x in y_test])\n",
    "cm = confusion_matrix(y_test_target, predictions)\n",
    "print_cm(cm)"
   ]
  },
  {
   "cell_type": "code",
   "execution_count": 16,
   "metadata": {
    "colab": {
     "base_uri": "https://localhost:8080/",
     "height": 430
    },
    "colab_type": "code",
    "executionInfo": {
     "elapsed": 1308,
     "status": "ok",
     "timestamp": 1560987288359,
     "user": {
      "displayName": "Ibrahim Faisal",
      "photoUrl": "https://lh3.googleusercontent.com/-67DMczu7rgM/AAAAAAAAAAI/AAAAAAAAAAc/6f5FCnBgxFs/s64/photo.jpg",
      "userId": "02685917636347920688"
     },
     "user_tz": -600
    },
    "id": "UhiEYNVqy-Q6",
    "outputId": "f2584738-9742-4c15-8735-98938107e333",
    "scrolled": true
   },
   "outputs": [
    {
     "data": {
      "image/png": "[encoded data removed]",
      "text/plain": [
       "<Figure size 1296x432 with 2 Axes>"
      ]
     },
     "metadata": {
      "needs_background": "light"
     },
     "output_type": "display_data"
    }
   ],
   "source": [
    "fig, ax = plt.subplots(1, 2, figsize = (18, 6))\n",
    "fig.subplots_adjust(left = 0.02, right = 0.98, wspace = 0.2)\n",
    "\n",
    "plt.rcParams.update({'font.size': 18})\n",
    "\n",
    "# Plot training & validation accuracy values\n",
    "ax[0].plot(model.history.history['acc'], label = 'Training')\n",
    "ax[0].plot(model.history.history['val_acc'], label = 'Validation')\n",
    "ax[0].set_title('Model accuracy')\n",
    "ax[0].set_ylabel('Accuracy')\n",
    "ax[0].set_xlabel('Epoch')\n",
    "ax[0].legend()\n",
    "\n",
    "# Plot training & validation loss values\n",
    "ax[1].plot(model.history.history['loss'], label = 'Training')\n",
    "ax[1].plot(model.history.history['val_loss'], label = 'Validation')\n",
    "ax[1].set_title('Model loss')\n",
    "ax[1].set_ylabel('Loss')\n",
    "ax[1].set_xlabel('Epoch')\n",
    "ax[1].legend()\n",
    "\n",
    "plt.show()"
   ]
  },
  {
   "cell_type": "code",
   "execution_count": 17,
   "metadata": {
    "colab": {},
    "colab_type": "code",
    "id": "grQoh06wy-Q7"
   },
   "outputs": [],
   "source": [
    "def show_digit():\n",
    "    id = np.random.randint(len(predictions))\n",
    "    XTest = X_test[id].reshape(8, 8)\n",
    "    plt.figure(figsize = (2, 2))\n",
    "    plt.imshow(XTest, cmap = 'gray')\n",
    "    plt.title('Prediction: %d' % predictions[id])\n",
    "    plt.xticks([])\n",
    "    plt.yticks([])\n",
    "    plt.show()"
   ]
  },
  {
   "cell_type": "code",
   "execution_count": 18,
   "metadata": {
    "colab": {},
    "colab_type": "code",
    "id": "4A6G2LEPy-Q9"
   },
   "outputs": [],
   "source": [
    "def show_10_digits():\n",
    "    fig, ax = plt.subplots(2, 5, figsize = (8, 4))\n",
    "    fig.subplots_adjust(left = 0.02, right = 0.98, top = 0.8, wspace = 0.2, hspace = 0.3)\n",
    "    fig.suptitle('Ten Predictions', fontsize = 12, fontweight = 'bold')\n",
    "\n",
    "    plt.rcParams.update({'font.size': 10})\n",
    "    \n",
    "    ids = np.random.randint(len(predictions), size = 10)\n",
    "    r = 0\n",
    "    c = 0\n",
    "    for id in ids:\n",
    "        XTest = X_test[id].reshape(8, 8)\n",
    "\n",
    "        # original image\n",
    "        ax[r, c].imshow(XTest, cmap = 'gray')\n",
    "        ax[r, c].set_title('Prediction: %d' % predictions[id])\n",
    "        ax[r, c].set_xticks([])\n",
    "        ax[r, c].set_yticks([])\n",
    "        c += 1\n",
    "        if c > 4:\n",
    "            r += 1\n",
    "            c = 0\n",
    "\n",
    "    plt.show()"
   ]
  },
  {
   "cell_type": "code",
   "execution_count": 19,
   "metadata": {
    "colab": {
     "base_uri": "https://localhost:8080/",
     "height": 165
    },
    "colab_type": "code",
    "executionInfo": {
     "elapsed": 750,
     "status": "ok",
     "timestamp": 1560987306209,
     "user": {
      "displayName": "Ibrahim Faisal",
      "photoUrl": "https://lh3.googleusercontent.com/-67DMczu7rgM/AAAAAAAAAAI/AAAAAAAAAAc/6f5FCnBgxFs/s64/photo.jpg",
      "userId": "02685917636347920688"
     },
     "user_tz": -600
    },
    "id": "iG9wf-bTy-Q-",
    "outputId": "2092ecd0-c4a8-4252-d4df-3f383a3d3b34"
   },
   "outputs": [
    {
     "data": {
      "image/png": "[encoded data removed]",
      "text/plain": [
       "<Figure size 144x144 with 1 Axes>"
      ]
     },
     "metadata": {},
     "output_type": "display_data"
    }
   ],
   "source": [
    "# show one\n",
    "show_digit()"
   ]
  },
  {
   "cell_type": "code",
   "execution_count": 20,
   "metadata": {
    "colab": {
     "base_uri": "https://localhost:8080/",
     "height": 281
    },
    "colab_type": "code",
    "executionInfo": {
     "elapsed": 958,
     "status": "ok",
     "timestamp": 1560987309548,
     "user": {
      "displayName": "Ibrahim Faisal",
      "photoUrl": "https://lh3.googleusercontent.com/-67DMczu7rgM/AAAAAAAAAAI/AAAAAAAAAAc/6f5FCnBgxFs/s64/photo.jpg",
      "userId": "02685917636347920688"
     },
     "user_tz": -600
    },
    "id": "Ue7Oo4Vxy-Q_",
    "outputId": "e6dc190e-2096-4da0-ab9c-db6d67e18e3c",
    "scrolled": true
   },
   "outputs": [
    {
     "data": {
      "image/png": "[encoded data removed]",
      "text/plain": [
       "<Figure size 576x288 with 10 Axes>"
      ]
     },
     "metadata": {},
     "output_type": "display_data"
    }
   ],
   "source": [
    "# show ten\n",
    "show_10_digits()"
   ]
  },
  {
   "cell_type": "markdown",
   "metadata": {
    "colab_type": "text",
    "id": "IS5Tc4z9FoYy"
   },
   "source": [
    ">"
   ]
  },
  {
   "cell_type": "markdown",
   "metadata": {
    "colab_type": "text",
    "id": "mxI2We9OFpfs"
   },
   "source": [
    ">"
   ]
  },
  {
   "cell_type": "markdown",
   "metadata": {
    "colab_type": "text",
    "id": "81DoNxN1FqGN"
   },
   "source": [
    ">"
   ]
  },
  {
   "cell_type": "markdown",
   "metadata": {
    "colab_type": "text",
    "id": "RERADKgNFq9T"
   },
   "source": [
    "\n",
    "\n",
    "---\n",
    "\n",
    "\n",
    "\n",
    "---\n",
    "\n",
    "\n",
    "\n",
    "> > > > > > > > > © 2019 Data Science Institute of Australia\n",
    "\n",
    "\n",
    "---\n",
    "\n",
    "\n",
    "\n",
    "---\n",
    "\n",
    "\n",
    "\n"
   ]
  }
 ],
 "metadata": {
  "colab": {
   "collapsed_sections": [],
   "name": "DSIA Demo-10-Keras.ipynb",
   "provenance": [],
   "version": "0.3.2"
  },
  "kernelspec": {
   "display_name": "Python 3",
   "language": "python",
   "name": "python3"
  },
  "language_info": {
   "codemirror_mode": {
    "name": "ipython",
    "version": 3
   },
   "file_extension": ".py",
   "mimetype": "text/x-python",
   "name": "python",
   "nbconvert_exporter": "python",
   "pygments_lexer": "ipython3",
   "version": "3.7.3"
  }
 },
 "nbformat": 4,
 "nbformat_minor": 1
}
