{
 "cells": [
  {
   "cell_type": "markdown",
   "metadata": {},
   "source": [
    "# Mugwump\n",
    "\n",
    "The user enters a pair of single-digit co-ordinates in the range from 0 to 5 which are the x,y coordinates to scan. If the mugwump is at that location then the user is alerted. Otherwise the user is told the distance from the scanned coordinates to the mugwump. The game ends after five turns or when the mugwump has been found.\n"
   ]
  },
  {
   "cell_type": "markdown",
   "metadata": {
    "ExecuteTime": {
     "end_time": "2019-07-02T01:09:28.433794Z",
     "start_time": "2019-07-02T01:09:28.427811Z"
    }
   },
   "source": [
    "## 1. Define a 5 X 5 list. Assign `O` to all rows and columns."
   ]
  },
  {
   "cell_type": "code",
   "execution_count": 1,
   "metadata": {
    "ExecuteTime": {
     "end_time": "2019-07-02T01:38:48.557446Z",
     "start_time": "2019-07-02T01:38:48.552459Z"
    }
   },
   "outputs": [],
   "source": [
    "import random\n",
    "\n",
    "board = []\n",
    "\n",
    "for x in range(0,5):\n",
    "    board.append([\"O\"] * 5)"
   ]
  },
  {
   "cell_type": "code",
   "execution_count": 2,
   "metadata": {
    "ExecuteTime": {
     "end_time": "2019-07-02T01:38:48.785758Z",
     "start_time": "2019-07-02T01:38:48.777780Z"
    }
   },
   "outputs": [
    {
     "data": {
      "text/plain": [
       "[['O', 'O', 'O', 'O', 'O'],\n",
       " ['O', 'O', 'O', 'O', 'O'],\n",
       " ['O', 'O', 'O', 'O', 'O'],\n",
       " ['O', 'O', 'O', 'O', 'O'],\n",
       " ['O', 'O', 'O', 'O', 'O']]"
      ]
     },
     "execution_count": 2,
     "metadata": {},
     "output_type": "execute_result"
    }
   ],
   "source": [
    "board"
   ]
  },
  {
   "cell_type": "markdown",
   "metadata": {},
   "source": [
    "## 2. Define a function to print that list\n",
    "\n",
    "| O | 1 | 2 | 3 | 4 |\n",
    "|---|--:|---|---|---|\n",
    "| O | O | O | O | O |\n",
    "| O | O | O | O | O |\n",
    "| O | O | O | O | O |\n",
    "| O | O | O | O | O |\n",
    "| O | O | O | O | O |"
   ]
  },
  {
   "cell_type": "code",
   "execution_count": 3,
   "metadata": {
    "ExecuteTime": {
     "end_time": "2019-07-02T01:38:49.556279Z",
     "start_time": "2019-07-02T01:38:49.550325Z"
    }
   },
   "outputs": [],
   "source": [
    "import pandas as pd\n",
    "def print_board(board):\n",
    "    print(pd.DataFrame(board))       "
   ]
  },
  {
   "cell_type": "code",
   "execution_count": 4,
   "metadata": {
    "ExecuteTime": {
     "end_time": "2019-07-02T01:38:49.775383Z",
     "start_time": "2019-07-02T01:38:49.764412Z"
    }
   },
   "outputs": [
    {
     "name": "stdout",
     "output_type": "stream",
     "text": [
      "   0  1  2  3  4\n",
      "0  O  O  O  O  O\n",
      "1  O  O  O  O  O\n",
      "2  O  O  O  O  O\n",
      "3  O  O  O  O  O\n",
      "4  O  O  O  O  O\n"
     ]
    }
   ],
   "source": [
    "print_board(board)"
   ]
  },
  {
   "cell_type": "markdown",
   "metadata": {},
   "source": [
    "## 3. Define two functions which will return random number between 0 to number of rows and 0 to number of columns."
   ]
  },
  {
   "cell_type": "code",
   "execution_count": 6,
   "metadata": {
    "ExecuteTime": {
     "end_time": "2019-07-02T01:38:50.195334Z",
     "start_time": "2019-07-02T01:38:50.189349Z"
    }
   },
   "outputs": [],
   "source": [
    "def random_row(board):\n",
    "    return random.randint(0,len(board)-1)"
   ]
  },
  {
   "cell_type": "code",
   "execution_count": 7,
   "metadata": {
    "ExecuteTime": {
     "end_time": "2019-07-02T01:38:50.484212Z",
     "start_time": "2019-07-02T01:38:50.479242Z"
    }
   },
   "outputs": [],
   "source": [
    "def random_col(board):\n",
    "    return random.randint(0,len(board[0])-1)"
   ]
  },
  {
   "cell_type": "markdown",
   "metadata": {
    "ExecuteTime": {
     "end_time": "2019-07-02T01:23:19.330251Z",
     "start_time": "2019-07-02T01:23:19.324268Z"
    }
   },
   "source": [
    "## 4. Define two variables for row and column which will store information we get from functions we have created in #3."
   ]
  },
  {
   "cell_type": "markdown",
   "metadata": {},
   "source": [
    "Write a for loop which will ask user to input row and colulmn 5 times.\n",
    "\n",
    "- If user input for row and column same as random row and column we get from #4 print a successfull message. And break the loop.\n",
    "- If user input for row and column is out of index print an error message\n",
    "- Replace O with X in board and show display it to user\n",
    "- If user input the same number twice, give them a warning message\n",
    "\n",
    "If user unable to guess after five turns show them where the mug is."
   ]
  },
  {
   "cell_type": "code",
   "execution_count": 11,
   "metadata": {
    "ExecuteTime": {
     "end_time": "2019-07-02T01:39:00.910021Z",
     "start_time": "2019-07-02T01:38:51.329022Z"
    }
   },
   "outputs": [
    {
     "name": "stdout",
     "output_type": "stream",
     "text": [
      "1 1\n",
      "Guess Row:2\n",
      "Guess Col:3\n",
      "You missed my battleship!\n",
      "1\n",
      "   0  1  2  3  4\n",
      "0  X  O  O  O  O\n",
      "1  O  O  X  O  O\n",
      "2  O  O  O  X  O\n",
      "3  O  O  X  O  O\n",
      "4  O  X  O  O  O\n",
      "Guess Row:1\n",
      "Guess Col:2\n",
      "You guessed that one already.\n",
      "2\n",
      "   0  1  2  3  4\n",
      "0  X  O  O  O  O\n",
      "1  O  O  X  O  O\n",
      "2  O  O  O  X  O\n",
      "3  O  O  X  O  O\n",
      "4  O  X  O  O  O\n",
      "Guess Row:1\n",
      "Guess Col:1\n",
      "Congratulations! You sunk my battleship!\n"
     ]
    }
   ],
   "source": [
    "ship_row = random_row(board)\n",
    "ship_col = random_col(board)\n",
    "print (ship_row, ship_col)\n",
    "\n",
    "for turn in range(4):\n",
    "    guess_row = int(input(\"Guess Row:\"))\n",
    "    guess_col = int(input(\"Guess Col:\"))\n",
    "    \n",
    "    if guess_row == ship_row and guess_col == ship_col:\n",
    "        print(\"Congratulations! You sunk my battleship!\")\n",
    "        break\n",
    "    else:\n",
    "        if turn == 3:\n",
    "            board[guess_row][guess_col] = \"X\"\n",
    "            print_board(board)\n",
    "            print(\"Game Over\")\n",
    "            print(\"My ship was here: [\" + str(ship_row) + \"][\" + str(ship_col) + \"]\")\n",
    "        else:\n",
    "            if (guess_row < 0 or guess_row > 4) or (guess_col < 0 or guess_col > 4):\n",
    "                print(\"Oops, that's not even in the ocean.\")\n",
    "            elif(board[guess_row][guess_col] == \"X\"):\n",
    "                print(\"You guessed that one already.\") \n",
    "            else:\n",
    "                print(\"You missed my battleship!\")\n",
    "                board[guess_row][guess_col] = \"X\"\n",
    "            print(turn + 1)\n",
    "            print_board(board)"
   ]
  },
  {
   "cell_type": "code",
   "execution_count": null,
   "metadata": {},
   "outputs": [],
   "source": []
  }
 ],
 "metadata": {
  "kernelspec": {
   "display_name": "Python 3",
   "language": "python",
   "name": "python3"
  },
  "language_info": {
   "codemirror_mode": {
    "name": "ipython",
    "version": 3
   },
   "file_extension": ".py",
   "mimetype": "text/x-python",
   "name": "python",
   "nbconvert_exporter": "python",
   "pygments_lexer": "ipython3",
   "version": "3.7.3"
  },
  "varInspector": {
   "cols": {
    "lenName": 16,
    "lenType": 16,
    "lenVar": 40
   },
   "kernels_config": {
    "python": {
     "delete_cmd_postfix": "",
     "delete_cmd_prefix": "del ",
     "library": "var_list.py",
     "varRefreshCmd": "print(var_dic_list())"
    },
    "r": {
     "delete_cmd_postfix": ") ",
     "delete_cmd_prefix": "rm(",
     "library": "var_list.r",
     "varRefreshCmd": "cat(var_dic_list()) "
    }
   },
   "types_to_exclude": [
    "module",
    "function",
    "builtin_function_or_method",
    "instance",
    "_Feature"
   ],
   "window_display": false
  }
 },
 "nbformat": 4,
 "nbformat_minor": 2
}
