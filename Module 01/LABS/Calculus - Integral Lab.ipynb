{
 "cells": [
  {
   "cell_type": "markdown",
   "metadata": {
    "colab_type": "text",
    "id": "YPFbgplmKcYp"
   },
   "source": [
    "![dsia](https://static1.squarespace.com/static/5c4631190dbda3abea29db4c/t/5c465b0dc74c5024875652f7/1549343891985/?format=1500w)\n",
    "\n",
    "# Calculus - Integral"
   ]
  },
  {
   "cell_type": "code",
   "execution_count": 4,
   "metadata": {
    "colab": {},
    "colab_type": "code",
    "id": "NxkLjNxUKcYr"
   },
   "outputs": [],
   "source": [
    "import numpy as np\n",
    "import matplotlib.pyplot as plt\n",
    "# get matplot to show charts inline\n",
    "%matplotlib inline"
   ]
  },
  {
   "cell_type": "code",
   "execution_count": 5,
   "metadata": {
    "colab": {},
    "colab_type": "code",
    "id": "49k4u8lCKcYy"
   },
   "outputs": [],
   "source": [
    "# define a function such as f(x) = x**2\n",
    "def f(x):\n",
    "  '''\n",
    "  Return x**2\n",
    "  '''\n",
    "  return x**2"
   ]
  },
  {
   "cell_type": "code",
   "execution_count": 6,
   "metadata": {
    "colab": {},
    "colab_type": "code",
    "id": "lrcZ0mY6KcZD"
   },
   "outputs": [
    {
     "data": {
      "image/png": "[encoded data removed]",
      "text/plain": [
       "<Figure size 432x288 with 1 Axes>"
      ]
     },
     "metadata": {
      "needs_background": "light"
     },
     "output_type": "display_data"
    }
   ],
   "source": [
    "# plot f(x)\n",
    "x = np.arange(-10, 11, 1)\n",
    "y = f(x)\n",
    "\n",
    "plt.plot(x, y)\n",
    "plt.xlabel('x')\n",
    "plt.ylabel('f(x)')\n",
    "\n",
    "plt.show();"
   ]
  },
  {
   "cell_type": "code",
   "execution_count": 7,
   "metadata": {
    "colab": {},
    "colab_type": "code",
    "id": "VBkIo2EpKcY3"
   },
   "outputs": [
    {
     "name": "stdout",
     "output_type": "stream",
     "text": [
      "f(2) =  4\n",
      "f(5) =  25\n",
      "f(-3) =  9\n"
     ]
    }
   ],
   "source": [
    "# test the function you defined above by simply print its value for some numbers\n",
    "print('f(2) = ', f(2))\n",
    "print('f(5) = ', f(5))\n",
    "print('f(-3) = ', f(-3))"
   ]
  },
  {
   "cell_type": "code",
   "execution_count": 10,
   "metadata": {
    "colab": {},
    "colab_type": "code",
    "id": "4sX3AWgcKcZM"
   },
   "outputs": [],
   "source": [
    "# define integral of f(x)\n",
    "# integral of a function is the area under the curve of this function\n",
    "# it can be approximated by plotting lots of retangles and add their areas\n",
    "# the more reactangles you draw, the better is the approximation\n",
    "# but why do it by hand where python can do a much better job?!\n",
    "def integral(startX, endX, numberOfRectangles):\n",
    "    width = (float(endX) - float(startX))/ numberOfRectangles\n",
    "    totalArea = 0\n",
    "    for i in range(numberOfRectangles):\n",
    "        height = f(startX + i*width)\n",
    "        area = width * height\n",
    "        totalArea += area\n",
    "    return totalArea"
   ]
  },
  {
   "cell_type": "code",
   "execution_count": 11,
   "metadata": {
    "colab": {},
    "colab_type": "code",
    "id": "oS70agDbKcZR"
   },
   "outputs": [
    {
     "name": "stdout",
     "output_type": "stream",
     "text": [
      "integral(2.0,4.0,10) =  17.480000000000004\n",
      "integral(2.0,4.0,1000) =  18.654668000000008\n",
      "-----\n",
      "integral(-1.0,2.0,10) =  2.5949999999999993\n",
      "integral(-1.0,2.0,1000) =  2.9955045000000005\n"
     ]
    }
   ],
   "source": [
    "# calculate integral of f(x) for some startX, endX and a number of rectangles\n",
    "print('integral(2.0,4.0,10) = ',integral(2.0,4.0,10))\n",
    "print('integral(2.0,4.0,1000) = ',integral(2.0,4.0,1000))\n",
    "print('-----')\n",
    "print('integral(-1.0,2.0,10) = ',integral(-1.0,2.0,10))\n",
    "print('integral(-1.0,2.0,1000) = ',integral(-1.0,2.0,1000))"
   ]
  },
  {
   "cell_type": "code",
   "execution_count": null,
   "metadata": {},
   "outputs": [],
   "source": []
  },
  {
   "cell_type": "code",
   "execution_count": null,
   "metadata": {},
   "outputs": [],
   "source": []
  }
 ],
 "metadata": {
  "colab": {
   "name": "Calculus - Integral Lab.ipynb",
   "provenance": [
    {
     "file_id": "https://github.com/ikfaisal/dsia/blob/master/Calculus_Integral.ipynb",
     "timestamp": 1552459796323
    }
   ],
   "version": "0.3.2"
  },
  "kernelspec": {
   "display_name": "Python 3",
   "language": "python",
   "name": "python3"
  },
  "language_info": {
   "codemirror_mode": {
    "name": "ipython",
    "version": 3
   },
   "file_extension": ".py",
   "mimetype": "text/x-python",
   "name": "python",
   "nbconvert_exporter": "python",
   "pygments_lexer": "ipython3",
   "version": "3.7.3"
  }
 },
 "nbformat": 4,
 "nbformat_minor": 1
}
