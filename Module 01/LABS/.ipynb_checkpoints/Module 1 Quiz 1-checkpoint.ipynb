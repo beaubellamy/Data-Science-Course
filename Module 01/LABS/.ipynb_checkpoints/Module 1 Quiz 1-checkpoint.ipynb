{
 "cells": [
  {
   "cell_type": "markdown",
   "metadata": {},
   "source": [
    "# Mugwump\n",
    "\n",
    "The user enters a pair of single-digit co-ordinates in the range from 0 to 5 which are the x,y coordinates to scan. If the mugwump is at that location then the user is alerted. Otherwise the user is told the distance from the scanned coordinates to the mugwump. The game ends after five turns or when the mugwump has been found.\n"
   ]
  },
  {
   "cell_type": "markdown",
   "metadata": {
    "ExecuteTime": {
     "end_time": "2019-07-02T01:09:28.433794Z",
     "start_time": "2019-07-02T01:09:28.427811Z"
    }
   },
   "source": [
    "## 1. Define a 5 X 5 list. Assign `O` to all rows and columns."
   ]
  },
  {
   "cell_type": "markdown",
   "metadata": {},
   "source": [
    "## 2. Print the list\n",
    "\n",
    "| O | 1 | 2 | 3 | 4 |\n",
    "|---|--:|---|---|---|\n",
    "| O | O | O | O | O |\n",
    "| O | O | O | O | O |\n",
    "| O | O | O | O | O |\n",
    "| O | O | O | O | O |\n",
    "| O | O | O | O | O |"
   ]
  },
  {
   "cell_type": "markdown",
   "metadata": {},
   "source": [
    "## 3. Generate a  random number between 0 to number of rows."
   ]
  },
  {
   "cell_type": "markdown",
   "metadata": {},
   "source": [
    "## 4. Generate a random number between 0 to number of columns."
   ]
  },
  {
   "cell_type": "markdown",
   "metadata": {},
   "source": [
    "## 5. Mugwump!\n",
    "\n",
    "Write a for loop which will ask user to input row and colulmn 5 times.\n",
    "\n",
    "- If user input for row and column same as random row and column we get from #3 and #4 print a successfull message. And break the loop.\n",
    "- If user input for row and column is out of index print an error message\n",
    "- Replace O with X in board and show display it to user\n",
    "- If user input the same number twice, give them a warning message\n",
    "\n",
    "If user unable to guess after five turns show them where the mugwump is."
   ]
  }
 ],
 "metadata": {
  "kernelspec": {
   "display_name": "Python 3",
   "language": "python",
   "name": "python3"
  },
  "language_info": {
   "codemirror_mode": {
    "name": "ipython",
    "version": 3
   },
   "file_extension": ".py",
   "mimetype": "text/x-python",
   "name": "python",
   "nbconvert_exporter": "python",
   "pygments_lexer": "ipython3",
   "version": "3.6.4"
  },
  "varInspector": {
   "cols": {
    "lenName": 16,
    "lenType": 16,
    "lenVar": 40
   },
   "kernels_config": {
    "python": {
     "delete_cmd_postfix": "",
     "delete_cmd_prefix": "del ",
     "library": "var_list.py",
     "varRefreshCmd": "print(var_dic_list())"
    },
    "r": {
     "delete_cmd_postfix": ") ",
     "delete_cmd_prefix": "rm(",
     "library": "var_list.r",
     "varRefreshCmd": "cat(var_dic_list()) "
    }
   },
   "types_to_exclude": [
    "module",
    "function",
    "builtin_function_or_method",
    "instance",
    "_Feature"
   ],
   "window_display": false
  }
 },
 "nbformat": 4,
 "nbformat_minor": 2
}
