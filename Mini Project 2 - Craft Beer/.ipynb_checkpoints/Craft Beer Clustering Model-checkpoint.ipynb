{
 "cells": [
  {
   "cell_type": "markdown",
   "metadata": {},
   "source": [
    "# Craft Beer Predictions\n",
    "\n",
    "I have performed some exploratory analysis on this data in a previous notebook. I will use notebook to perform some predictions on the Style  "
   ]
  },
  {
   "cell_type": "code",
   "execution_count": 1,
   "metadata": {},
   "outputs": [],
   "source": [
    "import numpy as np\n",
    "import pandas as pd\n",
    "#from dateutil.parser import parse\n",
    "#from datetime import datetime\n",
    "import matplotlib.pyplot as plt\n",
    "import seaborn as sns\n",
    "%matplotlib inline\n",
    "\n",
    "sns.set()\n",
    "import warnings\n",
    "warnings.filterwarnings('ignore')"
   ]
  },
  {
   "cell_type": "code",
   "execution_count": 2,
   "metadata": {},
   "outputs": [],
   "source": [
    "from sklearn.model_selection import train_test_split\n",
    "from sklearn.preprocessing import StandardScaler\n",
    "from sklearn.ensemble import RandomForestClassifier\n",
    "from sklearn.linear_model import LogisticRegression, LogisticRegressionCV\n",
    "from sklearn.model_selection import cross_val_score\n",
    "from sklearn import metrics\n",
    "from sklearn.metrics import accuracy_score, classification_report\n",
    "\n",
    "import xgboost as xgb"
   ]
  },
  {
   "cell_type": "markdown",
   "metadata": {},
   "source": [
    "## Load the cleaned data"
   ]
  },
  {
   "cell_type": "code",
   "execution_count": 4,
   "metadata": {},
   "outputs": [
    {
     "data": {
      "text/html": [
       "<div>\n",
       "<style scoped>\n",
       "    .dataframe tbody tr th:only-of-type {\n",
       "        vertical-align: middle;\n",
       "    }\n",
       "\n",
       "    .dataframe tbody tr th {\n",
       "        vertical-align: top;\n",
       "    }\n",
       "\n",
       "    .dataframe thead th {\n",
       "        text-align: right;\n",
       "    }\n",
       "</style>\n",
       "<table border=\"1\" class=\"dataframe\">\n",
       "  <thead>\n",
       "    <tr style=\"text-align: right;\">\n",
       "      <th></th>\n",
       "      <th>BeerID</th>\n",
       "      <th>Name</th>\n",
       "      <th>URL</th>\n",
       "      <th>Size(L)</th>\n",
       "      <th>ABV</th>\n",
       "      <th>IBU</th>\n",
       "      <th>Color</th>\n",
       "      <th>BoilSize</th>\n",
       "      <th>BoilTime</th>\n",
       "      <th>Efficiency</th>\n",
       "      <th>...</th>\n",
       "      <th>SugarScale_Plato</th>\n",
       "      <th>SugarScale_Specific Gravity</th>\n",
       "      <th>BrewMethod_All Grain</th>\n",
       "      <th>BrewMethod_BIAB</th>\n",
       "      <th>BrewMethod_Partial Mash</th>\n",
       "      <th>BrewMethod_extract</th>\n",
       "      <th>Top5_Style</th>\n",
       "      <th>OG_sg</th>\n",
       "      <th>FG_sg</th>\n",
       "      <th>BoilGravity_sg</th>\n",
       "    </tr>\n",
       "  </thead>\n",
       "  <tbody>\n",
       "    <tr>\n",
       "      <th>0</th>\n",
       "      <td>1</td>\n",
       "      <td>Vanilla Cream Ale</td>\n",
       "      <td>/homebrew/recipe/view/1633/vanilla-cream-ale</td>\n",
       "      <td>21.77</td>\n",
       "      <td>5.48</td>\n",
       "      <td>17.65</td>\n",
       "      <td>4.83</td>\n",
       "      <td>28.39</td>\n",
       "      <td>75</td>\n",
       "      <td>70.0</td>\n",
       "      <td>...</td>\n",
       "      <td>0</td>\n",
       "      <td>1</td>\n",
       "      <td>1</td>\n",
       "      <td>0</td>\n",
       "      <td>0</td>\n",
       "      <td>0</td>\n",
       "      <td>Other</td>\n",
       "      <td>1.055</td>\n",
       "      <td>1.013</td>\n",
       "      <td>1.038</td>\n",
       "    </tr>\n",
       "    <tr>\n",
       "      <th>1</th>\n",
       "      <td>2</td>\n",
       "      <td>Southern Tier Pumking clone</td>\n",
       "      <td>/homebrew/recipe/view/16367/southern-tier-pumk...</td>\n",
       "      <td>20.82</td>\n",
       "      <td>8.16</td>\n",
       "      <td>60.65</td>\n",
       "      <td>15.64</td>\n",
       "      <td>24.61</td>\n",
       "      <td>60</td>\n",
       "      <td>70.0</td>\n",
       "      <td>...</td>\n",
       "      <td>0</td>\n",
       "      <td>1</td>\n",
       "      <td>1</td>\n",
       "      <td>0</td>\n",
       "      <td>0</td>\n",
       "      <td>0</td>\n",
       "      <td>Specialty</td>\n",
       "      <td>1.083</td>\n",
       "      <td>1.021</td>\n",
       "      <td>1.070</td>\n",
       "    </tr>\n",
       "    <tr>\n",
       "      <th>2</th>\n",
       "      <td>5</td>\n",
       "      <td>Bakke Brygg Belgisk Blonde 50 l</td>\n",
       "      <td>/homebrew/recipe/view/89534/bakke-brygg-belgis...</td>\n",
       "      <td>50.00</td>\n",
       "      <td>6.48</td>\n",
       "      <td>17.84</td>\n",
       "      <td>4.57</td>\n",
       "      <td>60.00</td>\n",
       "      <td>90</td>\n",
       "      <td>72.0</td>\n",
       "      <td>...</td>\n",
       "      <td>0</td>\n",
       "      <td>1</td>\n",
       "      <td>1</td>\n",
       "      <td>0</td>\n",
       "      <td>0</td>\n",
       "      <td>0</td>\n",
       "      <td>Belgian</td>\n",
       "      <td>1.060</td>\n",
       "      <td>1.010</td>\n",
       "      <td>1.050</td>\n",
       "    </tr>\n",
       "    <tr>\n",
       "      <th>3</th>\n",
       "      <td>6</td>\n",
       "      <td>Sierra Nevada Pale Ale Clone</td>\n",
       "      <td>/homebrew/recipe/view/28546/sierra-nevada-pale...</td>\n",
       "      <td>24.61</td>\n",
       "      <td>5.58</td>\n",
       "      <td>40.12</td>\n",
       "      <td>8.00</td>\n",
       "      <td>29.34</td>\n",
       "      <td>70</td>\n",
       "      <td>79.0</td>\n",
       "      <td>...</td>\n",
       "      <td>0</td>\n",
       "      <td>1</td>\n",
       "      <td>1</td>\n",
       "      <td>0</td>\n",
       "      <td>0</td>\n",
       "      <td>0</td>\n",
       "      <td>Pale Ale</td>\n",
       "      <td>1.055</td>\n",
       "      <td>1.013</td>\n",
       "      <td>1.047</td>\n",
       "    </tr>\n",
       "    <tr>\n",
       "      <th>4</th>\n",
       "      <td>8</td>\n",
       "      <td>Spotted Clown (New Glarus Spotted Cow clone)</td>\n",
       "      <td>/homebrew/recipe/view/672/spotted-clown-new-gl...</td>\n",
       "      <td>20.82</td>\n",
       "      <td>5.36</td>\n",
       "      <td>19.97</td>\n",
       "      <td>5.94</td>\n",
       "      <td>28.39</td>\n",
       "      <td>75</td>\n",
       "      <td>70.0</td>\n",
       "      <td>...</td>\n",
       "      <td>0</td>\n",
       "      <td>1</td>\n",
       "      <td>1</td>\n",
       "      <td>0</td>\n",
       "      <td>0</td>\n",
       "      <td>0</td>\n",
       "      <td>Other</td>\n",
       "      <td>1.054</td>\n",
       "      <td>1.014</td>\n",
       "      <td>1.040</td>\n",
       "    </tr>\n",
       "  </tbody>\n",
       "</table>\n",
       "<p>5 rows × 21 columns</p>\n",
       "</div>"
      ],
      "text/plain": [
       "   BeerID                                          Name  \\\n",
       "0       1                             Vanilla Cream Ale   \n",
       "1       2                   Southern Tier Pumking clone   \n",
       "2       5               Bakke Brygg Belgisk Blonde 50 l   \n",
       "3       6                  Sierra Nevada Pale Ale Clone   \n",
       "4       8  Spotted Clown (New Glarus Spotted Cow clone)   \n",
       "\n",
       "                                                 URL  Size(L)   ABV    IBU  \\\n",
       "0       /homebrew/recipe/view/1633/vanilla-cream-ale    21.77  5.48  17.65   \n",
       "1  /homebrew/recipe/view/16367/southern-tier-pumk...    20.82  8.16  60.65   \n",
       "2  /homebrew/recipe/view/89534/bakke-brygg-belgis...    50.00  6.48  17.84   \n",
       "3  /homebrew/recipe/view/28546/sierra-nevada-pale...    24.61  5.58  40.12   \n",
       "4  /homebrew/recipe/view/672/spotted-clown-new-gl...    20.82  5.36  19.97   \n",
       "\n",
       "   Color  BoilSize  BoilTime  Efficiency  ... SugarScale_Plato  \\\n",
       "0   4.83     28.39        75        70.0  ...                0   \n",
       "1  15.64     24.61        60        70.0  ...                0   \n",
       "2   4.57     60.00        90        72.0  ...                0   \n",
       "3   8.00     29.34        70        79.0  ...                0   \n",
       "4   5.94     28.39        75        70.0  ...                0   \n",
       "\n",
       "   SugarScale_Specific Gravity  BrewMethod_All Grain  BrewMethod_BIAB  \\\n",
       "0                            1                     1                0   \n",
       "1                            1                     1                0   \n",
       "2                            1                     1                0   \n",
       "3                            1                     1                0   \n",
       "4                            1                     1                0   \n",
       "\n",
       "   BrewMethod_Partial Mash  BrewMethod_extract  Top5_Style  OG_sg  FG_sg  \\\n",
       "0                        0                   0       Other  1.055  1.013   \n",
       "1                        0                   0   Specialty  1.083  1.021   \n",
       "2                        0                   0     Belgian  1.060  1.010   \n",
       "3                        0                   0    Pale Ale  1.055  1.013   \n",
       "4                        0                   0       Other  1.054  1.014   \n",
       "\n",
       "   BoilGravity_sg  \n",
       "0           1.038  \n",
       "1           1.070  \n",
       "2           1.050  \n",
       "3           1.047  \n",
       "4           1.040  \n",
       "\n",
       "[5 rows x 21 columns]"
      ]
     },
     "execution_count": 4,
     "metadata": {},
     "output_type": "execute_result"
    }
   ],
   "source": [
    "recipe = pd.read_csv('Data/cleaned_recipe.csv',encoding='latin1')\n",
    "recipe.head()"
   ]
  },
  {
   "cell_type": "markdown",
   "metadata": {},
   "source": [
    "## Set the features to be included.\n",
    "All features will be inlcuded as a first pass to the model.\n",
    "\n",
    "I may decide to try to optimise the feature selection and the model fitting."
   ]
  },
  {
   "cell_type": "code",
   "execution_count": 5,
   "metadata": {},
   "outputs": [
    {
     "data": {
      "text/plain": [
       "Index(['BeerID', 'Name', 'URL', 'Size(L)', 'ABV', 'IBU', 'Color', 'BoilSize',\n",
       "       'BoilTime', 'Efficiency', 'Parent_Style', 'SugarScale_Plato',\n",
       "       'SugarScale_Specific Gravity', 'BrewMethod_All Grain',\n",
       "       'BrewMethod_BIAB', 'BrewMethod_Partial Mash', 'BrewMethod_extract',\n",
       "       'Top5_Style', 'OG_sg', 'FG_sg', 'BoilGravity_sg'],\n",
       "      dtype='object')"
      ]
     },
     "execution_count": 5,
     "metadata": {},
     "output_type": "execute_result"
    }
   ],
   "source": [
    "recipe.columns"
   ]
  },
  {
   "cell_type": "code",
   "execution_count": 6,
   "metadata": {},
   "outputs": [],
   "source": [
    "features = ['Size(L)', 'ABV', 'IBU', 'Color', 'BoilSize', 'BoilTime', 'Efficiency', \n",
    "            'BrewMethod_All Grain', 'BrewMethod_BIAB', 'BrewMethod_Partial Mash', 'BrewMethod_extract', \n",
    "            'OG_sg', 'FG_sg', 'BoilGravity_sg']\n",
    "\n"
   ]
  },
  {
   "cell_type": "markdown",
   "metadata": {},
   "source": [
    "## Create the modelling steps"
   ]
  },
  {
   "cell_type": "code",
   "execution_count": 7,
   "metadata": {},
   "outputs": [],
   "source": [
    "# Create dummy variable for the taget value: Belgian\n",
    "\n",
    "def set_target(data, target_style = 'Pale Ale'):\n",
    "    target = target_style\n",
    "    data[target] = 0\n",
    "    data[target][data['Parent_Style'] == target_style] = 1\n",
    "\n",
    "    print ('Number of',target,'recipes:',len(data[data['Parent_Style'] == target_style]))\n",
    "    \n",
    "    return data\n"
   ]
  },
  {
   "cell_type": "code",
   "execution_count": 8,
   "metadata": {},
   "outputs": [],
   "source": [
    "def split_data(data,features,target):\n",
    "    \n",
    "    X = data[features]\n",
    "    y = data[target]\n",
    "\n",
    "    # Split the data\n",
    "    X_train, X_test, y_train, y_test = train_test_split(X, y, test_size=.2, stratify=y, random_state=42)\n",
    "\n",
    "    return X_train, X_test, y_train, y_test\n"
   ]
  },
  {
   "cell_type": "code",
   "execution_count": 9,
   "metadata": {},
   "outputs": [],
   "source": [
    "def train_model(X_train, X_test, y_train, y_test):\n",
    "\n",
    "    model = LogisticRegressionCV();\n",
    "    model.fit(X_train, y_train);\n",
    "\n",
    "    scores = cross_val_score(model, X_test, y_test, cv=5);\n",
    "        \n",
    "    print ('Testing score:', scores.mean())\n",
    "    \n",
    "    return model"
   ]
  },
  {
   "cell_type": "code",
   "execution_count": 10,
   "metadata": {},
   "outputs": [],
   "source": [
    "# Generate the prediction values for each of the test observations using predict_proba()\n",
    "# function rather than just predict\n",
    "def plot_roc(model, X_test, y_test,title=''):\n",
    "    preds = model.predict_proba(X_test)[:,1];\n",
    "\n",
    "    # Store the false positive rate(fpr), true positive rate (tpr) in vectors for use in the graph\n",
    "    fpr, tpr, _ = metrics.roc_curve(y_test, preds);\n",
    "\n",
    "    # Store the Area Under the Curve (AUC) so we can annotate our graph with these metric\n",
    "    roc_auc = metrics.auc(fpr, tpr);\n",
    "\n",
    "    # Plot the ROC Curve\n",
    "    plt.figure(figsize=(12,10))\n",
    "    lw = 2\n",
    "    plt.plot(fpr, tpr, color='darkorange', lw = lw, label = 'ROC curve (area = %0.2f)' % roc_auc)\n",
    "    plt.plot([0, 1], [0, 1], color = 'navy', lw = lw, linestyle = '--')\n",
    "    plt.xlim([0.0, 1.0])\n",
    "    plt.ylim([0.0, 1.0])\n",
    "    plt.xlabel('False Positive Rate')\n",
    "    plt.ylabel('True Positive Rate')\n",
    "    plt.title('ROC for '+title)\n",
    "    plt.legend(loc = \"lower right\")\n",
    "    plt.show()\n",
    "    \n"
   ]
  },
  {
   "cell_type": "code",
   "execution_count": 11,
   "metadata": {},
   "outputs": [],
   "source": [
    "def workflow(data, features, target):\n",
    "    data = set_target(data, target_style = target)\n",
    "    X_train, X_test, y_train, y_test = split_data(data, features, target)\n",
    "    model = train_model(X_train, X_test, y_train, y_test)\n",
    "    plot_roc(model, X_test, y_test, target)\n",
    "    \n",
    "    return model"
   ]
  },
  {
   "cell_type": "markdown",
   "metadata": {},
   "source": [
    "# Predict the desired target style"
   ]
  },
  {
   "cell_type": "code",
   "execution_count": null,
   "metadata": {},
   "outputs": [
    {
     "name": "stdout",
     "output_type": "stream",
     "text": [
      "Number of IPA recipes: 16414\n"
     ]
    }
   ],
   "source": [
    "\n",
    "target = 'IPA'\n",
    "workflow(recipe, features, target)"
   ]
  },
  {
   "cell_type": "code",
   "execution_count": null,
   "metadata": {},
   "outputs": [],
   "source": [
    "target = 'Belgian'\n",
    "workflow(recipe, features, target)"
   ]
  },
  {
   "cell_type": "code",
   "execution_count": null,
   "metadata": {},
   "outputs": [],
   "source": [
    "\n",
    "target = 'Pale Ale'\n",
    "workflow(recipe, features, target)"
   ]
  },
  {
   "cell_type": "code",
   "execution_count": null,
   "metadata": {},
   "outputs": [],
   "source": [
    "\n",
    "target = 'Other'\n",
    "workflow(recipe, features, target)"
   ]
  },
  {
   "cell_type": "code",
   "execution_count": null,
   "metadata": {},
   "outputs": [],
   "source": [
    "target = 'Stout'\n",
    "workflow(recipe, features, target)"
   ]
  },
  {
   "cell_type": "code",
   "execution_count": null,
   "metadata": {},
   "outputs": [],
   "source": [
    "target = 'Lager'\n",
    "workflow(recipe, features, target)"
   ]
  },
  {
   "cell_type": "code",
   "execution_count": null,
   "metadata": {},
   "outputs": [],
   "source": []
  },
  {
   "cell_type": "code",
   "execution_count": null,
   "metadata": {},
   "outputs": [],
   "source": []
  },
  {
   "cell_type": "code",
   "execution_count": null,
   "metadata": {},
   "outputs": [],
   "source": [
    "target = 'German'\n",
    "workflow(recipe, features, target)"
   ]
  },
  {
   "cell_type": "code",
   "execution_count": null,
   "metadata": {},
   "outputs": [],
   "source": [
    "target = 'Specialty'\n",
    "workflow(recipe, features, target)"
   ]
  },
  {
   "cell_type": "code",
   "execution_count": null,
   "metadata": {},
   "outputs": [],
   "source": [
    "target = 'Brown'\n",
    "workflow(recipe, features, target)"
   ]
  },
  {
   "cell_type": "code",
   "execution_count": null,
   "metadata": {},
   "outputs": [],
   "source": [
    "target = 'Porter'\n",
    "workflow(recipe, features, target)"
   ]
  },
  {
   "cell_type": "code",
   "execution_count": null,
   "metadata": {},
   "outputs": [],
   "source": [
    "target = 'Amber'\n",
    "workflow(recipe, features, target)"
   ]
  },
  {
   "cell_type": "code",
   "execution_count": null,
   "metadata": {},
   "outputs": [],
   "source": [
    "\n",
    "target = 'Blonde'\n",
    "workflow(recipe, features, target)"
   ]
  },
  {
   "cell_type": "code",
   "execution_count": null,
   "metadata": {},
   "outputs": [],
   "source": [
    "target = 'Pilsner'\n",
    "workflow(recipe, features, target)"
   ]
  },
  {
   "cell_type": "code",
   "execution_count": null,
   "metadata": {},
   "outputs": [],
   "source": [
    "styles = ['IPA','Belgian','Pale Ale', 'Other', 'Stout', 'Lager','German',\n",
    "          'Specialty','Brown','Porter','Amber','Blonde','Pilsner']\n",
    "\n",
    "scores = [0.8475606632469684,0.8561399684735307,0.887124247322367,0.9012337711295746,\n",
    "          0.9474612644276338, 0.9254822581661658, 0.9455473988186078,0.9646909055721471,\n",
    "          0.9663216353538934,0.9691577102833108, 0.9705757226072944,0.9759642850857675,\n",
    "          0.9831963146704465]\n",
    " \n",
    "d = {'Styles': styles, 'Scores': scores}\n",
    "print (len(styles))\n",
    "print (len(scores))\n",
    "results = pd.DataFrame(data=d)\n",
    "\n"
   ]
  },
  {
   "cell_type": "code",
   "execution_count": null,
   "metadata": {},
   "outputs": [],
   "source": [
    "results['Scores'].mean()"
   ]
  },
  {
   "cell_type": "code",
   "execution_count": null,
   "metadata": {},
   "outputs": [],
   "source": [
    "results.plot(kind='bar')"
   ]
  },
  {
   "cell_type": "code",
   "execution_count": null,
   "metadata": {},
   "outputs": [],
   "source": []
  },
  {
   "cell_type": "code",
   "execution_count": null,
   "metadata": {},
   "outputs": [],
   "source": []
  },
  {
   "cell_type": "code",
   "execution_count": null,
   "metadata": {},
   "outputs": [],
   "source": []
  },
  {
   "cell_type": "code",
   "execution_count": null,
   "metadata": {},
   "outputs": [],
   "source": []
  },
  {
   "cell_type": "code",
   "execution_count": null,
   "metadata": {},
   "outputs": [],
   "source": []
  },
  {
   "cell_type": "code",
   "execution_count": null,
   "metadata": {},
   "outputs": [],
   "source": []
  },
  {
   "cell_type": "code",
   "execution_count": null,
   "metadata": {},
   "outputs": [],
   "source": []
  }
 ],
 "metadata": {
  "kernelspec": {
   "display_name": "Python 3",
   "language": "python",
   "name": "python3"
  },
  "language_info": {
   "codemirror_mode": {
    "name": "ipython",
    "version": 3
   },
   "file_extension": ".py",
   "mimetype": "text/x-python",
   "name": "python",
   "nbconvert_exporter": "python",
   "pygments_lexer": "ipython3",
   "version": "3.7.3"
  }
 },
 "nbformat": 4,
 "nbformat_minor": 2
}
