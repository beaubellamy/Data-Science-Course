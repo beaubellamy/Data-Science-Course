{
 "cells": [
  {
   "cell_type": "markdown",
   "metadata": {},
   "source": [
    "# Home Brew Craft Beer\n",
    "\n",
    "[jtrofe] provided a dataset of 75,000 homebrewed beers with over 176 different styles. \n",
    "\n",
    "Beer records are user-reported and are classified according to one of the 176 different styles. These recipes go into as much or as little detail as the user provided, but there's are least 5 useful columns where data was entered for each: Original Gravity, Final Gravity, ABV, IBU, and Color\n",
    "\n",
    "The user-submitted beer recipes was scraped from [Brewer's Friend]. All columns standardized except \"Priming Method\" and \"Priming Amount\", which seems like it just let the users write whatever they wanted.\n",
    "\n",
    "[jtrofe]:(https://www.kaggle.com/jtrofe)\n",
    "[Brewer's Friend]:(https://www.brewersfriend.com/search/)"
   ]
  },
  {
   "cell_type": "code",
   "execution_count": 1,
   "metadata": {},
   "outputs": [],
   "source": [
    "import numpy as np\n",
    "import pandas as pd\n",
    "#from dateutil.parser import parse\n",
    "#from datetime import datetime\n",
    "import matplotlib.pyplot as plt\n",
    "import seaborn as sns\n",
    "%matplotlib inline\n",
    "\n",
    "sns.set()\n",
    "import warnings\n",
    "warnings.filterwarnings('ignore')"
   ]
  },
  {
   "cell_type": "code",
   "execution_count": 2,
   "metadata": {},
   "outputs": [],
   "source": [
    "recipe = pd.read_csv('Data/recipeData.csv',encoding='latin1')"
   ]
  },
  {
   "cell_type": "markdown",
   "metadata": {},
   "source": [
    "## What does the data look like?"
   ]
  },
  {
   "cell_type": "code",
   "execution_count": 3,
   "metadata": {},
   "outputs": [
    {
     "data": {
      "text/html": [
       "<div>\n",
       "<style scoped>\n",
       "    .dataframe tbody tr th:only-of-type {\n",
       "        vertical-align: middle;\n",
       "    }\n",
       "\n",
       "    .dataframe tbody tr th {\n",
       "        vertical-align: top;\n",
       "    }\n",
       "\n",
       "    .dataframe thead th {\n",
       "        text-align: right;\n",
       "    }\n",
       "</style>\n",
       "<table border=\"1\" class=\"dataframe\">\n",
       "  <thead>\n",
       "    <tr style=\"text-align: right;\">\n",
       "      <th></th>\n",
       "      <th>BeerID</th>\n",
       "      <th>Name</th>\n",
       "      <th>URL</th>\n",
       "      <th>Style</th>\n",
       "      <th>StyleID</th>\n",
       "      <th>Size(L)</th>\n",
       "      <th>OG</th>\n",
       "      <th>FG</th>\n",
       "      <th>ABV</th>\n",
       "      <th>IBU</th>\n",
       "      <th>...</th>\n",
       "      <th>BoilGravity</th>\n",
       "      <th>Efficiency</th>\n",
       "      <th>MashThickness</th>\n",
       "      <th>SugarScale</th>\n",
       "      <th>BrewMethod</th>\n",
       "      <th>PitchRate</th>\n",
       "      <th>PrimaryTemp</th>\n",
       "      <th>PrimingMethod</th>\n",
       "      <th>PrimingAmount</th>\n",
       "      <th>UserId</th>\n",
       "    </tr>\n",
       "  </thead>\n",
       "  <tbody>\n",
       "    <tr>\n",
       "      <th>0</th>\n",
       "      <td>1</td>\n",
       "      <td>Vanilla Cream Ale</td>\n",
       "      <td>/homebrew/recipe/view/1633/vanilla-cream-ale</td>\n",
       "      <td>Cream Ale</td>\n",
       "      <td>45</td>\n",
       "      <td>21.77</td>\n",
       "      <td>1.055</td>\n",
       "      <td>1.013</td>\n",
       "      <td>5.48</td>\n",
       "      <td>17.65</td>\n",
       "      <td>...</td>\n",
       "      <td>1.038</td>\n",
       "      <td>70.0</td>\n",
       "      <td>NaN</td>\n",
       "      <td>Specific Gravity</td>\n",
       "      <td>All Grain</td>\n",
       "      <td>NaN</td>\n",
       "      <td>17.78</td>\n",
       "      <td>corn sugar</td>\n",
       "      <td>4.5 oz</td>\n",
       "      <td>116.0</td>\n",
       "    </tr>\n",
       "    <tr>\n",
       "      <th>1</th>\n",
       "      <td>2</td>\n",
       "      <td>Southern Tier Pumking clone</td>\n",
       "      <td>/homebrew/recipe/view/16367/southern-tier-pumk...</td>\n",
       "      <td>Holiday/Winter Special Spiced Beer</td>\n",
       "      <td>85</td>\n",
       "      <td>20.82</td>\n",
       "      <td>1.083</td>\n",
       "      <td>1.021</td>\n",
       "      <td>8.16</td>\n",
       "      <td>60.65</td>\n",
       "      <td>...</td>\n",
       "      <td>1.070</td>\n",
       "      <td>70.0</td>\n",
       "      <td>NaN</td>\n",
       "      <td>Specific Gravity</td>\n",
       "      <td>All Grain</td>\n",
       "      <td>NaN</td>\n",
       "      <td>NaN</td>\n",
       "      <td>NaN</td>\n",
       "      <td>NaN</td>\n",
       "      <td>955.0</td>\n",
       "    </tr>\n",
       "    <tr>\n",
       "      <th>2</th>\n",
       "      <td>3</td>\n",
       "      <td>Zombie Dust Clone - EXTRACT</td>\n",
       "      <td>/homebrew/recipe/view/5920/zombie-dust-clone-e...</td>\n",
       "      <td>American IPA</td>\n",
       "      <td>7</td>\n",
       "      <td>18.93</td>\n",
       "      <td>1.063</td>\n",
       "      <td>1.018</td>\n",
       "      <td>5.91</td>\n",
       "      <td>59.25</td>\n",
       "      <td>...</td>\n",
       "      <td>NaN</td>\n",
       "      <td>70.0</td>\n",
       "      <td>NaN</td>\n",
       "      <td>Specific Gravity</td>\n",
       "      <td>extract</td>\n",
       "      <td>NaN</td>\n",
       "      <td>NaN</td>\n",
       "      <td>NaN</td>\n",
       "      <td>NaN</td>\n",
       "      <td>NaN</td>\n",
       "    </tr>\n",
       "    <tr>\n",
       "      <th>3</th>\n",
       "      <td>4</td>\n",
       "      <td>Zombie Dust Clone - ALL GRAIN</td>\n",
       "      <td>/homebrew/recipe/view/5916/zombie-dust-clone-a...</td>\n",
       "      <td>American IPA</td>\n",
       "      <td>7</td>\n",
       "      <td>22.71</td>\n",
       "      <td>1.061</td>\n",
       "      <td>1.017</td>\n",
       "      <td>5.80</td>\n",
       "      <td>54.48</td>\n",
       "      <td>...</td>\n",
       "      <td>NaN</td>\n",
       "      <td>70.0</td>\n",
       "      <td>NaN</td>\n",
       "      <td>Specific Gravity</td>\n",
       "      <td>All Grain</td>\n",
       "      <td>NaN</td>\n",
       "      <td>NaN</td>\n",
       "      <td>NaN</td>\n",
       "      <td>NaN</td>\n",
       "      <td>NaN</td>\n",
       "    </tr>\n",
       "    <tr>\n",
       "      <th>4</th>\n",
       "      <td>5</td>\n",
       "      <td>Bakke Brygg Belgisk Blonde 50 l</td>\n",
       "      <td>/homebrew/recipe/view/89534/bakke-brygg-belgis...</td>\n",
       "      <td>Belgian Blond Ale</td>\n",
       "      <td>20</td>\n",
       "      <td>50.00</td>\n",
       "      <td>1.060</td>\n",
       "      <td>1.010</td>\n",
       "      <td>6.48</td>\n",
       "      <td>17.84</td>\n",
       "      <td>...</td>\n",
       "      <td>1.050</td>\n",
       "      <td>72.0</td>\n",
       "      <td>NaN</td>\n",
       "      <td>Specific Gravity</td>\n",
       "      <td>All Grain</td>\n",
       "      <td>NaN</td>\n",
       "      <td>19.00</td>\n",
       "      <td>Sukkerlake</td>\n",
       "      <td>6-7 g sukker/l</td>\n",
       "      <td>18325.0</td>\n",
       "    </tr>\n",
       "  </tbody>\n",
       "</table>\n",
       "<p>5 rows × 23 columns</p>\n",
       "</div>"
      ],
      "text/plain": [
       "   BeerID                             Name  \\\n",
       "0       1                Vanilla Cream Ale   \n",
       "1       2      Southern Tier Pumking clone   \n",
       "2       3      Zombie Dust Clone - EXTRACT   \n",
       "3       4    Zombie Dust Clone - ALL GRAIN   \n",
       "4       5  Bakke Brygg Belgisk Blonde 50 l   \n",
       "\n",
       "                                                 URL  \\\n",
       "0       /homebrew/recipe/view/1633/vanilla-cream-ale   \n",
       "1  /homebrew/recipe/view/16367/southern-tier-pumk...   \n",
       "2  /homebrew/recipe/view/5920/zombie-dust-clone-e...   \n",
       "3  /homebrew/recipe/view/5916/zombie-dust-clone-a...   \n",
       "4  /homebrew/recipe/view/89534/bakke-brygg-belgis...   \n",
       "\n",
       "                                Style  StyleID  Size(L)     OG     FG   ABV  \\\n",
       "0                           Cream Ale       45    21.77  1.055  1.013  5.48   \n",
       "1  Holiday/Winter Special Spiced Beer       85    20.82  1.083  1.021  8.16   \n",
       "2                        American IPA        7    18.93  1.063  1.018  5.91   \n",
       "3                        American IPA        7    22.71  1.061  1.017  5.80   \n",
       "4                   Belgian Blond Ale       20    50.00  1.060  1.010  6.48   \n",
       "\n",
       "     IBU  ...  BoilGravity  Efficiency  MashThickness        SugarScale  \\\n",
       "0  17.65  ...        1.038        70.0            NaN  Specific Gravity   \n",
       "1  60.65  ...        1.070        70.0            NaN  Specific Gravity   \n",
       "2  59.25  ...          NaN        70.0            NaN  Specific Gravity   \n",
       "3  54.48  ...          NaN        70.0            NaN  Specific Gravity   \n",
       "4  17.84  ...        1.050        72.0            NaN  Specific Gravity   \n",
       "\n",
       "   BrewMethod  PitchRate PrimaryTemp PrimingMethod   PrimingAmount   UserId  \n",
       "0   All Grain        NaN       17.78    corn sugar          4.5 oz    116.0  \n",
       "1   All Grain        NaN         NaN           NaN             NaN    955.0  \n",
       "2     extract        NaN         NaN           NaN             NaN      NaN  \n",
       "3   All Grain        NaN         NaN           NaN             NaN      NaN  \n",
       "4   All Grain        NaN       19.00    Sukkerlake  6-7 g sukker/l  18325.0  \n",
       "\n",
       "[5 rows x 23 columns]"
      ]
     },
     "execution_count": 3,
     "metadata": {},
     "output_type": "execute_result"
    }
   ],
   "source": [
    "recipe.head()"
   ]
  },
  {
   "cell_type": "code",
   "execution_count": 4,
   "metadata": {},
   "outputs": [
    {
     "name": "stdout",
     "output_type": "stream",
     "text": [
      "<class 'pandas.core.frame.DataFrame'>\n",
      "RangeIndex: 73861 entries, 0 to 73860\n",
      "Data columns (total 23 columns):\n",
      "BeerID           73861 non-null int64\n",
      "Name             73860 non-null object\n",
      "URL              73861 non-null object\n",
      "Style            73265 non-null object\n",
      "StyleID          73861 non-null int64\n",
      "Size(L)          73861 non-null float64\n",
      "OG               73861 non-null float64\n",
      "FG               73861 non-null float64\n",
      "ABV              73861 non-null float64\n",
      "IBU              73861 non-null float64\n",
      "Color            73861 non-null float64\n",
      "BoilSize         73861 non-null float64\n",
      "BoilTime         73861 non-null int64\n",
      "BoilGravity      70871 non-null float64\n",
      "Efficiency       73861 non-null float64\n",
      "MashThickness    43997 non-null float64\n",
      "SugarScale       73861 non-null object\n",
      "BrewMethod       73861 non-null object\n",
      "PitchRate        34609 non-null float64\n",
      "PrimaryTemp      51199 non-null float64\n",
      "PrimingMethod    6766 non-null object\n",
      "PrimingAmount    4774 non-null object\n",
      "UserId           23371 non-null float64\n",
      "dtypes: float64(13), int64(3), object(7)\n",
      "memory usage: 13.0+ MB\n"
     ]
    }
   ],
   "source": [
    "recipe.info()\n"
   ]
  },
  {
   "cell_type": "code",
   "execution_count": 5,
   "metadata": {},
   "outputs": [
    {
     "data": {
      "text/plain": [
       "(73861, 23)"
      ]
     },
     "execution_count": 5,
     "metadata": {},
     "output_type": "execute_result"
    }
   ],
   "source": [
    "recipe.shape"
   ]
  },
  {
   "cell_type": "code",
   "execution_count": 6,
   "metadata": {},
   "outputs": [
    {
     "data": {
      "text/plain": [
       "BeerID               0\n",
       "Name                 1\n",
       "URL                  0\n",
       "Style              596\n",
       "StyleID              0\n",
       "Size(L)              0\n",
       "OG                   0\n",
       "FG                   0\n",
       "ABV                  0\n",
       "IBU                  0\n",
       "Color                0\n",
       "BoilSize             0\n",
       "BoilTime             0\n",
       "BoilGravity       2990\n",
       "Efficiency           0\n",
       "MashThickness    29864\n",
       "SugarScale           0\n",
       "BrewMethod           0\n",
       "PitchRate        39252\n",
       "PrimaryTemp      22662\n",
       "PrimingMethod    67095\n",
       "PrimingAmount    69087\n",
       "UserId           50490\n",
       "dtype: int64"
      ]
     },
     "execution_count": 6,
     "metadata": {},
     "output_type": "execute_result"
    }
   ],
   "source": [
    "recipe.isnull().sum()"
   ]
  },
  {
   "cell_type": "markdown",
   "metadata": {},
   "source": [
    "## Data Cleaning"
   ]
  },
  {
   "cell_type": "markdown",
   "metadata": {},
   "source": [
    "Remove the features with way too many NULL values. There are additional features that should be dropped, such as `StyleID`, `BeerID` and `URL`."
   ]
  },
  {
   "cell_type": "code",
   "execution_count": 7,
   "metadata": {},
   "outputs": [],
   "source": [
    "# These features have too many missing values, and they only relate to the brewing process and not the style.\n",
    "recipe.drop(['MashThickness','PitchRate','PrimaryTemp','PrimingMethod','PrimingAmount','UserId'],axis=1, inplace=True)\n",
    "# StyleID is a identifier for the Style, so we can remove this feature\n",
    "recipe.drop(['StyleID'],axis=1, inplace=True)\n",
    "recipe.drop(['Name','BeerID','URL'],axis=1, inplace=True)"
   ]
  },
  {
   "cell_type": "code",
   "execution_count": 8,
   "metadata": {},
   "outputs": [],
   "source": [
    "# Remove all the remaining Null values from the data\n",
    "recipe = recipe[recipe['Style'].isnull() == False]\n",
    "recipe = recipe[recipe['BoilGravity'].isnull() == False]\n",
    "recipe.reset_index(drop=True, inplace=True)\n"
   ]
  },
  {
   "cell_type": "markdown",
   "metadata": {},
   "source": [
    "Convert the remaining categorical features to dummy variables for regression."
   ]
  },
  {
   "cell_type": "code",
   "execution_count": 9,
   "metadata": {},
   "outputs": [
    {
     "data": {
      "text/html": [
       "<div>\n",
       "<style scoped>\n",
       "    .dataframe tbody tr th:only-of-type {\n",
       "        vertical-align: middle;\n",
       "    }\n",
       "\n",
       "    .dataframe tbody tr th {\n",
       "        vertical-align: top;\n",
       "    }\n",
       "\n",
       "    .dataframe thead th {\n",
       "        text-align: right;\n",
       "    }\n",
       "</style>\n",
       "<table border=\"1\" class=\"dataframe\">\n",
       "  <thead>\n",
       "    <tr style=\"text-align: right;\">\n",
       "      <th></th>\n",
       "      <th>Style</th>\n",
       "      <th>Size(L)</th>\n",
       "      <th>OG</th>\n",
       "      <th>FG</th>\n",
       "      <th>ABV</th>\n",
       "      <th>IBU</th>\n",
       "      <th>Color</th>\n",
       "      <th>BoilSize</th>\n",
       "      <th>BoilTime</th>\n",
       "      <th>BoilGravity</th>\n",
       "      <th>Efficiency</th>\n",
       "      <th>SugarScale</th>\n",
       "      <th>BrewMethod</th>\n",
       "      <th>StyleId</th>\n",
       "      <th>SugarScale_Plato</th>\n",
       "      <th>SugarScale_Specific Gravity</th>\n",
       "      <th>BrewMethod_All Grain</th>\n",
       "      <th>BrewMethod_BIAB</th>\n",
       "      <th>BrewMethod_Partial Mash</th>\n",
       "      <th>BrewMethod_extract</th>\n",
       "    </tr>\n",
       "  </thead>\n",
       "  <tbody>\n",
       "    <tr>\n",
       "      <th>0</th>\n",
       "      <td>Cream Ale</td>\n",
       "      <td>21.77</td>\n",
       "      <td>1.055</td>\n",
       "      <td>1.013</td>\n",
       "      <td>5.48</td>\n",
       "      <td>17.65</td>\n",
       "      <td>4.83</td>\n",
       "      <td>28.39</td>\n",
       "      <td>75</td>\n",
       "      <td>1.038</td>\n",
       "      <td>70.0</td>\n",
       "      <td>Specific Gravity</td>\n",
       "      <td>All Grain</td>\n",
       "      <td>44</td>\n",
       "      <td>0</td>\n",
       "      <td>1</td>\n",
       "      <td>1</td>\n",
       "      <td>0</td>\n",
       "      <td>0</td>\n",
       "      <td>0</td>\n",
       "    </tr>\n",
       "    <tr>\n",
       "      <th>1</th>\n",
       "      <td>Holiday/Winter Special Spiced Beer</td>\n",
       "      <td>20.82</td>\n",
       "      <td>1.083</td>\n",
       "      <td>1.021</td>\n",
       "      <td>8.16</td>\n",
       "      <td>60.65</td>\n",
       "      <td>15.64</td>\n",
       "      <td>24.61</td>\n",
       "      <td>60</td>\n",
       "      <td>1.070</td>\n",
       "      <td>70.0</td>\n",
       "      <td>Specific Gravity</td>\n",
       "      <td>All Grain</td>\n",
       "      <td>84</td>\n",
       "      <td>0</td>\n",
       "      <td>1</td>\n",
       "      <td>1</td>\n",
       "      <td>0</td>\n",
       "      <td>0</td>\n",
       "      <td>0</td>\n",
       "    </tr>\n",
       "    <tr>\n",
       "      <th>2</th>\n",
       "      <td>Belgian Blond Ale</td>\n",
       "      <td>50.00</td>\n",
       "      <td>1.060</td>\n",
       "      <td>1.010</td>\n",
       "      <td>6.48</td>\n",
       "      <td>17.84</td>\n",
       "      <td>4.57</td>\n",
       "      <td>60.00</td>\n",
       "      <td>90</td>\n",
       "      <td>1.050</td>\n",
       "      <td>72.0</td>\n",
       "      <td>Specific Gravity</td>\n",
       "      <td>All Grain</td>\n",
       "      <td>19</td>\n",
       "      <td>0</td>\n",
       "      <td>1</td>\n",
       "      <td>1</td>\n",
       "      <td>0</td>\n",
       "      <td>0</td>\n",
       "      <td>0</td>\n",
       "    </tr>\n",
       "    <tr>\n",
       "      <th>3</th>\n",
       "      <td>American Pale Ale</td>\n",
       "      <td>24.61</td>\n",
       "      <td>1.055</td>\n",
       "      <td>1.013</td>\n",
       "      <td>5.58</td>\n",
       "      <td>40.12</td>\n",
       "      <td>8.00</td>\n",
       "      <td>29.34</td>\n",
       "      <td>70</td>\n",
       "      <td>1.047</td>\n",
       "      <td>79.0</td>\n",
       "      <td>Specific Gravity</td>\n",
       "      <td>All Grain</td>\n",
       "      <td>9</td>\n",
       "      <td>0</td>\n",
       "      <td>1</td>\n",
       "      <td>1</td>\n",
       "      <td>0</td>\n",
       "      <td>0</td>\n",
       "      <td>0</td>\n",
       "    </tr>\n",
       "    <tr>\n",
       "      <th>4</th>\n",
       "      <td>Cream Ale</td>\n",
       "      <td>20.82</td>\n",
       "      <td>1.054</td>\n",
       "      <td>1.014</td>\n",
       "      <td>5.36</td>\n",
       "      <td>19.97</td>\n",
       "      <td>5.94</td>\n",
       "      <td>28.39</td>\n",
       "      <td>75</td>\n",
       "      <td>1.040</td>\n",
       "      <td>70.0</td>\n",
       "      <td>Specific Gravity</td>\n",
       "      <td>All Grain</td>\n",
       "      <td>44</td>\n",
       "      <td>0</td>\n",
       "      <td>1</td>\n",
       "      <td>1</td>\n",
       "      <td>0</td>\n",
       "      <td>0</td>\n",
       "      <td>0</td>\n",
       "    </tr>\n",
       "  </tbody>\n",
       "</table>\n",
       "</div>"
      ],
      "text/plain": [
       "                                Style  Size(L)     OG     FG   ABV    IBU  \\\n",
       "0                           Cream Ale    21.77  1.055  1.013  5.48  17.65   \n",
       "1  Holiday/Winter Special Spiced Beer    20.82  1.083  1.021  8.16  60.65   \n",
       "2                   Belgian Blond Ale    50.00  1.060  1.010  6.48  17.84   \n",
       "3                   American Pale Ale    24.61  1.055  1.013  5.58  40.12   \n",
       "4                           Cream Ale    20.82  1.054  1.014  5.36  19.97   \n",
       "\n",
       "   Color  BoilSize  BoilTime  BoilGravity  Efficiency        SugarScale  \\\n",
       "0   4.83     28.39        75        1.038        70.0  Specific Gravity   \n",
       "1  15.64     24.61        60        1.070        70.0  Specific Gravity   \n",
       "2   4.57     60.00        90        1.050        72.0  Specific Gravity   \n",
       "3   8.00     29.34        70        1.047        79.0  Specific Gravity   \n",
       "4   5.94     28.39        75        1.040        70.0  Specific Gravity   \n",
       "\n",
       "  BrewMethod  StyleId  SugarScale_Plato  SugarScale_Specific Gravity  \\\n",
       "0  All Grain       44                 0                            1   \n",
       "1  All Grain       84                 0                            1   \n",
       "2  All Grain       19                 0                            1   \n",
       "3  All Grain        9                 0                            1   \n",
       "4  All Grain       44                 0                            1   \n",
       "\n",
       "   BrewMethod_All Grain  BrewMethod_BIAB  BrewMethod_Partial Mash  \\\n",
       "0                     1                0                        0   \n",
       "1                     1                0                        0   \n",
       "2                     1                0                        0   \n",
       "3                     1                0                        0   \n",
       "4                     1                0                        0   \n",
       "\n",
       "   BrewMethod_extract  \n",
       "0                   0  \n",
       "1                   0  \n",
       "2                   0  \n",
       "3                   0  \n",
       "4                   0  "
      ]
     },
     "execution_count": 9,
     "metadata": {},
     "output_type": "execute_result"
    }
   ],
   "source": [
    "\n",
    "recipe['StyleId'] = recipe['Style'].astype('category').cat.codes\n",
    "dummies = pd.get_dummies(recipe[['SugarScale','BrewMethod']])\n",
    "\n",
    "recipe = pd.concat([recipe,dummies],axis=1)\n",
    "\n",
    "recipe.head()"
   ]
  },
  {
   "cell_type": "markdown",
   "metadata": {},
   "source": [
    "## Exploratory Analysis"
   ]
  },
  {
   "cell_type": "code",
   "execution_count": 10,
   "metadata": {},
   "outputs": [],
   "source": [
    "def counts_plot(feature):\n",
    "    recipe[feature].value_counts().sort_values().plot(kind='bar',figsize=(10,8));"
   ]
  },
  {
   "cell_type": "code",
   "execution_count": 11,
   "metadata": {},
   "outputs": [
    {
     "data": {
      "image/png": "[encoded data removed]",
      "text/plain": [
       "<Figure size 720x576 with 1 Axes>"
      ]
     },
     "metadata": {
      "needs_background": "light"
     },
     "output_type": "display_data"
    }
   ],
   "source": [
    "counts_plot('SugarScale')"
   ]
  },
  {
   "cell_type": "code",
   "execution_count": 12,
   "metadata": {},
   "outputs": [
    {
     "data": {
      "image/png": "[encoded data removed]",
      "text/plain": [
       "<Figure size 720x576 with 1 Axes>"
      ]
     },
     "metadata": {
      "needs_background": "light"
     },
     "output_type": "display_data"
    }
   ],
   "source": [
    "counts_plot('BrewMethod')"
   ]
  },
  {
   "cell_type": "code",
   "execution_count": 13,
   "metadata": {},
   "outputs": [],
   "source": [
    "# We can drop the sugar scale and brew method features because we \n",
    "# created dummy variables to use in the regression analysis.\n",
    "#recipe.drop(['SugarScale','BrewMethod'],axis=1,inplace=True)"
   ]
  },
  {
   "cell_type": "code",
   "execution_count": 14,
   "metadata": {},
   "outputs": [
    {
     "data": {
      "image/png": "[encoded data removed]",
      "text/plain": [
       "<Figure size 637.725x576 with 1 Axes>"
      ]
     },
     "metadata": {
      "needs_background": "light"
     },
     "output_type": "display_data"
    }
   ],
   "source": [
    "facet = sns.FacetGrid(recipe, aspect=1,height=8)\n",
    "facet.map(sns.kdeplot, 'ABV', shade= True)\n",
    "#facet.set(xlim=(xmin, xmax))\n",
    "facet.add_legend()\n",
    "plt.show();"
   ]
  },
  {
   "cell_type": "code",
   "execution_count": 15,
   "metadata": {},
   "outputs": [
    {
     "data": {
      "image/png": "[encoded data removed]",
      "text/plain": [
       "<Figure size 1080x576 with 2 Axes>"
      ]
     },
     "metadata": {
      "needs_background": "light"
     },
     "output_type": "display_data"
    }
   ],
   "source": [
    "def plot_og_fg(data,feature1,feature2):\n",
    "    fig, (ax1, ax2) = plt.subplots(ncols=2, figsize=(15,8), sharey=True)\n",
    "    sns.regplot(x=\"ABV\", y=feature1, ax=ax1, data=data);\n",
    "    sns.regplot(x=\"ABV\", y=feature2, ax=ax2, data=data);\n",
    "    ax1.set_title('Original Gravity');\n",
    "    ax2.set_title('Final Gravity');\n",
    "\n",
    "plot_og_fg(recipe,'OG','FG')"
   ]
  },
  {
   "cell_type": "markdown",
   "metadata": {},
   "source": [
    "There seems to be two seperate relationships in the `Original Gravity` and `Final Gravity` measurements. If we look back at the beginning, we see that there are two seperate types of sugar scale measurements. Which, it turns out are two completely different ways of measuring the specific gravity of a liquid.\n",
    "\n",
    "We can convert the plato measurement to the more common specific gravity measuremnt and see if there is any clear relationships. We'll do this for the `Og`, `Fg` and `BoilGravity`.\n"
   ]
  },
  {
   "cell_type": "code",
   "execution_count": 16,
   "metadata": {},
   "outputs": [],
   "source": [
    "# Conversion between plato measureent and specific gravity\n",
    "# https://www.brewersfriend.com/plato-to-sg-conversion-chart/\n",
    "def get_sg_from_plato(plato):\n",
    "    return 1 + (plato / (258.6 - ( (plato/258.2) *227.1) ) )\n"
   ]
  },
  {
   "cell_type": "code",
   "execution_count": 17,
   "metadata": {},
   "outputs": [],
   "source": [
    "# Convert the OG, FG and boil gravity measurments to the standard specific gravity units\n",
    "recipe['OG_sg'] = recipe.apply(lambda row: get_sg_from_plato(row['OG']) \\\n",
    "                               if row['SugarScale'] == 'Plato' else row['OG'], axis=1)\n",
    "recipe['FG_sg'] = recipe.apply(lambda row: get_sg_from_plato(row['FG']) \\\n",
    "                               if row['SugarScale'] == 'Plato' else row['FG'], axis=1)\n",
    "recipe['BoilGravity_sg'] = recipe.apply(lambda row: get_sg_from_plato(row['BoilGravity']) \\\n",
    "                                        if row['SugarScale'] == 'Plato' else row['BoilGravity'], axis=1)"
   ]
  },
  {
   "cell_type": "code",
   "execution_count": 18,
   "metadata": {},
   "outputs": [],
   "source": [
    "#recipe.columns\n",
    "drop_features = ['OG', 'FG', 'BoilGravity', 'SugarScale', 'BrewMethod', \n",
    "                 'Style', 'SugarScale_Plato', 'SugarScale_Specific Gravity']\n",
    "        \n",
    "recipe.drop(drop_features,axis=1,inplace=True)"
   ]
  },
  {
   "cell_type": "code",
   "execution_count": 19,
   "metadata": {},
   "outputs": [],
   "source": [
    "# The Original Gravity should not be more than 2, these are likely to be \n",
    "# typos or miss understanding the measurements.\n",
    "#recipe = recipe[recipe['OG'] < 2]\n",
    "#recipe = recipe[recipe['FG'] > 0.5]\n",
    "#recipe = recipe[recipe['IBU'] < 1000]"
   ]
  },
  {
   "cell_type": "code",
   "execution_count": null,
   "metadata": {},
   "outputs": [],
   "source": [
    "def plot_feature_ABV(data,feature):\n",
    "    sns.lmplot(x=\"ABV\", y=feature, data=data, height=6);\n",
    "    "
   ]
  },
  {
   "cell_type": "code",
   "execution_count": null,
   "metadata": {},
   "outputs": [],
   "source": [
    "\n",
    "plot_og_fg(recipe,'OG_sg','FG_sg')"
   ]
  },
  {
   "cell_type": "code",
   "execution_count": null,
   "metadata": {},
   "outputs": [],
   "source": [
    "#numeric_data = data.select_dtypes(include=[np.number])\n",
    "sns.pairplot(recipe);\n",
    "plt.show()"
   ]
  },
  {
   "cell_type": "markdown",
   "metadata": {},
   "source": [
    "## Create The Regression Model"
   ]
  },
  {
   "cell_type": "code",
   "execution_count": null,
   "metadata": {},
   "outputs": [],
   "source": [
    "from sklearn.model_selection import train_test_split\n",
    "from sklearn.linear_model import LinearRegression\n",
    "from sklearn.model_selection import cross_val_score\n",
    "from sklearn import metrics"
   ]
  },
  {
   "cell_type": "code",
   "execution_count": null,
   "metadata": {},
   "outputs": [],
   "source": [
    "feature_list = ['StyleId', 'Size(L)', 'BoilSize', 'BoilTime', 'Efficiency', \n",
    "                'BrewMethod_All Grain', 'BrewMethod_BIAB','BrewMethod_Partial Mash', 'BrewMethod_extract', \n",
    "                'IBU', 'Color',  'BoilGravity_sg']#'OG_sg', 'FG_sg',\n",
    "\n",
    "X = recipe[feature_list]\n",
    "y = recipe['ABV']\n",
    "\n",
    "X_train, X_test, y_train, y_test = train_test_split(X, y, test_size = 0.2, random_state = 1)\n",
    "    "
   ]
  },
  {
   "cell_type": "code",
   "execution_count": null,
   "metadata": {},
   "outputs": [],
   "source": [
    "\n",
    "def retrain_model(X_train, X_test, y_train, y_test):\n",
    "    \n",
    "    model = LinearRegression();\n",
    "    fit = model.fit(X_train, y_train)\n",
    "    \n",
    "    print ('training score: ',model.score(X_train, y_train))\n",
    "    print ('testing score: ',model.score(X_test, y_test))\n",
    "    \n",
    "    return model\n"
   ]
  },
  {
   "cell_type": "code",
   "execution_count": null,
   "metadata": {},
   "outputs": [],
   "source": [
    "model = retrain_model(X_train, X_test, y_train, y_test)"
   ]
  },
  {
   "cell_type": "markdown",
   "metadata": {},
   "source": [
    "### Feature Importance"
   ]
  },
  {
   "cell_type": "code",
   "execution_count": null,
   "metadata": {},
   "outputs": [],
   "source": [
    "feature_importance = pd.DataFrame(data=model.coef_,index=X.columns)\n"
   ]
  },
  {
   "cell_type": "code",
   "execution_count": null,
   "metadata": {},
   "outputs": [],
   "source": [
    "\n",
    "def plot_feature_importance(data,xscale=None):\n",
    "    ax = data.plot(kind='barh',figsize=(10,8))\n",
    "    if xscale is not None:\n",
    "        ax.set_xscale(xscale)\n",
    "\n",
    "plot_feature_importance(feature_importance,'symlog')"
   ]
  },
  {
   "cell_type": "markdown",
   "metadata": {},
   "source": [
    "Its obvious that `FG_sg` and `OG_sg` are really important features. The remainig feature coefficients are too small to see. I also found that `BoilGravity_sg` is also an important feature, but what about the rest?"
   ]
  },
  {
   "cell_type": "code",
   "execution_count": null,
   "metadata": {},
   "outputs": [],
   "source": [
    "# Remove the features with large coefficients\n",
    "feature_importance.drop(['OG_sg','FG_sg'], axis=0, inplace=True)\n"
   ]
  },
  {
   "cell_type": "code",
   "execution_count": null,
   "metadata": {},
   "outputs": [],
   "source": [
    "\n",
    "plot_feature_importance(feature_importance,'symlog')"
   ]
  },
  {
   "cell_type": "code",
   "execution_count": null,
   "metadata": {},
   "outputs": [],
   "source": [
    "feature_importance.drop(['BoilGravity_sg'], axis=0, inplace=True)\n"
   ]
  },
  {
   "cell_type": "code",
   "execution_count": null,
   "metadata": {},
   "outputs": [],
   "source": [
    "plot_feature_importance(feature_importance,'symlog')"
   ]
  },
  {
   "cell_type": "markdown",
   "metadata": {},
   "source": [
    "### Forward Feature Collection"
   ]
  },
  {
   "cell_type": "code",
   "execution_count": null,
   "metadata": {},
   "outputs": [],
   "source": [
    "def adjusted_R(r_squared,n,k):\n",
    "    return 1 - ((1-r_squared)*(n-1))/(n-k-1)\n"
   ]
  },
  {
   "cell_type": "code",
   "execution_count": null,
   "metadata": {},
   "outputs": [],
   "source": [
    "## Use Forward Feature Selection to pick a good model\n",
    "\n",
    "# start with no predictors\n",
    "included = []\n",
    "# keep track of model and parameters\n",
    "best = {'feature': '', 'r2': 0, 'a_r2': 0}\n",
    "# create a model object to hold the modelling parameters\n",
    "model = LinearRegression()\n",
    "# get the number of cases in the test data\n",
    "n = X_test.shape[0]\n",
    "\n",
    "r2_list = []\n",
    "adjusted_r2_list = []"
   ]
  },
  {
   "cell_type": "code",
   "execution_count": null,
   "metadata": {},
   "outputs": [],
   "source": [
    "\n",
    "\n",
    "\n",
    "while True:\n",
    "    changed = False\n",
    "    \n",
    "    # list the features to be evaluated\n",
    "    excluded = list(set(X.columns) - set(included))\n",
    "    \n",
    "    # for each remaining feature to be evaluated\n",
    "    for new_column in excluded:\n",
    "       \n",
    "        # fit the model with the Training data\n",
    "        fit = model.fit(X_train[included + [new_column]], y_train)\n",
    "        # calculate the score (R^2 for Regression)\n",
    "        r2_list.append(model.score(X_test[included + [new_column]], y_test))\n",
    "        # number of predictors in this model\n",
    "        k = len(included + [new_column]) + 1\n",
    "        # calculate the adjusted R^2\n",
    "        adjusted_r2_list.append(adjusted_R(r2_list[-1],n,k))\n",
    "\n",
    "        # if model improves\n",
    "        if adjusted_r2_list[-1] > best['a_r2']:\n",
    "            # record new parameters\n",
    "            best = {'feature': new_column, 'r2': r2_list[-1], 'a_r2': adjusted_r2_list[-1]}\n",
    "            # flag that found a better model\n",
    "            changed = True\n",
    "            \n",
    "\n",
    "    # if found a better model after testing all remaining features\n",
    "    if changed:\n",
    "        # update control details\n",
    "        included.append(best['feature'])\n",
    "        excluded = list(set(excluded) - set(best['feature']))\n",
    "        print('Added feature %-4s with R^2 = %.3f and adjusted R^2 = %.3f' % \n",
    "              (best['feature'], best['r2'], best['a_r2']))\n",
    "    else:\n",
    "        print (included)\n",
    "        # terminate if no better model\n",
    "        break\n"
   ]
  },
  {
   "cell_type": "markdown",
   "metadata": {},
   "source": [
    "Looking at the feature coefficients suggests that `FG_sg`, `OG_sg` and `BoilGravity_sg` are the important features, but using forward feature selection suggests that `BoilTime` and `StyleId` are also important."
   ]
  }
 ],
 "metadata": {
  "kernelspec": {
   "display_name": "Python 3",
   "language": "python",
   "name": "python3"
  },
  "language_info": {
   "codemirror_mode": {
    "name": "ipython",
    "version": 3
   },
   "file_extension": ".py",
   "mimetype": "text/x-python",
   "name": "python",
   "nbconvert_exporter": "python",
   "pygments_lexer": "ipython3",
   "version": "3.7.3"
  }
 },
 "nbformat": 4,
 "nbformat_minor": 2
}
