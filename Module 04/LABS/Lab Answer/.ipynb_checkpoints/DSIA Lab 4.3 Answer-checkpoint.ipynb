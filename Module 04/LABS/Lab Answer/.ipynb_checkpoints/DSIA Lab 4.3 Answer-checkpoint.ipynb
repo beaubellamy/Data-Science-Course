{
  "nbformat": 4,
  "nbformat_minor": 0,
  "metadata": {
    "colab": {
      "name": "DSIA Lab 4.3.ipynb",
      "version": "0.3.2",
      "provenance": []
    },
    "language_info": {
      "codemirror_mode": {
        "name": "ipython",
        "version": 3
      },
      "file_extension": ".py",
      "mimetype": "text/x-python",
      "name": "python",
      "nbconvert_exporter": "python",
      "pygments_lexer": "ipython3",
      "version": "3.6.4"
    },
    "kernelspec": {
      "display_name": "Python 3",
      "language": "python",
      "name": "python3"
    }
  },
  "cells": [
    {
      "metadata": {
        "id": "gm7oR_yWsjnk",
        "colab_type": "text"
      },
      "cell_type": "markdown",
      "source": [
        "![alt text](https://i.imgur.com/1WaY7aA.png)"
      ]
    },
    {
      "metadata": {
        "id": "UlfytRuusjnn",
        "colab_type": "text"
      },
      "cell_type": "markdown",
      "source": [
        "# Black Cat Data - Data Science and AI\n",
        "## Lab 4.3: Measurements"
      ]
    },
    {
      "metadata": {
        "id": "xHsJeO0tsjno",
        "colab_type": "code",
        "colab": {}
      },
      "cell_type": "code",
      "source": [
        "## Import Libraries\n",
        "\n",
        "import pandas as pd\n",
        "\n",
        "%matplotlib inline\n",
        "import matplotlib.pyplot as plt\n",
        "\n",
        "from sklearn import datasets\n",
        "from sklearn.linear_model import LinearRegression\n",
        "from sklearn.model_selection import train_test_split"
      ],
      "execution_count": 0,
      "outputs": []
    },
    {
      "metadata": {
        "id": "j-Y7yPDBsjnw",
        "colab_type": "text"
      },
      "cell_type": "markdown",
      "source": [
        "### 1. Forward Feature Selection\n",
        "\n",
        "> Forward Selection: Forward selection is an iterative method in which we start with having no feature in the model. In each iteration, we keep adding the feature which best improves our model till an addition of a new variable does not improve the performance of the model.\n",
        "\n",
        "Create a Regression model using Forward Feature Selection by looping over all the features adding one at a time until there are no improvements on the prediction metric ( R2  and  AdjustedR2  in this case)."
      ]
    },
    {
      "metadata": {
        "id": "mFSxSn2hsjnz",
        "colab_type": "text"
      },
      "cell_type": "markdown",
      "source": [
        "#### 1.1 Load Diabetics Data Using datasets of sklearn"
      ]
    },
    {
      "metadata": {
        "id": "l2gHGPKVsjn0",
        "colab_type": "code",
        "colab": {}
      },
      "cell_type": "code",
      "source": [
        "## Load the Diabetes Housing dataset\n",
        "\n",
        "# Load the diabetes dataset from sklearn\n",
        "diabetes = datasets.load_diabetes()"
      ],
      "execution_count": 0,
      "outputs": []
    },
    {
      "metadata": {
        "id": "VNyg3soKsjn3",
        "colab_type": "code",
        "colab": {
          "base_uri": "https://localhost:8080/",
          "height": 712
        },
        "outputId": "230ac33d-8184-4fe3-c144-a594e8ee0a20"
      },
      "cell_type": "code",
      "source": [
        "# Description\n",
        "print(diabetes.DESCR)"
      ],
      "execution_count": 3,
      "outputs": [
        {
          "output_type": "stream",
          "text": [
            ".. _diabetes_dataset:\n",
            "\n",
            "Diabetes dataset\n",
            "----------------\n",
            "\n",
            "Ten baseline variables, age, sex, body mass index, average blood\n",
            "pressure, and six blood serum measurements were obtained for each of n =\n",
            "442 diabetes patients, as well as the response of interest, a\n",
            "quantitative measure of disease progression one year after baseline.\n",
            "\n",
            "**Data Set Characteristics:**\n",
            "\n",
            "  :Number of Instances: 442\n",
            "\n",
            "  :Number of Attributes: First 10 columns are numeric predictive values\n",
            "\n",
            "  :Target: Column 11 is a quantitative measure of disease progression one year after baseline\n",
            "\n",
            "  :Attribute Information:\n",
            "      - Age\n",
            "      - Sex\n",
            "      - Body mass index\n",
            "      - Average blood pressure\n",
            "      - S1\n",
            "      - S2\n",
            "      - S3\n",
            "      - S4\n",
            "      - S5\n",
            "      - S6\n",
            "\n",
            "Note: Each of these 10 feature variables have been mean centered and scaled by the standard deviation times `n_samples` (i.e. the sum of squares of each column totals 1).\n",
            "\n",
            "Source URL:\n",
            "http://www4.stat.ncsu.edu/~boos/var.select/diabetes.html\n",
            "\n",
            "For more information see:\n",
            "Bradley Efron, Trevor Hastie, Iain Johnstone and Robert Tibshirani (2004) \"Least Angle Regression,\" Annals of Statistics (with discussion), 407-499.\n",
            "(http://web.stanford.edu/~hastie/Papers/LARS/LeastAngle_2002.pdf)\n"
          ],
          "name": "stdout"
        }
      ]
    },
    {
      "metadata": {
        "id": "0Le6yeYXsjn-",
        "colab_type": "code",
        "colab": {}
      },
      "cell_type": "code",
      "source": [
        "# Predictors\n",
        "X = pd.DataFrame(diabetes.data, columns = diabetes.feature_names)"
      ],
      "execution_count": 0,
      "outputs": []
    },
    {
      "metadata": {
        "id": "iR8WVIqssjoD",
        "colab_type": "code",
        "colab": {}
      },
      "cell_type": "code",
      "source": [
        "# Target\n",
        "y = diabetes.target"
      ],
      "execution_count": 0,
      "outputs": []
    },
    {
      "metadata": {
        "id": "QaaJqQxUsjoG",
        "colab_type": "code",
        "colab": {}
      },
      "cell_type": "code",
      "source": [
        "## Create training and testing subsets\n",
        "\n",
        "X_train, X_test, y_train, y_test = train_test_split(X, y, test_size = 0.2, random_state = 42)"
      ],
      "execution_count": 0,
      "outputs": []
    },
    {
      "metadata": {
        "id": "9NPcYC45sjoI",
        "colab_type": "text"
      },
      "cell_type": "markdown",
      "source": [
        "#### 1.2 Use Forward Feature Selection to pick a good model\n",
        "\n",
        "**Hint: Same as Lab 4.2.2**\n",
        "\n",
        "- Add R^2 value in a list\n",
        "- Add Adjusted R^2 in another list\n",
        "- Display both R^2 and Adjusted R^2"
      ]
    },
    {
      "metadata": {
        "id": "Xnk9hncbsjoJ",
        "colab_type": "code",
        "colab": {}
      },
      "cell_type": "code",
      "source": [
        "## Flag intermediate output\n",
        "\n",
        "show_steps = False   # for testing/debugging\n",
        "# show_steps = False  # without showing steps"
      ],
      "execution_count": 0,
      "outputs": []
    },
    {
      "metadata": {
        "id": "DEqC7hHbsjoN",
        "colab_type": "code",
        "colab": {
          "base_uri": "https://localhost:8080/",
          "height": 195
        },
        "outputId": "939f0369-d653-4739-da6b-50eb26c8737d"
      },
      "cell_type": "code",
      "source": [
        "## Use Forward Feature Selection to pick a good model\n",
        "\n",
        "# start with no predictors\n",
        "included = []\n",
        "# keep track of model and parameters\n",
        "best = {'feature': '', 'r2': 0, 'a_r2': 0}\n",
        "# create a model object to hold the modelling parameters\n",
        "model = LinearRegression()\n",
        "# get the number of cases in the test data\n",
        "n = X_test.shape[0]\n",
        "\n",
        "r2_list = []\n",
        "adjusted_r2_list = []\n",
        "\n",
        "while True:\n",
        "    changed = False\n",
        "    \n",
        "    if show_steps:\n",
        "        print('') \n",
        "\n",
        "    # list the features to be evaluated\n",
        "    excluded = list(set(X.columns) - set(included))\n",
        "    \n",
        "    if show_steps:\n",
        "        print('(Step) Excluded = %s' % ', '.join(excluded))  \n",
        "\n",
        "    # for each remaining feature to be evaluated\n",
        "    for new_column in excluded:\n",
        "        \n",
        "        if show_steps:\n",
        "            print('(Step) Trying %s...' % new_column)\n",
        "            print('(Step) - Features = %s' % ', '.join(included + [new_column]))\n",
        "\n",
        "        # fit the model with the Training data\n",
        "        fit = model.fit(X_train[included + [new_column]], y_train)\n",
        "        # calculate the score (R^2 for Regression)\n",
        "        r2 = fit.score(X_train[included + [new_column]], y_train)\n",
        "        \n",
        "        # number of predictors in this model\n",
        "        k = len(included) + 1\n",
        "        # calculate the adjusted R^2\n",
        "        adjusted_r2 = 1 - ( ( (1 - r2) * (n - 1) ) / (n - k - 1) )\n",
        "        \n",
        "        if show_steps:\n",
        "            print('(Step) - Adjusted R^2: This = %.3f; Best = %.3f' % \n",
        "                  (adjusted_r2, best['a_r2']))\n",
        "\n",
        "        # if model improves\n",
        "        if adjusted_r2 > best['a_r2']:\n",
        "            # record new parameters\n",
        "            best = {'feature': new_column, 'r2': r2, 'a_r2': adjusted_r2}\n",
        "            # flag that found a better model\n",
        "            changed = True\n",
        "            if show_steps:\n",
        "                print('(Step) - New Best!   : Feature = %s; R^2 = %.3f; Adjusted R^2 = %.3f' % \n",
        "                      (best['feature'], best['r2'], best['a_r2']))\n",
        "    # END for\n",
        "    \n",
        "    r2_list.append(best['r2'])\n",
        "    adjusted_r2_list.append(best['a_r2'])\n",
        "\n",
        "    # if found a better model after testing all remaining features\n",
        "    if changed:\n",
        "        # update control details\n",
        "        included.append(best['feature'])\n",
        "        excluded = list(set(excluded) - set(best['feature']))\n",
        "        print('Added feature %-4s with R^2 = %.3f and adjusted R^2 = %.3f' % \n",
        "              (best['feature'], best['r2'], best['a_r2']))\n",
        "    else:\n",
        "        # terminate if no better model\n",
        "        print('*'*50)\n",
        "        break\n",
        "\n",
        "print('')\n",
        "print('Resulting features:')\n",
        "print(', '.join(included))"
      ],
      "execution_count": 10,
      "outputs": [
        {
          "output_type": "stream",
          "text": [
            "Added feature bmi  with R^2 = 0.366 and adjusted R^2 = 0.358\n",
            "Added feature s5   with R^2 = 0.458 and adjusted R^2 = 0.446\n",
            "Added feature bp   with R^2 = 0.483 and adjusted R^2 = 0.465\n",
            "Added feature s1   with R^2 = 0.499 and adjusted R^2 = 0.475\n",
            "Added feature s2   with R^2 = 0.509 and adjusted R^2 = 0.479\n",
            "Added feature sex  with R^2 = 0.523 and adjusted R^2 = 0.489\n",
            "**************************************************\n",
            "\n",
            "Resulting features:\n",
            "bmi, s5, bp, s1, s2, sex\n"
          ],
          "name": "stdout"
        }
      ]
    },
    {
      "metadata": {
        "id": "whvMHo6rsjoU",
        "colab_type": "code",
        "colab": {
          "base_uri": "https://localhost:8080/",
          "height": 337
        },
        "outputId": "0f05a34f-f5bd-46ac-9798-73b43c8e4d95"
      },
      "cell_type": "code",
      "source": [
        "## Chart both R^2 and Adjusted R^2\n",
        "\n",
        "_range = range(1, len(r2_list)+1)\n",
        "\n",
        "# define chart size\n",
        "plt.figure(figsize = (10, 5))\n",
        "# plot each metric \n",
        "plt.plot(_range, r2_list, label = '$R^2$')\n",
        "plt.plot(_range, adjusted_r2_list, label = '$Adjusted \\: R^2$')\n",
        "# add some better visualisation\n",
        "plt.xlabel('Number of Features')\n",
        "plt.legend()\n",
        "# output the chart\n",
        "plt.show()"
      ],
      "execution_count": 11,
      "outputs": [
        {
          "output_type": "display_data",
          "data": {
            "image/png": "[encoded data removed]",
            "text/plain": [
              "<Figure size 720x360 with 1 Axes>"
            ]
          },
          "metadata": {
            "tags": []
          }
        }
      ]
    }
  ]
}